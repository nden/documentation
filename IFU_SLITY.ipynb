{
 "cells": [
  {
   "cell_type": "code",
   "execution_count": 1,
   "metadata": {},
   "outputs": [
    {
     "name": "stdout",
     "output_type": "stream",
     "text": [
      "numpy version:  1.12.1\n",
      "astropy version:  3.1.dev21950\n",
      "asdf version:  2.1.0.dev1406\n",
      "gwcs version:  0.10.dev367\n",
      "jwst version:  0.9.7a.dev67+gc40578a3\n",
      "/internal/1/astropy/jwst/jwst/__init__.py\n"
     ]
    }
   ],
   "source": [
    "import numpy as np\n",
    "print('numpy version: ', np.__version__)\n",
    "import astropy\n",
    "print('astropy version: ', astropy.__version__)\n",
    "from astropy.io import fits\n",
    "from astropy import wcs\n",
    "import asdf\n",
    "print('asdf version: ', asdf.__version__)\n",
    "import gwcs\n",
    "print('gwcs version: ', gwcs.__version__)\n",
    "import jwst\n",
    "print('jwst version: ', jwst.__version__)\n",
    "print(jwst.__file__)"
   ]
  },
  {
   "cell_type": "code",
   "execution_count": 2,
   "metadata": {
    "collapsed": true
   },
   "outputs": [],
   "source": [
    "%matplotlib inline\n",
    "from matplotlib import pyplot as plt"
   ]
  },
  {
   "cell_type": "code",
   "execution_count": 3,
   "metadata": {
    "collapsed": true
   },
   "outputs": [],
   "source": [
    "from jwst import datamodels\n",
    "from jwst.assign_wcs import nirspec"
   ]
  },
  {
   "cell_type": "code",
   "execution_count": 38,
   "metadata": {},
   "outputs": [
    {
     "name": "stdout",
     "output_type": "stream",
     "text": [
      "['detector', 'sca', 'gwa', 'slit_frame', 'slicer', 'msa_frame']\n"
     ]
    }
   ],
   "source": [
    "im = datamodels.ImageModel('ifu_assign_wcs.fits')\n",
    "s0 = nirspec.nrs_wcs_set_input(im, 0)\n",
    "print(wcs_00.available_frames)"
   ]
  },
  {
   "cell_type": "code",
   "execution_count": 8,
   "metadata": {},
   "outputs": [
    {
     "name": "stderr",
     "output_type": "stream",
     "text": [
      "2018-07-02 16:34:54,967 - stpipe.AssignWcsStep - INFO - AssignWcsStep instance created.\n"
     ]
    },
    {
     "data": {
      "text/plain": [
       "{'camera': '/grp/crds/cache/references/jwst/jwst_nirspec_camera_0004.asdf',\n",
       " 'collimator': '/grp/crds/cache/references/jwst/jwst_nirspec_collimator_0004.asdf',\n",
       " 'disperser': '/grp/crds/cache/references/jwst/jwst_nirspec_disperser_0032.asdf',\n",
       " 'distortion': 'N/A',\n",
       " 'filteroffset': 'N/A',\n",
       " 'fore': 'N/A',\n",
       " 'fpa': '/grp/crds/cache/references/jwst/jwst_nirspec_fpa_0005.asdf',\n",
       " 'ifufore': '/grp/crds/cache/references/jwst/jwst_nirspec_ifufore_0003.asdf',\n",
       " 'ifupost': '/grp/crds/cache/references/jwst/jwst_nirspec_ifupost_0004.asdf',\n",
       " 'ifuslicer': '/grp/crds/cache/references/jwst/jwst_nirspec_ifuslicer_0003.asdf',\n",
       " 'msa': '/grp/crds/cache/references/jwst/jwst_nirspec_msa_0005.asdf',\n",
       " 'ote': '/grp/crds/cache/references/jwst/jwst_nirspec_ote_0005.asdf',\n",
       " 'regions': 'N/A',\n",
       " 'specwcs': 'N/A',\n",
       " 'wavelengthrange': '/grp/crds/cache/references/jwst/jwst_nirspec_wavelengthrange_0004.asdf'}"
      ]
     },
     "execution_count": 8,
     "metadata": {},
     "output_type": "execute_result"
    }
   ],
   "source": [
    "from jwst.assign_wcs import assign_wcs_step\n",
    "step = assign_wcs_step.AssignWcsStep()\n",
    "refs = {}\n",
    "for t in step.reference_file_types:\n",
    "    refs[t] = step.get_reference_file(im, t)\n",
    "    \n",
    "refs"
   ]
  },
  {
   "cell_type": "code",
   "execution_count": 9,
   "metadata": {},
   "outputs": [
    {
     "name": "stderr",
     "output_type": "stream",
     "text": [
      "2018-07-02 16:36:18,651 - stpipe - INFO - gwa_ytilt is 0.1258982867002487 deg\n",
      "2018-07-02 16:36:18,652 - stpipe - INFO - gwa_xtilt is 0.3318742513656616 deg\n",
      "2018-07-02 16:36:18,653 - stpipe - INFO - theta_y correction: 3.965144262312808e-13 deg\n",
      "2018-07-02 16:36:18,654 - stpipe - INFO - theta_x correction: 0.0 deg\n"
     ]
    }
   ],
   "source": [
    "disp=datamodels.DisperserModel(refs['disperser'])\n",
    "disperser=nirspec.correct_tilt(disp, im.meta.instrument.gwa_xtilt, im.meta.instrument.gwa_ytilt)\n"
   ]
  },
  {
   "cell_type": "code",
   "execution_count": 10,
   "metadata": {
    "collapsed": true
   },
   "outputs": [],
   "source": [
    "col2gwa=nirspec.collimator_to_gwa(refs, disperser)"
   ]
  },
  {
   "cell_type": "code",
   "execution_count": 76,
   "metadata": {},
   "outputs": [],
   "source": [
    "ifuslicer = datamodels.IFUSlicerModel(refs['ifuslicer'])\n",
    "slitdata = ifuslicer.data[0]\n",
    "slitdata_model = nirspec.get_slit_location_model(slitdata)\n",
    "ifuslicer_model = ifuslicer.model\n",
    "ifuslicer_transform = (slitdata_model | ifuslicer_model)\n",
    "\n",
    "ifupost=datamodels.IFUPostModel(refs['ifupost'])\n",
    "ifupost_transform = nirspec._create_ifupost_transform(ifupost.slice_0)"
   ]
  },
  {
   "cell_type": "code",
   "execution_count": 77,
   "metadata": {},
   "outputs": [],
   "source": [
    "from astropy.modeling.models import Const1D\n",
    "lam_cen = 2.8e-6\n",
    "msa2gwa = ifuslicer_transform & Const1D(2.8e-6) | ifupost_transform | col2gwa"
   ]
  },
  {
   "cell_type": "code",
   "execution_count": 78,
   "metadata": {},
   "outputs": [],
   "source": [
    "nstep = 121\n",
    "dy121 = np.linspace(-.6666666, .6666666, nstep+40)\n",
    "dx121 = np.zeros(dy121.shape)\n",
    "cosin_grating_k121 = msa2gwa(dx121, dy121, [2.8e-6] * (nstep+40))"
   ]
  },
  {
   "cell_type": "code",
   "execution_count": 101,
   "metadata": {
    "collapsed": true
   },
   "outputs": [],
   "source": [
    "lam_cen = 1.4e-6\n",
    "msa2gwa14 = ifuslicer_transform & Const1D(1.4e-6) | ifupost_transform | col2gwa"
   ]
  },
  {
   "cell_type": "code",
   "execution_count": 102,
   "metadata": {},
   "outputs": [],
   "source": [
    "nstep = 1000\n",
    "dy = np.linspace(-.55, .55, nstep)\n",
    "dx = np.zeros(dy.shape)\n",
    "cosin_grating_k1000 = msa2gwa14(dx, dy, [1.4e-6] * nstep)"
   ]
  },
  {
   "cell_type": "code",
   "execution_count": 96,
   "metadata": {
    "collapsed": true
   },
   "outputs": [],
   "source": [
    "nstep = 121\n",
    "dy121_14 = np.linspace(-.6666666, .6666666, nstep+40)\n",
    "dx121_14 = np.zeros(dy121.shape)\n",
    "cosin_grating_k121_14 = msa2gwa14(dx121, dy121, [1.4e-6] * (nstep+40))"
   ]
  },
  {
   "cell_type": "code",
   "execution_count": 104,
   "metadata": {
    "collapsed": true
   },
   "outputs": [],
   "source": [
    "nstep = 1000\n",
    "dy1000_66 = np.linspace(-.6666666, .6666666, nstep)\n",
    "dx1000_66 = np.zeros(dy1000_66.shape)\n",
    "cosin_grating_k1000_66 = msa2gwa14(dx1000_66, dy1000_66, [1.4e-6] * nstep)"
   ]
  },
  {
   "cell_type": "code",
   "execution_count": 105,
   "metadata": {},
   "outputs": [
    {
     "data": {
      "text/plain": [
       "array([[ 0.26727333,  0.26727422,  0.26727511, ...,  0.26801758,\n",
       "         0.26801787,  0.26801816],\n",
       "       [ 0.26733226,  0.26733315,  0.26733404, ...,  0.26807668,\n",
       "         0.26807697,  0.26807726],\n",
       "       [ 0.26739119,  0.26739208,  0.26739297, ...,  0.26813578,\n",
       "         0.26813606,  0.26813635],\n",
       "       ..., \n",
       "       [ 0.26986541,  0.26986631,  0.26986721, ...,  0.27061712,\n",
       "         0.27061741,  0.2706177 ],\n",
       "       [ 0.2699243 ,  0.2699252 ,  0.2699261 , ...,  0.27067618,\n",
       "         0.27067647,  0.27067676],\n",
       "       [ 0.26998319,  0.26998409,  0.26998499, ...,  0.27073525,\n",
       "         0.27073554,  0.27073583]])"
      ]
     },
     "execution_count": 105,
     "metadata": {},
     "output_type": "execute_result"
    }
   ],
   "source": [
    "from gwcs import wcstools\n",
    "d2gwa = s0.get_transform('detector', 'gwa')\n",
    "x, y = wcstools.grid_from_bounding_box(s0.bounding_box)\n",
    "alpha_in, beta_in, gamma_in = d2gwa(x, y)\n",
    "beta_in"
   ]
  },
  {
   "cell_type": "code",
   "execution_count": 106,
   "metadata": {
    "collapsed": true
   },
   "outputs": [],
   "source": [
    "from scipy.interpolate import interp1d\n",
    "interp121 = interp1d(cosin_grating_k121[1], dy121, bounds_error=False)"
   ]
  },
  {
   "cell_type": "code",
   "execution_count": 107,
   "metadata": {},
   "outputs": [],
   "source": [
    "interp1000 = interp1d(cosin_grating_k1000[1], dy, bounds_error=False)"
   ]
  },
  {
   "cell_type": "code",
   "execution_count": 108,
   "metadata": {
    "collapsed": true
   },
   "outputs": [],
   "source": [
    "interp121_14 = interp1d(cosin_grating_k121_14[1], dy121, bounds_error=False)"
   ]
  },
  {
   "cell_type": "code",
   "execution_count": 110,
   "metadata": {},
   "outputs": [],
   "source": [
    "interp1000_66 = interp1d(cosin_grating_k1000_66[1], dy1000_66, bounds_error=False)"
   ]
  },
  {
   "cell_type": "code",
   "execution_count": 111,
   "metadata": {},
   "outputs": [],
   "source": [
    "im121 = interp121(-beta_in)\n",
    "im1000 = interp1000(-beta_in)\n",
    "im121_14 = interp121_14(-beta_in)\n",
    "im1000_66 = interp1000_66(-beta_in)"
   ]
  },
  {
   "cell_type": "code",
   "execution_count": 84,
   "metadata": {},
   "outputs": [
    {
     "data": {
      "text/plain": [
       "<matplotlib.colorbar.Colorbar at 0x7f5f103c39e8>"
      ]
     },
     "execution_count": 84,
     "metadata": {},
     "output_type": "execute_result"
    },
    {
     "data": {
      "image/png": "[encoded data removed]",
      "text/plain": [
       "<matplotlib.figure.Figure at 0x7f5f04be0400>"
      ]
     },
     "metadata": {},
     "output_type": "display_data"
    }
   ],
   "source": [
    "plt.imshow(im121-im1000, aspect='auto')\n",
    "plt.colorbar()"
   ]
  },
  {
   "cell_type": "code",
   "execution_count": 85,
   "metadata": {},
   "outputs": [
    {
     "data": {
      "text/plain": [
       "1.463767428940503e-05"
      ]
     },
     "execution_count": 85,
     "metadata": {},
     "output_type": "execute_result"
    }
   ],
   "source": [
    "diff = im121-im1000\n",
    "notnan=~np.isnan(diff)\n",
    "np.mean(diff[notnan])"
   ]
  },
  {
   "cell_type": "code",
   "execution_count": 88,
   "metadata": {},
   "outputs": [],
   "source": [
    "# Compute percentage of pixels above certain threshold\n",
    "def compute_percentage(values, threshold):\n",
    "    values = values[~np.isnan(values)]\n",
    "    n_total = values.size\n",
    "    \n",
    "    thresh = [threshold, 3*threshold, 5*threshold]\n",
    "    res = []\n",
    "    for i in thresh:\n",
    "        n = np.logical_or(values > i, values< -i).nonzero()[0].size\n",
    "        res.append((n / n_total) * 100)\n",
    "    return res"
   ]
  },
  {
   "cell_type": "code",
   "execution_count": 94,
   "metadata": {},
   "outputs": [
    {
     "name": "stdout",
     "output_type": "stream",
     "text": [
      "mean:  1.46376742894e-05\n",
      "median:  1.44733074994e-05\n",
      "min:  1.32839241151e-05\n",
      "max:  1.59875062686e-05\n",
      "std:  8.25721351052e-07\n"
     ]
    }
   ],
   "source": [
    "print('mean: ', np.nanmean(diff))\n",
    "print('median: ', np.nanmedian(diff))\n",
    "print('min: ', np.nanmin(diff))\n",
    "print('max: ', np.nanmax(diff))\n",
    "print('std: ', np.nanstd(diff))"
   ]
  },
  {
   "cell_type": "code",
   "execution_count": 95,
   "metadata": {},
   "outputs": [
    {
     "name": "stdout",
     "output_type": "stream",
     "text": [
      "mean:  4.24019620416e-05\n",
      "median:  2.84938994804e-05\n",
      "min:  -0.237224178156\n",
      "max:  0.973768545967\n",
      "std:  0.00627020447386\n"
     ]
    }
   ],
   "source": [
    "ndiff = (im121-im1000)/im121\n",
    "print('mean: ', np.nanmean(ndiff))\n",
    "print('median: ', np.nanmedian(ndiff))\n",
    "print('min: ', np.nanmin(ndiff))\n",
    "print('max: ', np.nanmax(ndiff))\n",
    "print('std: ', np.nanstd(ndiff))"
   ]
  },
  {
   "cell_type": "code",
   "execution_count": 100,
   "metadata": {},
   "outputs": [
    {
     "data": {
      "text/plain": [
       "<matplotlib.colorbar.Colorbar at 0x7f5f0424e048>"
      ]
     },
     "execution_count": 100,
     "metadata": {},
     "output_type": "execute_result"
    },
    {
     "data": {
      "image/png": "[encoded data removed]",
      "text/plain": [
       "<matplotlib.figure.Figure at 0x7f5f043bd080>"
      ]
     },
     "metadata": {},
     "output_type": "display_data"
    }
   ],
   "source": [
    "plt.imshow(im121_14-im1000, aspect='auto')\n",
    "plt.colorbar()"
   ]
  },
  {
   "cell_type": "code",
   "execution_count": 112,
   "metadata": {},
   "outputs": [
    {
     "data": {
      "text/plain": [
       "<matplotlib.colorbar.Colorbar at 0x7f5f101da7b8>"
      ]
     },
     "execution_count": 112,
     "metadata": {},
     "output_type": "execute_result"
    },
    {
     "data": {
      "image/png": "[encoded data removed]",
      "text/plain": [
       "<matplotlib.figure.Figure at 0x7f5f0c5c3278>"
      ]
     },
     "metadata": {},
     "output_type": "display_data"
    }
   ],
   "source": [
    "plt.imshow(im1000_66-im1000, aspect='auto')\n",
    "plt.colorbar()"
   ]
  },
  {
   "cell_type": "code",
   "execution_count": null,
   "metadata": {
    "collapsed": true
   },
   "outputs": [],
   "source": []
  }
 ],
 "metadata": {
  "kernelspec": {
   "display_name": "Python 3",
   "language": "python",
   "name": "python3"
  },
  "language_info": {
   "codemirror_mode": {
    "name": "ipython",
    "version": 3
   },
   "file_extension": ".py",
   "mimetype": "text/x-python",
   "name": "python",
   "nbconvert_exporter": "python",
   "pygments_lexer": "ipython3",
   "version": "3.5.1"
  }
 },
 "nbformat": 4,
 "nbformat_minor": 2
}
