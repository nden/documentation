{
 "cells": [
  {
   "cell_type": "code",
   "execution_count": 1,
   "id": "7773325b",
   "metadata": {},
   "outputs": [],
   "source": [
    "import numpy as np\n",
    "from numpy.testing import assert_allclose\n",
    "from astropy.modeling.models import *\n",
    "from astropy.modeling.models import math as astmath\n",
    "from gwcs.wcstools import grid_from_bounding_box\n",
    "\n",
    "from jwst import datamodels\n",
    "from jwst.transforms import models"
   ]
  },
  {
   "cell_type": "code",
   "execution_count": 2,
   "id": "1abca6e4",
   "metadata": {},
   "outputs": [
    {
     "data": {
      "text/plain": [
       "{'detector': 'NIS', 'filter': 'GR150R', 'name': 'NIRISS', 'pupil': 'F200W'}"
      ]
     },
     "execution_count": 2,
     "metadata": {},
     "output_type": "execute_result"
    }
   ],
   "source": [
    "tspec = datamodels.open('../../jwreftools/test.asdf')\n",
    "\n",
    "# make sure the grismconf and jwreftools use the same instrument configuration\n",
    "tspec.meta.instrument.instance"
   ]
  },
  {
   "cell_type": "code",
   "execution_count": 3,
   "id": "5e15807c",
   "metadata": {},
   "outputs": [],
   "source": [
    "tspec.fwcpos_ref = 354.222229\n"
   ]
  },
  {
   "cell_type": "code",
   "execution_count": 4,
   "id": "528534f5",
   "metadata": {},
   "outputs": [
    {
     "name": "stdout",
     "output_type": "stream",
     "text": [
      "[0.75       0.92222222 1.09444444 1.26666667 1.43888889 1.61111111\n",
      " 1.78333333 1.95555556 2.12777778 2.3       ]\n",
      "grismconf_dx:  [-1.1667485  -1.19505459 -1.22342102 -1.25184778 -1.28033487 -1.30888229\n",
      " -1.33749005 -1.36615813 -1.39488654 -1.42367529]\n"
     ]
    }
   ],
   "source": [
    "# GRISMCONF Example 1\n",
    "# pwd\n",
    "# Out[1]: '/Users/dencheva/dev/GRISM_NIRISS/V3'\n",
    "\n",
    "# wavelength = DISPL(order,x0,y0,t)\n",
    "# dx = DISPX(order,x0,y0,t)\n",
    "# dy = DISPY(order,x0,y0,t)\n",
    "\n",
    "import grismconf\n",
    "\n",
    "# Load the Grism Configuration file\n",
    "C = grismconf.Config(\"/Users/dencheva/dev/GRISM_NIRISS/V3/NIRISS_F200W_GR150r.conf\")\n",
    "x0 = 500.5\n",
    "y0 = 600.1\n",
    "order='+1'\n",
    "\n",
    "t = np.linspace(0, 1, 10)\n",
    "wavelength = C.DISPL(order,x0,y0,t)\n",
    "print(wavelength)\n",
    "grismconf_dx = C.DISPX(order,x0,y0,t)\n",
    "grismconf_dy = C.DISPY(order,x0,y0,t)\n",
    "print('grismconf_dx: ', grismconf_dx)\n",
    "\n"
   ]
  },
  {
   "cell_type": "code",
   "execution_count": 5,
   "id": "ba792568",
   "metadata": {},
   "outputs": [
    {
     "name": "stdout",
     "output_type": "stream",
     "text": [
      "pipe_dx : [-1.1667485  -1.19505459 -1.22342102 -1.25184778 -1.28033487 -1.30888229\n",
      " -1.33749005 -1.36615813 -1.39488654 -1.42367529]\n",
      "grismconf_dx == pipe_dx:  True\n",
      "grismconf_dy == pipe_dy:  True\n"
     ]
    }
   ],
   "source": [
    "# pipeline\n",
    "tspec=datamodels.open('/Users/dencheva/dev/jwreftools/test.asdf')\n",
    "#print(tspec.orders)\n",
    "# order =1 is tspec.orders[0]\n",
    "xmodels=tspec.dispx[0]\n",
    "ymodels=tspec.dispy[0]\n",
    "pipe_dx = xmodels[0](x0, y0) + t * xmodels[1](x0, y0) + t**2 * xmodels[2](x0, y0)\n",
    "pipe_dy = ymodels[0](x0, y0) + t * ymodels[1](x0, y0) + t**2 * ymodels[2](x0, y0)\n",
    "print('pipe_dx :', pipe_dx)\n",
    "res = assert_allclose(pipe_dx, grismconf_dx)\n",
    "if res is None:\n",
    "    res = True\n",
    "print(\"grismconf_dx == pipe_dx: \", res)\n",
    "\n",
    "res = assert_allclose(pipe_dy, grismconf_dy)\n",
    "if res is None:\n",
    "    res = True\n",
    "print(\"grismconf_dy == pipe_dy: \", res)\n",
    "\n"
   ]
  },
  {
   "cell_type": "code",
   "execution_count": 6,
   "id": "6f6040bd",
   "metadata": {},
   "outputs": [
    {
     "ename": "AssertionError",
     "evalue": "\nNot equal to tolerance rtol=1e-07, atol=0\n\nMismatched elements: 10 / 10 (100%)\nMax absolute difference: 0.03518716\nMax relative difference: 0.02471572\n x: array([-1.174995, -1.198493, -1.222047, -1.245657, -1.269322, -1.293043,\n       -1.316821, -1.340654, -1.364543, -1.388488])\n y: array([-1.166748, -1.195055, -1.223421, -1.251848, -1.280335, -1.308882,\n       -1.33749 , -1.366158, -1.394887, -1.423675])",
     "output_type": "error",
     "traceback": [
      "\u001b[0;31m---------------------------------------------------------------------------\u001b[0m",
      "\u001b[0;31mAssertionError\u001b[0m                            Traceback (most recent call last)",
      "\u001b[0;32m/var/folders/zd/pv7w8zxd3b9csmwxrwwg3gh80003pk/T/ipykernel_24185/4149162142.py\u001b[0m in \u001b[0;36m<module>\u001b[0;34m\u001b[0m\n\u001b[1;32m      7\u001b[0m \u001b[0mpipe_dy\u001b[0m \u001b[0;34m=\u001b[0m \u001b[0mymodels\u001b[0m\u001b[0;34m[\u001b[0m\u001b[0;36m0\u001b[0m\u001b[0;34m]\u001b[0m\u001b[0;34m(\u001b[0m\u001b[0mx0\u001b[0m\u001b[0;34m,\u001b[0m \u001b[0my0\u001b[0m\u001b[0;34m)\u001b[0m \u001b[0;34m+\u001b[0m \u001b[0mt\u001b[0m \u001b[0;34m*\u001b[0m \u001b[0mymodels\u001b[0m\u001b[0;34m[\u001b[0m\u001b[0;36m1\u001b[0m\u001b[0;34m]\u001b[0m\u001b[0;34m(\u001b[0m\u001b[0mx0\u001b[0m\u001b[0;34m,\u001b[0m \u001b[0my0\u001b[0m\u001b[0;34m)\u001b[0m \u001b[0;34m+\u001b[0m \u001b[0mt\u001b[0m\u001b[0;34m**\u001b[0m\u001b[0;36m2\u001b[0m \u001b[0;34m*\u001b[0m \u001b[0mymodels\u001b[0m\u001b[0;34m[\u001b[0m\u001b[0;36m2\u001b[0m\u001b[0;34m]\u001b[0m\u001b[0;34m(\u001b[0m\u001b[0mx0\u001b[0m\u001b[0;34m,\u001b[0m \u001b[0my0\u001b[0m\u001b[0;34m)\u001b[0m\u001b[0;34m\u001b[0m\u001b[0;34m\u001b[0m\u001b[0m\n\u001b[1;32m      8\u001b[0m \u001b[0;31m#print('pipe_dx :', pipe_dx)\u001b[0m\u001b[0;34m\u001b[0m\u001b[0;34m\u001b[0m\u001b[0m\n\u001b[0;32m----> 9\u001b[0;31m \u001b[0mres\u001b[0m \u001b[0;34m=\u001b[0m \u001b[0massert_allclose\u001b[0m\u001b[0;34m(\u001b[0m\u001b[0mpipe_dx\u001b[0m\u001b[0;34m,\u001b[0m \u001b[0mgrismconf_dx\u001b[0m\u001b[0;34m)\u001b[0m\u001b[0;34m\u001b[0m\u001b[0;34m\u001b[0m\u001b[0m\n\u001b[0m\u001b[1;32m     10\u001b[0m \u001b[0;32mif\u001b[0m \u001b[0mres\u001b[0m \u001b[0;32mis\u001b[0m \u001b[0;32mNone\u001b[0m\u001b[0;34m:\u001b[0m\u001b[0;34m\u001b[0m\u001b[0;34m\u001b[0m\u001b[0m\n\u001b[1;32m     11\u001b[0m     \u001b[0mres\u001b[0m \u001b[0;34m=\u001b[0m \u001b[0;32mTrue\u001b[0m\u001b[0;34m\u001b[0m\u001b[0;34m\u001b[0m\u001b[0m\n",
      "    \u001b[0;31m[... skipping hidden 1 frame]\u001b[0m\n",
      "\u001b[0;32m~/opt/anaconda3/envs/review/lib/python3.9/site-packages/numpy/testing/_private/utils.py\u001b[0m in \u001b[0;36massert_array_compare\u001b[0;34m(comparison, x, y, err_msg, verbose, header, precision, equal_nan, equal_inf)\u001b[0m\n\u001b[1;32m    842\u001b[0m                                 \u001b[0mverbose\u001b[0m\u001b[0;34m=\u001b[0m\u001b[0mverbose\u001b[0m\u001b[0;34m,\u001b[0m \u001b[0mheader\u001b[0m\u001b[0;34m=\u001b[0m\u001b[0mheader\u001b[0m\u001b[0;34m,\u001b[0m\u001b[0;34m\u001b[0m\u001b[0;34m\u001b[0m\u001b[0m\n\u001b[1;32m    843\u001b[0m                                 names=('x', 'y'), precision=precision)\n\u001b[0;32m--> 844\u001b[0;31m             \u001b[0;32mraise\u001b[0m \u001b[0mAssertionError\u001b[0m\u001b[0;34m(\u001b[0m\u001b[0mmsg\u001b[0m\u001b[0;34m)\u001b[0m\u001b[0;34m\u001b[0m\u001b[0;34m\u001b[0m\u001b[0m\n\u001b[0m\u001b[1;32m    845\u001b[0m     \u001b[0;32mexcept\u001b[0m \u001b[0mValueError\u001b[0m\u001b[0;34m:\u001b[0m\u001b[0;34m\u001b[0m\u001b[0;34m\u001b[0m\u001b[0m\n\u001b[1;32m    846\u001b[0m         \u001b[0;32mimport\u001b[0m \u001b[0mtraceback\u001b[0m\u001b[0;34m\u001b[0m\u001b[0;34m\u001b[0m\u001b[0m\n",
      "\u001b[0;31mAssertionError\u001b[0m: \nNot equal to tolerance rtol=1e-07, atol=0\n\nMismatched elements: 10 / 10 (100%)\nMax absolute difference: 0.03518716\nMax relative difference: 0.02471572\n x: array([-1.174995, -1.198493, -1.222047, -1.245657, -1.269322, -1.293043,\n       -1.316821, -1.340654, -1.364543, -1.388488])\n y: array([-1.166748, -1.195055, -1.223421, -1.251848, -1.280335, -1.308882,\n       -1.33749 , -1.366158, -1.394887, -1.423675])"
     ]
    }
   ],
   "source": [
    "# The same test with the file from Feb 24th\n",
    "sspec=datamodels.open('/Users/dencheva/dev/jwst_data/swara-wfss/NIRISS_WFSS_Reffiles_24feb2022/jwst_niriss_specwcs_0012_v3.asdf')\n",
    "\n",
    "xmodels=sspec.dispx[0]\n",
    "ymodels=sspec.dispy[0]\n",
    "pipe_dx = xmodels[0](x0, y0) + t * xmodels[1](x0, y0) + t**2 * xmodels[2](x0, y0)\n",
    "pipe_dy = ymodels[0](x0, y0) + t * ymodels[1](x0, y0) + t**2 * ymodels[2](x0, y0)\n",
    "#print('pipe_dx :', pipe_dx)\n",
    "res = assert_allclose(pipe_dx, grismconf_dx)\n",
    "if res is None:\n",
    "    res = True\n",
    "print(\"grismconf_dx == pipe_dx: \", res)\n",
    "\n",
    "res = assert_allclose(pipe_dy, grismconf_dy)\n",
    "if res is None:\n",
    "    res = True\n",
    "print(\"grismconf_dy == pipe_dy: \", res)\n"
   ]
  },
  {
   "cell_type": "code",
   "execution_count": null,
   "id": "b05d0475",
   "metadata": {},
   "outputs": [],
   "source": []
  }
 ],
 "metadata": {
  "kernelspec": {
   "display_name": "Python 3 (ipykernel)",
   "language": "python",
   "name": "python3"
  },
  "language_info": {
   "codemirror_mode": {
    "name": "ipython",
    "version": 3
   },
   "file_extension": ".py",
   "mimetype": "text/x-python",
   "name": "python",
   "nbconvert_exporter": "python",
   "pygments_lexer": "ipython3",
   "version": "3.9.7"
  }
 },
 "nbformat": 4,
 "nbformat_minor": 5
}
