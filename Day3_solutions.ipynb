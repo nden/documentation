{
 "cells": [
  {
   "cell_type": "markdown",
   "metadata": {},
   "source": [
    "### Outline\n",
    "\n",
    "- Functions\n",
    "- More control flow\n",
    "- Dictionaries, Boolean\n",
    "- Modules"
   ]
  },
  {
   "attachments": {},
   "cell_type": "markdown",
   "metadata": {},
   "source": [
    "#### Functions\n",
    "\n",
    "A **function** is a block of code that only runs when it is called. Functions can take input arguments and return some kind of output value. You can call a function anywhere within your code after you have defined it. Functions make code repeatable and testable. "
   ]
  },
  {
   "cell_type": "markdown",
   "metadata": {},
   "source": [
    "Remember our last example of reading a spectrum from a text file.\n",
    "\n",
    "- define two empty lists to store the wavelength and flux\n",
    "- open a file\n",
    "- read the lines in the file into a list of strings\n",
    "- close the file\n",
    "- loop over each item in the list to\n",
    "  - split it into separate items\n",
    "  - convert the value of the wavelength to a number and append it to the `wavelength` list\n",
    "  - convert the value of the flux to a number and append it to the `flux` list\n",
    " \n",
    "\n",
    "Next time I need to read another file I will need to perform the same operations. This is where functions become useful. "
   ]
  },
  {
   "cell_type": "code",
   "execution_count": 2,
   "metadata": {},
   "outputs": [],
   "source": []
  },
  {
   "cell_type": "markdown",
   "metadata": {},
   "source": [
    "##### Exercise\n",
    "\n",
    "Write the body of this function following the example we did before.\n",
    "\n",
    "Call the function to make sure it works and returns the wavelength and flux."
   ]
  },
  {
   "cell_type": "code",
   "execution_count": 3,
   "metadata": {},
   "outputs": [],
   "source": [
    "def read_spectrum(file_name):\n",
    "    \"\"\"\n",
    "    Add docstrings!\n",
    "    \"\"\"\n",
    "    wavelength = []\n",
    "    flux = []\n",
    "    \n",
    "    f = open(\"sample_sdss.txt\")\n",
    "    lines = f.readlines()\n",
    "    f.close()\n",
    "\n",
    "    for line in lines[2:]:\n",
    "        l = line.split()\n",
    "        wavelength.append(float(l[0]))\n",
    "        flux.append(float(l[1]))\n",
    "    return wavelength, flux"
   ]
  },
  {
   "cell_type": "code",
   "execution_count": 4,
   "metadata": {},
   "outputs": [],
   "source": [
    "w, f = read_spectrum('sample_sdss.txt')"
   ]
  },
  {
   "cell_type": "markdown",
   "metadata": {},
   "source": [
    "### More control flow - conditional code execution\n",
    "\n",
    "\n",
    "Perhaps the most well-known conditonal type is the **if** statement. Often it's useful to combine **if** statement with a **for** loop."
   ]
  },
  {
   "cell_type": "code",
   "execution_count": 10,
   "metadata": {},
   "outputs": [
    {
     "name": "stdout",
     "output_type": "stream",
     "text": [
      "1 is less than 30\n",
      "5 is less than 30\n",
      "2 is less than 30\n",
      "89 is greater than 30\n",
      "30 - the value is 30\n",
      "34 is greater than 30\n",
      "56 is greater than 30\n",
      "4 is less than 30\n"
     ]
    }
   ],
   "source": [
    "numbers = [1, 5, 2, 89, 30, 34, 56, 4]\n",
    "\n",
    "for n in numbers:\n",
    "    if n < 30:\n",
    "        print(f\"{n} is less than 30\")\n",
    "    elif n == 30:\n",
    "        print(f\"{n} - the value is {n}\")\n",
    "    else:\n",
    "        print(f\"{n} is greater than 30\")\n"
   ]
  },
  {
   "cell_type": "markdown",
   "metadata": {},
   "source": [
    "### Dictionaries\n",
    "\n",
    "Another useful data type built into Python is the dictionary, type `dict`. Unlike sequences, which are indexed by a range of numbers, dictionaries are indexed by keys, which can be any immutable type. Strings and numbers can always be keys. \n",
    "\n",
    "It is best to think of a dictionary as a set of `{key: value}` pairs, with the requirement that the keys are unique (within one dictionary). A pair of braces creates an empty dictionary: {}. Placing a comma-separated list of key:value pairs within the braces adds initial key:value pairs to the dictionary; this is also the way dictionaries are written on output."
   ]
  },
  {
   "cell_type": "code",
   "execution_count": null,
   "metadata": {},
   "outputs": [],
   "source": [
    "d = {\"Milky way\": \"galaxy\", \n",
    "     \"Jupiter\": \"planet\", \n",
    "     \"Sun\": \"star\", \n",
    "     \"Betelgeuse\": \"star\", \n",
    "     \"Ceres\": \"asteroid\", \n",
    "     \"Earth\": \"planet\", \n",
    "     \"Andromeda\": \"galaxy\", \n",
    "     \"Mars\": \"planet\",\n",
    "     \"Venus\": \"planet\"}\n",
    "     \n",
    "print(d)"
   ]
  },
  {
   "cell_type": "code",
   "execution_count": null,
   "metadata": {},
   "outputs": [],
   "source": [
    "d.keys() # note that these can be easily converted to a list"
   ]
  },
  {
   "cell_type": "code",
   "execution_count": null,
   "metadata": {},
   "outputs": [],
   "source": [
    "d.values()"
   ]
  },
  {
   "cell_type": "markdown",
   "metadata": {},
   "source": [
    "**Exercise:**\n",
    "\n",
    "Print the names of all galaxies in **d**.\n",
    "\n",
    "- using a **for** loop\n",
    "- using list comprehension"
   ]
  },
  {
   "cell_type": "code",
   "execution_count": null,
   "metadata": {},
   "outputs": [],
   "source": [
    "for k in d:\n",
    "    if d[k] == \"galaxy\":\n",
    "        print(k)"
   ]
  },
  {
   "cell_type": "code",
   "execution_count": null,
   "metadata": {},
   "outputs": [],
   "source": [
    "[k for k in d if d[k]=='galaxy']"
   ]
  },
  {
   "cell_type": "markdown",
   "metadata": {},
   "source": [
    "Count the number of each astronomical object in our dictionary:"
   ]
  },
  {
   "cell_type": "code",
   "execution_count": null,
   "metadata": {},
   "outputs": [],
   "source": [
    "nplanet = 0\n",
    "ngalaxy = 0\n",
    "nasteroid = 0\n",
    "for k in d:\n",
    "    if d[k] == \"planet\":\n",
    "        nplanet += 1\n",
    "    elif d[k] == \"galaxy\":\n",
    "        ngalaxy += 1\n",
    "    elif d[k] == \"asteroid\":\n",
    "        nasteroid += 1\n",
    "    else:\n",
    "        pass\n",
    "    \n",
    "print(f\"Number of planets is {nplanet}\")\n",
    "print(f\"Number of galaxies is {ngalaxy}\")\n",
    "\n",
    "print(f\"Number of asteroids is {nasteroid}\")\n",
    "    "
   ]
  },
  {
   "cell_type": "markdown",
   "metadata": {},
   "source": [
    "The construct used in the example above is\n",
    "\n",
    "```\n",
    "if <condition1>:\n",
    "    ...\n",
    "elif <condition2>:\n",
    "    ...\n",
    "...\n",
    "else:\n",
    "    ....\n",
    "```\n",
    "\n",
    "If none of the specified conditions is True then the statement in the `else` block is executed,"
   ]
  },
  {
   "cell_type": "markdown",
   "metadata": {},
   "source": [
    "#### Boolean type\n",
    "\n",
    "A boolean is one of the simplest Python types, and it can have two \n",
    "values: `True` and `False` (with uppercase T and F).\n",
    "\n",
    "Booleans can be combined with logical operators to give other booleans:"
   ]
  },
  {
   "cell_type": "code",
   "execution_count": null,
   "metadata": {},
   "outputs": [],
   "source": [
    "True and False"
   ]
  },
  {
   "cell_type": "code",
   "execution_count": null,
   "metadata": {},
   "outputs": [],
   "source": [
    "True or False"
   ]
  },
  {
   "cell_type": "markdown",
   "metadata": {},
   "source": [
    "Standard comparison operators can also produce booleans:"
   ]
  },
  {
   "cell_type": "code",
   "execution_count": null,
   "metadata": {},
   "outputs": [],
   "source": [
    "1 == 3"
   ]
  },
  {
   "cell_type": "code",
   "execution_count": null,
   "metadata": {},
   "outputs": [],
   "source": [
    "1 != 3"
   ]
  },
  {
   "cell_type": "code",
   "execution_count": null,
   "metadata": {},
   "outputs": [],
   "source": [
    "3 > 2"
   ]
  },
  {
   "cell_type": "code",
   "execution_count": null,
   "metadata": {},
   "outputs": [],
   "source": [
    "3 <= 3.4"
   ]
  },
  {
   "cell_type": "markdown",
   "metadata": {},
   "source": [
    "#### Functions\n",
    "\n"
   ]
  },
  {
   "cell_type": "markdown",
   "metadata": {},
   "source": [
    "A *function* is a named block in a program that performs a specific task when called.\n",
    "\n",
    "You can pass data, known as parameters, into a function.\n",
    "\n",
    "A function can return data as a result.\n",
    "\n",
    "Functions allow code to be reused not only in a single program but from multiple separate programs. They are also used to achieve abstraction in the implementation of an algorithm.\n",
    "\n",
    "A function is defined using the `def` keyword, followed by the name of the function, any paramters in parenthesis and a colon sign. It may or may not return a value. For example"
   ]
  },
  {
   "cell_type": "code",
   "execution_count": null,
   "metadata": {},
   "outputs": [],
   "source": [
    "def squared(x):\n",
    "    result = x * x\n",
    "    return result\n",
    "\n",
    "a = squared(2)\n",
    "print(a)"
   ]
  },
  {
   "cell_type": "markdown",
   "metadata": {},
   "source": [
    "Note the indentation in the body of the function. The end of the function is marked by the `return` statement or by a change in the indentation."
   ]
  },
  {
   "cell_type": "code",
   "execution_count": null,
   "metadata": {},
   "outputs": [],
   "source": [
    "def print_squared(x):\n",
    "    print(x * x)\n",
    "    \n",
    "squared(2)"
   ]
  },
  {
   "cell_type": "markdown",
   "metadata": {},
   "source": [
    "Although there's no explicit `return` statement, implicitely the function returns `None`."
   ]
  },
  {
   "cell_type": "code",
   "execution_count": null,
   "metadata": {},
   "outputs": [],
   "source": [
    "result = print_squared(2)"
   ]
  },
  {
   "cell_type": "code",
   "execution_count": null,
   "metadata": {},
   "outputs": [],
   "source": [
    "print(result)"
   ]
  },
  {
   "cell_type": "markdown",
   "metadata": {},
   "source": [
    "**Optional Arguments**\n",
    "\n",
    "In addition to normal arguments, functions can take optional, or **keyword** arguments that can default to a certain value. For example, in the following case:"
   ]
  },
  {
   "cell_type": "code",
   "execution_count": null,
   "metadata": {},
   "outputs": [],
   "source": [
    "def say_hello(first_name, middle_name='', last_name=''):\n",
    "    print(\"First name: \" + first_name)\n",
    "    if middle_name != '':\n",
    "        print(\"Middle name: \" + middle_name)\n",
    "    if last_name != '':\n",
    "        print(\"Last name: \" + last_name)"
   ]
  },
  {
   "cell_type": "markdown",
   "metadata": {},
   "source": [
    "we can call the function either with one argument:"
   ]
  },
  {
   "cell_type": "code",
   "execution_count": null,
   "metadata": {},
   "outputs": [],
   "source": [
    "say_hello(\"Bee\")"
   ]
  },
  {
   "cell_type": "markdown",
   "metadata": {},
   "source": [
    "or we can also give one or both optional arguments (and the optional arguments can be given in any order):"
   ]
  },
  {
   "cell_type": "code",
   "execution_count": null,
   "metadata": {},
   "outputs": [],
   "source": [
    "say_hello(\"Bee\", last_name=\"Eight\")"
   ]
  },
  {
   "cell_type": "code",
   "execution_count": null,
   "metadata": {},
   "outputs": [],
   "source": [
    "say_hello(\"Bee\", middle_name=\"Be\", last_name=\"Eight\")"
   ]
  },
  {
   "cell_type": "code",
   "execution_count": null,
   "metadata": {},
   "outputs": [],
   "source": [
    "say_hello(\"Bee\", last_name=\"Eight\", middle_name=\"Be\")"
   ]
  },
  {
   "cell_type": "markdown",
   "metadata": {},
   "source": [
    "#### Built-in functions\n",
    "\n",
    "As we've seen already, there are a few functions that are defined by default in Python:"
   ]
  },
  {
   "cell_type": "code",
   "execution_count": null,
   "metadata": {},
   "outputs": [],
   "source": [
    "x = [1,3,6,8,3]"
   ]
  },
  {
   "cell_type": "code",
   "execution_count": null,
   "metadata": {},
   "outputs": [],
   "source": [
    "len(x)"
   ]
  },
  {
   "cell_type": "code",
   "execution_count": null,
   "metadata": {},
   "outputs": [],
   "source": [
    "sum(x)"
   ]
  },
  {
   "cell_type": "code",
   "execution_count": null,
   "metadata": {},
   "outputs": [],
   "source": [
    "int(1.2)"
   ]
  },
  {
   "cell_type": "markdown",
   "metadata": {},
   "source": [
    "However most funcitons are kept in modules.\n",
    "\n",
    "#### Modules\n",
    "\n",
    "One of the strengths of Python is that there are many built-in add-ons - or modules - which contain existing functions, classes, and variables which allow you to do complex tasks in only a few lines of code. Modules can be organized in packages. There are many other third-party modules and packages (e.g. Numpy, Scipy, Matplotlib, Astropy) that can be installed, and you can also develop your own modules that include functionalities you commonly use.\n",
    "\n",
    "The built-in modules are referred to as the Standard Library, and you can find a full list of the available functionality in the Python Documentation.\n",
    "\n",
    "A module is a file with a number of self-contained functions and other code.\n",
    "\n",
    "To use modules in your Python session or script, you need to import them. The following example shows how to import the built-in `math` module, which contains a number of useful mathematical functions. The functions can be accessed by name using also the nam eof the module and `.` as a delimiter. For example:"
   ]
  },
  {
   "cell_type": "code",
   "execution_count": null,
   "metadata": {},
   "outputs": [],
   "source": [
    "import math"
   ]
  },
  {
   "cell_type": "code",
   "execution_count": null,
   "metadata": {},
   "outputs": [],
   "source": [
    "math.sin(2.1)"
   ]
  },
  {
   "cell_type": "code",
   "execution_count": null,
   "metadata": {},
   "outputs": [],
   "source": [
    "math.factorial(20)"
   ]
  },
  {
   "cell_type": "code",
   "execution_count": null,
   "metadata": {},
   "outputs": [],
   "source": [
    "# A module can contain the definition of constants:\n",
    "\n",
    "math.pi"
   ]
  },
  {
   "cell_type": "markdown",
   "metadata": {},
   "source": [
    "Finally, it's also possible to simply import the functions needed directly:"
   ]
  },
  {
   "cell_type": "code",
   "execution_count": null,
   "metadata": {},
   "outputs": [],
   "source": [
    "from math import sin, cos\n",
    "\n",
    "cos(3.4)"
   ]
  },
  {
   "cell_type": "markdown",
   "metadata": {},
   "source": [
    "You may find examples on the internet that use e.g.\n",
    "\n",
    "    from module import *\n",
    "\n",
    "which means \"import all functions form this module\".\n",
    "You should be careful with this because it will make it difficult to debug programs, since common debugging tools that rely on just looking at the programs will not know all the functions that are being imported."
   ]
  },
  {
   "cell_type": "markdown",
   "metadata": {},
   "source": [
    "#### Questions?"
   ]
  },
  {
   "cell_type": "code",
   "execution_count": null,
   "metadata": {},
   "outputs": [],
   "source": []
  }
 ],
 "metadata": {
  "kernelspec": {
   "display_name": "Python 3 (ipykernel)",
   "language": "python",
   "name": "python3"
  },
  "language_info": {
   "codemirror_mode": {
    "name": "ipython",
    "version": 3
   },
   "file_extension": ".py",
   "mimetype": "text/x-python",
   "name": "python",
   "nbconvert_exporter": "python",
   "pygments_lexer": "ipython3",
   "version": "3.11.5"
  }
 },
 "nbformat": 4,
 "nbformat_minor": 4
}
