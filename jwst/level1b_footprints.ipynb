{
 "cells": [
  {
   "cell_type": "code",
   "execution_count": 71,
   "metadata": {
    "collapsed": true
   },
   "outputs": [],
   "source": [
    "import numpy as np\n",
    "from jwst import datamodels\n",
    "from jwst.lib import set_telescope_pointing as stp\n",
    "from jwst.transforms import models as tmodels\n",
    "%matplotlib inline\n",
    "from matplotlib import pyplot as plt"
   ]
  },
  {
   "cell_type": "code",
   "execution_count": 72,
   "metadata": {},
   "outputs": [],
   "source": [
    "model = datamodels.Level1bModel()\n",
    "model.meta.wcsinfo.v2_ref = -453.363363\n",
    "model.meta.wcsinfo.v3_ref = -374.068629\n",
    "model.meta.wcsinfo.v3yangle = 4.449705\n",
    "model.meta.wcsinfo.vparity = -1\n",
    "model.meta.wcsinfo.roll_ref = 50.2083272665\n",
    "model.meta.wcsinfo.ra_ref = 348.8776709\n",
    "model.meta.wcsinfo.dec_ref = -38.854159"
   ]
  },
  {
   "cell_type": "code",
   "execution_count": 73,
   "metadata": {
    "collapsed": true
   },
   "outputs": [],
   "source": [
    "xvert = np.array((-76.602, 37.3507, 37.3406, -76.579))\n",
    "yvert=np.array((-56.8838, -56.343, 56.3378, 56.8379))\n"
   ]
  },
  {
   "cell_type": "code",
   "execution_count": 74,
   "metadata": {},
   "outputs": [
    {
     "name": "stdout",
     "output_type": "stream",
     "text": [
      "v2_ref, v3_ref in arcsec\n",
      "-453.363363 -374.068629\n",
      "v2, v3 in arcsec\n",
      "[-381.40552542 -494.97279431 -486.22050226 -372.60547647]\n",
      "[-436.72405748 -427.34398602 -315.0036096  -323.34335048]\n"
     ]
    }
   ],
   "source": [
    "ideal_to_v23 = tmodels.IdealToV2V3(model.meta.wcsinfo.v3yangle,\n",
    "                                   model.meta.wcsinfo.v2_ref, model.meta.wcsinfo.v3_ref,\n",
    "                                  model.meta.wcsinfo.vparity)\n",
    "v2, v3 = ideal_to_v23(xvert, yvert)\n",
    "print('v2_ref, v3_ref in arcsec')\n",
    "print(model.meta.wcsinfo.v2_ref, model.meta.wcsinfo.v3_ref)\n",
    "print('v2, v3 in arcsec')\n",
    "print(v2)\n",
    "print(v3)"
   ]
  },
  {
   "cell_type": "code",
   "execution_count": 75,
   "metadata": {},
   "outputs": [
    {
     "name": "stdout",
     "output_type": "stream",
     "text": [
      "ra_ref, dec_ref\n",
      "348.8776709 -38.854159\n",
      "ra, dec, in deg\n",
      "[ 246.04585227  231.94144486   26.03046927    9.38090199]\n",
      "[-34.77540467  -7.31935946  72.95721864  -5.08941889]\n"
     ]
    }
   ],
   "source": [
    "v2_ref = model.meta.wcsinfo.v2_ref / 3600\n",
    "v3_ref = model.meta.wcsinfo.v3_ref / 3600\n",
    "roll_ref = model.meta.wcsinfo.roll_ref\n",
    "ra_ref = model.meta.wcsinfo.ra_ref\n",
    "dec_ref = model.meta.wcsinfo.dec_ref\n",
    "\n",
    "angles = [-v2_ref, v3_ref, -roll_ref, -dec_ref, ra_ref]\n",
    "axes = \"zyxyz\"\n",
    "v23_to_sky = tmodels.V23ToSky(angles, axes_order=axes)\n",
    "ra, dec = v23_to_sky(v2/3600, v3/360)\n",
    "ind = ra < 0\n",
    "ra[ind] = ra[ind] + 360\n",
    "print('ra_ref, dec_ref')\n",
    "print(ra_ref, dec_ref)\n",
    "print('ra, dec, in deg')\n",
    "print(ra)\n",
    "print(dec)"
   ]
  },
  {
   "cell_type": "code",
   "execution_count": 76,
   "metadata": {},
   "outputs": [
    {
     "name": "stdout",
     "output_type": "stream",
     "text": [
      "[ -50775.86670263 -741279.51212926  -59938.4421814 ]\n"
     ]
    }
   ],
   "source": [
    "print(np.diff(ra*3600))"
   ]
  },
  {
   "cell_type": "code",
   "execution_count": 77,
   "metadata": {},
   "outputs": [
    {
     "name": "stdout",
     "output_type": "stream",
     "text": [
      "[-113.56726888    8.75229204  113.61502579]\n"
     ]
    }
   ],
   "source": [
    "print(np.diff(v2))"
   ]
  },
  {
   "cell_type": "code",
   "execution_count": 78,
   "metadata": {},
   "outputs": [
    {
     "name": "stdout",
     "output_type": "stream",
     "text": [
      "[   9.38007145  112.34037642   -8.33974088]\n"
     ]
    }
   ],
   "source": [
    "print(np.diff(v3))"
   ]
  },
  {
   "cell_type": "code",
   "execution_count": 79,
   "metadata": {},
   "outputs": [
    {
     "data": {
      "text/plain": [
       "<matplotlib.collections.PathCollection at 0x7f36793e9fd0>"
      ]
     },
     "execution_count": 79,
     "metadata": {},
     "output_type": "execute_result"
    },
    {
     "data": {
      "image/png": "[encoded data removed]",
      "text/plain": [
       "<matplotlib.figure.Figure at 0x7f36793e9860>"
      ]
     },
     "metadata": {},
     "output_type": "display_data"
    }
   ],
   "source": [
    "plt.scatter(ra, dec)\n",
    "plt.scatter(model.meta.wcsinfo.ra_ref, model.meta.wcsinfo.dec_ref, color='r')"
   ]
  },
  {
   "cell_type": "code",
   "execution_count": 80,
   "metadata": {},
   "outputs": [
    {
     "data": {
      "text/plain": [
       "<matplotlib.collections.PathCollection at 0x7f36792d8860>"
      ]
     },
     "execution_count": 80,
     "metadata": {},
     "output_type": "execute_result"
    },
    {
     "data": {
      "image/png": "[encoded data removed]",
      "text/plain": [
       "<matplotlib.figure.Figure at 0x7f3679433f60>"
      ]
     },
     "metadata": {},
     "output_type": "display_data"
    }
   ],
   "source": [
    "color=['green', 'red', 'blue', 'yellow']\n",
    "plt.scatter(v2, v3, color=color)\n",
    "plt.scatter([model.meta.wcsinfo.v2_ref], [model.meta.wcsinfo.v3_ref], color='pink')"
   ]
  },
  {
   "cell_type": "code",
   "execution_count": null,
   "metadata": {
    "collapsed": true
   },
   "outputs": [],
   "source": []
  }
 ],
 "metadata": {
  "kernelspec": {
   "display_name": "Python 3",
   "language": "python",
   "name": "python3"
  },
  "language_info": {
   "codemirror_mode": {
    "name": "ipython",
    "version": 3
   },
   "file_extension": ".py",
   "mimetype": "text/x-python",
   "name": "python",
   "nbconvert_exporter": "python",
   "pygments_lexer": "ipython3",
   "version": "3.5.1"
  }
 },
 "nbformat": 4,
 "nbformat_minor": 2
}
