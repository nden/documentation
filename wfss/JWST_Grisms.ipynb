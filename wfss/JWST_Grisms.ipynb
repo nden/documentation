{
 "cells": [
  {
   "cell_type": "markdown",
   "metadata": {},
   "source": [
    "### JWST Pipeline Processing of Wide Field Slitless Spectroscopy Exposures\n",
    "\n",
    "\n",
    "#### Calspec2 steps       \n",
    "    \n",
    "- assign_wcs: Assigns a WCS object to dispersed exposures              \n",
    "- background: Background subtraction                \n",
    "- flatfield: Flat fielding             \n",
    "- extract_2d: Extract cutouts  \n",
    "- photom: Photometric correction      \n",
    "- extract_1d: Extract 1D spectrum   \n",
    "\n",
    "\n",
    "#### Calspec3 steps\n",
    " \n",
    "- exp_to_source: Reformat files to contain one source from multiple exposures\n",
    "- extract_1d: Final 1D extraction    \n",
    "- combine_1d: Combine 1D spectra     \n"
   ]
  },
  {
   "cell_type": "markdown",
   "metadata": {},
   "source": [
    "#### assign_wcs\n",
    "\n",
    "The *assign_wcs* step creates and assigns a WCS to each SCI exposure. The JWST pipeline uses gWCS (more flexible than FITS WCS) to perform the transformations and the ASDF standard to save the WCS to a file. \n",
    "\n",
    "The reference files contain the calibrated distortion models and wavelength solutions and are also saved in the ASDF format in the [JWST CRDS](https://jwst-crds.stsci.edu).\n",
    "\n",
    "*assign_wcs* operates on single SCI exposures using a previously created catalog of objects. The name of the catalog is saved as a keyword in the primary FITS header of the SCI file.\n",
    "Essentially the pipeline runs first calimage2 on the direct images in an association, adds the name of the catalog file to the association and saves it in the dispersed image header. At this point calspec2 runs on the dispersed image. This notebook describes the steps in calspec2.\n"
   ]
  },
  {
   "cell_type": "markdown",
   "metadata": {},
   "source": [
    "A simulated NIRCAM grism image is used in the examples. "
   ]
  },
  {
   "cell_type": "code",
   "execution_count": 1,
   "metadata": {},
   "outputs": [],
   "source": [
    "fname = \"jw01076006002_0117x_00003_nrcb5_uncal_dispersed_GRISMR_crossing_F444W_assign_wcs.fits\""
   ]
  },
  {
   "cell_type": "code",
   "execution_count": 2,
   "metadata": {},
   "outputs": [],
   "source": [
    "%matplotlib notebook\n",
    "from matplotlib import pyplot as plt\n",
    "from matplotlib import patches"
   ]
  },
  {
   "cell_type": "code",
   "execution_count": 3,
   "metadata": {},
   "outputs": [],
   "source": [
    "import asdf\n",
    "import numpy as np\n",
    "\n",
    "from astropy.modeling.models import *\n",
    "from astropy.modeling.models import math as astmath\n",
    "\n",
    "from jwst import datamodels\n",
    "from jwst.assign_wcs import util\n",
    "from jwst.assign_wcs import nircam\n",
    "from jwst.transforms.models import (NIRCAMForwardRowGrismDispersion,\n",
    "                                    NIRCAMBackwardGrismDispersion)\n",
    "\n",
    "from gwcs import coordinate_frames as cf\n",
    "from astropy import units as u"
   ]
  },
  {
   "cell_type": "markdown",
   "metadata": {},
   "source": [
    "#### Read the data from the reference file\n",
    "\n",
    "The `distortion` reference file contains the distortion models used in imaging mode.\n",
    "\n",
    "The `specwcs` reference file contains the transforms between the direct and dispersed images.\n",
    "\n",
    "The `wavelengthrange` reference file contains the wavelength limits to use when calculating the minimum and maximum dispersion extents on the detector. It also contains the default list of orders that should be extracted for each filter."
   ]
  },
  {
   "cell_type": "code",
   "execution_count": 4,
   "metadata": {},
   "outputs": [
    {
     "name": "stdout",
     "output_type": "stream",
     "text": [
      "orders [1, 2]\n",
      "dispersion_wavelength [<Polynomial1D(1, c0=2.4, c1=2.6)>, <Polynomial1D(1, c0=2.4, c1=2.6)>]\n"
     ]
    }
   ],
   "source": [
    "reference_files = {\n",
    "    'distortion': '/Users/dencheva/crds/references/jwst/nircam/jwst_nircam_distortion_0096.asdf',\n",
    "    'specwcs': '/Users/dencheva/crds/references/jwst/nircam/jwst_nircam_specwcs_0009.asdf',\n",
    "    'wavelengthrange': '/Users/dencheva/crds/references/jwst/nircam/jwst_nircam_wavelengthrange_0003.asdf',\n",
    "    'filteroffset': '/Users/dencheva/crds/references/jwst/nircam/jwst_nircam_filteroffset_0001.asdf'\n",
    "    }\n",
    "\n",
    "\n",
    "specwcs = asdf.open(reference_files['specwcs']).tree\n",
    "displ = specwcs['displ']\n",
    "dispx = specwcs['dispx']\n",
    "dispy = specwcs['dispy']\n",
    "invdispl = specwcs['invdispl']\n",
    "invdispx = specwcs['invdispx']\n",
    "invdispy = specwcs['invdispy']\n",
    "orders = specwcs['orders']\n",
    "\n",
    "print('orders', orders)\n",
    "print('dispersion_wavelength', displ)\n",
    "\n"
   ]
  },
  {
   "cell_type": "markdown",
   "metadata": {},
   "source": [
    "#### Construct the WCS pipeline\n",
    "\n",
    "The code snippet below shows two of the major advantages of gWCS to FITS WCS:\n",
    "\n",
    "- Combine arbitrary transforms in an arbitrary way.\n",
    "\n",
    "- The WCS pipeline is a list of steps where each step is defined by a coordinate system and the transform to the next coordinate system in the WCS pipeline, **(coord_frame, transform)**.There are tools to create custom coordinate frames to be used as intermediate frames in the WCS pipeline. Furthermore, one can retrieve the transform between any two  frames. This, essentially, provides an opportunity for WCS designers to choose places (stops) in the WCS pipeline where it makes sense to provide the user with the option to compute intermediate results.\n",
    "\n",
    "Here we call a class which constructs the pipeline. At the end of the notebook there's a functional form of this class to illustrate what it is doing under the hood."
   ]
  },
  {
   "cell_type": "code",
   "execution_count": 5,
   "metadata": {},
   "outputs": [],
   "source": [
    "# open the dispersed exposure\n",
    "input_model = datamodels.open(fname)"
   ]
  },
  {
   "cell_type": "code",
   "execution_count": 6,
   "metadata": {},
   "outputs": [
    {
     "name": "stderr",
     "output_type": "stream",
     "text": [
      "2020-06-30 22:04:49,407 - stpipe.AssignWcsStep - INFO - AssignWcsStep instance created.\n"
     ]
    },
    {
     "data": {
      "text/plain": [
       "''"
      ]
     },
     "execution_count": 6,
     "metadata": {},
     "output_type": "execute_result"
    }
   ],
   "source": [
    "''''''\n",
    "refs = {}\n",
    "from jwst.assign_wcs import AssignWcsStep\n",
    "astep = AssignWcsStep()\n",
    "for t in astep.reference_file_types:\n",
    "    refs[t] = astep.get_reference_file(input_model, t)\n",
    "''''''"
   ]
  },
  {
   "cell_type": "code",
   "execution_count": 7,
   "metadata": {},
   "outputs": [],
   "source": [
    "#print(refs)"
   ]
  },
  {
   "cell_type": "markdown",
   "metadata": {},
   "source": [
    "The WCS will go roughly through these steps (in reverse order):\n",
    "\n",
    "sky --> direct_image --> dispersed_image"
   ]
  },
  {
   "cell_type": "markdown",
   "metadata": {},
   "source": [
    "The imaging part of the WCS uses the distortion for imaging mode. This is created in the same way as regular images."
   ]
  },
  {
   "cell_type": "code",
   "execution_count": 8,
   "metadata": {},
   "outputs": [
    {
     "name": "stdout",
     "output_type": "stream",
     "text": [
      "(<CelestialFrame(name=\"world\", unit=(Unit(\"deg\"), Unit(\"deg\")), axes_names=('lon', 'lat'), axes_order=(0, 1), reference_frame=<ICRS Frame>)>, None)\n"
     ]
    }
   ],
   "source": [
    "image_pipeline = nircam.imaging(input_model, reference_files)\n",
    "print(image_pipeline[2])"
   ]
  },
  {
   "cell_type": "markdown",
   "metadata": {},
   "source": [
    "Now let's create a custom coordinate frame associated with the grism image."
   ]
  },
  {
   "cell_type": "code",
   "execution_count": 9,
   "metadata": {},
   "outputs": [],
   "source": [
    "gdetector = cf.Frame2D(name='grism_detector', \n",
    "                       axes_order=(0, 1),\n",
    "                       unit=(u.pix, u.pix))"
   ]
  },
  {
   "cell_type": "markdown",
   "metadata": {},
   "source": [
    "Create the transform between the grism detector and the direct image detector.\n",
    "\n",
    "It will take as inputs \n",
    "\n",
    "- xgrism, ygrism: x, y coordinates in the grism image\n",
    "- x0, y0: center of an object (from catalog or user supplied)\n",
    "- order: spectral order\n",
    "\n",
    "It will return\n",
    "\n",
    "- xdirect, ydirect: x0, y0\n",
    "- lam: wavelength\n",
    "- order: spectral order"
   ]
  },
  {
   "cell_type": "code",
   "execution_count": 10,
   "metadata": {},
   "outputs": [],
   "source": [
    "det2det = NIRCAMForwardRowGrismDispersion(orders,\n",
    "                                          lmodels=displ,\n",
    "                                          xmodels=invdispx,\n",
    "                                          ymodels=dispy)"
   ]
  },
  {
   "cell_type": "markdown",
   "metadata": {},
   "source": [
    "And assign an inverse to this transform.\n",
    "The inverse transform takes inputs:\n",
    "\n",
    "- xdirect, ydirect\n",
    "- wavelength\n",
    "- order\n",
    "\n",
    "It returns\n",
    "\n",
    "- xdispersed, ydispersed\n",
    "- x0, y0\n",
    "- order\n"
   ]
  },
  {
   "cell_type": "code",
   "execution_count": 11,
   "metadata": {},
   "outputs": [],
   "source": [
    "det2det.inverse = NIRCAMBackwardGrismDispersion(orders,\n",
    "                                                    lmodels=invdispl,\n",
    "                                                    xmodels=dispx,\n",
    "                                                    ymodels=dispy)"
   ]
  },
  {
   "cell_type": "code",
   "execution_count": 12,
   "metadata": {},
   "outputs": [],
   "source": [
    "grism_pipeline = [(gdetector, det2det)]\n",
    "\n",
    "imagepipe = []\n",
    "world = image_pipeline.pop()\n",
    "for cframe, trans in image_pipeline:\n",
    "    trans = trans & (Identity(2))\n",
    "    imagepipe.append((cframe, trans))\n",
    "imagepipe.append((world))\n",
    "grism_pipeline.extend(imagepipe)\n"
   ]
  },
  {
   "cell_type": "markdown",
   "metadata": {},
   "source": [
    "The final WCS object.\n",
    "\n",
    "Inputs are (x_dispersed, y_dispersed, x0, y0, order).\n",
    "\n",
    "Outputs are RA, DEC, wavelength, order"
   ]
  },
  {
   "cell_type": "code",
   "execution_count": 13,
   "metadata": {},
   "outputs": [
    {
     "name": "stdout",
     "output_type": "stream",
     "text": [
      "     From                   Transform             \n",
      "-------------- -----------------------------------\n",
      "grism_detector nircam_forward_row_grism_dispersion\n",
      "      detector                       CompoundModel\n",
      "          v2v3                       CompoundModel\n",
      "         world                                None\n"
     ]
    }
   ],
   "source": [
    "from gwcs import WCS\n",
    "\n",
    "wcsobj = WCS(grism_pipeline)\n",
    "print(wcsobj)\n"
   ]
  },
  {
   "cell_type": "markdown",
   "metadata": {},
   "source": [
    "### Direct image"
   ]
  },
  {
   "cell_type": "code",
   "execution_count": 14,
   "metadata": {},
   "outputs": [
    {
     "ename": "NameError",
     "evalue": "name 'x2d' is not defined",
     "output_type": "error",
     "traceback": [
      "\u001b[0;31m---------------------------------------------------------------------------\u001b[0m",
      "\u001b[0;31mNameError\u001b[0m                                 Traceback (most recent call last)",
      "\u001b[0;32m<ipython-input-14-aae094fdd023>\u001b[0m in \u001b[0;36m<module>\u001b[0;34m\u001b[0m\n\u001b[1;32m      3\u001b[0m \u001b[0mim\u001b[0m\u001b[0;34m.\u001b[0m\u001b[0mdata\u001b[0m\u001b[0;34m.\u001b[0m\u001b[0mmean\u001b[0m\u001b[0;34m(\u001b[0m\u001b[0;34m)\u001b[0m\u001b[0;34m\u001b[0m\u001b[0;34m\u001b[0m\u001b[0m\n\u001b[1;32m      4\u001b[0m \u001b[0;31m#plt.imshow(im.data, aspect='auto', vmin=.2, vmax=.65)\u001b[0m\u001b[0;34m\u001b[0m\u001b[0;34m\u001b[0m\u001b[0;34m\u001b[0m\u001b[0m\n\u001b[0;32m----> 5\u001b[0;31m \u001b[0;32mfor\u001b[0m \u001b[0mslit\u001b[0m \u001b[0;32min\u001b[0m \u001b[0mx2d\u001b[0m\u001b[0;34m.\u001b[0m\u001b[0mslits\u001b[0m\u001b[0;34m:\u001b[0m\u001b[0;34m\u001b[0m\u001b[0;34m\u001b[0m\u001b[0m\n\u001b[0m\u001b[1;32m      6\u001b[0m     \u001b[0mbbox\u001b[0m \u001b[0;34m=\u001b[0m \u001b[0mslit\u001b[0m\u001b[0;34m.\u001b[0m\u001b[0mmeta\u001b[0m\u001b[0;34m.\u001b[0m\u001b[0mwcs\u001b[0m\u001b[0;34m.\u001b[0m\u001b[0mbounding_box\u001b[0m\u001b[0;34m\u001b[0m\u001b[0;34m\u001b[0m\u001b[0m\n\u001b[1;32m      7\u001b[0m     \u001b[0mxstart\u001b[0m\u001b[0;34m,\u001b[0m \u001b[0mystart\u001b[0m \u001b[0;34m=\u001b[0m \u001b[0mslit\u001b[0m\u001b[0;34m.\u001b[0m\u001b[0mxstart\u001b[0m\u001b[0;34m,\u001b[0m \u001b[0mslit\u001b[0m\u001b[0;34m.\u001b[0m\u001b[0mystart\u001b[0m\u001b[0;34m\u001b[0m\u001b[0;34m\u001b[0m\u001b[0m\n",
      "\u001b[0;31mNameError\u001b[0m: name 'x2d' is not defined"
     ]
    }
   ],
   "source": [
    "direct = 'jw01076006002_0117y_00004_nrcb5_cal.fits'\n",
    "im=datamodels.open(direct)\n",
    "im.data.mean()\n",
    "#plt.imshow(im.data, aspect='auto', vmin=.2, vmax=.65)\n",
    "for slit in x2d.slits:\n",
    "    bbox = slit.meta.wcs.bounding_box\n",
    "    xstart, ystart = slit.xstart, slit.ystart\n",
    "    #print('xstart  ', xstart, ystart)\n",
    "    ax.add_patch(patches.Rectangle((bbox[0][0]+xstart, bbox[1][0]+ystart), \n",
    "                                   bbox[0][1]-bbox[0][0], bbox[1][1]-bbox[1][0], edgecolor='g',\n",
    "                                  fill=False))\n",
    "    \n",
    "ax.imshow(input_model.data, aspect='auto', vmin=-.4, vmax=4, origin='lower')\n",
    "pos = np.array([(s.source_xpos, s.source_ypos) for s in x2d.slits])\n",
    "ax.scatter(pos[:,0], pos[:,1], c='r',)"
   ]
  },
  {
   "cell_type": "markdown",
   "metadata": {},
   "source": [
    "#### Working with the WCS object"
   ]
  },
  {
   "cell_type": "code",
   "execution_count": 16,
   "metadata": {},
   "outputs": [
    {
     "name": "stderr",
     "output_type": "stream",
     "text": [
      "2020-06-30 22:05:31,307 - stpipe - WARNING - /anaconda3/envs/astropy41dev/lib/python3.6/site-packages/astropy-4.2.dev266+gd6eabbebe-py3.6-macosx-10.9-x86_64.egg/astropy/modeling/math_functions.py:54: AstropyUserWarning: Models in math_functions are experimental.\n",
      "  warnings.warn(\"Models in math_functions are experimental.\", AstropyUserWarning)\n",
      "\n"
     ]
    },
    {
     "name": "stdout",
     "output_type": "stream",
     "text": [
      "RA, DEC, lam for order=1 :\n",
      "(80.96491020650988, -70.07637313843853, 3.934991999972275, 1.0)\n",
      "RA, DEC, lam for order=2 :\n",
      "(80.96491020650988, -70.07637313843853, 1.9674960000086115, 2.0)\n"
     ]
    }
   ],
   "source": [
    "x0=917\n",
    "y0=800\n",
    "order=1\n",
    "x=919\n",
    "y=806\n",
    "\n",
    "print(\"RA, DEC, lam for order=1 :\")\n",
    "print(wcsobj(x, y, x0, y0, 1))\n",
    "\n",
    "print(\"RA, DEC, lam for order=2 :\")\n",
    "print(wcsobj(x, y, x0, y0, 2))"
   ]
  },
  {
   "cell_type": "markdown",
   "metadata": {},
   "source": [
    "Now let's see how to get x, y, in the dispersed image. We can retrieve a transform between any two coordinate frames in the pipeline."
   ]
  },
  {
   "cell_type": "code",
   "execution_count": 17,
   "metadata": {},
   "outputs": [
    {
     "data": {
      "text/plain": [
       "['grism_detector', 'detector', 'v2v3', 'world']"
      ]
     },
     "execution_count": 17,
     "metadata": {},
     "output_type": "execute_result"
    }
   ],
   "source": [
    "wcsobj.available_frames"
   ]
  },
  {
   "cell_type": "code",
   "execution_count": 18,
   "metadata": {},
   "outputs": [
    {
     "name": "stdout",
     "output_type": "stream",
     "text": [
      "917.0 800.0 3.934991999972275 1.0\n"
     ]
    }
   ],
   "source": [
    "grism2image = wcsobj.get_transform('grism_detector', 'detector')\n",
    "\n",
    "x, y, wav, order = grism2image(x, y, x0, y0, order)\n",
    "print(x, y, wav, order)"
   ]
  },
  {
   "cell_type": "code",
   "execution_count": 19,
   "metadata": {},
   "outputs": [
    {
     "data": {
      "text/plain": [
       "(918.9999999999998, 800.0, 917.0, 800.0, 1.0)"
      ]
     },
     "execution_count": 19,
     "metadata": {},
     "output_type": "execute_result"
    }
   ],
   "source": [
    "grism2image.inverse(917, 800, 3.934991999972275, 1)"
   ]
  },
  {
   "cell_type": "markdown",
   "metadata": {},
   "source": [
    "*assign_wcs* works similarly to *grismconf*, the packaging of reference files and code organization is different."
   ]
  },
  {
   "cell_type": "markdown",
   "metadata": {},
   "source": [
    "#### Background subtraction\n",
    "\n",
    "For Wide-Field Slitless Spectroscopy expsoures, a background reference image is subtracted from the target exposure. Before being subtracted, the background reference image is scaled to match the signal level in the dispersed science image within background (source-free) regions of that image.\n",
    "\n",
    "More details on the background subtraction step are in the [documentation](https://jwst-pipeline.readthedocs.io/en/latest/jwst/background/description.html#wfss-mode)."
   ]
  },
  {
   "cell_type": "markdown",
   "metadata": {},
   "source": [
    "#### Flat field\n",
    "\n",
    "The flat field step divides a flat image from the grism image. \n",
    "Nircam uses a single grism reference flat image. Niriss has separate flats per filter that are paired with each grism. \n"
   ]
  },
  {
   "cell_type": "markdown",
   "metadata": {},
   "source": [
    "#### extract_2d\n",
    "\n",
    "Uses the source catalog specified in the SCI header.\n",
    "Alternatively a user can specify a list of grism objects. A [grism object](https://github.com/spacetelescope/jwst/blob/085801ffaed3df70d4013c3936f0bcde74646eb7/jwst/transforms/models.py#L46) is a named tuple which stores information about a dispersed object.\n",
    "\n",
    "The sensitivity information from the original aXe style configuration file needs to be modified by the passband of the filter used for the direct image to get the min and max wavelengths which correspond to t=0 and t=1. This has been done by the team and the min and max wavelengths to use to calculate t are stored in the grism wavelengthrange reference file. The min and max wavelength are used in conjunction with the minimum bounding box corners from the catalog to find the extent of the bounding box for the object in the grism image.\n",
    "\n",
    "Steps in extract_2d:\n",
    "\n",
    "- Read the catalog and create a list of [sky objects](https://github.com/spacetelescope/jwst/blob/master/jwst/assign_wcs/util.py#L408)\n",
    "- Create a bounding box for each spectrum.\n",
    "  The footprint of the object on the sky is passed through the inverse WCS of the\n",
    "  direct image and then trhough the trace polynomials to find the location of the\n",
    "  corners on the dispersed image.\n",
    "- The center of the object in the direct image frame is computed by evaluating the \n",
    "  inverse WCS of the direct image on the sky centroid\n",
    "- The data arrays are extracted using the bounding_box for each spectral_order"
   ]
  },
  {
   "cell_type": "code",
   "execution_count": 20,
   "metadata": {},
   "outputs": [
    {
     "data": {
      "text/plain": [
       "['grism_detector', 'detector', 'v2v3', 'world']"
      ]
     },
     "execution_count": 20,
     "metadata": {},
     "output_type": "execute_result"
    }
   ],
   "source": [
    "wcsobj.available_frames"
   ]
  },
  {
   "cell_type": "code",
   "execution_count": 21,
   "metadata": {},
   "outputs": [
    {
     "name": "stdout",
     "output_type": "stream",
     "text": [
      "id: 1\n",
      "xcentroid: 359.6047 pix\n",
      "ycentroid: 4.6666 pix\n",
      "sky_centroid: <SkyCoord (ICRS): (ra, dec) in deg\n",
      "    (80.98653438, -70.09202758)>\n",
      "isophotal_abmag: 20.264795\n",
      "isophotal_abmag_err: nan\n",
      "sky_bbox_ll: <SkyCoord (ICRS): (ra, dec) in deg\n",
      "    (80.98676416, -70.09209786)>\n",
      "sky_bbox_lr: <SkyCoord (ICRS): (ra, dec) in deg\n",
      "    (80.98620738, -70.09206402)>\n",
      "sky_bbox_ul: <SkyCoord (ICRS): (ra, dec) in deg\n",
      "    (80.98684545, -70.09194274)>\n",
      "sky_bbox_ur: <SkyCoord (ICRS): (ra, dec) in deg\n",
      "    (80.98628868, -70.0919089)>\n",
      "\n"
     ]
    }
   ],
   "source": [
    "skyobject_list = util.get_object_info(input_model.meta.source_catalog)\n",
    "print(skyobject_list[0])"
   ]
  },
  {
   "cell_type": "code",
   "execution_count": 22,
   "metadata": {},
   "outputs": [
    {
     "data": {
      "text/plain": [
       "971"
      ]
     },
     "execution_count": 22,
     "metadata": {},
     "output_type": "execute_result"
    }
   ],
   "source": [
    "len(skyobject_list)\n"
   ]
  },
  {
   "cell_type": "code",
   "execution_count": 24,
   "metadata": {},
   "outputs": [
    {
     "name": "stderr",
     "output_type": "stream",
     "text": [
      "2020-06-30 22:05:55,502 - stpipe - INFO - Extracting objects < abmag = 18\n",
      "2020-06-30 22:05:55,503 - stpipe - INFO - Getting objects from jw01076006002_0117y_00004_nrcb5_cat.ecsv\n",
      "2020-06-30 22:05:56,424 - stpipe - INFO - Partial order on detector for obj: 10 order: 1\n",
      "2020-06-30 22:05:56,439 - stpipe - INFO - Partial order on detector for obj: 44 order: 1\n",
      "2020-06-30 22:05:56,456 - stpipe - INFO - Partial order on detector for obj: 56 order: 1\n",
      "2020-06-30 22:05:56,489 - stpipe - INFO - Partial order on detector for obj: 103 order: 1\n",
      "2020-06-30 22:05:56,508 - stpipe - INFO - Partial order on detector for obj: 148 order: 1\n",
      "2020-06-30 22:05:56,547 - stpipe - INFO - Partial order on detector for obj: 208 order: 1\n",
      "2020-06-30 22:05:56,566 - stpipe - INFO - Partial order on detector for obj: 265 order: 1\n",
      "2020-06-30 22:05:56,585 - stpipe - INFO - Partial order on detector for obj: 285 order: 1\n",
      "2020-06-30 22:05:56,604 - stpipe - INFO - Partial order on detector for obj: 298 order: 1\n",
      "2020-06-30 22:05:56,624 - stpipe - INFO - Partial order on detector for obj: 299 order: 1\n"
     ]
    },
    {
     "name": "stdout",
     "output_type": "stream",
     "text": [
      "bounding_box set to (14, 51) (-116, 1121)\n",
      "bounding_box set to (85, 113) (956, 2185)\n",
      "bounding_box set to (124, 139) (-710, 508)\n",
      "bounding_box set to (194, 224) (324, 1558)\n",
      "bounding_box set to (230, 291) (-327, 925)\n",
      "bounding_box set to (317, 405) (948, 2283)\n",
      "bounding_box set to (372, 394) (700, 1921)\n",
      "bounding_box set to (452, 475) (-6, 1216)\n",
      "bounding_box set to (574, 591) (-705, 514)\n",
      "bounding_box set to (600, 630) (849, 2084)\n",
      "bounding_box set to (618, 638) (1007, 2229)\n",
      "bounding_box set to (626, 649) (-738, 486)\n"
     ]
    },
    {
     "name": "stderr",
     "output_type": "stream",
     "text": [
      "2020-06-30 22:05:56,647 - stpipe - INFO - Partial order on detector for obj: 318 order: 1\n",
      "2020-06-30 22:05:56,692 - stpipe - INFO - Partial order on detector for obj: 327 order: 1\n",
      "2020-06-30 22:05:56,715 - stpipe - INFO - Partial order on detector for obj: 350 order: 1\n",
      "2020-06-30 22:05:56,739 - stpipe - INFO - Partial order on detector for obj: 351 order: 1\n",
      "2020-06-30 22:05:56,763 - stpipe - INFO - Partial order on detector for obj: 355 order: 1\n",
      "2020-06-30 22:05:56,784 - stpipe - INFO - Partial order on detector for obj: 372 order: 1\n",
      "2020-06-30 22:05:56,826 - stpipe - INFO - Partial order on detector for obj: 403 order: 1\n",
      "2020-06-30 22:05:56,845 - stpipe - INFO - Partial order on detector for obj: 416 order: 1\n"
     ]
    },
    {
     "name": "stdout",
     "output_type": "stream",
     "text": [
      "bounding_box set to (668, 691) (-834, 390)\n",
      "bounding_box set to (673, 703) (397, 1631)\n",
      "bounding_box set to (683, 708) (-327, 902)\n",
      "bounding_box set to (722, 749) (-270, 962)\n",
      "bounding_box set to (725, 750) (-206, 1022)\n",
      "bounding_box set to (734, 765) (-621, 615)\n",
      "bounding_box set to (758, 776) (-892, 323)\n",
      "bounding_box set to (805, 863) (277, 1543)\n",
      "bounding_box set to (824, 848) (-909, 313)\n",
      "bounding_box set to (842, 858) (897, 2117)\n"
     ]
    },
    {
     "name": "stderr",
     "output_type": "stream",
     "text": [
      "2020-06-30 22:05:56,864 - stpipe - INFO - Partial order on detector for obj: 427 order: 1\n",
      "2020-06-30 22:05:56,885 - stpipe - INFO - Partial order on detector for obj: 438 order: 1\n",
      "2020-06-30 22:05:56,922 - stpipe - INFO - Partial order on detector for obj: 518 order: 1\n",
      "2020-06-30 22:05:56,943 - stpipe - INFO - Partial order on detector for obj: 535 order: 1\n",
      "2020-06-30 22:05:57,000 - stpipe - INFO - Partial order on detector for obj: 567 order: 1\n",
      "2020-06-30 22:05:57,017 - stpipe - INFO - Partial order on detector for obj: 573 order: 1\n",
      "2020-06-30 22:05:57,038 - stpipe - INFO - Partial order on detector for obj: 642 order: 1\n",
      "2020-06-30 22:05:57,057 - stpipe - INFO - Partial order on detector for obj: 649 order: 1\n",
      "2020-06-30 22:05:57,077 - stpipe - INFO - Partial order on detector for obj: 650 order: 1\n"
     ]
    },
    {
     "name": "stdout",
     "output_type": "stream",
     "text": [
      "bounding_box set to (880, 901) (-424, 805)\n",
      "bounding_box set to (903, 937) (949, 2184)\n",
      "bounding_box set to (948, 986) (510, 1762)\n",
      "bounding_box set to (1052, 1072) (-597, 621)\n",
      "bounding_box set to (1082, 1135) (-660, 603)\n",
      "bounding_box set to (1087, 1109) (788, 2010)\n",
      "bounding_box set to (1110, 1121) (268, 1477)\n",
      "bounding_box set to (1146, 1174) (-426, 804)\n",
      "bounding_box set to (1182, 1214) (-792, 442)\n",
      "bounding_box set to (1317, 1348) (-601, 634)\n",
      "bounding_box set to (1335, 1366) (-169, 1060)\n",
      "bounding_box set to (1336, 1356) (-213, 1007)\n"
     ]
    },
    {
     "name": "stderr",
     "output_type": "stream",
     "text": [
      "2020-06-30 22:05:57,106 - stpipe - INFO - Partial order on detector for obj: 655 order: 1\n",
      "2020-06-30 22:05:57,130 - stpipe - INFO - Partial order on detector for obj: 665 order: 1\n",
      "2020-06-30 22:05:57,151 - stpipe - INFO - Partial order on detector for obj: 696 order: 1\n",
      "2020-06-30 22:05:57,172 - stpipe - INFO - Partial order on detector for obj: 703 order: 1\n",
      "2020-06-30 22:05:57,234 - stpipe - INFO - Partial order on detector for obj: 759 order: 1\n"
     ]
    },
    {
     "name": "stdout",
     "output_type": "stream",
     "text": [
      "bounding_box set to (1347, 1383) (-827, 408)\n",
      "bounding_box set to (1376, 1414) (-888, 332)\n",
      "bounding_box set to (1420, 1442) (-390, 829)\n",
      "bounding_box set to (1428, 1469) (1047, 2283)\n",
      "bounding_box set to (1521, 1536) (235, 1451)\n",
      "bounding_box set to (1531, 1549) (416, 1633)\n",
      "bounding_box set to (1562, 1599) (-237, 1018)\n",
      "bounding_box set to (1592, 1613) (637, 1861)\n",
      "bounding_box set to (1677, 1698) (633, 1851)\n",
      "bounding_box set to (1680, 1712) (379, 1615)\n",
      "bounding_box set to (1763, 1787) (285, 1507)\n",
      "bounding_box set to (1780, 1816) (101, 1344)\n",
      "bounding_box set to"
     ]
    },
    {
     "name": "stderr",
     "output_type": "stream",
     "text": [
      "2020-06-30 22:05:57,339 - stpipe - INFO - Partial order on detector for obj: 867 order: 1\n",
      "2020-06-30 22:05:57,388 - stpipe - INFO - Partial order on detector for obj: 893 order: 1\n",
      "2020-06-30 22:05:57,419 - stpipe - INFO - Partial order on detector for obj: 910 order: 1\n"
     ]
    },
    {
     "name": "stdout",
     "output_type": "stream",
     "text": [
      " (1782, 1797) (395, 1625)\n",
      "bounding_box set to (1781, 1812) (857, 2094)\n",
      "bounding_box set to (1810, 1833) (76, 1297)\n",
      "bounding_box set to (1828, 1847) (492, 1713)\n",
      "bounding_box set to (1838, 1861) (-551, 674)\n",
      "bounding_box set to (1870, 1900) (582, 1807)\n",
      "bounding_box set to (1876, 1911) (818, 2059)\n",
      "bounding_box set to (1960, 2000) (413, 1644)\n"
     ]
    }
   ],
   "source": [
    "# Create the bounding_box of each object in the dispersed image\n",
    "grism_objects = util.create_grism_bbox(input_model, reference_files,\n",
    "                                       extract_orders=[1],\n",
    "                                       mmag_extract=18)"
   ]
  },
  {
   "cell_type": "code",
   "execution_count": 25,
   "metadata": {},
   "outputs": [
    {
     "name": "stdout",
     "output_type": "stream",
     "text": [
      "number of grism objects: 54\n"
     ]
    }
   ],
   "source": [
    "print('number of grism objects:', len(grism_objects))\n"
   ]
  },
  {
   "cell_type": "code",
   "execution_count": 26,
   "metadata": {},
   "outputs": [
    {
     "name": "stdout",
     "output_type": "stream",
     "text": [
      "id: 10\n",
      "order_bounding {1: ((14, 51), (-116, 1121))}\n",
      "sky_centroid: <SkyCoord (ICRS): (ra, dec) in deg\n",
      "    (80.96058262, -70.08991424)>\n",
      "sky_bbox_ll: <SkyCoord (ICRS): (ra, dec) in deg\n",
      "    (80.96149237, -70.09029352)>\n",
      "sky_bbox_lr: <SkyCoord (ICRS): (ra, dec) in deg\n",
      "    (80.95941744, -70.09016711)>\n",
      "sky_bbox_ur: <SkyCoord (ICRS): (ra, dec) in deg\n",
      "    (80.95975245, -70.08952945)>\n",
      "sky_bbox_ul:<SkyCoord (ICRS): (ra, dec) in deg\n",
      "    (80.96182732, -70.08965586)>\n",
      "xcentroid: 863.9608202943069\n",
      "ycentroid: 33.88426608296754\n",
      "partial_order: {1: True}\n",
      "waverange: {1: (3.696969216, 4.899565197)}\n",
      "\n"
     ]
    }
   ],
   "source": [
    "print(grism_objects[0])"
   ]
  },
  {
   "cell_type": "code",
   "execution_count": 27,
   "metadata": {},
   "outputs": [
    {
     "name": "stdout",
     "output_type": "stream",
     "text": [
      "order, y_bbox, x_bbox\n"
     ]
    },
    {
     "data": {
      "text/plain": [
       "[{1: ((14, 51), (-116, 1121))},\n",
       " {1: ((85, 113), (956, 2185))},\n",
       " {1: ((124, 139), (-710, 508))}]"
      ]
     },
     "execution_count": 27,
     "metadata": {},
     "output_type": "execute_result"
    }
   ],
   "source": [
    "print('order, y_bbox, x_bbox')\n",
    "[g.order_bounding for g in grism_objects[:3]]"
   ]
  },
  {
   "cell_type": "code",
   "execution_count": 28,
   "metadata": {},
   "outputs": [],
   "source": [
    "#x2d = datamodels.open('nrc_dispersed_extract_2d.fits')\n",
    "x2d = datamodels.open('x2d_mmag18.fits')\n"
   ]
  },
  {
   "cell_type": "code",
   "execution_count": 29,
   "metadata": {},
   "outputs": [
    {
     "data": {
      "text/plain": [
       "54"
      ]
     },
     "execution_count": 29,
     "metadata": {},
     "output_type": "execute_result"
    }
   ],
   "source": [
    "len(x2d.slits)\n",
    "#x2d.meta.wcsinfo._instance"
   ]
  },
  {
   "cell_type": "code",
   "execution_count": 30,
   "metadata": {
    "scrolled": false
   },
   "outputs": [
    {
     "data": {
      "application/javascript": [
       "/* Put everything inside the global mpl namespace */\n",
       "window.mpl = {};\n",
       "\n",
       "\n",
       "mpl.get_websocket_type = function() {\n",
       "    if (typeof(WebSocket) !== 'undefined') {\n",
       "        return WebSocket;\n",
       "    } else if (typeof(MozWebSocket) !== 'undefined') {\n",
       "        return MozWebSocket;\n",
       "    } else {\n",
       "        alert('Your browser does not have WebSocket support. ' +\n",
       "              'Please try Chrome, Safari or Firefox ≥ 6. ' +\n",
       "              'Firefox 4 and 5 are also supported but you ' +\n",
       "              'have to enable WebSockets in about:config.');\n",
       "    };\n",
       "}\n",
       "\n",
       "mpl.figure = function(figure_id, websocket, ondownload, parent_element) {\n",
       "    this.id = figure_id;\n",
       "\n",
       "    this.ws = websocket;\n",
       "\n",
       "    this.supports_binary = (this.ws.binaryType != undefined);\n",
       "\n",
       "    if (!this.supports_binary) {\n",
       "        var warnings = document.getElementById(\"mpl-warnings\");\n",
       "        if (warnings) {\n",
       "            warnings.style.display = 'block';\n",
       "            warnings.textContent = (\n",
       "                \"This browser does not support binary websocket messages. \" +\n",
       "                    \"Performance may be slow.\");\n",
       "        }\n",
       "    }\n",
       "\n",
       "    this.imageObj = new Image();\n",
       "\n",
       "    this.context = undefined;\n",
       "    this.message = undefined;\n",
       "    this.canvas = undefined;\n",
       "    this.rubberband_canvas = undefined;\n",
       "    this.rubberband_context = undefined;\n",
       "    this.format_dropdown = undefined;\n",
       "\n",
       "    this.image_mode = 'full';\n",
       "\n",
       "    this.root = $('<div/>');\n",
       "    this._root_extra_style(this.root)\n",
       "    this.root.attr('style', 'display: inline-block');\n",
       "\n",
       "    $(parent_element).append(this.root);\n",
       "\n",
       "    this._init_header(this);\n",
       "    this._init_canvas(this);\n",
       "    this._init_toolbar(this);\n",
       "\n",
       "    var fig = this;\n",
       "\n",
       "    this.waiting = false;\n",
       "\n",
       "    this.ws.onopen =  function () {\n",
       "            fig.send_message(\"supports_binary\", {value: fig.supports_binary});\n",
       "            fig.send_message(\"send_image_mode\", {});\n",
       "            if (mpl.ratio != 1) {\n",
       "                fig.send_message(\"set_dpi_ratio\", {'dpi_ratio': mpl.ratio});\n",
       "            }\n",
       "            fig.send_message(\"refresh\", {});\n",
       "        }\n",
       "\n",
       "    this.imageObj.onload = function() {\n",
       "            if (fig.image_mode == 'full') {\n",
       "                // Full images could contain transparency (where diff images\n",
       "                // almost always do), so we need to clear the canvas so that\n",
       "                // there is no ghosting.\n",
       "                fig.context.clearRect(0, 0, fig.canvas.width, fig.canvas.height);\n",
       "            }\n",
       "            fig.context.drawImage(fig.imageObj, 0, 0);\n",
       "        };\n",
       "\n",
       "    this.imageObj.onunload = function() {\n",
       "        fig.ws.close();\n",
       "    }\n",
       "\n",
       "    this.ws.onmessage = this._make_on_message_function(this);\n",
       "\n",
       "    this.ondownload = ondownload;\n",
       "}\n",
       "\n",
       "mpl.figure.prototype._init_header = function() {\n",
       "    var titlebar = $(\n",
       "        '<div class=\"ui-dialog-titlebar ui-widget-header ui-corner-all ' +\n",
       "        'ui-helper-clearfix\"/>');\n",
       "    var titletext = $(\n",
       "        '<div class=\"ui-dialog-title\" style=\"width: 100%; ' +\n",
       "        'text-align: center; padding: 3px;\"/>');\n",
       "    titlebar.append(titletext)\n",
       "    this.root.append(titlebar);\n",
       "    this.header = titletext[0];\n",
       "}\n",
       "\n",
       "\n",
       "\n",
       "mpl.figure.prototype._canvas_extra_style = function(canvas_div) {\n",
       "\n",
       "}\n",
       "\n",
       "\n",
       "mpl.figure.prototype._root_extra_style = function(canvas_div) {\n",
       "\n",
       "}\n",
       "\n",
       "mpl.figure.prototype._init_canvas = function() {\n",
       "    var fig = this;\n",
       "\n",
       "    var canvas_div = $('<div/>');\n",
       "\n",
       "    canvas_div.attr('style', 'position: relative; clear: both; outline: 0');\n",
       "\n",
       "    function canvas_keyboard_event(event) {\n",
       "        return fig.key_event(event, event['data']);\n",
       "    }\n",
       "\n",
       "    canvas_div.keydown('key_press', canvas_keyboard_event);\n",
       "    canvas_div.keyup('key_release', canvas_keyboard_event);\n",
       "    this.canvas_div = canvas_div\n",
       "    this._canvas_extra_style(canvas_div)\n",
       "    this.root.append(canvas_div);\n",
       "\n",
       "    var canvas = $('<canvas/>');\n",
       "    canvas.addClass('mpl-canvas');\n",
       "    canvas.attr('style', \"left: 0; top: 0; z-index: 0; outline: 0\")\n",
       "\n",
       "    this.canvas = canvas[0];\n",
       "    this.context = canvas[0].getContext(\"2d\");\n",
       "\n",
       "    var backingStore = this.context.backingStorePixelRatio ||\n",
       "\tthis.context.webkitBackingStorePixelRatio ||\n",
       "\tthis.context.mozBackingStorePixelRatio ||\n",
       "\tthis.context.msBackingStorePixelRatio ||\n",
       "\tthis.context.oBackingStorePixelRatio ||\n",
       "\tthis.context.backingStorePixelRatio || 1;\n",
       "\n",
       "    mpl.ratio = (window.devicePixelRatio || 1) / backingStore;\n",
       "\n",
       "    var rubberband = $('<canvas/>');\n",
       "    rubberband.attr('style', \"position: absolute; left: 0; top: 0; z-index: 1;\")\n",
       "\n",
       "    var pass_mouse_events = true;\n",
       "\n",
       "    canvas_div.resizable({\n",
       "        start: function(event, ui) {\n",
       "            pass_mouse_events = false;\n",
       "        },\n",
       "        resize: function(event, ui) {\n",
       "            fig.request_resize(ui.size.width, ui.size.height);\n",
       "        },\n",
       "        stop: function(event, ui) {\n",
       "            pass_mouse_events = true;\n",
       "            fig.request_resize(ui.size.width, ui.size.height);\n",
       "        },\n",
       "    });\n",
       "\n",
       "    function mouse_event_fn(event) {\n",
       "        if (pass_mouse_events)\n",
       "            return fig.mouse_event(event, event['data']);\n",
       "    }\n",
       "\n",
       "    rubberband.mousedown('button_press', mouse_event_fn);\n",
       "    rubberband.mouseup('button_release', mouse_event_fn);\n",
       "    // Throttle sequential mouse events to 1 every 20ms.\n",
       "    rubberband.mousemove('motion_notify', mouse_event_fn);\n",
       "\n",
       "    rubberband.mouseenter('figure_enter', mouse_event_fn);\n",
       "    rubberband.mouseleave('figure_leave', mouse_event_fn);\n",
       "\n",
       "    canvas_div.on(\"wheel\", function (event) {\n",
       "        event = event.originalEvent;\n",
       "        event['data'] = 'scroll'\n",
       "        if (event.deltaY < 0) {\n",
       "            event.step = 1;\n",
       "        } else {\n",
       "            event.step = -1;\n",
       "        }\n",
       "        mouse_event_fn(event);\n",
       "    });\n",
       "\n",
       "    canvas_div.append(canvas);\n",
       "    canvas_div.append(rubberband);\n",
       "\n",
       "    this.rubberband = rubberband;\n",
       "    this.rubberband_canvas = rubberband[0];\n",
       "    this.rubberband_context = rubberband[0].getContext(\"2d\");\n",
       "    this.rubberband_context.strokeStyle = \"#000000\";\n",
       "\n",
       "    this._resize_canvas = function(width, height) {\n",
       "        // Keep the size of the canvas, canvas container, and rubber band\n",
       "        // canvas in synch.\n",
       "        canvas_div.css('width', width)\n",
       "        canvas_div.css('height', height)\n",
       "\n",
       "        canvas.attr('width', width * mpl.ratio);\n",
       "        canvas.attr('height', height * mpl.ratio);\n",
       "        canvas.attr('style', 'width: ' + width + 'px; height: ' + height + 'px;');\n",
       "\n",
       "        rubberband.attr('width', width);\n",
       "        rubberband.attr('height', height);\n",
       "    }\n",
       "\n",
       "    // Set the figure to an initial 600x600px, this will subsequently be updated\n",
       "    // upon first draw.\n",
       "    this._resize_canvas(600, 600);\n",
       "\n",
       "    // Disable right mouse context menu.\n",
       "    $(this.rubberband_canvas).bind(\"contextmenu\",function(e){\n",
       "        return false;\n",
       "    });\n",
       "\n",
       "    function set_focus () {\n",
       "        canvas.focus();\n",
       "        canvas_div.focus();\n",
       "    }\n",
       "\n",
       "    window.setTimeout(set_focus, 100);\n",
       "}\n",
       "\n",
       "mpl.figure.prototype._init_toolbar = function() {\n",
       "    var fig = this;\n",
       "\n",
       "    var nav_element = $('<div/>');\n",
       "    nav_element.attr('style', 'width: 100%');\n",
       "    this.root.append(nav_element);\n",
       "\n",
       "    // Define a callback function for later on.\n",
       "    function toolbar_event(event) {\n",
       "        return fig.toolbar_button_onclick(event['data']);\n",
       "    }\n",
       "    function toolbar_mouse_event(event) {\n",
       "        return fig.toolbar_button_onmouseover(event['data']);\n",
       "    }\n",
       "\n",
       "    for(var toolbar_ind in mpl.toolbar_items) {\n",
       "        var name = mpl.toolbar_items[toolbar_ind][0];\n",
       "        var tooltip = mpl.toolbar_items[toolbar_ind][1];\n",
       "        var image = mpl.toolbar_items[toolbar_ind][2];\n",
       "        var method_name = mpl.toolbar_items[toolbar_ind][3];\n",
       "\n",
       "        if (!name) {\n",
       "            // put a spacer in here.\n",
       "            continue;\n",
       "        }\n",
       "        var button = $('<button/>');\n",
       "        button.addClass('ui-button ui-widget ui-state-default ui-corner-all ' +\n",
       "                        'ui-button-icon-only');\n",
       "        button.attr('role', 'button');\n",
       "        button.attr('aria-disabled', 'false');\n",
       "        button.click(method_name, toolbar_event);\n",
       "        button.mouseover(tooltip, toolbar_mouse_event);\n",
       "\n",
       "        var icon_img = $('<span/>');\n",
       "        icon_img.addClass('ui-button-icon-primary ui-icon');\n",
       "        icon_img.addClass(image);\n",
       "        icon_img.addClass('ui-corner-all');\n",
       "\n",
       "        var tooltip_span = $('<span/>');\n",
       "        tooltip_span.addClass('ui-button-text');\n",
       "        tooltip_span.html(tooltip);\n",
       "\n",
       "        button.append(icon_img);\n",
       "        button.append(tooltip_span);\n",
       "\n",
       "        nav_element.append(button);\n",
       "    }\n",
       "\n",
       "    var fmt_picker_span = $('<span/>');\n",
       "\n",
       "    var fmt_picker = $('<select/>');\n",
       "    fmt_picker.addClass('mpl-toolbar-option ui-widget ui-widget-content');\n",
       "    fmt_picker_span.append(fmt_picker);\n",
       "    nav_element.append(fmt_picker_span);\n",
       "    this.format_dropdown = fmt_picker[0];\n",
       "\n",
       "    for (var ind in mpl.extensions) {\n",
       "        var fmt = mpl.extensions[ind];\n",
       "        var option = $(\n",
       "            '<option/>', {selected: fmt === mpl.default_extension}).html(fmt);\n",
       "        fmt_picker.append(option);\n",
       "    }\n",
       "\n",
       "    // Add hover states to the ui-buttons\n",
       "    $( \".ui-button\" ).hover(\n",
       "        function() { $(this).addClass(\"ui-state-hover\");},\n",
       "        function() { $(this).removeClass(\"ui-state-hover\");}\n",
       "    );\n",
       "\n",
       "    var status_bar = $('<span class=\"mpl-message\"/>');\n",
       "    nav_element.append(status_bar);\n",
       "    this.message = status_bar[0];\n",
       "}\n",
       "\n",
       "mpl.figure.prototype.request_resize = function(x_pixels, y_pixels) {\n",
       "    // Request matplotlib to resize the figure. Matplotlib will then trigger a resize in the client,\n",
       "    // which will in turn request a refresh of the image.\n",
       "    this.send_message('resize', {'width': x_pixels, 'height': y_pixels});\n",
       "}\n",
       "\n",
       "mpl.figure.prototype.send_message = function(type, properties) {\n",
       "    properties['type'] = type;\n",
       "    properties['figure_id'] = this.id;\n",
       "    this.ws.send(JSON.stringify(properties));\n",
       "}\n",
       "\n",
       "mpl.figure.prototype.send_draw_message = function() {\n",
       "    if (!this.waiting) {\n",
       "        this.waiting = true;\n",
       "        this.ws.send(JSON.stringify({type: \"draw\", figure_id: this.id}));\n",
       "    }\n",
       "}\n",
       "\n",
       "\n",
       "mpl.figure.prototype.handle_save = function(fig, msg) {\n",
       "    var format_dropdown = fig.format_dropdown;\n",
       "    var format = format_dropdown.options[format_dropdown.selectedIndex].value;\n",
       "    fig.ondownload(fig, format);\n",
       "}\n",
       "\n",
       "\n",
       "mpl.figure.prototype.handle_resize = function(fig, msg) {\n",
       "    var size = msg['size'];\n",
       "    if (size[0] != fig.canvas.width || size[1] != fig.canvas.height) {\n",
       "        fig._resize_canvas(size[0], size[1]);\n",
       "        fig.send_message(\"refresh\", {});\n",
       "    };\n",
       "}\n",
       "\n",
       "mpl.figure.prototype.handle_rubberband = function(fig, msg) {\n",
       "    var x0 = msg['x0'] / mpl.ratio;\n",
       "    var y0 = (fig.canvas.height - msg['y0']) / mpl.ratio;\n",
       "    var x1 = msg['x1'] / mpl.ratio;\n",
       "    var y1 = (fig.canvas.height - msg['y1']) / mpl.ratio;\n",
       "    x0 = Math.floor(x0) + 0.5;\n",
       "    y0 = Math.floor(y0) + 0.5;\n",
       "    x1 = Math.floor(x1) + 0.5;\n",
       "    y1 = Math.floor(y1) + 0.5;\n",
       "    var min_x = Math.min(x0, x1);\n",
       "    var min_y = Math.min(y0, y1);\n",
       "    var width = Math.abs(x1 - x0);\n",
       "    var height = Math.abs(y1 - y0);\n",
       "\n",
       "    fig.rubberband_context.clearRect(\n",
       "        0, 0, fig.canvas.width / mpl.ratio, fig.canvas.height / mpl.ratio);\n",
       "\n",
       "    fig.rubberband_context.strokeRect(min_x, min_y, width, height);\n",
       "}\n",
       "\n",
       "mpl.figure.prototype.handle_figure_label = function(fig, msg) {\n",
       "    // Updates the figure title.\n",
       "    fig.header.textContent = msg['label'];\n",
       "}\n",
       "\n",
       "mpl.figure.prototype.handle_cursor = function(fig, msg) {\n",
       "    var cursor = msg['cursor'];\n",
       "    switch(cursor)\n",
       "    {\n",
       "    case 0:\n",
       "        cursor = 'pointer';\n",
       "        break;\n",
       "    case 1:\n",
       "        cursor = 'default';\n",
       "        break;\n",
       "    case 2:\n",
       "        cursor = 'crosshair';\n",
       "        break;\n",
       "    case 3:\n",
       "        cursor = 'move';\n",
       "        break;\n",
       "    }\n",
       "    fig.rubberband_canvas.style.cursor = cursor;\n",
       "}\n",
       "\n",
       "mpl.figure.prototype.handle_message = function(fig, msg) {\n",
       "    fig.message.textContent = msg['message'];\n",
       "}\n",
       "\n",
       "mpl.figure.prototype.handle_draw = function(fig, msg) {\n",
       "    // Request the server to send over a new figure.\n",
       "    fig.send_draw_message();\n",
       "}\n",
       "\n",
       "mpl.figure.prototype.handle_image_mode = function(fig, msg) {\n",
       "    fig.image_mode = msg['mode'];\n",
       "}\n",
       "\n",
       "mpl.figure.prototype.updated_canvas_event = function() {\n",
       "    // Called whenever the canvas gets updated.\n",
       "    this.send_message(\"ack\", {});\n",
       "}\n",
       "\n",
       "// A function to construct a web socket function for onmessage handling.\n",
       "// Called in the figure constructor.\n",
       "mpl.figure.prototype._make_on_message_function = function(fig) {\n",
       "    return function socket_on_message(evt) {\n",
       "        if (evt.data instanceof Blob) {\n",
       "            /* FIXME: We get \"Resource interpreted as Image but\n",
       "             * transferred with MIME type text/plain:\" errors on\n",
       "             * Chrome.  But how to set the MIME type?  It doesn't seem\n",
       "             * to be part of the websocket stream */\n",
       "            evt.data.type = \"image/png\";\n",
       "\n",
       "            /* Free the memory for the previous frames */\n",
       "            if (fig.imageObj.src) {\n",
       "                (window.URL || window.webkitURL).revokeObjectURL(\n",
       "                    fig.imageObj.src);\n",
       "            }\n",
       "\n",
       "            fig.imageObj.src = (window.URL || window.webkitURL).createObjectURL(\n",
       "                evt.data);\n",
       "            fig.updated_canvas_event();\n",
       "            fig.waiting = false;\n",
       "            return;\n",
       "        }\n",
       "        else if (typeof evt.data === 'string' && evt.data.slice(0, 21) == \"data:image/png;base64\") {\n",
       "            fig.imageObj.src = evt.data;\n",
       "            fig.updated_canvas_event();\n",
       "            fig.waiting = false;\n",
       "            return;\n",
       "        }\n",
       "\n",
       "        var msg = JSON.parse(evt.data);\n",
       "        var msg_type = msg['type'];\n",
       "\n",
       "        // Call the  \"handle_{type}\" callback, which takes\n",
       "        // the figure and JSON message as its only arguments.\n",
       "        try {\n",
       "            var callback = fig[\"handle_\" + msg_type];\n",
       "        } catch (e) {\n",
       "            console.log(\"No handler for the '\" + msg_type + \"' message type: \", msg);\n",
       "            return;\n",
       "        }\n",
       "\n",
       "        if (callback) {\n",
       "            try {\n",
       "                // console.log(\"Handling '\" + msg_type + \"' message: \", msg);\n",
       "                callback(fig, msg);\n",
       "            } catch (e) {\n",
       "                console.log(\"Exception inside the 'handler_\" + msg_type + \"' callback:\", e, e.stack, msg);\n",
       "            }\n",
       "        }\n",
       "    };\n",
       "}\n",
       "\n",
       "// from http://stackoverflow.com/questions/1114465/getting-mouse-location-in-canvas\n",
       "mpl.findpos = function(e) {\n",
       "    //this section is from http://www.quirksmode.org/js/events_properties.html\n",
       "    var targ;\n",
       "    if (!e)\n",
       "        e = window.event;\n",
       "    if (e.target)\n",
       "        targ = e.target;\n",
       "    else if (e.srcElement)\n",
       "        targ = e.srcElement;\n",
       "    if (targ.nodeType == 3) // defeat Safari bug\n",
       "        targ = targ.parentNode;\n",
       "\n",
       "    // jQuery normalizes the pageX and pageY\n",
       "    // pageX,Y are the mouse positions relative to the document\n",
       "    // offset() returns the position of the element relative to the document\n",
       "    var x = e.pageX - $(targ).offset().left;\n",
       "    var y = e.pageY - $(targ).offset().top;\n",
       "\n",
       "    return {\"x\": x, \"y\": y};\n",
       "};\n",
       "\n",
       "/*\n",
       " * return a copy of an object with only non-object keys\n",
       " * we need this to avoid circular references\n",
       " * http://stackoverflow.com/a/24161582/3208463\n",
       " */\n",
       "function simpleKeys (original) {\n",
       "  return Object.keys(original).reduce(function (obj, key) {\n",
       "    if (typeof original[key] !== 'object')\n",
       "        obj[key] = original[key]\n",
       "    return obj;\n",
       "  }, {});\n",
       "}\n",
       "\n",
       "mpl.figure.prototype.mouse_event = function(event, name) {\n",
       "    var canvas_pos = mpl.findpos(event)\n",
       "\n",
       "    if (name === 'button_press')\n",
       "    {\n",
       "        this.canvas.focus();\n",
       "        this.canvas_div.focus();\n",
       "    }\n",
       "\n",
       "    var x = canvas_pos.x * mpl.ratio;\n",
       "    var y = canvas_pos.y * mpl.ratio;\n",
       "\n",
       "    this.send_message(name, {x: x, y: y, button: event.button,\n",
       "                             step: event.step,\n",
       "                             guiEvent: simpleKeys(event)});\n",
       "\n",
       "    /* This prevents the web browser from automatically changing to\n",
       "     * the text insertion cursor when the button is pressed.  We want\n",
       "     * to control all of the cursor setting manually through the\n",
       "     * 'cursor' event from matplotlib */\n",
       "    event.preventDefault();\n",
       "    return false;\n",
       "}\n",
       "\n",
       "mpl.figure.prototype._key_event_extra = function(event, name) {\n",
       "    // Handle any extra behaviour associated with a key event\n",
       "}\n",
       "\n",
       "mpl.figure.prototype.key_event = function(event, name) {\n",
       "\n",
       "    // Prevent repeat events\n",
       "    if (name == 'key_press')\n",
       "    {\n",
       "        if (event.which === this._key)\n",
       "            return;\n",
       "        else\n",
       "            this._key = event.which;\n",
       "    }\n",
       "    if (name == 'key_release')\n",
       "        this._key = null;\n",
       "\n",
       "    var value = '';\n",
       "    if (event.ctrlKey && event.which != 17)\n",
       "        value += \"ctrl+\";\n",
       "    if (event.altKey && event.which != 18)\n",
       "        value += \"alt+\";\n",
       "    if (event.shiftKey && event.which != 16)\n",
       "        value += \"shift+\";\n",
       "\n",
       "    value += 'k';\n",
       "    value += event.which.toString();\n",
       "\n",
       "    this._key_event_extra(event, name);\n",
       "\n",
       "    this.send_message(name, {key: value,\n",
       "                             guiEvent: simpleKeys(event)});\n",
       "    return false;\n",
       "}\n",
       "\n",
       "mpl.figure.prototype.toolbar_button_onclick = function(name) {\n",
       "    if (name == 'download') {\n",
       "        this.handle_save(this, null);\n",
       "    } else {\n",
       "        this.send_message(\"toolbar_button\", {name: name});\n",
       "    }\n",
       "};\n",
       "\n",
       "mpl.figure.prototype.toolbar_button_onmouseover = function(tooltip) {\n",
       "    this.message.textContent = tooltip;\n",
       "};\n",
       "mpl.toolbar_items = [[\"Home\", \"Reset original view\", \"fa fa-home icon-home\", \"home\"], [\"Back\", \"Back to previous view\", \"fa fa-arrow-left icon-arrow-left\", \"back\"], [\"Forward\", \"Forward to next view\", \"fa fa-arrow-right icon-arrow-right\", \"forward\"], [\"\", \"\", \"\", \"\"], [\"Pan\", \"Pan axes with left mouse, zoom with right\", \"fa fa-arrows icon-move\", \"pan\"], [\"Zoom\", \"Zoom to rectangle\", \"fa fa-square-o icon-check-empty\", \"zoom\"], [\"\", \"\", \"\", \"\"], [\"Download\", \"Download plot\", \"fa fa-floppy-o icon-save\", \"download\"]];\n",
       "\n",
       "mpl.extensions = [\"eps\", \"jpeg\", \"pdf\", \"png\", \"ps\", \"raw\", \"svg\", \"tif\"];\n",
       "\n",
       "mpl.default_extension = \"png\";var comm_websocket_adapter = function(comm) {\n",
       "    // Create a \"websocket\"-like object which calls the given IPython comm\n",
       "    // object with the appropriate methods. Currently this is a non binary\n",
       "    // socket, so there is still some room for performance tuning.\n",
       "    var ws = {};\n",
       "\n",
       "    ws.close = function() {\n",
       "        comm.close()\n",
       "    };\n",
       "    ws.send = function(m) {\n",
       "        //console.log('sending', m);\n",
       "        comm.send(m);\n",
       "    };\n",
       "    // Register the callback with on_msg.\n",
       "    comm.on_msg(function(msg) {\n",
       "        //console.log('receiving', msg['content']['data'], msg);\n",
       "        // Pass the mpl event to the overridden (by mpl) onmessage function.\n",
       "        ws.onmessage(msg['content']['data'])\n",
       "    });\n",
       "    return ws;\n",
       "}\n",
       "\n",
       "mpl.mpl_figure_comm = function(comm, msg) {\n",
       "    // This is the function which gets called when the mpl process\n",
       "    // starts-up an IPython Comm through the \"matplotlib\" channel.\n",
       "\n",
       "    var id = msg.content.data.id;\n",
       "    // Get hold of the div created by the display call when the Comm\n",
       "    // socket was opened in Python.\n",
       "    var element = $(\"#\" + id);\n",
       "    var ws_proxy = comm_websocket_adapter(comm)\n",
       "\n",
       "    function ondownload(figure, format) {\n",
       "        window.open(figure.imageObj.src);\n",
       "    }\n",
       "\n",
       "    var fig = new mpl.figure(id, ws_proxy,\n",
       "                           ondownload,\n",
       "                           element.get(0));\n",
       "\n",
       "    // Call onopen now - mpl needs it, as it is assuming we've passed it a real\n",
       "    // web socket which is closed, not our websocket->open comm proxy.\n",
       "    ws_proxy.onopen();\n",
       "\n",
       "    fig.parent_element = element.get(0);\n",
       "    fig.cell_info = mpl.find_output_cell(\"<div id='\" + id + \"'></div>\");\n",
       "    if (!fig.cell_info) {\n",
       "        console.error(\"Failed to find cell for figure\", id, fig);\n",
       "        return;\n",
       "    }\n",
       "\n",
       "    var output_index = fig.cell_info[2]\n",
       "    var cell = fig.cell_info[0];\n",
       "\n",
       "};\n",
       "\n",
       "mpl.figure.prototype.handle_close = function(fig, msg) {\n",
       "    var width = fig.canvas.width/mpl.ratio\n",
       "    fig.root.unbind('remove')\n",
       "\n",
       "    // Update the output cell to use the data from the current canvas.\n",
       "    fig.push_to_output();\n",
       "    var dataURL = fig.canvas.toDataURL();\n",
       "    // Re-enable the keyboard manager in IPython - without this line, in FF,\n",
       "    // the notebook keyboard shortcuts fail.\n",
       "    IPython.keyboard_manager.enable()\n",
       "    $(fig.parent_element).html('<img src=\"' + dataURL + '\" width=\"' + width + '\">');\n",
       "    fig.close_ws(fig, msg);\n",
       "}\n",
       "\n",
       "mpl.figure.prototype.close_ws = function(fig, msg){\n",
       "    fig.send_message('closing', msg);\n",
       "    // fig.ws.close()\n",
       "}\n",
       "\n",
       "mpl.figure.prototype.push_to_output = function(remove_interactive) {\n",
       "    // Turn the data on the canvas into data in the output cell.\n",
       "    var width = this.canvas.width/mpl.ratio\n",
       "    var dataURL = this.canvas.toDataURL();\n",
       "    this.cell_info[1]['text/html'] = '<img src=\"' + dataURL + '\" width=\"' + width + '\">';\n",
       "}\n",
       "\n",
       "mpl.figure.prototype.updated_canvas_event = function() {\n",
       "    // Tell IPython that the notebook contents must change.\n",
       "    IPython.notebook.set_dirty(true);\n",
       "    this.send_message(\"ack\", {});\n",
       "    var fig = this;\n",
       "    // Wait a second, then push the new image to the DOM so\n",
       "    // that it is saved nicely (might be nice to debounce this).\n",
       "    setTimeout(function () { fig.push_to_output() }, 1000);\n",
       "}\n",
       "\n",
       "mpl.figure.prototype._init_toolbar = function() {\n",
       "    var fig = this;\n",
       "\n",
       "    var nav_element = $('<div/>');\n",
       "    nav_element.attr('style', 'width: 100%');\n",
       "    this.root.append(nav_element);\n",
       "\n",
       "    // Define a callback function for later on.\n",
       "    function toolbar_event(event) {\n",
       "        return fig.toolbar_button_onclick(event['data']);\n",
       "    }\n",
       "    function toolbar_mouse_event(event) {\n",
       "        return fig.toolbar_button_onmouseover(event['data']);\n",
       "    }\n",
       "\n",
       "    for(var toolbar_ind in mpl.toolbar_items){\n",
       "        var name = mpl.toolbar_items[toolbar_ind][0];\n",
       "        var tooltip = mpl.toolbar_items[toolbar_ind][1];\n",
       "        var image = mpl.toolbar_items[toolbar_ind][2];\n",
       "        var method_name = mpl.toolbar_items[toolbar_ind][3];\n",
       "\n",
       "        if (!name) { continue; };\n",
       "\n",
       "        var button = $('<button class=\"btn btn-default\" href=\"#\" title=\"' + name + '\"><i class=\"fa ' + image + ' fa-lg\"></i></button>');\n",
       "        button.click(method_name, toolbar_event);\n",
       "        button.mouseover(tooltip, toolbar_mouse_event);\n",
       "        nav_element.append(button);\n",
       "    }\n",
       "\n",
       "    // Add the status bar.\n",
       "    var status_bar = $('<span class=\"mpl-message\" style=\"text-align:right; float: right;\"/>');\n",
       "    nav_element.append(status_bar);\n",
       "    this.message = status_bar[0];\n",
       "\n",
       "    // Add the close button to the window.\n",
       "    var buttongrp = $('<div class=\"btn-group inline pull-right\"></div>');\n",
       "    var button = $('<button class=\"btn btn-mini btn-primary\" href=\"#\" title=\"Stop Interaction\"><i class=\"fa fa-power-off icon-remove icon-large\"></i></button>');\n",
       "    button.click(function (evt) { fig.handle_close(fig, {}); } );\n",
       "    button.mouseover('Stop Interaction', toolbar_mouse_event);\n",
       "    buttongrp.append(button);\n",
       "    var titlebar = this.root.find($('.ui-dialog-titlebar'));\n",
       "    titlebar.prepend(buttongrp);\n",
       "}\n",
       "\n",
       "mpl.figure.prototype._root_extra_style = function(el){\n",
       "    var fig = this\n",
       "    el.on(\"remove\", function(){\n",
       "\tfig.close_ws(fig, {});\n",
       "    });\n",
       "}\n",
       "\n",
       "mpl.figure.prototype._canvas_extra_style = function(el){\n",
       "    // this is important to make the div 'focusable\n",
       "    el.attr('tabindex', 0)\n",
       "    // reach out to IPython and tell the keyboard manager to turn it's self\n",
       "    // off when our div gets focus\n",
       "\n",
       "    // location in version 3\n",
       "    if (IPython.notebook.keyboard_manager) {\n",
       "        IPython.notebook.keyboard_manager.register_events(el);\n",
       "    }\n",
       "    else {\n",
       "        // location in version 2\n",
       "        IPython.keyboard_manager.register_events(el);\n",
       "    }\n",
       "\n",
       "}\n",
       "\n",
       "mpl.figure.prototype._key_event_extra = function(event, name) {\n",
       "    var manager = IPython.notebook.keyboard_manager;\n",
       "    if (!manager)\n",
       "        manager = IPython.keyboard_manager;\n",
       "\n",
       "    // Check for shift+enter\n",
       "    if (event.shiftKey && event.which == 13) {\n",
       "        this.canvas_div.blur();\n",
       "        // select the cell after this one\n",
       "        var index = IPython.notebook.find_cell_index(this.cell_info[0]);\n",
       "        IPython.notebook.select(index + 1);\n",
       "    }\n",
       "}\n",
       "\n",
       "mpl.figure.prototype.handle_save = function(fig, msg) {\n",
       "    fig.ondownload(fig, null);\n",
       "}\n",
       "\n",
       "\n",
       "mpl.find_output_cell = function(html_output) {\n",
       "    // Return the cell and output element which can be found *uniquely* in the notebook.\n",
       "    // Note - this is a bit hacky, but it is done because the \"notebook_saving.Notebook\"\n",
       "    // IPython event is triggered only after the cells have been serialised, which for\n",
       "    // our purposes (turning an active figure into a static one), is too late.\n",
       "    var cells = IPython.notebook.get_cells();\n",
       "    var ncells = cells.length;\n",
       "    for (var i=0; i<ncells; i++) {\n",
       "        var cell = cells[i];\n",
       "        if (cell.cell_type === 'code'){\n",
       "            for (var j=0; j<cell.output_area.outputs.length; j++) {\n",
       "                var data = cell.output_area.outputs[j];\n",
       "                if (data.data) {\n",
       "                    // IPython >= 3 moved mimebundle to data attribute of output\n",
       "                    data = data.data;\n",
       "                }\n",
       "                if (data['text/html'] == html_output) {\n",
       "                    return [cell, data, j];\n",
       "                }\n",
       "            }\n",
       "        }\n",
       "    }\n",
       "}\n",
       "\n",
       "// Register the function which deals with the matplotlib target/channel.\n",
       "// The kernel may be null if the page has been refreshed.\n",
       "if (IPython.notebook.kernel != null) {\n",
       "    IPython.notebook.kernel.comm_manager.register_target('matplotlib', mpl.mpl_figure_comm);\n",
       "}\n"
      ],
      "text/plain": [
       "<IPython.core.display.Javascript object>"
      ]
     },
     "metadata": {},
     "output_type": "display_data"
    },
    {
     "data": {
      "text/html": [
       "<img src=\"data:image/png;base64,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\" width=\"640\">"
      ],
      "text/plain": [
       "<IPython.core.display.HTML object>"
      ]
     },
     "metadata": {},
     "output_type": "display_data"
    },
    {
     "name": "stdout",
     "output_type": "stream",
     "text": [
      "xstart   1 15\n",
      "bbox ((-0.5, 1121.5), (-0.5, 37.5))\n",
      "xstart   957 86\n",
      "bbox ((-0.5, 1091.5), (-0.5, 28.5))\n",
      "xstart   1 125\n",
      "bbox ((-0.5, 508.5), (-0.5, 15.5))\n",
      "xstart   325 195\n",
      "bbox ((-0.5, 1234.5), (-0.5, 30.5))\n",
      "xstart   1 231\n",
      "bbox ((-0.5, 925.5), (-0.5, 61.5))\n",
      "xstart   949 318\n",
      "bbox ((-0.5, 1099.5), (-0.5, 88.5))\n",
      "xstart   701 373\n",
      "bbox ((-0.5, 1221.5), (-0.5, 22.5))\n",
      "xstart   1 453\n",
      "bbox ((-0.5, 1216.5), (-0.5, 23.5))\n",
      "xstart   1 575\n",
      "bbox ((-0.5, 514.5), (-0.5, 17.5))\n",
      "xstart   850 601\n",
      "bbox ((-0.5, 1198.5), (-0.5, 30.5))\n",
      "xstart   1008 619\n",
      "bbox ((-0.5, 1040.5), (-0.5, 20.5))\n",
      "xstart   1 627\n",
      "bbox ((-0.5, 486.5), (-0.5, 23.5))\n",
      "xstart   1 669\n",
      "bbox ((-0.5, 390.5), (-0.5, 23.5))\n",
      "xstart   398 674\n",
      "bbox ((-0.5, 1234.5), (-0.5, 30.5))\n",
      "xstart   1 684\n",
      "bbox ((-0.5, 902.5), (-0.5, 25.5))\n",
      "xstart   1 723\n",
      "bbox ((-0.5, 962.5), (-0.5, 27.5))\n",
      "xstart   1 726\n",
      "bbox ((-0.5, 1022.5), (-0.5, 25.5))\n",
      "xstart   1 735\n",
      "bbox ((-0.5, 615.5), (-0.5, 31.5))\n",
      "xstart   1 759\n",
      "bbox ((-0.5, 323.5), (-0.5, 18.5))\n",
      "xstart   278 806\n",
      "bbox ((-0.5, 1266.5), (-0.5, 58.5))\n",
      "xstart   1 825\n",
      "bbox ((-0.5, 313.5), (-0.5, 24.5))\n",
      "xstart   898 843\n",
      "bbox ((-0.5, 1150.5), (-0.5, 16.5))\n",
      "xstart   1 881\n",
      "bbox ((-0.5, 805.5), (-0.5, 21.5))\n",
      "xstart   950 904\n",
      "bbox ((-0.5, 1098.5), (-0.5, 34.5))\n",
      "xstart   511 949\n",
      "bbox ((-0.5, 1252.5), (-0.5, 38.5))\n",
      "xstart   1 1053\n",
      "bbox ((-0.5, 621.5), (-0.5, 20.5))\n",
      "xstart   1 1083\n",
      "bbox ((-0.5, 603.5), (-0.5, 53.5))\n",
      "xstart   789 1088\n",
      "bbox ((-0.5, 1222.5), (-0.5, 22.5))\n",
      "xstart   269 1111\n",
      "bbox ((-0.5, 1209.5), (-0.5, 11.5))\n",
      "xstart   1 1147\n",
      "bbox ((-0.5, 804.5), (-0.5, 28.5))\n",
      "xstart   1 1183\n",
      "bbox ((-0.5, 442.5), (-0.5, 32.5))\n",
      "xstart   1 1318\n",
      "bbox ((-0.5, 634.5), (-0.5, 31.5))\n",
      "xstart   1 1336\n",
      "bbox ((-0.5, 1060.5), (-0.5, 31.5))\n",
      "xstart   1 1337\n",
      "bbox ((-0.5, 1007.5), (-0.5, 20.5))\n",
      "xstart   1 1348\n",
      "bbox ((-0.5, 408.5), (-0.5, 36.5))\n",
      "xstart   1 1377\n",
      "bbox ((-0.5, 332.5), (-0.5, 38.5))\n",
      "xstart   1 1421\n",
      "bbox ((-0.5, 829.5), (-0.5, 22.5))\n",
      "xstart   1048 1429\n",
      "bbox ((-0.5, 1000.5), (-0.5, 41.5))\n",
      "xstart   236 1522\n",
      "bbox ((-0.5, 1216.5), (-0.5, 15.5))\n",
      "xstart   417 1532\n",
      "bbox ((-0.5, 1217.5), (-0.5, 18.5))\n",
      "xstart   1 1563\n",
      "bbox ((-0.5, 1018.5), (-0.5, 37.5))\n",
      "xstart   638 1593\n",
      "bbox ((-0.5, 1224.5), (-0.5, 21.5))\n",
      "xstart   634 1678\n",
      "bbox ((-0.5, 1218.5), (-0.5, 21.5))\n",
      "xstart   380 1681\n",
      "bbox ((-0.5, 1236.5), (-0.5, 32.5))\n",
      "xstart   286 1764\n",
      "bbox ((-0.5, 1222.5), (-0.5, 24.5))\n",
      "xstart   102 1781\n",
      "bbox ((-0.5, 1243.5), (-0.5, 36.5))\n",
      "xstart   396 1783\n",
      "bbox ((-0.5, 1230.5), (-0.5, 15.5))\n",
      "xstart   858 1782\n",
      "bbox ((-0.5, 1190.5), (-0.5, 31.5))\n",
      "xstart   77 1811\n",
      "bbox ((-0.5, 1221.5), (-0.5, 23.5))\n",
      "xstart   493 1829\n",
      "bbox ((-0.5, 1221.5), (-0.5, 19.5))\n",
      "xstart   1 1839\n",
      "bbox ((-0.5, 674.5), (-0.5, 23.5))\n",
      "xstart   583 1871\n",
      "bbox ((-0.5, 1225.5), (-0.5, 30.5))\n",
      "xstart   819 1877\n",
      "bbox ((-0.5, 1229.5), (-0.5, 35.5))\n",
      "xstart   414 1961\n",
      "bbox ((-0.5, 1231.5), (-0.5, 40.5))\n"
     ]
    },
    {
     "data": {
      "text/plain": [
       "<matplotlib.collections.PathCollection at 0x1377f8748>"
      ]
     },
     "execution_count": 30,
     "metadata": {},
     "output_type": "execute_result"
    }
   ],
   "source": [
    "ax = plt.subplot(111)\n",
    "plt.gray()\n",
    "\n",
    "for slit in x2d.slits:\n",
    "    bbox = slit.meta.wcs.bounding_box\n",
    "    xstart, ystart = slit.xstart, slit.ystart\n",
    "    print('xstart  ', xstart, ystart)\n",
    "    print('bbox', bbox)\n",
    "    ax.add_patch(patches.Rectangle((bbox[0][0]+xstart, bbox[1][0]+ystart), \n",
    "                                   bbox[0][1]-bbox[0][0], bbox[1][1]-bbox[1][0], edgecolor='g',\n",
    "                                  fill=False))\n",
    "    #ax.add_patch(patches.Rectangle((bbox[0][0], bbox[1][0]), \n",
    "    #                               bbox[0][1]-bbox[0][0], bbox[1][1]-bbox[1][0], edgecolor='g',\n",
    "    #                               fill=False))\n",
    "    \n",
    "ax.imshow(input_model.data, aspect='auto', vmin=-.4, vmax=4, origin='lower')\n",
    "pos = np.array([(s.source_xpos, s.source_ypos) for s in x2d.slits])\n",
    "ax.scatter(pos[:,0], pos[:,1], c='r',)"
   ]
  },
  {
   "cell_type": "code",
   "execution_count": 35,
   "metadata": {},
   "outputs": [
    {
     "name": "stdout",
     "output_type": "stream",
     "text": [
      "bbox ((-0.5, 1121.5), (-0.5, 37.5)) 1 15\n"
     ]
    }
   ],
   "source": [
    "s0 = x2d.slits[0]\n",
    "bbox = s0.meta.wcs.bounding_box\n",
    "xstart, ystart = s0.xstart, s0.ystart\n",
    "print('bbox', bbox, xstart, ystart)"
   ]
  },
  {
   "cell_type": "code",
   "execution_count": 36,
   "metadata": {
    "scrolled": false
   },
   "outputs": [
    {
     "name": "stderr",
     "output_type": "stream",
     "text": [
      "2020-06-30 22:14:36,249 - stpipe - WARNING - /anaconda3/envs/astropy41dev/lib/python3.6/site-packages/ipykernel_launcher.py:1: MatplotlibDeprecationWarning: Adding an axes using the same arguments as a previous axes currently reuses the earlier instance.  In a future version, a new instance will always be created and returned.  Meanwhile, this warning can be suppressed, and the future behavior ensured, by passing a unique label to each axes instance.\n",
      "  \"\"\"Entry point for launching an IPython kernel.\n",
      "\n"
     ]
    },
    {
     "data": {
      "text/plain": [
       "<matplotlib.collections.PathCollection at 0x137e9b630>"
      ]
     },
     "execution_count": 36,
     "metadata": {},
     "output_type": "execute_result"
    }
   ],
   "source": [
    "ax = plt.subplot(111)\n",
    "\n",
    "ax.add_patch(patches.Rectangle((bbox[0][0], bbox[1][0]), \n",
    "                                bbox[0][1]-bbox[0][0], bbox[1][1]-bbox[1][0], edgecolor='g',\n",
    "                                fill=False))\n",
    "plt.imshow(s0.data, origin='lower')\n",
    "plt.scatter(s0.source_xpos-xstart, s0.source_ypos-ystart, c='r')"
   ]
  },
  {
   "cell_type": "markdown",
   "metadata": {},
   "source": [
    "#### extract_1d\n",
    "\n",
    "The photometric correction is done before extract_1d is run.\n",
    "\n",
    "The extraction region is taken to be the full size of the input subarray or cutout, or it could be restricted to the region within which the world coordinate system is defined. \n",
    "\n",
    "Optimal extraction is not implemented in the pipeline yet."
   ]
  },
  {
   "cell_type": "markdown",
   "metadata": {},
   "source": [
    "### The grism transforms in detail"
   ]
  },
  {
   "cell_type": "code",
   "execution_count": null,
   "metadata": {},
   "outputs": [],
   "source": [
    "\n",
    "\n",
    "order = 1\n",
    "xmodel = invdispx[order -1]\n",
    "ymodel = dispy[order-1]\n",
    "lmodel = displ[order-1]"
   ]
  },
  {
   "cell_type": "code",
   "execution_count": null,
   "metadata": {},
   "outputs": [],
   "source": [
    "t = xmodel(x-x0)\n",
    "dy = ymodel(t)\n",
    "wav = lmodel(t)\n",
    "print(x0, y0+dy, wav, order,t)"
   ]
  },
  {
   "cell_type": "code",
   "execution_count": null,
   "metadata": {},
   "outputs": [],
   "source": [
    "# inverse\n",
    "t = lmodel(wav)\n",
    "dx = xmodel(t)\n",
    "dy = ymodel(t)\n",
    "# return x+dx, y+dy, x, y, order\n",
    "print(dx, dy, x, y, order)"
   ]
  },
  {
   "cell_type": "code",
   "execution_count": null,
   "metadata": {},
   "outputs": [],
   "source": [
    "# Compute the **t** parameter described in grismconf. \n",
    "# For a row dispersed image it is xdirect - x0\n",
    "tmodel = astmath.SubtractUfunc() | xmodel\n",
    "\n",
    "# The displacement in y is computed by passing **t** as input to the dispy polynomial\n",
    "\n",
    "dy = tmodel| ymodel\n",
    "dl = tmodel | lmodel\n",
    "\n",
    "# inputs are xirect, ydirect, x0, y0, order\n",
    "\n",
    "model = Mapping((0, 2, 0, 2, 2, 3, 4)) | \\\n",
    "\n",
    "# inputs are xdirect, x0,     xdirect, x0,      x0, y0, order\n",
    "        (tmodel | ymodel) & (tmodel | lmodel) & Identity(3) |\\\n",
    "\n",
    "# inputs are dy, dl, x0, y0, order\n",
    "        Mapping((2, 3, 0, 1, 4)) | \\\n",
    "\n",
    "# inputs are x0,     y0, dy,                dl, order\n",
    "        Identity(1) & astmath.AddUfunc() &  Identity(2)\n",
    "\n",
    "# outputs are x0, y0 + dy, dl, order)"
   ]
  },
  {
   "cell_type": "code",
   "execution_count": null,
   "metadata": {},
   "outputs": [],
   "source": [
    "print(dispy)"
   ]
  },
  {
   "cell_type": "code",
   "execution_count": null,
   "metadata": {},
   "outputs": [],
   "source": []
  }
 ],
 "metadata": {
  "kernelspec": {
   "display_name": "Python 3",
   "language": "python",
   "name": "python3"
  },
  "language_info": {
   "codemirror_mode": {
    "name": "ipython",
    "version": 3
   },
   "file_extension": ".py",
   "mimetype": "text/x-python",
   "name": "python",
   "nbconvert_exporter": "python",
   "pygments_lexer": "ipython3",
   "version": "3.6.10"
  }
 },
 "nbformat": 4,
 "nbformat_minor": 4
}
