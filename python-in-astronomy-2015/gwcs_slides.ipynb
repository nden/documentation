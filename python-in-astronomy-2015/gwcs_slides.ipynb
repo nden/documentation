{
 "cells": [
  {
   "cell_type": "markdown",
   "metadata": {
    "slideshow": {
     "slide_type": "subslide"
    }
   },
   "source": [
    "# Generalized World Coordinate System\n",
    "\n",
    "## Nadia Dencheva\n",
    "\n",
    "## Perry Greenfield, Mike Droettboom\n",
    "\n",
    "\n",
    "\n",
    "\n",
    "\n",
    "\n",
    "\n",
    "#####Python in Astronomy Workshop\n",
    "#####Leiden, 2015"
   ]
  },
  {
   "cell_type": "markdown",
   "metadata": {
    "slideshow": {
     "slide_type": "slide"
    }
   },
   "source": [
    "## Goals"
   ]
  },
  {
   "cell_type": "markdown",
   "metadata": {
    "slideshow": {
     "slide_type": "subslide"
    }
   },
   "source": [
    "- Provide a much more **flexible** WCS toolkit than is possible with the FITS standard\n",
    "\n",
    "  - Include all transformations from detector to a standard coordinate system\n",
    "  - Combine transforms in an efficient way such that resampling is done as little as possible\n",
    "  - Allow the pipeline of coordinate transforms, as well as the individual transforms, to be easily manipulated\n",
    "  - Handle cases involving discontinuous WCS models, e.g., IFU data\n",
    "  - Allow quantities that affect transforms to be treated as input coordinates, e.g., spectral order, slit position, date, etc."
   ]
  },
  {
   "cell_type": "markdown",
   "metadata": {
    "slideshow": {
     "slide_type": "subslide"
    }
   },
   "source": [
    "-  Provide a framework which is easy to **extend**\n",
    "\n",
    "  - A number of common coordinate transforms are implemented in astropy.modeling\n",
    "    - Any other python executable (callable object or function) can be used \n",
    "\n",
    "  - Coordinate frames use the astropy.coordinates framework"
   ]
  },
  {
   "cell_type": "markdown",
   "metadata": {
    "slideshow": {
     "slide_type": "slide"
    }
   },
   "source": [
    "## Combined models in astropy.modeling since v 1.0"
   ]
  },
  {
   "cell_type": "code",
   "execution_count": 16,
   "metadata": {
    "collapsed": true,
    "slideshow": {
     "slide_type": "subslide"
    }
   },
   "outputs": [],
   "source": [
    "from astropy.modeling.models import Shift, Scale, Polynomial1D, Polynomial2D\n",
    "\n",
    "shift = Shift(1)\n",
    "scale = Scale(2)\n",
    "poly = Polynomial1D(1, c0=1.2, c1=2.3)"
   ]
  },
  {
   "cell_type": "markdown",
   "metadata": {
    "slideshow": {
     "slide_type": "subslide"
    }
   },
   "source": [
    "- Binary arithmetic operations with models"
   ]
  },
  {
   "cell_type": "code",
   "execution_count": 17,
   "metadata": {
    "collapsed": false,
    "slideshow": {
     "slide_type": "fragment"
    }
   },
   "outputs": [
    {
     "name": "stdout",
     "output_type": "stream",
     "text": [
      "3.73333333333\n"
     ]
    }
   ],
   "source": [
    "  model = (shift + poly) * scale / poly\n",
    "  print model(1.2)"
   ]
  },
  {
   "cell_type": "markdown",
   "metadata": {
    "slideshow": {
     "slide_type": "subslide"
    }
   },
   "source": [
    "- model composition - the output of one model is passed as input to the next model"
   ]
  },
  {
   "cell_type": "code",
   "execution_count": 18,
   "metadata": {
    "collapsed": false,
    "slideshow": {
     "slide_type": "fragment"
    }
   },
   "outputs": [
    {
     "name": "stdout",
     "output_type": "stream",
     "text": [
      "6.26\n"
     ]
    }
   ],
   "source": [
    "  model = shift | poly\n",
    "  print model(1.2)"
   ]
  },
  {
   "cell_type": "markdown",
   "metadata": {
    "slideshow": {
     "slide_type": "subslide"
    }
   },
   "source": [
    "- model concatenation, i.e. combine coordinate transforms on independent coordinates as a multi-coordinate transform\n"
   ]
  },
  {
   "cell_type": "code",
   "execution_count": 19,
   "metadata": {
    "collapsed": false,
    "slideshow": {
     "slide_type": "fragment"
    }
   },
   "outputs": [
    {
     "name": "stdout",
     "output_type": "stream",
     "text": [
      "(2.0, 12.0)\n"
     ]
    }
   ],
   "source": [
    "  model = Shift(1) & Shift(2)\n",
    "  print model(1, 10)"
   ]
  },
  {
   "cell_type": "markdown",
   "metadata": {
    "slideshow": {
     "slide_type": "subslide"
    }
   },
   "source": [
    "- axes management\n",
    "\n",
    "  - modeling.models.Mapping\n",
    "  - modeling.models.Identity\n",
    "    "
   ]
  },
  {
   "cell_type": "code",
   "execution_count": 24,
   "metadata": {
    "collapsed": false,
    "slideshow": {
     "slide_type": "subslide"
    }
   },
   "outputs": [
    {
     "name": "stdout",
     "output_type": "stream",
     "text": [
      "('mapping.n_inputs:', 2)\n",
      "('mapping.n_ouputs:', 4)\n"
     ]
    }
   ],
   "source": [
    "    from astropy.modeling.models import Mapping, Identity    \n",
    "    \n",
    "    x, y = (1, 10)\n",
    "    poly_x = Polynomial2D(degree=1, c0_0=1, c0_1=2, c1_0=2.1)\n",
    "    poly_y = Polynomial2D(degree=4, c0_0=5, c1_0=1.2, c0_1=2)\n",
    "    poly = poly_x & poly_y\n",
    "    \n",
    "    mapping = Mapping((0, 1, 0, 1))\n",
    "    print(\"mapping.n_inputs:\", mapping.n_inputs)\n",
    "    print(\"mapping.n_ouputs:\", mapping.n_outputs)\n",
    "    "
   ]
  },
  {
   "cell_type": "code",
   "execution_count": 25,
   "metadata": {
    "collapsed": false,
    "slideshow": {
     "slide_type": "fragment"
    }
   },
   "outputs": [
    {
     "name": "stdout",
     "output_type": "stream",
     "text": [
      "(23.1, 26.2)\n"
     ]
    }
   ],
   "source": [
    "    model = mapping | poly\n",
    "    print(model(x, y))\n",
    "    "
   ]
  },
  {
   "cell_type": "code",
   "execution_count": 30,
   "metadata": {
    "collapsed": false,
    "slideshow": {
     "slide_type": "fragment"
    }
   },
   "outputs": [
    {
     "name": "stdout",
     "output_type": "stream",
     "text": [
      "(1.2, 3.0)\n"
     ]
    }
   ],
   "source": [
    "    mapping = Mapping((0, 2), n_inputs=3)\n",
    "    print mapping(1.2, 2, 3)\n",
    "    "
   ]
  },
  {
   "cell_type": "code",
   "execution_count": 31,
   "metadata": {
    "collapsed": false,
    "slideshow": {
     "slide_type": "fragment"
    }
   },
   "outputs": [
    {
     "name": "stdout",
     "output_type": "stream",
     "text": [
      "(2.2, 2.0)\n"
     ]
    }
   ],
   "source": [
    "    model = Shift(1.2) & Identity(1)\n",
    "    print model(1, 2)"
   ]
  },
  {
   "cell_type": "markdown",
   "metadata": {
    "collapsed": true,
    "slideshow": {
     "slide_type": "slide"
    }
   },
   "source": [
    "This is a work in progress\n",
    "\n",
    "- Create tools around the basic functionality\n",
    "- Fully develop the coordinate frames\n",
    "- Integrate it with regions\n",
    "\n",
    "Source : https://github.com/spacetelescope/gwcs\n",
    "\n",
    "Documentation: http://gwcs.readthedocs.org/en/latest/"
   ]
  },
  {
   "cell_type": "code",
   "execution_count": null,
   "metadata": {
    "collapsed": true
   },
   "outputs": [],
   "source": []
  }
 ],
 "metadata": {
  "celltoolbar": "Slideshow",
  "kernelspec": {
   "display_name": "Python 2",
   "language": "python",
   "name": "python2"
  },
  "language_info": {
   "codemirror_mode": {
    "name": "ipython",
    "version": 2
   },
   "file_extension": ".py",
   "mimetype": "text/x-python",
   "name": "python",
   "nbconvert_exporter": "python",
   "pygments_lexer": "ipython2",
   "version": "2.7.9"
  }
 },
 "nbformat": 4,
 "nbformat_minor": 0
}
