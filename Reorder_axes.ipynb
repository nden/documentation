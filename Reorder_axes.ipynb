{
 "cells": [
  {
   "cell_type": "code",
   "execution_count": 1,
   "metadata": {},
   "outputs": [],
   "source": [
    "from gwcs import coordinate_frames as cf, wcs\n",
    "from astropy import coordinates as coord\n",
    "from astropy import units as u\n",
    "from astropy.time import Time\n",
    "from astropy.modeling import models\n",
    "from astropy.tests.helper import assert_quantity_allclose\n",
    "\n",
    "from numpy.testing import assert_allclose"
   ]
  },
  {
   "cell_type": "code",
   "execution_count": 2,
   "metadata": {},
   "outputs": [],
   "source": [
    "slit = cf.CoordinateFrame(naxes=1, axes_type='SPATIAL', axes_order=(0,),\n",
    "                          axes_names=('slit',), unit=u.pix)\n",
    "\n",
    "spec=cf.SpectralFrame(name='wave', unit=[u.m,], axes_order=(0,),\n",
    "                      axes_names=('lambda',))\n"
   ]
  },
  {
   "cell_type": "code",
   "execution_count": 3,
   "metadata": {},
   "outputs": [
    {
     "ename": "ValueError",
     "evalue": "Incorrect numbering of axes, axes_order should contain unique numbers, got [0, 0].",
     "output_type": "error",
     "traceback": [
      "\u001b[0;31m---------------------------------------------------------------------------\u001b[0m",
      "\u001b[0;31mValueError\u001b[0m                                Traceback (most recent call last)",
      "\u001b[0;32m<ipython-input-3-911de209bf81>\u001b[0m in \u001b[0;36m<module>\u001b[0;34m\u001b[0m\n\u001b[1;32m      1\u001b[0m \u001b[0;31m# correctly errors\u001b[0m\u001b[0;34m\u001b[0m\u001b[0;34m\u001b[0m\u001b[0;34m\u001b[0m\u001b[0m\n\u001b[0;32m----> 2\u001b[0;31m \u001b[0mcf\u001b[0m\u001b[0;34m.\u001b[0m\u001b[0mCompositeFrame\u001b[0m\u001b[0;34m(\u001b[0m\u001b[0;34m[\u001b[0m\u001b[0mslit\u001b[0m\u001b[0;34m,\u001b[0m \u001b[0mspec\u001b[0m\u001b[0;34m]\u001b[0m\u001b[0;34m)\u001b[0m\u001b[0;34m\u001b[0m\u001b[0;34m\u001b[0m\u001b[0m\n\u001b[0m\u001b[1;32m      3\u001b[0m \u001b[0;34m\u001b[0m\u001b[0m\n\u001b[1;32m      4\u001b[0m \u001b[0;31m# axes_order is used to define the oredring of the rest of the attributes\u001b[0m\u001b[0;34m\u001b[0m\u001b[0;34m\u001b[0m\u001b[0;34m\u001b[0m\u001b[0m\n",
      "\u001b[0;32m~/dev/gwcs/gwcs/coordinate_frames.py\u001b[0m in \u001b[0;36m__init__\u001b[0;34m(self, frames, name)\u001b[0m\n\u001b[1;32m    580\u001b[0m                 \u001b[0mph_type\u001b[0m\u001b[0;34m[\u001b[0m\u001b[0mind\u001b[0m\u001b[0;34m]\u001b[0m \u001b[0;34m=\u001b[0m \u001b[0mpht\u001b[0m\u001b[0;34m\u001b[0m\u001b[0;34m\u001b[0m\u001b[0m\n\u001b[1;32m    581\u001b[0m         \u001b[0;32mif\u001b[0m \u001b[0mlen\u001b[0m\u001b[0;34m(\u001b[0m\u001b[0mnp\u001b[0m\u001b[0;34m.\u001b[0m\u001b[0munique\u001b[0m\u001b[0;34m(\u001b[0m\u001b[0maxes_order\u001b[0m\u001b[0;34m)\u001b[0m\u001b[0;34m)\u001b[0m \u001b[0;34m!=\u001b[0m \u001b[0mlen\u001b[0m\u001b[0;34m(\u001b[0m\u001b[0maxes_order\u001b[0m\u001b[0;34m)\u001b[0m\u001b[0;34m:\u001b[0m\u001b[0;34m\u001b[0m\u001b[0;34m\u001b[0m\u001b[0m\n\u001b[0;32m--> 582\u001b[0;31m             raise ValueError(\"Incorrect numbering of axes, \"\n\u001b[0m\u001b[1;32m    583\u001b[0m                              \u001b[0;34m\"axes_order should contain unique numbers, \"\u001b[0m\u001b[0;34m\u001b[0m\u001b[0;34m\u001b[0m\u001b[0m\n\u001b[1;32m    584\u001b[0m                              \"got {}.\".format(axes_order))\n",
      "\u001b[0;31mValueError\u001b[0m: Incorrect numbering of axes, axes_order should contain unique numbers, got [0, 0]."
     ]
    }
   ],
   "source": [
    "# correctly errors\n",
    "cf.CompositeFrame([slit, spec])\n",
    "\n",
    "# axes_order is used to define the oredring of the rest of the attributes\n"
   ]
  },
  {
   "cell_type": "markdown",
   "metadata": {},
   "source": [
    "\n",
    "Current issues\n",
    "\n",
    "- When Celestial axes are swapped, CelestialFrame.coordinates() does not work - **fixed now**\n",
    "\n",
    "- Mixed cooridnates ra, lam, dec - **fixed now**"
   ]
  },
  {
   "cell_type": "code",
   "execution_count": 4,
   "metadata": {},
   "outputs": [
    {
     "name": "stdout",
     "output_type": "stream",
     "text": [
      "[<Quantity 4. m>, <SkyCoord (ICRS): (ra, dec) in deg\n",
      "    (3., 2.)>]\n",
      "('SPATIAL', 'SPATIAL', 'SPECTRAL')\n"
     ]
    }
   ],
   "source": [
    "spec1=cf.SpectralFrame(name='wave', unit=[u.m,], axes_order=(2,),\n",
    "                      axes_names=('lambda',))\n",
    "cel1=cf.CelestialFrame(reference_frame=coord.ICRS(), axes_order=(1,0))\n",
    "comp=cf.CompositeFrame([spec1, cel1]) # this should be fixed --> inconsistency \n",
    "# between frames order and axes_order, perhaps just raise an error?\n",
    "\n",
    "print(comp.coordinates(2,3,4))\n",
    "print(comp.axes_type)\n",
    "# Note that the order of the frames does not matter, the ordering of axes_order does"
   ]
  },
  {
   "cell_type": "code",
   "execution_count": 5,
   "metadata": {},
   "outputs": [
    {
     "data": {
      "text/plain": [
       "[<SkyCoord (ICRS): (ra, dec) in deg\n",
       "     (4., 2.)>,\n",
       " <Quantity 3. m>]"
      ]
     },
     "execution_count": 5,
     "metadata": {},
     "output_type": "execute_result"
    }
   ],
   "source": [
    "cel2 = cf.CelestialFrame(reference_frame=coord.ICRS(), axes_order=(2, 0))\n",
    "spec2=cf.SpectralFrame(name='wave', unit=[u.m,], axes_order=(1,),\n",
    "                      axes_names=('lambda',))\n",
    "comp=cf.CompositeFrame([cel2, spec2])\n",
    "comp.coordinates(2,3,4)"
   ]
  },
  {
   "cell_type": "code",
   "execution_count": 6,
   "metadata": {},
   "outputs": [
    {
     "data": {
      "text/plain": [
       "('SPATIAL', 'SPECTRAL', 'SPATIAL')"
      ]
     },
     "execution_count": 6,
     "metadata": {},
     "output_type": "execute_result"
    }
   ],
   "source": [
    "comp.axes_type"
   ]
  },
  {
   "cell_type": "code",
   "execution_count": 7,
   "metadata": {},
   "outputs": [
    {
     "data": {
      "text/plain": [
       "<SkyCoord (ICRS): (ra, dec) in deg\n",
       "    (5., 4.)>"
      ]
     },
     "execution_count": 7,
     "metadata": {},
     "output_type": "execute_result"
    }
   ],
   "source": [
    "model_2d_shift = models.Shift(1) & models.Shift(2)\n",
    "out_frame = cf.CelestialFrame(reference_frame=coord.ICRS(), axes_order=(1, 0))\n",
    "w = wcs.WCS(model_2d_shift, output_frame=out_frame)\n",
    "assert_allclose(model_2d_shift(3, 3), (4.0, 5.0))\n",
    "result = w(3, 3, with_units=True)\n",
    "result\n",
    "#assert result == coord.SkyCoord(5., 4., unit=(u.deg, u.deg))"
   ]
  },
  {
   "cell_type": "code",
   "execution_count": 8,
   "metadata": {},
   "outputs": [
    {
     "data": {
      "text/plain": [
       "[<SkyCoord (ICRS): (ra, dec) in deg\n",
       "     (3., 1.)>,\n",
       " <Quantity 2. m>]"
      ]
     },
     "execution_count": 8,
     "metadata": {},
     "output_type": "execute_result"
    }
   ],
   "source": [
    "icrs = cf.CelestialFrame(reference_frame=coord.ICRS(), axes_order=(2, 0))\n",
    "spec = cf.SpectralFrame(name='wave', unit=[u.m,], axes_order=(1,), axes_names=('lambda',))\n",
    "output_frame = cf.CompositeFrame(frames=[icrs, spec])\n",
    "assert output_frame.axes_order == (2, 0, 1)\n",
    "assert output_frame.axes_names == ('lat', 'lambda', 'lon')\n",
    "w = wcs.WCS(forward_transform=models.Identity(3), output_frame=output_frame)\n",
    "assert w(1,2,3) == (1,2 ,3)\n",
    "w(1,2,3, with_units=True)"
   ]
  },
  {
   "cell_type": "code",
   "execution_count": 9,
   "metadata": {},
   "outputs": [],
   "source": [
    "slit = cf.CoordinateFrame(naxes=1, axes_type='SPATIAL', axes_order=(0,),\n",
    "                          axes_names=('slit',), unit=u.pix)\n",
    "\n",
    "spec=cf.SpectralFrame(name='wave', unit=[u.m,], axes_order=(1,),\n",
    "                      axes_names=('lambda',))\n",
    "output_frame = cf.CompositeFrame(frames=[slit, spec])\n",
    "w = wcs.WCS(forward_transform=models.Identity(2), output_frame=output_frame)\n",
    "result = w(1, 2, with_units=True)\n",
    "assert_quantity_allclose(result[0], 1*u.pix)\n",
    "assert_quantity_allclose(result[1], 2*u.m)"
   ]
  },
  {
   "cell_type": "code",
   "execution_count": 10,
   "metadata": {},
   "outputs": [
    {
     "data": {
      "text/plain": [
       "[<Quantity 1. m>, (<Quantity 2. pix>,)]"
      ]
     },
     "execution_count": 10,
     "metadata": {},
     "output_type": "execute_result"
    }
   ],
   "source": [
    "slit = cf.CoordinateFrame(naxes=1, axes_type='SPATIAL', axes_order=(1,),\n",
    "                          axes_names=('slit',), unit=u.pix)\n",
    "\n",
    "spec=cf.SpectralFrame(name='wave', unit=[u.m,], axes_order=(0,),\n",
    "                      axes_names=('lambda',))\n",
    "output_frame = cf.CompositeFrame(frames=[spec, slit])\n",
    "w = wcs.WCS(forward_transform=models.Identity(2), output_frame=output_frame)\n",
    "result = w(1, 2, with_units=True)\n",
    "result\n",
    "#assert_quantity_allclose(result[0], 1*u.m)\n",
    "#assert_quantity_allclose(result[1], 2*u.m)"
   ]
  },
  {
   "cell_type": "code",
   "execution_count": 11,
   "metadata": {},
   "outputs": [],
   "source": [
    "cel=cf.CelestialFrame(reference_frame=coord.ICRS(), axes_order=(0,1))"
   ]
  },
  {
   "cell_type": "code",
   "execution_count": null,
   "metadata": {},
   "outputs": [],
   "source": []
  },
  {
   "cell_type": "code",
   "execution_count": null,
   "metadata": {},
   "outputs": [],
   "source": [
    "\n",
    "def reorder_axes(self, coofr, axes_order):\n",
    "    # again problem is list of frames\n",
    "    self.insert_transform(Mapping(axes_order), before=coofr)\n",
    "    self.coofr\n",
    "\n",
    "    "
   ]
  }
 ],
 "metadata": {
  "kernelspec": {
   "display_name": "Python 3",
   "language": "python",
   "name": "python3"
  },
  "language_info": {
   "codemirror_mode": {
    "name": "ipython",
    "version": 3
   },
   "file_extension": ".py",
   "mimetype": "text/x-python",
   "name": "python",
   "nbconvert_exporter": "python",
   "pygments_lexer": "ipython3",
   "version": "3.8.5"
  }
 },
 "nbformat": 4,
 "nbformat_minor": 4
}
