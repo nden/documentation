{
 "cells": [
  {
   "cell_type": "markdown",
   "id": "dc769042",
   "metadata": {},
   "source": [
    "# Intro to the Advanced Scientific Data Format (ASDF)\n"
   ]
  },
  {
   "cell_type": "markdown",
   "id": "32f82995",
   "metadata": {},
   "source": [
    "## Outline\n",
    "\n",
    "- Why a new data format?\n",
    "- ASDF Standard features\n",
    "- Who uses it?\n",
    "- Working with existing ASDF files\n",
    "  - Read a file\n",
    "  - Show the contents of an ASDF file\n",
    "  - Search for an attribute in an ASDF file\n",
    "  - Accessing metadata and data\n",
    "  - Modifying and saving files\n",
    "  - Exercise\n",
    "  - *Adding History items*\n",
    "  - *Compression*\n",
    "- *Command line interface*\n"
   ]
  },
  {
   "cell_type": "markdown",
   "id": "f4d3b708",
   "metadata": {},
   "source": [
    "### The Need For a New Data Format\n",
    "\n",
    "What's wrong with FITS?\n",
    "\n",
    "  FITS served the astronomical community very well for many years. However, with the advanace of new instrumentation, development of algorithms and increased size of data and data volume it appears to be more problematic than helpful. The issues with FITS have been documented in a paper by B. Thomas, et al. (Learning from FITS: Limitations in use in modern astronomical research, Astron. Comput. (2015), 10.1016/j.ascom.2015.01.009, arXiv:1502.00996v2).\n",
    "  \n",
    "  The specific motivation for developing the standard was that FITS WCS conventions proved basically unusable for raw HST data that included complex distortion models and that required high accuracy. The experience with HST showed that those conventions will not work with the much more complex JWST WCS transforms.\n",
    "  "
   ]
  },
  {
   "cell_type": "markdown",
   "id": "87c3882c",
   "metadata": {},
   "source": [
    "### Main Features of ASDF\n",
    "\n",
    "\n",
    "- It has a hierarchical metadata structure, made up of basic dynamic data types such as strings, numbers, lists and mappings.\n",
    "\n",
    "- Attribute names and values are not constrained by size as is the case for FITS header cards.\n",
    "\n",
    "- It has human-readable metadata that can be edited directly in place in the file.\n",
    "\n",
    "- The structure of the files can be automatically validated using associated schema files.\n",
    "\n",
    "- It’s designed for extensibility: new conventions may be used without breaking backward compatibility with tools that do not understand those conventions. Versioning systems are used to prevent conflicting with alternative conventions.\n",
    "\n",
    "- The binary array data (when compression is not used) is a raw memory dump, and techniques such as memory mapping can be used to efficiently access it.\n",
    "\n",
    "- It is possible to read and write the file in as a stream, without requiring random access.\n",
    "\n",
    "- It’s built on top of industry standards, such as YAML and JSON Schema to take advantage of a larger community\n",
    "working on the core problems of data representation. This also makes it easier to support ASDF in new programming languages and environments by building on top of existing libraries.\n",
    "\n",
    "- Since every ASDF file has the version of the specification to which it is written, it will be possible, through careful planning, to evolve the ASDF format over time, allowing for files that use new features while retaining backward compatibility with older tools."
   ]
  },
  {
   "cell_type": "markdown",
   "id": "c865ea32",
   "metadata": {},
   "source": [
    "### Implementation Status\n",
    "\n",
    "The current version of the **standard is 1.5.0.**\n",
    "\n",
    "There is a Python reference implementation that supports the standard, the library is called **asdf**.\n",
    "\n",
    "Future plans include a C/C++ (a partial implementation exists) and possibly an IDL implementation.\n"
   ]
  },
  {
   "cell_type": "markdown",
   "id": "528c84a6",
   "metadata": {},
   "source": [
    "### Who Uses ASDF?\n",
    "\n",
    "- The JWST calibration pipeline uses data models based on ASDF to abstract out the serialization format. The WCS describing the unresampled data is serialized using ASDF.\n",
    "\n",
    "- ASDF will be the data format for the Nancy Grace Roman Space Telescope. \n",
    "\n",
    "- Daniel K Inoue Solar Telescope (DKIST) is using ASDF for serializing the World Coordinate System.\n",
    "\n",
    "- Used by the Vera Rubin Telescope as a WCS exchange format.\n",
    "\n",
    "- There are other non-institutional projects using it in astronomy and other fields. "
   ]
  },
  {
   "cell_type": "markdown",
   "id": "a31c7d5c",
   "metadata": {},
   "source": [
    "### Anatomy of an ASDF file\n",
    "\n",
    "ASDF is a hybrid text and binary format. The general layout of the file is\n",
    "- header\n",
    "- tree (optional)\n",
    "  The tree is a dictionary. Most Python types can be serialized directly, using YAML, as {key: value} pairs in the tree. \n",
    "- binary blocks (optional)\n",
    "- binary block index (optional)\n",
    "\n",
    "The header, tree and block index are text, while the blocks are raw binary.\n",
    "\n"
   ]
  },
  {
   "cell_type": "markdown",
   "id": "892aab60",
   "metadata": {},
   "source": [
    "### Reading an ASDF file\n",
    "\n",
    "The Python ASDF library is a standalone package distributed through PyPi and conda-forge.\n"
   ]
  },
  {
   "cell_type": "code",
   "execution_count": 1,
   "id": "ec270343",
   "metadata": {},
   "outputs": [],
   "source": [
    "import asdf"
   ]
  },
  {
   "cell_type": "markdown",
   "id": "ef8b28cc",
   "metadata": {},
   "source": [
    "To open a file use the **open** function. It is useful to look up the keyword arguments it accepts, there are many options specifying how a file should be opened or validated during opening. For this example we will use the default behavior and look at the object."
   ]
  },
  {
   "cell_type": "code",
   "execution_count": 2,
   "id": "6986cf41",
   "metadata": {},
   "outputs": [],
   "source": [
    "af = asdf.open('example.asdf')"
   ]
  },
  {
   "cell_type": "code",
   "execution_count": 3,
   "id": "bcb917cd",
   "metadata": {},
   "outputs": [
    {
     "name": "stdout",
     "output_type": "stream",
     "text": [
      "<asdf.asdf.AsdfFile object at 0x7f8ae82a93d0>\n"
     ]
    }
   ],
   "source": [
    "print(af)"
   ]
  },
  {
   "cell_type": "code",
   "execution_count": 4,
   "id": "f086d2f5",
   "metadata": {},
   "outputs": [
    {
     "data": {
      "text/plain": [
       "{'asdf_library': {'author': 'The ASDF Developers',\n",
       "  'homepage': 'http://github.com/asdf-format/asdf',\n",
       "  'name': 'asdf',\n",
       "  'version': '2.11.2.dev13+gf9aeb247'},\n",
       " 'history': {'extensions': [{'extension_class': 'asdf.extension.BuiltinExtension',\n",
       "    'software': {'name': 'asdf', 'version': '2.11.2.dev13+gf9aeb247'}},\n",
       "   {'extension_class': 'asdf.extension._manifest.ManifestExtension',\n",
       "    'extension_uri': 'asdf://asdf-format.org/transform/extensions/transform-1.5.0',\n",
       "    'software': {'name': 'asdf-astropy', 'version': '0.2.1'}}]},\n",
       " 'data': <array (unloaded) shape: [5, 6] dtype: float64>,\n",
       " 'meta': {'date': '2022-06-01T16:34:22.059',\n",
       "  'instrument': {'detector': 'NRCA', 'filter': 'FW100W', 'name': 'NIRCAM'},\n",
       "  'model1': <Chebyshev2D(1, 1, c0_0=0.1, c1_0=0.2, c0_1=0.3, c1_1=0.4)>,\n",
       "  'model2': <Chebyshev2D(1, 1, c0_0=0.1, c1_0=0.2, c0_1=0.3, c1_1=0.4)>,\n",
       "  'telescope': 'JWST'}}"
      ]
     },
     "execution_count": 4,
     "metadata": {},
     "output_type": "execute_result"
    }
   ],
   "source": [
    "af.tree"
   ]
  },
  {
   "cell_type": "markdown",
   "id": "6ac4d5af",
   "metadata": {},
   "source": [
    "### Getting information about a file\n",
    "\n",
    "There are two functions that allow introspecting a file, **info** and **search**. They are available as methods on the **AsdFile** object or on the command line. Both are configurable through multiple parameters.\n"
   ]
  },
  {
   "cell_type": "code",
   "execution_count": 5,
   "id": "e522a7aa",
   "metadata": {},
   "outputs": [],
   "source": [
    "af.info?"
   ]
  },
  {
   "cell_type": "code",
   "execution_count": 6,
   "id": "ef306779",
   "metadata": {},
   "outputs": [],
   "source": [
    "af.search?"
   ]
  },
  {
   "cell_type": "code",
   "execution_count": 7,
   "id": "93ab541c",
   "metadata": {},
   "outputs": [
    {
     "name": "stdout",
     "output_type": "stream",
     "text": [
      "\u001b[1mroot\u001b[0m (AsdfObject)\n",
      "\u001b[2m├─\u001b[0m\u001b[1masdf_library\u001b[0m (Software)\n",
      "\u001b[2m│ ├─\u001b[0m\u001b[1mauthor\u001b[0m (str): The ASDF Developers\n",
      "\u001b[2m│ ├─\u001b[0m\u001b[1mhomepage\u001b[0m (str): http://github.com/asdf-format/asdf\n",
      "\u001b[2m│ ├─\u001b[0m\u001b[1mname\u001b[0m (str): asdf\n",
      "\u001b[2m│ └─\u001b[0m\u001b[1mversion\u001b[0m (str): 2.11.2.dev13+gf9aeb247\n",
      "\u001b[2m├─\u001b[0m\u001b[1mhistory\u001b[0m (dict)\n",
      "\u001b[2m│ └─\u001b[0m\u001b[1mextensions\u001b[0m (list)\n",
      "\u001b[2m│   ├─\u001b[0m[\u001b[1m0\u001b[0m] (ExtensionMetadata)\n",
      "\u001b[2m│   │ ├─\u001b[0m\u001b[1mextension_class\u001b[0m (str): asdf.extension.BuiltinExtension\n",
      "\u001b[2m│   │ └─\u001b[0m\u001b[1msoftware\u001b[0m (Software)\u001b[3m ...\u001b[0m\n",
      "\u001b[2m│   └─\u001b[0m[\u001b[1m1\u001b[0m] (ExtensionMetadata)\u001b[3m ...\u001b[0m\n",
      "\u001b[2m├─\u001b[0m\u001b[1mdata\u001b[0m (NDArrayType): shape=(5, 6), dtype=float64\n",
      "\u001b[2m└─\u001b[0m\u001b[1mmeta\u001b[0m (dict)\n",
      "\u001b[2m  ├─\u001b[0m\u001b[1mdate\u001b[0m (str): 2022-06-01T16:34:22.059\n",
      "\u001b[2m  ├─\u001b[0m\u001b[1minstrument\u001b[0m (dict)\n",
      "\u001b[2m  │ ├─\u001b[0m\u001b[1mdetector\u001b[0m (str): NRCA\n",
      "\u001b[2m  │ ├─\u001b[0m\u001b[1mfilter\u001b[0m (str): FW100W\n",
      "\u001b[2m  │ └─\u001b[0m\u001b[1mname\u001b[0m (str): NIRCAM\n",
      "\u001b[2m  ├─\u001b[0m\u001b[1mmodel1\u001b[0m (Chebyshev2D)\n",
      "\u001b[2m  ├─\u001b[0m\u001b[1mmodel2\u001b[0m (Chebyshev2D)\n",
      "\u001b[2m  └─\u001b[0m\u001b[1mtelescope\u001b[0m (str): JWST\n",
      "\u001b[2m\u001b[3mSome nodes not shown.\u001b[0m\u001b[0m\n"
     ]
    }
   ],
   "source": [
    "af.info()"
   ]
  },
  {
   "cell_type": "markdown",
   "id": "cdcfe760",
   "metadata": {},
   "source": [
    "ASDF is a human readable format, so let's look at the file on disk. There are several things worth pointing out.\n",
    "\n",
    "\n",
    "- An ASDF file has a header which records the version of the ASDF Standard used to write out the file.\n",
    "\n",
    "- The information about the instrument configuration is stored in one self-contained section.\n",
    "\n",
    "- The data array is listed as \"unloaded\" (shown above in the Python tree). By default asdf uses lazy loading when opening files. Arrays are loaded into memory only when accessed. This behaviour can be changed through a parameter.\n",
    "\n",
    "- The description of the data array is within the tree but the binary block and the binary block index are at the end of the file.\n",
    "\n",
    "- The \"date\" attribute is serialized in isot format. When the file is read in with the Python library, an astropy Time object is directly created.\n",
    "\n",
    "- (Un)serializing astropy models works in the same way - a model is created in memory when the file is read in.\n",
    "\n",
    "- When the same object is serialized to disk, it is not copied in the file. Rather a reference to it is created using YAML anchors. In this example **&id002** is the definition of the chebyshev2D model. ***id002** is serialzed as attribute *model2* and is a reference to the original definition of the model."
   ]
  },
  {
   "cell_type": "code",
   "execution_count": null,
   "id": "9ccd51b3",
   "metadata": {},
   "outputs": [],
   "source": [
    "#!less example.asdf\n",
    "'''\n",
    "#ASDF 1.0.0                              \n",
    "#ASDF_STANDARD 1.5.0                    \n",
    "%YAML 1.1                         \n",
    "%TAG ! tag:stsci.edu:asdf/                 \n",
    "--- !core/asdf-1.1.0                       \n",
    "asdf_library: !core/software-1.0.0 {author: The ASDF Developers, homepage: 'http://github.com/asdf-format/asdf',\n",
    "  name: asdf, version: 2.11.2.dev13+gf9aeb247}\n",
    "history:\n",
    "  extensions:\n",
    "  - !core/extension_metadata-1.0.0\n",
    "    extension_class: asdf.extension.BuiltinExtension\n",
    "    software: !core/software-1.0.0 {name: asdf, version: 2.11.2.dev13+gf9aeb247}\n",
    "  - !core/extension_metadata-1.0.0\n",
    "    extension_class: asdf.extension._manifest.ManifestExtension\n",
    "    extension_uri: asdf://asdf-format.org/transform/extensions/transform-1.5.0\n",
    "    software: !core/software-1.0.0 {name: asdf-astropy, version: 0.2.1}\n",
    "data: !core/ndarray-1.0.0\n",
    "  source: 0\n",
    "  datatype: float64\n",
    "  byteorder: little\n",
    "  shape: [5, 6]\n",
    "meta:\n",
    "  date: '2022-05-31T13:29:12.748'\n",
    "  instrument: {detector: NRCA, filter: FW100W, name: NIRCAM}\n",
    "  model1: &id002 !transform/ortho_polynomial-1.0.0\n",
    "    coefficients: !core/ndarray-1.0.0\n",
    "      source: 1\n",
    "      datatype: float64\n",
    "      byteorder: little\n",
    "      shape: [2, 2]\n",
    "    inputs: [x, y]\n",
    "    outputs: [z]\n",
    "    polynomial_type: chebyshev\n",
    "    window:\n",
    "    - &id001 [-1, 1]\n",
    "    - *id001\n",
    "  model2: *id002\n",
    "  telescope: JWST\n",
    "...\n",
    "<D3>BLK^@0^@^@^@^@^@^@^@^@^@^@^@^@^@^@^H^@^@^@^@^@^@^@^H^@^@^@^@^@^@^@^H^@<BD>Gb\n",
    "<E1>.<EB>?<FA><B8><C7>i/<C7><E1><BF>\n",
    "<99><99><99><99><99><C9>?<9A><99><99><99><99><99><D9>?#ASDF BLOCK INDEX\n",
    "%YAML 1.1\n",
    "---\n",
    "- 1215\n",
    "- 3317\n",
    "...\n",
    "\n",
    "'''"
   ]
  },
  {
   "cell_type": "markdown",
   "id": "3e35978f",
   "metadata": {},
   "source": [
    "The **asdf** library has search capabilities. A file can be search for an attribute by name, type or value."
   ]
  },
  {
   "cell_type": "code",
   "execution_count": 9,
   "id": "49d2a6e6",
   "metadata": {},
   "outputs": [
    {
     "data": {
      "text/plain": [
       "\u001b[1mroot\u001b[0m (AsdfObject)\n",
       "\u001b[2m└─\u001b[0m\u001b[1mmeta\u001b[0m (dict)\n",
       "\u001b[2m  ├─\u001b[0m\u001b[1mmodel1\u001b[0m (Chebyshev2D)\n",
       "\u001b[2m  └─\u001b[0m\u001b[1mmodel2\u001b[0m (Chebyshev2D)"
      ]
     },
     "execution_count": 9,
     "metadata": {},
     "output_type": "execute_result"
    }
   ],
   "source": [
    "from astropy.modeling.core import Model\n",
    "\n",
    "af.search(type=Model)"
   ]
  },
  {
   "cell_type": "code",
   "execution_count": 10,
   "id": "3944743c",
   "metadata": {},
   "outputs": [
    {
     "data": {
      "text/plain": [
       "\u001b[1mroot\u001b[0m (AsdfObject)\n",
       "\u001b[2m└─\u001b[0m\u001b[1mmeta\u001b[0m (dict)\n",
       "\u001b[2m  ├─\u001b[0m\u001b[1mmodel1\u001b[0m (Chebyshev2D)\n",
       "\u001b[2m  └─\u001b[0m\u001b[1mmodel2\u001b[0m (Chebyshev2D)"
      ]
     },
     "execution_count": 10,
     "metadata": {},
     "output_type": "execute_result"
    }
   ],
   "source": [
    "af.search('model')"
   ]
  },
  {
   "cell_type": "markdown",
   "id": "8b3e6e38",
   "metadata": {},
   "source": [
    "#### Accessing and Modifying a file\n"
   ]
  },
  {
   "cell_type": "code",
   "execution_count": 11,
   "id": "fa6541e9",
   "metadata": {},
   "outputs": [
    {
     "name": "stdout",
     "output_type": "stream",
     "text": [
      "2022-06-01T16:34:22.059\n"
     ]
    }
   ],
   "source": [
    "print(af['meta']['date'])"
   ]
  },
  {
   "cell_type": "markdown",
   "id": "0a381e06",
   "metadata": {},
   "source": [
    "Reading an custom serialized object creates the object in memory.\n",
    "\n",
    "For example, the model saved in the file can be directly evaluated."
   ]
  },
  {
   "cell_type": "code",
   "execution_count": 12,
   "id": "21b4bc7b",
   "metadata": {},
   "outputs": [],
   "source": [
    "chebyshev = af['meta']['model1']"
   ]
  },
  {
   "cell_type": "code",
   "execution_count": 13,
   "id": "d2ee6d01",
   "metadata": {},
   "outputs": [
    {
     "data": {
      "text/plain": [
       "<class 'astropy.modeling.polynomial.Chebyshev2D'>\n",
       "Name: Chebyshev2D (OrthoPolynomialBase)\n",
       "N_inputs: 2\n",
       "N_outputs: 1\n",
       "Fittable parameters: <property object at 0x7f8b1a667360>"
      ]
     },
     "execution_count": 13,
     "metadata": {},
     "output_type": "execute_result"
    }
   ],
   "source": [
    "type(chebyshev)"
   ]
  },
  {
   "cell_type": "code",
   "execution_count": 14,
   "id": "b35ccdf6",
   "metadata": {},
   "outputs": [
    {
     "data": {
      "text/plain": [
       "1.9780000000000002"
      ]
     },
     "execution_count": 14,
     "metadata": {},
     "output_type": "execute_result"
    }
   ],
   "source": [
    "chebyshev(1.2, 2.1)"
   ]
  },
  {
   "cell_type": "code",
   "execution_count": 15,
   "id": "bd8cc87c",
   "metadata": {},
   "outputs": [
    {
     "name": "stdout",
     "output_type": "stream",
     "text": [
      "[[ 1.00000000e+02  6.82245734e-01 -2.98389550e-01  5.14005486e-01\n",
      "  -1.10249540e+00 -4.35345418e-01]\n",
      " [-3.59395950e-02  5.68040474e-01  8.69830342e-02  1.71662611e+00\n",
      "  -8.94540622e-02  1.79363333e-01]\n",
      " [-1.02320839e-02  8.06388959e-01  6.04275392e-01  3.91118220e-02\n",
      "   8.00726809e-01 -8.91474365e-01]\n",
      " [-4.09661617e-01  4.51147659e-01  1.09377565e+00  5.77306930e-01\n",
      "   1.00588173e+00  2.44444703e-01]\n",
      " [ 2.67706405e-01 -2.15643764e+00  2.76001987e-01 -1.14983575e+00\n",
      "   2.93941246e-01 -1.19135198e+00]]\n"
     ]
    }
   ],
   "source": [
    "print(af['data'])"
   ]
  },
  {
   "cell_type": "code",
   "execution_count": 16,
   "id": "868c0ea2",
   "metadata": {},
   "outputs": [
    {
     "ename": "ValueError",
     "evalue": "assignment destination is read-only",
     "output_type": "error",
     "traceback": [
      "\u001b[0;31m---------------------------------------------------------------------------\u001b[0m",
      "\u001b[0;31mValueError\u001b[0m                                Traceback (most recent call last)",
      "Input \u001b[0;32mIn [16]\u001b[0m, in \u001b[0;36m<cell line: 1>\u001b[0;34m()\u001b[0m\n\u001b[0;32m----> 1\u001b[0m af[\u001b[38;5;124m'\u001b[39m\u001b[38;5;124mdata\u001b[39m\u001b[38;5;124m'\u001b[39m][\u001b[38;5;241m0\u001b[39m,\u001b[38;5;241m0\u001b[39m] \u001b[38;5;241m=\u001b[39m \u001b[38;5;241m100\u001b[39m\n",
      "File \u001b[0;32m~/opt/anaconda3/envs/sdp/lib/python3.9/site-packages/asdf/tags/core/ndarray.py:365\u001b[0m, in \u001b[0;36mNDArrayType.__setitem__\u001b[0;34m(self, *args)\u001b[0m\n\u001b[1;32m    363\u001b[0m \u001b[38;5;28;01mexcept\u001b[39;00m \u001b[38;5;167;01mException\u001b[39;00m \u001b[38;5;28;01mas\u001b[39;00m e:\n\u001b[1;32m    364\u001b[0m     \u001b[38;5;28mself\u001b[39m\u001b[38;5;241m.\u001b[39m_array \u001b[38;5;241m=\u001b[39m \u001b[38;5;28;01mNone\u001b[39;00m\n\u001b[0;32m--> 365\u001b[0m     \u001b[38;5;28;01mraise\u001b[39;00m e \u001b[38;5;28;01mfrom\u001b[39;00m \u001b[38;5;28mNone\u001b[39m\n",
      "File \u001b[0;32m~/opt/anaconda3/envs/sdp/lib/python3.9/site-packages/asdf/tags/core/ndarray.py:362\u001b[0m, in \u001b[0;36mNDArrayType.__setitem__\u001b[0;34m(self, *args)\u001b[0m\n\u001b[1;32m    357\u001b[0m \u001b[38;5;28;01mdef\u001b[39;00m \u001b[38;5;21m__setitem__\u001b[39m(\u001b[38;5;28mself\u001b[39m, \u001b[38;5;241m*\u001b[39margs):\n\u001b[1;32m    358\u001b[0m     \u001b[38;5;66;03m# This workaround appears to be necessary in order to avoid a segfault\u001b[39;00m\n\u001b[1;32m    359\u001b[0m     \u001b[38;5;66;03m# in the case that array assignment causes an exception. The segfault\u001b[39;00m\n\u001b[1;32m    360\u001b[0m     \u001b[38;5;66;03m# originates from the call to __repr__ inside the traceback report.\u001b[39;00m\n\u001b[1;32m    361\u001b[0m     \u001b[38;5;28;01mtry\u001b[39;00m:\n\u001b[0;32m--> 362\u001b[0m         \u001b[38;5;28;43mself\u001b[39;49m\u001b[38;5;241;43m.\u001b[39;49m\u001b[43m_make_array\u001b[49m\u001b[43m(\u001b[49m\u001b[43m)\u001b[49m\u001b[38;5;241;43m.\u001b[39;49m\u001b[38;5;21;43m__setitem__\u001b[39;49m\u001b[43m(\u001b[49m\u001b[38;5;241;43m*\u001b[39;49m\u001b[43margs\u001b[49m\u001b[43m)\u001b[49m\n\u001b[1;32m    363\u001b[0m     \u001b[38;5;28;01mexcept\u001b[39;00m \u001b[38;5;167;01mException\u001b[39;00m \u001b[38;5;28;01mas\u001b[39;00m e:\n\u001b[1;32m    364\u001b[0m         \u001b[38;5;28mself\u001b[39m\u001b[38;5;241m.\u001b[39m_array \u001b[38;5;241m=\u001b[39m \u001b[38;5;28;01mNone\u001b[39;00m\n",
      "\u001b[0;31mValueError\u001b[0m: assignment destination is read-only"
     ]
    }
   ],
   "source": [
    "af['data'][0,0] = 100"
   ]
  },
  {
   "cell_type": "markdown",
   "id": "bb49d1cc",
   "metadata": {},
   "source": [
    "By default a file is opened in **r** mode. Once it's opened in **rw** mode, it can be modified."
   ]
  },
  {
   "cell_type": "code",
   "execution_count": 17,
   "id": "bc719c85",
   "metadata": {},
   "outputs": [
    {
     "name": "stdout",
     "output_type": "stream",
     "text": [
      "[[ 1.00000000e+02  6.82245734e-01 -2.98389550e-01  5.14005486e-01\n",
      "  -1.10249540e+00 -4.35345418e-01]\n",
      " [-3.59395950e-02  5.68040474e-01  8.69830342e-02  1.71662611e+00\n",
      "  -8.94540622e-02  1.79363333e-01]\n",
      " [-1.02320839e-02  8.06388959e-01  6.04275392e-01  3.91118220e-02\n",
      "   8.00726809e-01 -8.91474365e-01]\n",
      " [-4.09661617e-01  4.51147659e-01  1.09377565e+00  5.77306930e-01\n",
      "   1.00588173e+00  2.44444703e-01]\n",
      " [ 2.67706405e-01 -2.15643764e+00  2.76001987e-01 -1.14983575e+00\n",
      "   2.93941246e-01 -1.19135198e+00]]\n"
     ]
    }
   ],
   "source": [
    "af.close()\n",
    "\n",
    "af_rw = asdf.open('example.asdf', mode='rw')\n",
    "\n",
    "af_rw['data'][0,0] = 100\n",
    "\n",
    "print(af_rw['data'])\n",
    "af_rw.write_to('example_rw.asdf')"
   ]
  },
  {
   "cell_type": "markdown",
   "id": "ec8d5d74",
   "metadata": {},
   "source": [
    "### Exercise 1\n",
    "\n",
    "Using the asdf library open the file provided with the tutorial (**r0000000.asdf**)\n",
    "The file is a simulated image from the Nancy Grace Roman WFI instrument (courtesy of the Roman Instrument Team at STScI).\n",
    "\n",
    "- Use the **info** and **search** methods to look at the contents of the file.\n",
    "- Find the **wcs** attribute.\n",
    "- Evaluate the WCS object for some pixel coordinates wihtin the image to calculate the RA, DEC.\n",
    "\n",
    "  Hint: \n",
    "  - The WCS object is represented using the Generalized World Coordinate System (GWCS) library. It can be evaluated by calling it as a function.\n",
    "  - GWCS supports the *Astropy Common WCS API*. Use *wcs.pixel_to_world()* to evaluate the same coordinates. The result is an *astropy.coordinates.SkyCoord* object. Use it to transform the result to Galactic cooridnates.\n",
    "  \n"
   ]
  },
  {
   "cell_type": "markdown",
   "id": "d80b3661",
   "metadata": {},
   "source": [
    "### Compression\n",
    "\n",
    "ASDF supports array compression. The currently supported compression types are **zlib**, **bzp2**, **lz4** .\n",
    "\n",
    "To specify which compression algorithm to use, pass the code to the *set_array_compression* method."
   ]
  },
  {
   "cell_type": "code",
   "execution_count": 18,
   "id": "82392ced",
   "metadata": {},
   "outputs": [],
   "source": [
    "import numpy as np\n",
    "\n",
    "ar_zeros = np.zeros((4000, 4000))\n",
    "af_rw.set_array_compression(ar_zeros, 'bzp2')"
   ]
  },
  {
   "cell_type": "code",
   "execution_count": 19,
   "id": "18b291f1",
   "metadata": {},
   "outputs": [],
   "source": [
    "af_rw.write_to('compressed.asdf')"
   ]
  },
  {
   "cell_type": "markdown",
   "id": "797f367c",
   "metadata": {},
   "source": [
    "### Adding *History* items"
   ]
  },
  {
   "cell_type": "code",
   "execution_count": 21,
   "id": "a1ccdb3a",
   "metadata": {},
   "outputs": [],
   "source": [
    "af_rw.add_history_entry(\"This file was generated during AAS 240\")"
   ]
  },
  {
   "cell_type": "markdown",
   "id": "ad7a45f1",
   "metadata": {},
   "source": [
    "### Conclusion\n",
    "\n",
    "#### Summary\n",
    "\n",
    "The python library includes optionally extensions which are able to serialize certain astropy objects - models, coordinate frames, units and quantities, tables. It can serialize GWCS objects.\n",
    "\n",
    "ASDF can serialized custom types, called *tags*. A little work is needed to write *Converters*, which handle the serialization to and deserialization from ASDF files.\n",
    "\n",
    "The source code for the current extensions is on Github: https://github.com/asdf-format and in the GWCS library at https://github.com/spacetelescope/gwcs.\n",
    "\n",
    "#### What we didn't cover \n",
    "\n",
    "ASDF is extensible. It is relatively easy to write an extension which serializes any other Python object. Tutorials are available at https://github.com/asdf-format/tutorials .\n",
    "\n",
    "ASDF supports compression and there is a mechanism to add custom compression algorithms.\n",
    "\n",
    "ASDF uses JSON schema to validate the contents of the files. If used this is a powerful way to make sure files are correct. \n",
    "\n",
    "There's a command line tool **asdftool** which does many of the operations we've shown outside the Python interpreter. Check the options using **asdftool --help**.\n",
    "\n",
    "ASDF supports the so called **exploded form**. ASDF files can be split into one for the YAML content and one for each of the binary blocks contained within the file, facilitating easier editor access to the YAML, and independent program access to the binary data.\n",
    "\n",
    "#### Documentation\n",
    "\n",
    "The ASDF standard is documented at  https://asdf-standard.readthedocs.io/en/1.0.2/\n",
    "\n",
    "Documentation of the Python library is at https://asdf.readthedocs.io/en/stable/\n",
    "\n",
    "Additional ASDF documentation on various extensions and converters can be found at\n",
    "\n",
    "https://asdf-astropy.readthedocs.io/en/latest/\n",
    "\n",
    "\n",
    "#### Future work\n",
    "\n",
    "- Add support for chunking arrays using **zarr**\n",
    "\n",
    "- Add support for efficient access of large files in the cloud\n",
    "\n",
    "- Visualization suport\n",
    "\n",
    "- A C/C++ library, an IDL library?\n",
    "\n",
    "- Add more compression options\n"
   ]
  },
  {
   "cell_type": "markdown",
   "id": "962d8db2",
   "metadata": {},
   "source": [
    "### The code used to create *example.asdf* from scratch"
   ]
  },
  {
   "cell_type": "code",
   "execution_count": 22,
   "id": "42e7adfc",
   "metadata": {},
   "outputs": [],
   "source": [
    "# Create a Time object in isot format\n",
    "from astropy import time as atime\n",
    "t = atime.Time.now().isot\n",
    "\n",
    "# Create the data array\n",
    "import numpy as np\n",
    "data = np.random.randn(30).reshape((5, 6))\n",
    "\n",
    "# Create a Chebyshev 2D polynomial\n",
    "from astropy.modeling.models import *\n",
    "p = Chebyshev2D(1, 1)\n",
    "p.parameters = .1, .2, .3, .4\n"
   ]
  },
  {
   "cell_type": "code",
   "execution_count": 23,
   "id": "f58b1fe7",
   "metadata": {},
   "outputs": [],
   "source": [
    "\"\"\"\n",
    "- Create an empty AsdfFile object\n",
    "- Assign the attributes, choosing to assign metadata under a top level *meta* attribute\n",
    "- Write the file to disk\n",
    "\"\"\"\n",
    "jw = asdf.AsdfFile()\n",
    "jw['meta']={}\n",
    "jw['meta']['telescope'] = 'JWST'\n",
    "jw['meta']['instrument'] = {}\n",
    "jw['meta']['instrument']['name'] = 'NIRCAM'\n",
    "jw['meta']['instrument']['detector'] = 'NRCA'\n",
    "jw['meta']['instrument']['filter'] = 'FW100W'\n",
    "jw['meta']['date'] = t\n",
    "jw['data'] = data\n",
    "jw['meta']['model1'] = p\n",
    "jw['meta']['model2'] = p\n",
    "jw.write_to('example.asdf')\n"
   ]
  },
  {
   "cell_type": "code",
   "execution_count": null,
   "id": "3c5387ba",
   "metadata": {},
   "outputs": [],
   "source": []
  }
 ],
 "metadata": {
  "kernelspec": {
   "display_name": "Python 3 (ipykernel)",
   "language": "python",
   "name": "python3"
  },
  "language_info": {
   "codemirror_mode": {
    "name": "ipython",
    "version": 3
   },
   "file_extension": ".py",
   "mimetype": "text/x-python",
   "name": "python",
   "nbconvert_exporter": "python",
   "pygments_lexer": "ipython3",
   "version": "3.9.12"
  }
 },
 "nbformat": 4,
 "nbformat_minor": 5
}
