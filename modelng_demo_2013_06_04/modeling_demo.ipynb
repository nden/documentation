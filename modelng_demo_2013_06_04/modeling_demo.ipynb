{
 "metadata": {
  "name": "modeling_demo"
 },
 "nbformat": 3,
 "nbformat_minor": 0,
 "worksheets": [
  {
   "cells": [
    {
     "cell_type": "markdown",
     "metadata": {},
     "source": "# A tour of astropy.modeling\n\nAstropy.modeling provides a framework for representing models and performing model evaluation and fitting. It supports 1D and 2D models\nand fitting with parameter constraints.\n\nIt is designed to be easily extensible and flexible. Models do not reference fitting algorithms explicitely (though exceptions are sometimes\n necessary) and new fitting algorithms may be added without changing the existing models.The goal\nis to eventually provide a rich toolset of models and fitters such that most users will not need to define new model classes, nor special purpose\nfitting routines (but not making that hard to do if it is necessary)."
    },
    {
     "cell_type": "code",
     "collapsed": false,
     "input": "import sys\nsys.path.insert(0, '~/')\nimport numpy as np\nfrom numpy.random import RandomState\nimport modeling as m",
     "language": "python",
     "metadata": {},
     "outputs": [],
     "prompt_number": 345
    },
    {
     "cell_type": "code",
     "collapsed": false,
     "input": "# create data\nx1 = np.arange(1, 10, .1)\nx, y = np.mgrid[:10, :8]\n\nrsn = RandomState(1234)\nn = rsn.randn(90)",
     "language": "python",
     "metadata": {},
     "outputs": [],
     "prompt_number": 346
    },
    {
     "cell_type": "code",
     "collapsed": false,
     "input": "m.models.",
     "language": "python",
     "metadata": {},
     "outputs": [
      {
       "ename": "SyntaxError",
       "evalue": "invalid syntax (<ipython-input-347-5c019e2cefce>, line 1)",
       "output_type": "pyerr",
       "traceback": [
        "\u001b[1;36m  File \u001b[1;32m\"<ipython-input-347-5c019e2cefce>\"\u001b[1;36m, line \u001b[1;32m1\u001b[0m\n\u001b[1;33m    m.models.\u001b[0m\n\u001b[1;37m             ^\u001b[0m\n\u001b[1;31mSyntaxError\u001b[0m\u001b[1;31m:\u001b[0m invalid syntax\n"
       ]
      }
     ],
     "prompt_number": 347
    },
    {
     "cell_type": "code",
     "collapsed": false,
     "input": "m.fitting.__all__",
     "language": "python",
     "metadata": {},
     "outputs": []
    },
    {
     "cell_type": "markdown",
     "metadata": {},
     "source": "# Models\n\nThe base class of all models is ``Model``, however fittable models should subclass ``ParametricModel``. \nParametric models can be linear or nonlinear in a regression analysis sense.\nParametric models also store a flat list of all parameters as an instance of ``Parameters``. When fitting, this list-like object is modified by a subclass of Fitter. When fitting nonlinear models, the values of the parameters are used as initial guesses by the fitting class.\n\n"
    },
    {
     "cell_type": "code",
     "collapsed": false,
     "input": "p1 = m.models.Poly1DModel(degree=3)",
     "language": "python",
     "metadata": {},
     "outputs": []
    },
    {
     "cell_type": "markdown",
     "metadata": {},
     "source": "Models maintain a list of parameter names."
    },
    {
     "cell_type": "code",
     "collapsed": false,
     "input": "print(p1.param_names)",
     "language": "python",
     "metadata": {},
     "outputs": []
    },
    {
     "cell_type": "code",
     "collapsed": false,
     "input": "print(m.models.Gaussian2DModel.param_names)",
     "language": "python",
     "metadata": {},
     "outputs": []
    },
    {
     "cell_type": "code",
     "collapsed": false,
     "input": "p1.parameters",
     "language": "python",
     "metadata": {},
     "outputs": []
    },
    {
     "cell_type": "code",
     "collapsed": false,
     "input": "p1.parameters = [1,2,3,4]\np1.parameters",
     "language": "python",
     "metadata": {},
     "outputs": []
    },
    {
     "cell_type": "code",
     "collapsed": false,
     "input": "p1.c0 = 1.5\nprint(p1.parameters)",
     "language": "python",
     "metadata": {},
     "outputs": []
    },
    {
     "cell_type": "markdown",
     "metadata": {},
     "source": "To evaluate a model, it is called like a function. \n"
    },
    {
     "cell_type": "code",
     "collapsed": false,
     "input": "y1 = p1(x1)\n_ = plt.plot(x1, y1+3*n)",
     "language": "python",
     "metadata": {},
     "outputs": []
    },
    {
     "cell_type": "markdown",
     "metadata": {},
     "source": "Models can be fit with different Fitters, wrappers around some Numpy and Scipy fitting functions. Fitters are called as functions. They take an instance of ``ParametricModel`` as input and modify its ``parameters`` attribute. The idea is to make this extensible and allow users to easily add other fitters."
    },
    {
     "cell_type": "code",
     "collapsed": false,
     "input": "# Models and fitters are independent\npfit = m.fitting.LinearLSQFitter(p1)\npfit(x1, y1+3*n)",
     "language": "python",
     "metadata": {},
     "outputs": []
    },
    {
     "cell_type": "code",
     "collapsed": false,
     "input": "print(p1.parameters)\n",
     "language": "python",
     "metadata": {},
     "outputs": []
    },
    {
     "cell_type": "code",
     "collapsed": false,
     "input": "nlp1 = m.models.Poly1DModel(degree=3)\nnlpfit = m.fitting.NonLinearLSQFitter(nlp1)\nnlpfit(x1, y1+3*n)",
     "language": "python",
     "metadata": {},
     "outputs": []
    },
    {
     "cell_type": "code",
     "collapsed": false,
     "input": "print(nlp1.parameters)",
     "language": "python",
     "metadata": {},
     "outputs": []
    },
    {
     "cell_type": "markdown",
     "metadata": {},
     "source": "When possible the transformation is done using multiple parameter sets, ``param_sets``. The number of parameter sets is stored in an attribute ``param_dim``."
    },
    {
     "cell_type": "code",
     "collapsed": false,
     "input": "# Multiple sets of parameters - evaluating linear models\np1 = m.models.Poly1DModel(degree=2, param_dim=5)\np1.parameters",
     "language": "python",
     "metadata": {},
     "outputs": []
    },
    {
     "cell_type": "code",
     "collapsed": false,
     "input": "p1.parameters = [1, 1, 1, 1, 1, 0, 0, 0, 0 , 0, 3, 4, 5, 6, 7]",
     "language": "python",
     "metadata": {},
     "outputs": []
    },
    {
     "cell_type": "code",
     "collapsed": false,
     "input": "print(p1.c0)",
     "language": "python",
     "metadata": {},
     "outputs": []
    },
    {
     "cell_type": "code",
     "collapsed": false,
     "input": "print(p1.param_sets)",
     "language": "python",
     "metadata": {},
     "outputs": []
    },
    {
     "cell_type": "code",
     "collapsed": false,
     "input": "y1 = p1(x1) + 2* np.array(n, ndmin=2).T\n_ = plt.plot(x1, y1)",
     "language": "python",
     "metadata": {},
     "outputs": []
    },
    {
     "cell_type": "code",
     "collapsed": false,
     "input": "# Each column in the output represents a different model\nprint(y1[:10])",
     "language": "python",
     "metadata": {},
     "outputs": []
    },
    {
     "cell_type": "markdown",
     "metadata": {},
     "source": "The ``LinearLSQFitter`` supports simultaneous fitting of models with multiple parameter sets. "
    },
    {
     "cell_type": "code",
     "collapsed": false,
     "input": "p2 = m.models.Poly1DModel(degree=2, param_dim=5)\npfit = m.fitting.LinearLSQFitter(p2)\npfit(x1, y1)\nprint(p2.param_sets)",
     "language": "python",
     "metadata": {},
     "outputs": []
    },
    {
     "cell_type": "markdown",
     "metadata": {},
     "source": "An example of fittng a line to each `z` dimension in an IFU observation. "
    },
    {
     "cell_type": "code",
     "collapsed": false,
     "input": "# cube example\nfrom astropy.io import fits\nfits.info('NGC4151_smallcube_FEII.fits')\nngc_data = fits.getdata('NGC4151_smallcube_FEII.fits')",
     "language": "python",
     "metadata": {},
     "outputs": []
    },
    {
     "cell_type": "code",
     "collapsed": false,
     "input": "data = ngc_data.reshape((53, 59*59))\nprint(data.shape)",
     "language": "python",
     "metadata": {},
     "outputs": []
    },
    {
     "cell_type": "code",
     "collapsed": false,
     "input": "px = np.arange(53)\np1 = m.models.Poly1DModel(degree=1, param_dim=3481)\npfit = m.fitting.LinearLSQFitter(p1)\npfit(px, data)\nprint(p1.param_sets.shape)",
     "language": "python",
     "metadata": {},
     "outputs": []
    },
    {
     "cell_type": "code",
     "collapsed": false,
     "input": "print(p1.param_sets[:,100:103])",
     "language": "python",
     "metadata": {},
     "outputs": []
    },
    {
     "cell_type": "markdown",
     "metadata": {},
     "source": "Non-linear models with multiple parameter sets can be evaluated but cannot be fit."
    },
    {
     "cell_type": "code",
     "collapsed": false,
     "input": "\ng1 = m.models.Gaussian1DModel(amplitude=[10, 11], mean=[4, 5], stddev=[1, 1])\ny1 = g1(x1)\n_ = plt.plot(x1, y1)",
     "language": "python",
     "metadata": {},
     "outputs": []
    },
    {
     "cell_type": "code",
     "collapsed": false,
     "input": "gfit = m.fitting.NonLinearLSQFitter(g1)\ngfit(x1, y1)",
     "language": "python",
     "metadata": {},
     "outputs": []
    },
    {
     "cell_type": "markdown",
     "metadata": {},
     "source": "Two non-linear fitters and one linear fitter have been implemented sofar. The goal is to add more.\n\nAn example of fitting a 1D Gaussian with multiple fitters:"
    },
    {
     "cell_type": "code",
     "collapsed": false,
     "input": "g1 = m.models.Gaussian1DModel(10, 4, 1)\ny1 = g1(x1) + n\n_ = plt.plot(x1, y1)",
     "language": "python",
     "metadata": {},
     "outputs": []
    },
    {
     "cell_type": "code",
     "collapsed": false,
     "input": "g2 = m.models.Gaussian1DModel(10.1, 4.1, 1.1)\ngfit1 = m.fitting.NonLinearLSQFitter(g2)\ngfit1(x1, y1)\nprint(g2.parameters)",
     "language": "python",
     "metadata": {},
     "outputs": []
    },
    {
     "cell_type": "code",
     "collapsed": false,
     "input": "g3 = m.models.Gaussian1DModel(10.1, 4.1, 1.1)\ngfit2 = m.fitting.SLSQPFitter(g3)\ngfit2(x1, y1)\nprint(g3.parameters)",
     "language": "python",
     "metadata": {},
     "outputs": []
    },
    {
     "cell_type": "code",
     "collapsed": false,
     "input": "# example linear fitter with non-linear model\npfit = m.fitting.LinearLSQFitter(g1)",
     "language": "python",
     "metadata": {},
     "outputs": []
    },
    {
     "cell_type": "markdown",
     "metadata": {},
     "source": "# Constraints\n\nfixed : dict\n    \n    {parameter_name: True| False} Specify parameters which should be kept fixed during fitting.\n\ntied : dict\n    \n     {parameter_name: callable} Specify a relationship between parameters.\n        \nbounds : dict\n    \n     {parameter_name: [min, max]} Specify bounds on parameters. \n\neqcons : list\n    \n    A list of functions of length n such that eqcons[j](x0,*args) == 0.0 in a successfully optimized problem.\n\nineqcons : list\n    \n    A list of functions of length n such that ieqcons[j](x0,*args) >= 0.0 is a successfully optimized problem.\n    \n    \nDifferent fitters support different types of constraints.\n"
    },
    {
     "cell_type": "code",
     "collapsed": false,
     "input": "[item for item in m.fitting.constraintsdef.items()]",
     "language": "python",
     "metadata": {},
     "outputs": []
    },
    {
     "cell_type": "code",
     "collapsed": false,
     "input": "gauss = m.models.Gaussian1DModel(amplitude=10, mean=5.3, stddev=1.1)\nprint(gauss.constraints.fixed)\n\nprint(gauss.constraints.tied)\n\nprint(gauss.constraints.bounds)",
     "language": "python",
     "metadata": {},
     "outputs": []
    },
    {
     "cell_type": "markdown",
     "metadata": {},
     "source": "Example of holding a parameter fixed"
    },
    {
     "cell_type": "code",
     "collapsed": false,
     "input": "gauss.amplitude.fixed = True\nprint(gauss.amplitude.fixed)\nprint(gauss.constraints.fixed)",
     "language": "python",
     "metadata": {},
     "outputs": []
    },
    {
     "cell_type": "code",
     "collapsed": false,
     "input": "fitter = m.fitting.NonLinearLSQFitter(gauss)\nfitter(x1, gauss(x1)+n)\nprint('amplitude:',  gauss.amplitude)\nprint('parameters:', gauss.parameters)",
     "language": "python",
     "metadata": {},
     "outputs": []
    },
    {
     "cell_type": "markdown",
     "metadata": {},
     "source": "Example of a tied parameter"
    },
    {
     "cell_type": "code",
     "collapsed": false,
     "input": "def tied_mean(model):\n    return 50 * model.stddev\n\ngauss = m.models.Gaussian1DModel(10, 3., 1.1)\ngauss.mean.tied = tied_mean\n\nfitter = m.fitting.NonLinearLSQFitter(gauss)\ny1 = gauss(x1) + n\n\n#_ = plt.plot(x1, y1)\n\nprint('amplitude, mean, stddev', gauss.parameters)\nfitter(x1, y1)\nprint('amplitude, mean,stddev', gauss.parameters)",
     "language": "python",
     "metadata": {},
     "outputs": []
    },
    {
     "cell_type": "markdown",
     "metadata": {},
     "source": "Example of setting parameter bounds"
    },
    {
     "cell_type": "code",
     "collapsed": false,
     "input": "# bounds\ngauss = m.models.Gaussian2DModel(amplitude=10., x_mean=5., y_mean=5.,\n                                          x_stddev=4., y_stddev=4., theta=0.5,\n                                          bounds={\"x_mean\" : [0.,11.],\n                                                  \"y_mean\" : [0.,11.],\n                                                  \"x_stddev\" : [1.,4],\n                                                  \"y_stddev\" : [1.,4]})\ndata = np.array([505.0, 556.0, 630.0, 595.0, 561.0, 553.0, 543.0, 496.0, 460.0,\n                469.0, 426.0, 518.0, 684.0, 798.0, 830.0, 794.0, 649.0, 706.0,\n                671.0, 545.0, 479.0, 454.0, 505.0, 700.0, 1058.0, 1231.0, 1325.0,\n                997.0, 1036.0, 884.0, 610.0, 487.0, 453.0, 527.0, 780.0, 1094.0,\n                1983.0, 1993.0, 1809.0, 1525.0, 1056.0, 895.0, 604.0, 466.0, 510.0,\n                678.0, 1130.0, 1986.0, 2670.0, 2535.0, 1878.0, 1450.0, 1200.0, 663.0,\n                511.0, 474.0, 569.0, 848.0, 1670.0, 2611.0, 3129.0, 2507.0, 1782.0, 1211.0,\n                723.0, 541.0, 511.0, 518.0, 597.0, 1137.0, 1993.0, 2925.0, 2438.0, 1910.0,\n                1230.0, 738.0, 506.0, 461.0, 486.0, 597.0, 733.0, 1262.0, 1896.0, 2342.0,\n                1792.0, 1180.0, 667.0, 482.0, 454.0, 482.0, 504.0, 566.0, 789.0, 1194.0,\n                1545.0, 1361.0, 933.0, 562.0, 418.0, 463.0, 435.0, 466.0, 528.0, 487.0, 664.0,\n                799.0, 746.0, 550.0, 478.0, 535.0, 443.0, 416.0, 439.0, 472.0, 472.0, 492.0,\n                523.0, 569.0, 487.0, 441.0, 428.0])\ndata = data.reshape(11,11)\nX,Y = np.meshgrid(np.arange(11),np.arange(11))\n_ = plt.imshow(data)\n\n",
     "language": "python",
     "metadata": {},
     "outputs": []
    },
    {
     "cell_type": "code",
     "collapsed": false,
     "input": "gauss_fit = m.fitting.NonLinearLSQFitter(gauss)\ngauss_fit(X, Y, data)\nprint(gauss.parameters)\n\n_ = plt.imshow(gauss(X, Y))",
     "language": "python",
     "metadata": {},
     "outputs": []
    },
    {
     "cell_type": "code",
     "collapsed": false,
     "input": "gauss = m.models.Gaussian2DModel(amplitude=10., x_mean=5.1, y_mean=4.9,\n                                          x_stddev=4., y_stddev=4.1, theta=0.5,\n                                          bounds={\"x_mean\" : [0.,11.],\n                                                  \"y_mean\" : [0.,11.],\n                                                  \"x_stddev\" : [1.,4],\n                                                  \"y_stddev\" : [1.,4]})\n\ngfit_slsqp = m.fitting.SLSQPFitter(gauss)\nn = np.random.randn(121)\nn.shape = (11,11)\ngfit_slsqp(X, Y, data+n)\nprint(gauss.parameters)\n#_ = plt.imshow(gauss(X, Y))",
     "language": "python",
     "metadata": {},
     "outputs": []
    },
    {
     "cell_type": "markdown",
     "metadata": {},
     "source": "# Composite Models\n\nModels can be combined in different ways using a machinery that allows assigning outputs from one model into the appropriate input of another in a flexible way. "
    },
    {
     "cell_type": "code",
     "collapsed": false,
     "input": "# Combininng models in series\noff = m.models.ShiftModel(-3.2)\npoly2 = m.models.Poly2DModel(2)\nserial_composite_model = m.SCompositeModel([off, poly2], inmap=[['x'], ['x', 'y']],\n                                                        outmap=[['x'], ['z']])\nprint(serial_composite_model)",
     "language": "python",
     "metadata": {},
     "outputs": []
    },
    {
     "cell_type": "code",
     "collapsed": false,
     "input": "# Labeled input\nx, y = np.mgrid[:10, :8]\nlabeled_data  = m.LabeledInput([x, y], ['x', 'y'])\nprint(labeled_data)",
     "language": "python",
     "metadata": {},
     "outputs": []
    },
    {
     "cell_type": "code",
     "collapsed": false,
     "input": "result = serial_composite_model(labeled_data)\nprint(result.z)",
     "language": "python",
     "metadata": {},
     "outputs": []
    },
    {
     "cell_type": "code",
     "collapsed": false,
     "input": "# HST example\nimport wcs_example\nfrom astropy import wcs\nfrom astropy.io import fits\nhdr = fits.getheader('acs_wfc_sc1_no_dist.fits', ext=1)\nw = wcs.WCS(hdr)\npixel2sky = wcs_example.Pix2Sky(w.wcs.crpix, w.wcs.cd, w.wcs.crval[0], w.wcs.crval[1], 180., 'TAN')\npixel2sky(1, 1)",
     "language": "python",
     "metadata": {},
     "outputs": []
    },
    {
     "cell_type": "code",
     "collapsed": false,
     "input": "# Create the inverse transform\nsky2pixel = pixel2sky.inverse()\n\n# and evaluate it\nsky2pixel(5.525077645, -72.05188792)",
     "language": "python",
     "metadata": {},
     "outputs": []
    },
    {
     "cell_type": "code",
     "collapsed": false,
     "input": "#creating new models\nclass Line(m.ParametricModel):\n    \n    param_names = ['intercept', 'slope']\n    \n    def __init__(self, intercept, slope, param_dim=1):\n        self._intercept = m.Parameter('intercept', intercept, self, 1)\n        self._slope = m.Parameter('slope', slope, self, 1)\n        super(Line, self).__init__(self.param_names, n_inputs=1, n_outputs=1, param_dim=param_dim)\n        \n    def eval(self, x, params):\n        intercept, slope = params\n        return intercept + slope * x\n    \n    def deriv(self, param=None, x=None, y=None):\n        result = np.ones((x.size, 2))\n        result[:,1] = x\n        return result\n    \n    def __call__(self, x):\n        x, fmt = m._convert_input(x, self.param_dim)\n        result = self.eval(x, self.param_sets)\n        return m._convert_output(result, fmt)\n    \nline  = Line(2.3,  1)\nplt.plot(x1, line(x1))",
     "language": "python",
     "metadata": {},
     "outputs": []
    },
    {
     "cell_type": "markdown",
     "metadata": {},
     "source": "# Future work\n\n- Separate optimization methods from fit statistic\n- Add spline models and fitters\n- Write a general Model.inverse() method\n- Add a CompositeModel.simplify() method, similar to AST\n- Add support for fitting of combined models to data\n- Add support for a model language so that it's possible to do model = model_1 + model_2.\n- Add more sophisticated parameter error estimation methods:\n  - Asymmetric errors (profile method)\n  - Including upper and lower limits in model fitting (survival analysis)\n- \u201cIntegral models\u201d, e.g. where the data is flux or counts per bin, and the model is surface brightness, i.e. integrating the model over the bin is required to fit the data\n- \u201cConvolved models\u201d, e.g. a surface brightness astrophysical source model convolved with an instrument PSF (in this case the model would have free parameters and the PSF not)"
    }
   ],
   "metadata": {}
  }
 ]
}