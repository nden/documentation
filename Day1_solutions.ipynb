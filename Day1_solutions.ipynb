{
 "cells": [
  {
   "cell_type": "markdown",
   "metadata": {},
   "source": [
    "### Outline\n",
    "\n",
    "\n",
    "- What is a computer program?\n",
    "- What is Python?\n",
    "- Introduction to Python types\n",
    "- How to run Python\n",
    "    - Jupyter notebooks\n",
    "    - Interactively - ipython\n",
    "    - On the command line - scripts\n"
   ]
  },
  {
   "cell_type": "markdown",
   "metadata": {},
   "source": [
    "#### What is a computer program?\n",
    "\n",
    "*From Wikipedia:*\n",
    "\n",
    "A **computer program** is a collection of instructions that performs a specific task when executed by a computer. Most computer devices require programs to function properly.\n",
    "\n",
    "A computer program is usually written by a computer programmer in a programming language. From the program in its human-readable form of source code, a **compiler** or assembler can derive machine code—a form consisting of instructions that the computer can directly execute. Alternatively, a computer program may be executed with the aid of an **interpreter**.\n",
    "\n",
    "A collection of computer programs, libraries, and related data are referred to as **software**. Computer programs may be categorized along functional lines, such as application software and system software. The underlying method used for some calculation or manipulation is known as an **algorithm**."
   ]
  },
  {
   "cell_type": "markdown",
   "metadata": {},
   "source": [
    "#### Python\n",
    "\n",
    "Python is an **interpreted**, high-level, general-purpose programming language. Created by Guido van Rossum and first released in 1991, Python's design philosophy emphasizes code readability with its notable use of **significant whitespace**.\n",
    "\n",
    "Python is **dynamically typed** and **garbage-collected** (a form of automatic memory management). It supports multiple programming paradigms, including procedural, object-oriented, and functional programming. \n",
    "\n"
   ]
  },
  {
   "cell_type": "markdown",
   "metadata": {},
   "source": [
    "##### Why is Python so popular in astronomy?\n",
    "\n",
    "- Easy to start using it and do meaningful things\n",
    "- Good support for numerical and scientific libraries\n",
    "- Good plotting libraries - publication quality plots\n",
    "- Large and very responsive community which supports the language and associated tools\n",
    "- Open source"
   ]
  },
  {
   "cell_type": "markdown",
   "metadata": {},
   "source": [
    "#### Python is a dynamically typed language\n",
    "\n",
    "The process of verifying and enforcing the constraints of types is called *type checking*. Type checking may occur either at compile-time (a static check) (C, C++, Fortran)  or at run-time (dynamic check) (Python, Javascript, PHP, Ruby). Dynamically typed languages are generally slower but more flexible."
   ]
  },
  {
   "cell_type": "code",
   "execution_count": null,
   "metadata": {},
   "outputs": [],
   "source": [
    "# Describe notebooks"
   ]
  },
  {
   "cell_type": "code",
   "execution_count": 5,
   "metadata": {},
   "outputs": [
    {
     "data": {
      "text/plain": [
       "int"
      ]
     },
     "execution_count": 5,
     "metadata": {},
     "output_type": "execute_result"
    }
   ],
   "source": [
    "### notes\n",
    "\n",
    "# Start google colab, new jupyter notebook, we'll see in a bit what this is\n",
    "a = 5\n",
    "type(a)\n",
    "#print(a)\n",
    "#print(type(a))"
   ]
  },
  {
   "cell_type": "code",
   "execution_count": 8,
   "metadata": {},
   "outputs": [
    {
     "data": {
      "text/plain": [
       "float"
      ]
     },
     "execution_count": 8,
     "metadata": {},
     "output_type": "execute_result"
    }
   ],
   "source": [
    "a = 5.\n",
    "type(a)"
   ]
  },
  {
   "cell_type": "code",
   "execution_count": 9,
   "metadata": {},
   "outputs": [
    {
     "data": {
      "text/plain": [
       "str"
      ]
     },
     "execution_count": 9,
     "metadata": {},
     "output_type": "execute_result"
    }
   ],
   "source": [
    "a = \"Hello world\"\n",
    "type(a)"
   ]
  },
  {
   "cell_type": "code",
   "execution_count": 11,
   "metadata": {},
   "outputs": [
    {
     "data": {
      "text/plain": [
       "list"
      ]
     },
     "execution_count": 11,
     "metadata": {},
     "output_type": "execute_result"
    }
   ],
   "source": [
    "a = [1, 2, 3, 4]\n",
    "type(a)"
   ]
  },
  {
   "cell_type": "code",
   "execution_count": 13,
   "metadata": {},
   "outputs": [
    {
     "data": {
      "text/plain": [
       "tuple"
      ]
     },
     "execution_count": 13,
     "metadata": {},
     "output_type": "execute_result"
    }
   ],
   "source": [
    "a = (1,2,3,4)\n",
    "type(a)"
   ]
  },
  {
   "cell_type": "code",
   "execution_count": 14,
   "metadata": {},
   "outputs": [
    {
     "data": {
      "text/plain": [
       "bool"
      ]
     },
     "execution_count": 14,
     "metadata": {},
     "output_type": "execute_result"
    }
   ],
   "source": [
    "a = True\n",
    "type(a)"
   ]
  },
  {
   "cell_type": "code",
   "execution_count": 12,
   "metadata": {},
   "outputs": [
    {
     "data": {
      "text/plain": [
       "dict"
      ]
     },
     "execution_count": 12,
     "metadata": {},
     "output_type": "execute_result"
    }
   ],
   "source": [
    "a = {'star': 'Betelguse',\n",
    "     'galaxy': \"Far, far away\",\n",
    "     'value_of_pi': 3.141592653589793238462643383279502884197,\n",
    "     'l': [1, 2, 3 ,4]\n",
    "    }\n",
    "type(a)"
   ]
  },
  {
   "cell_type": "code",
   "execution_count": null,
   "metadata": {},
   "outputs": [],
   "source": [
    "explain dictionary syntax"
   ]
  },
  {
   "cell_type": "markdown",
   "metadata": {},
   "source": [
    "These types are called \"primitive\" types. define \"primitive\"."
   ]
  },
  {
   "cell_type": "code",
   "execution_count": 15,
   "metadata": {},
   "outputs": [
    {
     "name": "stdout",
     "output_type": "stream",
     "text": [
      "{'1': 1, '2': 3}\n"
     ]
    }
   ],
   "source": [
    "# Speaking of dictionaries, try this\n",
    "\n",
    "d={'1': 1, '2': 2, '2':3}\n",
    "print(d)"
   ]
  },
  {
   "cell_type": "code",
   "execution_count": 18,
   "metadata": {},
   "outputs": [
    {
     "name": "stdout",
     "output_type": "stream",
     "text": [
      "<class 'list'>\n",
      "1\n"
     ]
    }
   ],
   "source": [
    "# lists and tuples\n",
    "a=[1,2,3,4]\n",
    "print(type(a))\n",
    "\n",
    "t=(1,2,3,4)\n",
    "\n",
    "# ordered collections of things\n",
    "# indexing\n",
    "a[1]\n",
    "print(t[0])"
   ]
  },
  {
   "cell_type": "code",
   "execution_count": 21,
   "metadata": {},
   "outputs": [
    {
     "data": {
      "text/plain": [
       "dict_keys(['1', '2'])"
      ]
     },
     "execution_count": 21,
     "metadata": {},
     "output_type": "execute_result"
    }
   ],
   "source": [
    "#d[0]\n",
    "d.keys()"
   ]
  },
  {
   "cell_type": "code",
   "execution_count": null,
   "metadata": {},
   "outputs": [],
   "source": [
    "# boolean\n",
    "a = True\n",
    "\n"
   ]
  },
  {
   "cell_type": "markdown",
   "metadata": {},
   "source": [
    "#### Significant white space\n",
    "\n",
    "\n",
    "In computer programming, whitespace is any character or series of characters that represent horizontal or vertical space in typography. When rendered, a whitespace character does not correspond to a visible mark, but typically does occupy an area on a page. Most programming languages ignore or assign little meaning to whitespace characters.\n",
    "\n",
    "One of the most distinctive features of Python is its use of whitespace. It is used in two ways:\n",
    "\n",
    "- newlines (`\\n`) terminate logical lines\n",
    "\n",
    "  Several physical lines can be joined in one logical line.\n",
    "  \n",
    "  \n",
    "- changes in indentation delimit blocks \n",
    "\n",
    "  Unlike languages like C/C++ where blocks of code are enclosed in curly brackets `{}`, \n",
    "  in Python blocks are limited by white space (single space or a TAB space). It is a \n",
    "  good practice not to mixed those in a single piece of code. it is a good practice\n",
    "  to always use single space.\n",
    "\n",
    "\n"
   ]
  },
  {
   "cell_type": "code",
   "execution_count": 25,
   "metadata": {
    "scrolled": true
   },
   "outputs": [
    {
     "name": "stdout",
     "output_type": "stream",
     "text": [
      "\t\n",
      "\n",
      "\n",
      "          \n"
     ]
    }
   ],
   "source": [
    "print(\"\\t\")\n",
    "print(\"\\n\")\n",
    "print(\"          \")"
   ]
  },
  {
   "cell_type": "code",
   "execution_count": 27,
   "metadata": {},
   "outputs": [],
   "source": [
    "a = 6\n",
    "b = 5."
   ]
  },
  {
   "cell_type": "markdown",
   "metadata": {},
   "source": [
    "Python is installed on most operating systems by default and is available as an executable on `PATH`. If you need to install it yourself, one of the easiest ways is to install `Anaconda` or `miniconda`. It installs Python and other Python packages. In addition to the conda distribution of packages there's a commonly accepted location for uploading Python packages called `PyPi`. Packages available through PyPi can be installed using the `pip` command. For example, to install a package called `photutils` the command is:\n",
    "\n",
    "```\n",
    "% pip install photutils\n",
    "```\n",
    "\n",
    "To start the Python interpreter type `python` at the command prompt\n",
    "\n",
    "```\n",
    "% python\n",
    "Python 3.7.4 (default, Aug 13 2019, 15:17:50) \n",
    "[Clang 4.0.1 (tags/RELEASE_401/final)] :: Anaconda, Inc. on darwin\n",
    "Type \"help\", \"copyright\", \"credits\" or \"license\" for more information.\n",
    ">>>\n",
    "```\n",
    "\n",
    "The `>>>` indicates that Python is ready to accept commands. If you type \n",
    "`a = 1` then press `Enter`, this will assign the value 1 to a. If you then \n",
    "type `a` you will see the value of `a` (this is equivalent to `print(a)`):\n",
    "\n",
    "```\n",
    ">>> a = 1\n",
    ">>> a\n",
    "1\n",
    "```\n",
    "\n",
    "To exit the interpreter type at the prompt\n",
    "\n",
    "```\n",
    ">>> quit()\n",
    "```\n",
    "\n",
    "Alternatively `Ctrl-D` (on *nix) or `Ctrl-Z` (Win) quits the interpreter."
   ]
  },
  {
   "cell_type": "markdown",
   "metadata": {},
   "source": [
    "#### IPython\n",
    "\n",
    "The default Python shell is limited, and in practice, you will want instead to use the IPython (or interactive Python) shell. This is an add-on package that adds many features to the default Python shell."
   ]
  },
  {
   "cell_type": "markdown",
   "metadata": {},
   "source": [
    "`IPython` provides a powerful interactive shell for running Python programs. Some of its advantages are\n",
    "\n",
    "    - keeps the history of a session\n",
    "    - commands can be recalled after a session is terminated and a new session is started\n",
    "    - provides convenient tool for performance timing \n",
    "    - provides other \"magic\" commands  \n",
    "    \n",
    "To start the ipython interpreter at the command line type `ipython`:\n",
    "\n",
    "```\n",
    "% ipython\n",
    "Python 3.7.4 (default, Aug 13 2019, 15:17:50) \n",
    "Type 'copyright', 'credits' or 'license' for more information\n",
    "IPython 7.9.0 -- An enhanced Interactive Python. Type '?' for help.\n",
    "\n",
    "In [1]: a=1\n",
    "In [2]: a                                                                                                             \n",
    "Out[2]: 1                   \n",
    "```\n"
   ]
  },
  {
   "cell_type": "markdown",
   "metadata": {},
   "source": [
    "#### Running scripts\n",
    "\n",
    "While the interactive Python mode is very useful to exploring and trying out code, you will eventually want to write a script to record and reproduce what you did, or to do things that are too complex to type in interactively (defining functions, classes, etc.). To write a Python script, just use your favorite code editor to put the code in a file with a .py extension. For example, we can create a file called test.py containing:\n",
    "\n",
    "```\n",
    "a = 1\n",
    "print(a)\n",
    "```\n",
    "\n",
    "We can then run the script on the command-line with:\n",
    "```\n",
    "% python test.py\n",
    "1\n",
    "```"
   ]
  },
  {
   "cell_type": "markdown",
   "metadata": {},
   "source": [
    "`Exercise:`\n",
    "\n",
    "Using an editor create a new file and print a greeting in it using python. Save the file and run it as a script"
   ]
  },
  {
   "cell_type": "code",
   "execution_count": null,
   "metadata": {},
   "outputs": [],
   "source": [
    "print(\"write sth\")"
   ]
  },
  {
   "cell_type": "markdown",
   "metadata": {},
   "source": [
    "Download the notebooks at\n",
    "\n",
    "https://github.com/nden/astroscholars\n",
    "\n"
   ]
  },
  {
   "cell_type": "markdown",
   "metadata": {},
   "source": [
    "#### Jupyter notebooks\n",
    "\n",
    "The **Jupyter notebook** allows you to include text, code, and plots in the same document.\n",
    "It is a very powerful way to write and execute Python programs while reproducing and sharing code, data and results.\n",
    "\n",
    "On a *unix ocmputer, on the command line type \n",
    "\n",
    "`% jupyter notebook`\n",
    "\n",
    "\n",
    "On Windows, search for and start \n",
    "\n",
    "`Anaconda Jupyter notebook`.\n",
    "\n",
    "Once you do this, a web browser opens a page showing a folder (the *root* folder of the current session). To start a new notebook, click on `New` in the upper right corner and choose `Python3`. This will start a new notebook. \n",
    "\n",
    "Each notebook consists of a number of cells. Cells can execute code or are `Markdown` where formatted text can be entered. A cell can be \"executed\" by pressing `Shift-Enter` at the same time. This will run the code in the cell. You can modify the cell and pressing `Shift-Enter` will execute the modified code.\n"
   ]
  },
  {
   "cell_type": "markdown",
   "metadata": {},
   "source": [
    "**Exercise:**\n",
    "\n",
    "- Create a new code cell and run the code.\n",
    "\n",
    "- Create a new Markdown cell with some text."
   ]
  },
  {
   "cell_type": "code",
   "execution_count": null,
   "metadata": {},
   "outputs": [],
   "source": [
    "a = 1\n",
    "print(a)"
   ]
  },
  {
   "cell_type": "markdown",
   "metadata": {},
   "source": [
    "**Where to find documentation**\n",
    "\n",
    "With practice you will learn more and more functions and tools. But noone knows everything, you will always need to look up how a function is called, what it returns, or what the return type is, etc. The Python documentation at http://python.org is a great place to learn new things. Similarly a user maintained site called \"stackoverflow\" https://stackoverflow.com/questions/tagged/python has many questions and answers. There are numerous other online Python tutorials.\n",
    "\n",
    "(I)Python brings the documentation to the user by providing ways to look at it within the interpretter."
   ]
  },
  {
   "cell_type": "code",
   "execution_count": null,
   "metadata": {},
   "outputs": [],
   "source": [
    "help(list)"
   ]
  },
  {
   "cell_type": "markdown",
   "metadata": {},
   "source": [
    "Typing `<object.>TAB` shows all public methods."
   ]
  },
  {
   "cell_type": "code",
   "execution_count": null,
   "metadata": {},
   "outputs": [],
   "source": [
    "list."
   ]
  },
  {
   "cell_type": "markdown",
   "metadata": {},
   "source": [
    "This next ones are available only in ipython and jupyter\n",
    "\n",
    "One \"?\" prints the calling signature of an object and its docstring\n",
    "\n"
   ]
  },
  {
   "cell_type": "code",
   "execution_count": null,
   "metadata": {},
   "outputs": [],
   "source": [
    "list?"
   ]
  },
  {
   "cell_type": "markdown",
   "metadata": {},
   "source": [
    "Two \"??\" prints the also the *Python* source code. "
   ]
  },
  {
   "cell_type": "code",
   "execution_count": null,
   "metadata": {},
   "outputs": [],
   "source": [
    "from astropy.modeling.models import Shift\n",
    "Shift??"
   ]
  },
  {
   "cell_type": "markdown",
   "metadata": {},
   "source": [
    "Wild cards `*` can be combined with `?`."
   ]
  },
  {
   "cell_type": "code",
   "execution_count": null,
   "metadata": {},
   "outputs": [],
   "source": [
    "*Warning?"
   ]
  },
  {
   "cell_type": "code",
   "execution_count": null,
   "metadata": {},
   "outputs": [],
   "source": [
    "list.*c*?"
   ]
  },
  {
   "cell_type": "markdown",
   "metadata": {},
   "source": [
    "### Scientific Python Documentation References and Tutorials\n",
    "\n",
    "- \"Python For Data Science\" - an excellent book by Jake VanderPlas\n",
    "\n",
    "https://jakevdp.github.io/PythonDataScienceHandbook/02.01-understanding-data-types.html\n",
    "\n",
    "- Python Documentation\n",
    "\n",
    "https://www.python.org/doc/\n",
    "\n",
    "- Numpy and Scipy Documentation\n",
    "\n",
    "  Numpy is an array based numerical library for Python.\n",
    "\n",
    "  Scipy is a collection of scientific routines for Python.\n",
    "\n",
    "https://docs.scipy.org/doc/\n",
    "\n",
    "- Matplotlib - a visualization library\n",
    "\n",
    "https://matplotlib.org/contents.html\n",
    "\n",
    "- Astropy - Astronomy related codes for Python\n",
    "\n",
    "http://docs.astropy.org/en/stable/\n"
   ]
  },
  {
   "cell_type": "markdown",
   "metadata": {},
   "source": [
    "#### Questions?"
   ]
  }
 ],
 "metadata": {
  "kernelspec": {
   "display_name": "Python 3 (ipykernel)",
   "language": "python",
   "name": "python3"
  },
  "language_info": {
   "codemirror_mode": {
    "name": "ipython",
    "version": 3
   },
   "file_extension": ".py",
   "mimetype": "text/x-python",
   "name": "python",
   "nbconvert_exporter": "python",
   "pygments_lexer": "ipython3",
   "version": "3.11.5"
  }
 },
 "nbformat": 4,
 "nbformat_minor": 4
}
