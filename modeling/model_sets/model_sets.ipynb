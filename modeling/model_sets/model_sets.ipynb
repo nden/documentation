{
 "cells": [
  {
   "cell_type": "code",
   "execution_count": 35,
   "metadata": {
    "collapsed": false
   },
   "outputs": [
    {
     "name": "stdout",
     "output_type": "stream",
     "text": [
      "/user/dencheva/conda-dev/envs/jwstdev/lib/python3.5/site-packages/astropy/modeling/models.py\n"
     ]
    }
   ],
   "source": [
    "from astropy.modeling import models\n",
    "print(models.__file__)"
   ]
  },
  {
   "cell_type": "code",
   "execution_count": 36,
   "metadata": {
    "collapsed": true
   },
   "outputs": [],
   "source": [
    "from astropy.modeling.models import *\n",
    "from astropy.modeling.fitting import *\n",
    "import numpy as np"
   ]
  },
  {
   "cell_type": "markdown",
   "metadata": {},
   "source": [
    "## Create input arrays with different shapes"
   ]
  },
  {
   "cell_type": "code",
   "execution_count": 37,
   "metadata": {
    "collapsed": false
   },
   "outputs": [
    {
     "name": "stdout",
     "output_type": "stream",
     "text": [
      "x:  (4,)\n",
      "[0 1 2 3]\n",
      "\n",
      "\n",
      "x1:  (4, 2)\n",
      "[[0 0]\n",
      " [1 1]\n",
      " [2 2]\n",
      " [3 3]]\n",
      "\n",
      "\n",
      "x0:  (2, 4)\n",
      "[[0 1 2 3]\n",
      " [0 1 2 3]]\n"
     ]
    }
   ],
   "source": [
    "# Create input arrays with different shapes\n",
    "x = np.arange(4)\n",
    "x1 = np.array([x, x]).T\n",
    "x0 = np.array([x, x])\n",
    "print('x: ', x.shape)\n",
    "print(x )\n",
    "print('\\n')\n",
    "print('x1: ', x1.shape)\n",
    "print(x1)\n",
    "print('\\n')\n",
    "print('x0: ', x0.shape)\n",
    "print(x0)"
   ]
  },
  {
   "cell_type": "markdown",
   "metadata": {},
   "source": [
    "# Initialize a model set without passing `n_models`\n",
    "\n",
    "There are two different ways to initialize the same model set when supplying parameter values - using `n_models` and `model_set_axis`, which I think is a bit confusing.\n",
    "\n"
   ]
  },
  {
   "cell_type": "code",
   "execution_count": 14,
   "metadata": {
    "collapsed": false
   },
   "outputs": [
    {
     "name": "stdout",
     "output_type": "stream",
     "text": [
      "axis: 0\n",
      "n_models:  2\n"
     ]
    }
   ],
   "source": [
    "pn = models.Polynomial1D(1, c0=[1,1], c1=[2,2], n_models=2)\n",
    "print('axis:', pn.model_set_axis)\n",
    "print('n_models: ', len(pn))"
   ]
  },
  {
   "cell_type": "code",
   "execution_count": 13,
   "metadata": {
    "collapsed": false
   },
   "outputs": [
    {
     "name": "stdout",
     "output_type": "stream",
     "text": [
      "axis: 0\n",
      "n_models:  2\n"
     ]
    }
   ],
   "source": [
    "pm = models.Polynomial1D(1, c0=[1,1], c1=[2,2], model_set_axis=0)\n",
    "print('axis:', pm.model_set_axis)\n",
    "print('n_models: ', len(pm))"
   ]
  },
  {
   "cell_type": "markdown",
   "metadata": {},
   "source": [
    "A third and similar way - using the defaults for `n_models` and `model_set_axis` creates a completely different model - a model with array parameters."
   ]
  },
  {
   "cell_type": "code",
   "execution_count": 25,
   "metadata": {
    "collapsed": false
   },
   "outputs": [
    {
     "name": "stdout",
     "output_type": "stream",
     "text": [
      "axis: False\n",
      "n_models:  1\n"
     ]
    }
   ],
   "source": [
    "pa = models.Polynomial1D(1, c0=[1,1], c1=[2,2])\n",
    "print('axis:', pa.model_set_axis)\n",
    "print('n_models: ', len(pa))"
   ]
  },
  {
   "cell_type": "markdown",
   "metadata": {},
   "source": [
    "I find it confusing to have two flags that control the initialization of model sets. **Isn't it sufficient to require `model_set_axis` and drop `n_models`?** It seems the `n_models` keyword is necessary only when model_set_axis is not defined. Here are examples where the presence of `model_set_axis` determines that a model set has to be initialized. Otherwise a single model is initialized, although it may be with array parameters. Am I missing a use case?"
   ]
  },
  {
   "cell_type": "code",
   "execution_count": 49,
   "metadata": {
    "collapsed": false
   },
   "outputs": [
    {
     "data": {
      "text/plain": [
       "(2, 3)"
      ]
     },
     "execution_count": 49,
     "metadata": {},
     "output_type": "execute_result"
    }
   ],
   "source": [
    "a = np.array([[1,1,1], [2,2,2]])\n",
    "a.shape"
   ]
  },
  {
   "cell_type": "code",
   "execution_count": 50,
   "metadata": {
    "collapsed": false
   },
   "outputs": [
    {
     "name": "stdout",
     "output_type": "stream",
     "text": [
      "axis : 0\n",
      "# models : 2\n"
     ]
    }
   ],
   "source": [
    "p = models.Polynomial1D(1, c0=[1,1], c1=[2,2], model_set_axis=0)\n",
    "print('axis :', p.model_set_axis)\n",
    "print('# models :', len(p))"
   ]
  },
  {
   "cell_type": "code",
   "execution_count": 51,
   "metadata": {
    "collapsed": false
   },
   "outputs": [
    {
     "name": "stdout",
     "output_type": "stream",
     "text": [
      "axis : 1\n",
      "# models : 2\n"
     ]
    }
   ],
   "source": [
    "p = models.Polynomial1D(1, c0=[[1,1]], c1=[[2,2]], model_set_axis=1)\n",
    "print('axis :', p.model_set_axis)\n",
    "print('# models :', len(p))"
   ]
  },
  {
   "cell_type": "code",
   "execution_count": 52,
   "metadata": {
    "collapsed": false
   },
   "outputs": [
    {
     "name": "stdout",
     "output_type": "stream",
     "text": [
      "axis : False\n",
      "# models : 1\n"
     ]
    }
   ],
   "source": [
    "p = models.Polynomial1D(1, c0=[1,1], c1=[2,2])\n",
    "print('axis :', p.model_set_axis)\n",
    "print('# models :', len(p))"
   ]
  },
  {
   "cell_type": "markdown",
   "metadata": {},
   "source": [
    "## Initializing a model set with default values\n",
    "\n",
    "For polynomials the defaults are automatically constructed as if model_set_axis=0.\n",
    "For all other models an error is raised.\n",
    "\n",
    "**This behavior should be consistent - always raise an error or always broadcast parameters.\n",
    "There's a [request](https://github.com/astropy/astropy/issues/6096) to always broadcast parameters.**"
   ]
  },
  {
   "cell_type": "code",
   "execution_count": 53,
   "metadata": {
    "collapsed": false
   },
   "outputs": [
    {
     "name": "stdout",
     "output_type": "stream",
     "text": [
      "axis: 0\n",
      "n_models:  2\n"
     ]
    },
    {
     "data": {
      "text/plain": [
       "<Polynomial1D(1, c0=[ 0., 0.], c1=[ 0., 0.], n_models=2)>"
      ]
     },
     "execution_count": 53,
     "metadata": {},
     "output_type": "execute_result"
    }
   ],
   "source": [
    "pn = models.Polynomial1D(1, n_models=2)\n",
    "print('axis:', pn.model_set_axis)\n",
    "print('n_models: ', len(pn))\n",
    "pn"
   ]
  },
  {
   "cell_type": "code",
   "execution_count": 54,
   "metadata": {
    "collapsed": false
   },
   "outputs": [
    {
     "ename": "InputParameterError",
     "evalue": "All parameter values must be arrays of dimension at least 1 for model_set_axis=0 (the value given for 'mean' is only 0-dimensional)",
     "output_type": "error",
     "traceback": [
      "\u001b[0;31m---------------------------------------------------------------------------\u001b[0m",
      "\u001b[0;31mInputParameterError\u001b[0m                       Traceback (most recent call last)",
      "\u001b[0;32m<ipython-input-54-1b8817124c06>\u001b[0m in \u001b[0;36m<module>\u001b[0;34m()\u001b[0m\n\u001b[0;32m----> 1\u001b[0;31m \u001b[0mgn\u001b[0m \u001b[0;34m=\u001b[0m \u001b[0mmodels\u001b[0m\u001b[0;34m.\u001b[0m\u001b[0mGaussian1D\u001b[0m\u001b[0;34m(\u001b[0m\u001b[0mn_models\u001b[0m\u001b[0;34m=\u001b[0m\u001b[0;36m2\u001b[0m\u001b[0;34m)\u001b[0m\u001b[0;34m\u001b[0m\u001b[0m\n\u001b[0m\u001b[1;32m      2\u001b[0m \u001b[0mprint\u001b[0m\u001b[0;34m(\u001b[0m\u001b[0;34m'axis:'\u001b[0m\u001b[0;34m,\u001b[0m \u001b[0mgn\u001b[0m\u001b[0;34m.\u001b[0m\u001b[0mmodel_set_axis\u001b[0m\u001b[0;34m)\u001b[0m\u001b[0;34m\u001b[0m\u001b[0m\n\u001b[1;32m      3\u001b[0m \u001b[0mprint\u001b[0m\u001b[0;34m(\u001b[0m\u001b[0;34m'n_models: '\u001b[0m\u001b[0;34m,\u001b[0m \u001b[0mlen\u001b[0m\u001b[0;34m(\u001b[0m\u001b[0mgn\u001b[0m\u001b[0;34m)\u001b[0m\u001b[0;34m)\u001b[0m\u001b[0;34m\u001b[0m\u001b[0m\n",
      "\u001b[0;32m/user/dencheva/conda-dev/envs/jwstdev/lib/python3.5/site-packages/astropy/modeling/core.py\u001b[0m in \u001b[0;36m__init__\u001b[0;34m(self, amplitude, mean, stddev, **kwargs)\u001b[0m\n\u001b[1;32m    411\u001b[0m \u001b[0;34m\u001b[0m\u001b[0m\n\u001b[1;32m    412\u001b[0m             new_init = make_function_with_signature(\n\u001b[0;32m--> 413\u001b[0;31m                     __init__, args, kwargs, varkwargs='kwargs')\n\u001b[0m\u001b[1;32m    414\u001b[0m             \u001b[0mupdate_wrapper\u001b[0m\u001b[0;34m(\u001b[0m\u001b[0mnew_init\u001b[0m\u001b[0;34m,\u001b[0m \u001b[0mcls\u001b[0m\u001b[0;34m)\u001b[0m\u001b[0;34m\u001b[0m\u001b[0m\n\u001b[1;32m    415\u001b[0m             \u001b[0mcls\u001b[0m\u001b[0;34m.\u001b[0m\u001b[0m__init__\u001b[0m \u001b[0;34m=\u001b[0m \u001b[0mnew_init\u001b[0m\u001b[0;34m\u001b[0m\u001b[0m\n",
      "\u001b[0;32m/user/dencheva/conda-dev/envs/jwstdev/lib/python3.5/site-packages/astropy/modeling/core.py\u001b[0m in \u001b[0;36m__init__\u001b[0;34m(self, *params, **kwargs)\u001b[0m\n\u001b[1;32m    408\u001b[0m \u001b[0;34m\u001b[0m\u001b[0m\n\u001b[1;32m    409\u001b[0m             \u001b[0;32mdef\u001b[0m \u001b[0m__init__\u001b[0m\u001b[0;34m(\u001b[0m\u001b[0mself\u001b[0m\u001b[0;34m,\u001b[0m \u001b[0;34m*\u001b[0m\u001b[0mparams\u001b[0m\u001b[0;34m,\u001b[0m \u001b[0;34m**\u001b[0m\u001b[0mkwargs\u001b[0m\u001b[0;34m)\u001b[0m\u001b[0;34m:\u001b[0m\u001b[0;34m\u001b[0m\u001b[0m\n\u001b[0;32m--> 410\u001b[0;31m                 \u001b[0;32mreturn\u001b[0m \u001b[0msuper\u001b[0m\u001b[0;34m(\u001b[0m\u001b[0mcls\u001b[0m\u001b[0;34m,\u001b[0m \u001b[0mself\u001b[0m\u001b[0;34m)\u001b[0m\u001b[0;34m.\u001b[0m\u001b[0m__init__\u001b[0m\u001b[0;34m(\u001b[0m\u001b[0;34m*\u001b[0m\u001b[0mparams\u001b[0m\u001b[0;34m,\u001b[0m \u001b[0;34m**\u001b[0m\u001b[0mkwargs\u001b[0m\u001b[0;34m)\u001b[0m\u001b[0;34m\u001b[0m\u001b[0m\n\u001b[0m\u001b[1;32m    411\u001b[0m \u001b[0;34m\u001b[0m\u001b[0m\n\u001b[1;32m    412\u001b[0m             new_init = make_function_with_signature(\n",
      "\u001b[0;32m/user/dencheva/conda-dev/envs/jwstdev/lib/python3.5/site-packages/astropy/modeling/core.py\u001b[0m in \u001b[0;36m__init__\u001b[0;34m(self, meta, name, *args, **kwargs)\u001b[0m\n\u001b[1;32m    682\u001b[0m         \u001b[0;31m# Parameter values must be passed in as keyword arguments in order to\u001b[0m\u001b[0;34m\u001b[0m\u001b[0;34m\u001b[0m\u001b[0m\n\u001b[1;32m    683\u001b[0m         \u001b[0;31m# distinguish them\u001b[0m\u001b[0;34m\u001b[0m\u001b[0;34m\u001b[0m\u001b[0m\n\u001b[0;32m--> 684\u001b[0;31m         \u001b[0mself\u001b[0m\u001b[0;34m.\u001b[0m\u001b[0m_initialize_parameters\u001b[0m\u001b[0;34m(\u001b[0m\u001b[0margs\u001b[0m\u001b[0;34m,\u001b[0m \u001b[0mkwargs\u001b[0m\u001b[0;34m)\u001b[0m\u001b[0;34m\u001b[0m\u001b[0m\n\u001b[0m\u001b[1;32m    685\u001b[0m         \u001b[0mself\u001b[0m\u001b[0;34m.\u001b[0m\u001b[0m_initialize_unit_support\u001b[0m\u001b[0;34m(\u001b[0m\u001b[0;34m)\u001b[0m\u001b[0;34m\u001b[0m\u001b[0m\n\u001b[1;32m    686\u001b[0m \u001b[0;34m\u001b[0m\u001b[0m\n",
      "\u001b[0;32m/user/dencheva/conda-dev/envs/jwstdev/lib/python3.5/site-packages/astropy/modeling/core.py\u001b[0m in \u001b[0;36m_initialize_parameters\u001b[0;34m(self, args, kwargs)\u001b[0m\n\u001b[1;32m   1811\u001b[0m                         \u001b[0;34m\"at least {0} for model_set_axis={1} (the value \"\u001b[0m\u001b[0;34m\u001b[0m\u001b[0m\n\u001b[1;32m   1812\u001b[0m                         \"given for {2!r} is only {3}-dimensional)\".format(\n\u001b[0;32m-> 1813\u001b[0;31m                             min_ndim, model_set_axis, name, param_ndim))\n\u001b[0m\u001b[1;32m   1814\u001b[0m \u001b[0;34m\u001b[0m\u001b[0m\n\u001b[1;32m   1815\u001b[0m                 \u001b[0mmax_ndim\u001b[0m \u001b[0;34m=\u001b[0m \u001b[0mmax\u001b[0m\u001b[0;34m(\u001b[0m\u001b[0mmax_ndim\u001b[0m\u001b[0;34m,\u001b[0m \u001b[0mparam_ndim\u001b[0m\u001b[0;34m)\u001b[0m\u001b[0;34m\u001b[0m\u001b[0m\n",
      "\u001b[0;31mInputParameterError\u001b[0m: All parameter values must be arrays of dimension at least 1 for model_set_axis=0 (the value given for 'mean' is only 0-dimensional)"
     ]
    }
   ],
   "source": [
    "gn = models.Gaussian1D(n_models=2)\n",
    "print('axis:', gn.model_set_axis)\n",
    "print('n_models: ', len(gn))"
   ]
  },
  {
   "cell_type": "markdown",
   "metadata": {},
   "source": []
  },
  {
   "cell_type": "markdown",
   "metadata": {},
   "source": [
    "## Model evaluation\n",
    "\n",
    "Assume the inputs broadcast with the parameters along the model_set_axis. If not, use a keyword, e.g. **input_axis**, int - to specify the axis of the input, or False - to specify to use the entire input. Is **None** more intuitive than **False**? This is identical to the current behaviour except that the keyword is renamed. "
   ]
  },
  {
   "cell_type": "code",
   "execution_count": 18,
   "metadata": {
    "collapsed": false
   },
   "outputs": [
    {
     "data": {
      "text/plain": [
       "array([[ 0.60653066,  0.27067057],\n",
       "       [ 1.        ,  1.21306132],\n",
       "       [ 0.60653066,  2.        ],\n",
       "       [ 0.13533528,  1.21306132]])"
      ]
     },
     "execution_count": 18,
     "metadata": {},
     "output_type": "execute_result"
    }
   ],
   "source": [
    "g1(x1)"
   ]
  },
  {
   "cell_type": "markdown",
   "metadata": {},
   "source": [
    "# Initializing Model Sets"
   ]
  },
  {
   "cell_type": "markdown",
   "metadata": {},
   "source": [
    "## 1) Initialize a model set without setting `model_set_axis`\n",
    "#### Equivalent to model_set_axis=0"
   ]
  },
  {
   "cell_type": "code",
   "execution_count": 33,
   "metadata": {
    "collapsed": false
   },
   "outputs": [
    {
     "name": "stdout",
     "output_type": "stream",
     "text": [
      "0\n"
     ]
    },
    {
     "data": {
      "text/plain": [
       "<Polynomial1D(1, c0=[ 0., 0.], c1=[ 0., 0.], n_models=2)>"
      ]
     },
     "execution_count": 33,
     "metadata": {},
     "output_type": "execute_result"
    }
   ],
   "source": [
    "# It's set internally to its default value of 0.\n",
    "p = Polynomial1D(1, n_models=2)\n",
    "print(p.model_set_axis)\n",
    "p"
   ]
  },
  {
   "cell_type": "code",
   "execution_count": 37,
   "metadata": {
    "collapsed": false
   },
   "outputs": [
    {
     "name": "stdout",
     "output_type": "stream",
     "text": [
      "coeffs (array([ 0.,  0.]), array([ 0.,  0.]))\n",
      "[[ 0.  0.  0.  0.]\n",
      " [ 0.  0.  0.  0.]]\n"
     ]
    }
   ],
   "source": [
    "# To evaluate this the 0-th axis is used to pass inputs\n",
    "print(p(x0))"
   ]
  },
  {
   "cell_type": "code",
   "execution_count": 38,
   "metadata": {
    "collapsed": true
   },
   "outputs": [],
   "source": [
    "# If the inputs don't broadcast with the parameters an error is raised\n",
    "#print(px1))"
   ]
  },
  {
   "cell_type": "markdown",
   "metadata": {},
   "source": [
    "## 2) Initialize a model set with `model_set_axis=0`\n",
    "#### Equivalent to 1)"
   ]
  },
  {
   "cell_type": "markdown",
   "metadata": {},
   "source": [
    "## 3) Initialize a model set with `model_set_axis=1`"
   ]
  },
  {
   "cell_type": "code",
   "execution_count": 39,
   "metadata": {
    "collapsed": false
   },
   "outputs": [
    {
     "name": "stdout",
     "output_type": "stream",
     "text": [
      "1\n"
     ]
    },
    {
     "data": {
      "text/plain": [
       "<Polynomial1D(1, c0=[[ 0., 0.]], c1=[[ 0., 0.]], n_models=2)>"
      ]
     },
     "execution_count": 39,
     "metadata": {},
     "output_type": "execute_result"
    }
   ],
   "source": [
    "# 3) Initialize a model set without setting `model_set_axis=1`.\n",
    "p1 = Polynomial1D(1, n_models=2, model_set_axis=1)\n",
    "print(p1.model_set_axis)\n",
    "p1"
   ]
  },
  {
   "cell_type": "code",
   "execution_count": 40,
   "metadata": {
    "collapsed": false
   },
   "outputs": [
    {
     "name": "stdout",
     "output_type": "stream",
     "text": [
      "coeffs (array([[ 0.,  0.]]), array([[ 0.,  0.]]))\n",
      "[[ 0.  0.]\n",
      " [ 0.  0.]\n",
      " [ 0.  0.]\n",
      " [ 0.  0.]]\n"
     ]
    }
   ],
   "source": [
    "# To evaluate this the 1-th axis is used to pass inputs\n",
    "print(p1(x1))"
   ]
  },
  {
   "cell_type": "markdown",
   "metadata": {},
   "source": [
    "## Initialize a model set with model_set_axis=False"
   ]
  },
  {
   "cell_type": "code",
   "execution_count": 41,
   "metadata": {
    "collapsed": false
   },
   "outputs": [
    {
     "name": "stdout",
     "output_type": "stream",
     "text": [
      "False\n"
     ]
    },
    {
     "data": {
      "text/plain": [
       "<Polynomial1D(1, c0=[ 0., 0.], c1=[ 0., 0.], n_models=2)>"
      ]
     },
     "execution_count": 41,
     "metadata": {},
     "output_type": "execute_result"
    }
   ],
   "source": [
    "# 3) Initialize a model set without setting `model_set_axis=False`.\n",
    "pf = Polynomial1D(1, n_models=2, model_set_axis=False)\n",
    "print(pf.model_set_axis)\n",
    "pf"
   ]
  },
  {
   "cell_type": "code",
   "execution_count": 44,
   "metadata": {
    "collapsed": false
   },
   "outputs": [
    {
     "name": "stdout",
     "output_type": "stream",
     "text": [
      "coeffs (array([ 0.,  0.]), array([ 0.,  0.]))\n",
      "[[[ 0.  0.]\n",
      "  [ 0.  0.]\n",
      "  [ 0.  0.]\n",
      "  [ 0.  0.]]\n",
      "\n",
      " [[ 0.  0.]\n",
      "  [ 0.  0.]\n",
      "  [ 0.  0.]\n",
      "  [ 0.  0.]]]\n"
     ]
    }
   ],
   "source": [
    "# To evaluate this the entire input is passed to each model regardless of its shape\n",
    "print(pf(x1))"
   ]
  },
  {
   "cell_type": "code",
   "execution_count": 45,
   "metadata": {
    "collapsed": false
   },
   "outputs": [
    {
     "name": "stdout",
     "output_type": "stream",
     "text": [
      "coeffs (array([ 0.,  0.]), array([ 0.,  0.]))\n",
      "[[[ 0.  0.  0.  0.]\n",
      "  [ 0.  0.  0.  0.]]\n",
      "\n",
      " [[ 0.  0.  0.  0.]\n",
      "  [ 0.  0.  0.  0.]]]\n"
     ]
    }
   ],
   "source": [
    "print(pf(x0))"
   ]
  },
  {
   "cell_type": "code",
   "execution_count": 52,
   "metadata": {
    "collapsed": false
   },
   "outputs": [
    {
     "name": "stdout",
     "output_type": "stream",
     "text": [
      "x3.shape:  (3, 4)\n",
      "coeffs (array([ 0.,  0.]), array([ 0.,  0.]))\n",
      "[[[ 0.  0.  0.  0.]\n",
      "  [ 0.  0.  0.  0.]\n",
      "  [ 0.  0.  0.  0.]]\n",
      "\n",
      " [[ 0.  0.  0.  0.]\n",
      "  [ 0.  0.  0.  0.]\n",
      "  [ 0.  0.  0.  0.]]]\n",
      "result.shape:  (2, 3, 4)\n"
     ]
    }
   ],
   "source": [
    "x3=np.array([x,x,x])\n",
    "print('x3.shape: ', x3.shape)\n",
    "res=pf(x3)\n",
    "print(res)\n",
    "print('result.shape: ', res.shape)"
   ]
  },
  {
   "cell_type": "markdown",
   "metadata": {},
   "source": [
    "# Change `model_set_axis` when a model is evaluated"
   ]
  },
  {
   "cell_type": "code",
   "execution_count": 31,
   "metadata": {
    "collapsed": false
   },
   "outputs": [
    {
     "data": {
      "text/plain": [
       "(5, 3)"
      ]
     },
     "execution_count": 31,
     "metadata": {},
     "output_type": "execute_result"
    }
   ],
   "source": [
    "p=Polynomial1D(1, c0=[[1,2, 3]], c1=[[3,4, 5]], model_set_axis=1)\n",
    "x = np.arange(5)\n",
    "\n",
    "#y = p(x) # error\n",
    "y = p(x, model_set_axis=False)\n",
    "y.shape"
   ]
  },
  {
   "cell_type": "code",
   "execution_count": 33,
   "metadata": {
    "collapsed": false
   },
   "outputs": [
    {
     "data": {
      "text/plain": [
       "array([[   4.,   10.,   18.],\n",
       "       [  13.,   26.,   43.],\n",
       "       [  22.,   42.,   68.],\n",
       "       [  31.,   58.,   93.],\n",
       "       [  40.,   74.,  118.]])"
      ]
     },
     "execution_count": 33,
     "metadata": {},
     "output_type": "execute_result"
    }
   ],
   "source": [
    "p(y) # model_set_axis is 1, so it works"
   ]
  },
  {
   "cell_type": "code",
   "execution_count": 34,
   "metadata": {
    "collapsed": false
   },
   "outputs": [
    {
     "data": {
      "text/plain": [
       "array([[   4.,   13.,   22.,   31.,   40.],\n",
       "       [  10.,   26.,   42.,   58.,   74.],\n",
       "       [  18.,   43.,   68.,   93.,  118.]])"
      ]
     },
     "execution_count": 34,
     "metadata": {},
     "output_type": "execute_result"
    }
   ],
   "source": [
    "p(y.T, model_set_axis=0) # changing to another integer works"
   ]
  },
  {
   "cell_type": "markdown",
   "metadata": {},
   "source": [
    "The example below raises an error.\n",
    "It can support the case when a model set is created by fitting a model to an array of `y`\n",
    "but evaluating the fitted model set on the same independent variable. It should be fixed."
   ]
  },
  {
   "cell_type": "code",
   "execution_count": 55,
   "metadata": {
    "collapsed": true
   },
   "outputs": [],
   "source": [
    "# p1(x0, model_set_axis=False)\n",
    "\n",
    "# p0(x1, model_set_axis=False) already works"
   ]
  },
  {
   "cell_type": "markdown",
   "metadata": {},
   "source": [
    "Currently it's not possible to fit a model when model_set_axis is set to False. \n",
    "\n",
    "This makes sense because a model set requires multile `y` values.\n",
    "\n",
    "**TODO:** Catch this case and issue an intelligible error."
   ]
  },
  {
   "cell_type": "code",
   "execution_count": 57,
   "metadata": {
    "collapsed": true
   },
   "outputs": [],
   "source": [
    "lfit = LinearLSQFitter()\n",
    "#lfit(pf, x0, pf(x0))"
   ]
  },
  {
   "cell_type": "markdown",
   "metadata": {},
   "source": [
    "**TODO:** Explain in the documentation that `model_set_axis=False` is valid only when a model is evaluated."
   ]
  },
  {
   "cell_type": "markdown",
   "metadata": {},
   "source": [
    "#### This means we only need to support changing `model_set_axis` from 0 or 1 to False."
   ]
  },
  {
   "cell_type": "markdown",
   "metadata": {
    "collapsed": true
   },
   "source": [
    "## Issues with model sets"
   ]
  },
  {
   "cell_type": "code",
   "execution_count": null,
   "metadata": {
    "collapsed": true
   },
   "outputs": [],
   "source": [
    "aff=Rotation2D(angle=[1,2], n_models=2)\n",
    "aff(1,2) # fails\n",
    "\n",
    "# Should at least set n_models to 1 internally and issue an error when it's not"
   ]
  }
 ],
 "metadata": {
  "anaconda-cloud": {},
  "kernelspec": {
   "display_name": "Python [jwstdev]",
   "language": "python",
   "name": "Python [jwstdev]"
  },
  "language_info": {
   "codemirror_mode": {
    "name": "ipython",
    "version": 3
   },
   "file_extension": ".py",
   "mimetype": "text/x-python",
   "name": "python",
   "nbconvert_exporter": "python",
   "pygments_lexer": "ipython3",
   "version": "3.5.1"
  }
 },
 "nbformat": 4,
 "nbformat_minor": 2
}
