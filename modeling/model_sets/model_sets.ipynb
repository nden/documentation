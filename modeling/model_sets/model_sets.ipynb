{
 "cells": [
  {
   "cell_type": "code",
   "execution_count": 1,
   "metadata": {},
   "outputs": [
    {
     "name": "stdout",
     "output_type": "stream",
     "text": [
      "/internal/1/astropy/astropy/astropy/modeling/models.py\n"
     ]
    }
   ],
   "source": [
    "from astropy.modeling import models\n",
    "print(models.__file__)"
   ]
  },
  {
   "cell_type": "code",
   "execution_count": 2,
   "metadata": {
    "collapsed": true
   },
   "outputs": [],
   "source": [
    "from astropy.modeling.models import *\n",
    "from astropy.modeling.fitting import *\n",
    "import numpy as np"
   ]
  },
  {
   "cell_type": "markdown",
   "metadata": {},
   "source": [
    "## Create input arrays with different shapes"
   ]
  },
  {
   "cell_type": "code",
   "execution_count": 36,
   "metadata": {},
   "outputs": [
    {
     "name": "stdout",
     "output_type": "stream",
     "text": [
      "x: \n",
      "[0 1 2 3]\n",
      "\n",
      "\n",
      "x1: \n",
      "[[0 0]\n",
      " [1 1]\n",
      " [2 2]\n",
      " [3 3]]\n",
      "\n",
      "\n",
      "x0: \n",
      "[[0 1 2 3]\n",
      " [0 1 2 3]]\n"
     ]
    }
   ],
   "source": [
    "# Create input arrays with different shapes\n",
    "x = np.arange(4)\n",
    "x1 = np.array([x, x]).T\n",
    "x0 = np.array([x, x])\n",
    "print('x: ')\n",
    "print(x )\n",
    "print('\\n')\n",
    "print('x1: ')\n",
    "print(x1)\n",
    "print('\\n')\n",
    "print('x0: ')\n",
    "print(x0)"
   ]
  },
  {
   "cell_type": "markdown",
   "metadata": {},
   "source": [
    "# Initialize a model set without passing `n_models`"
   ]
  },
  {
   "cell_type": "code",
   "execution_count": 9,
   "metadata": {},
   "outputs": [
    {
     "data": {
      "text/plain": [
       "<Polynomial1D(1, c0=[ 0., 0.], c1=[ 0., 0.], n_models=2)>"
      ]
     },
     "execution_count": 9,
     "metadata": {},
     "output_type": "execute_result"
    }
   ],
   "source": [
    "pn = models.Polynomial1D(1, n_models=2)\n",
    "pn"
   ]
  },
  {
   "cell_type": "code",
   "execution_count": 10,
   "metadata": {},
   "outputs": [
    {
     "name": "stdout",
     "output_type": "stream",
     "text": [
      "0\n"
     ]
    }
   ],
   "source": [
    "print(pn.model_set_axis)"
   ]
  },
  {
   "cell_type": "code",
   "execution_count": 24,
   "metadata": {},
   "outputs": [
    {
     "name": "stdout",
     "output_type": "stream",
     "text": [
      "p1:  2\n",
      "p0:  2\n",
      "p:  1\n",
      "g1:  2\n",
      "g0:  2\n",
      "g:  1\n",
      "g(10):  [  2.28973485e-10   2.28973485e-10]\n"
     ]
    }
   ],
   "source": [
    "# This currently works:\n",
    "p1 = models.Polynomial1D(1, c0=[[1,1]], c1=[[1,2]], model_set_axis=1)\n",
    "print(\"p1: \", len(p1))\n",
    "p0 = models.Polynomial1D(1, c0=[1,1], c1=[1,2], model_set_axis=0)\n",
    "print(\"p0: \", len(p0))\n",
    "p = Polynomial1D(1, c0=[1,1], c1=[1,2])\n",
    "print(\"p: \", len(p))\n",
    "\n",
    "# Trying this with a Gaussian1D model\n",
    "g1 = Gaussian1D(amplitude=[[10,10]], mean=[[3,3]], stddev=[[1,1]], model_set_axis=1)\n",
    "print(\"g1: \", len(g1))\n",
    "g0 = Gaussian1D(amplitude=[10,10], mean=[3,3], stddev=[1,1], model_set_axis=0)\n",
    "print(\"g0: \", len(g0))\n",
    "g = Gaussian1D(amplitude=[10,10], mean=[3,3], stddev=[1,1])\n",
    "print(\"g: \", len(g))\n",
    "print(\"g(10): \", g(10))"
   ]
  },
  {
   "cell_type": "markdown",
   "metadata": {},
   "source": [
    "There are two issues in the above examples. \n",
    "1. If `model_set_axis` is passed in the initializer, then `n_models` does not need to be passed to create a model set. But parameters need to be in the appropriate shape.\n",
    "2. Using the same parameter shape as in the above example but not passing `n_models` or `model_set_axis` creates a array-parameters. This is different than a model set as it is still 1 model and setting `model_set_axis=False` does not work.\n",
    "\n",
    "Suggested change:\n",
    "\n",
    "- Raise an Error if `model_set_axis` is passed but `n_model` is not passed to a model initializer, i.e. always require `n_models` to initialize a model set.\n",
    "\n",
    "- The second use case is trickier to detect. It has to be detected in the model So in the above example, Gaussian1D will have to check in the initializer that the parameters are arrays instead of scalars and raise an error. This check will need to happen in all models which use scalar parameters unless we have a `ScalarParameterModel` which they subclass.\n",
    "\n",
    "Any thoghts on these?"
   ]
  },
  {
   "cell_type": "markdown",
   "metadata": {},
   "source": [
    "# Initializing Model Sets"
   ]
  },
  {
   "cell_type": "markdown",
   "metadata": {},
   "source": [
    "## 1) Initialize a model set without setting `model_set_axis`\n",
    "#### Equivalent to model_set_axis=0"
   ]
  },
  {
   "cell_type": "code",
   "execution_count": 33,
   "metadata": {},
   "outputs": [
    {
     "name": "stdout",
     "output_type": "stream",
     "text": [
      "0\n"
     ]
    },
    {
     "data": {
      "text/plain": [
       "<Polynomial1D(1, c0=[ 0., 0.], c1=[ 0., 0.], n_models=2)>"
      ]
     },
     "execution_count": 33,
     "metadata": {},
     "output_type": "execute_result"
    }
   ],
   "source": [
    "# It's set internally to its default value of 0.\n",
    "p = Polynomial1D(1, n_models=2)\n",
    "print(p.model_set_axis)\n",
    "p"
   ]
  },
  {
   "cell_type": "code",
   "execution_count": 37,
   "metadata": {},
   "outputs": [
    {
     "name": "stdout",
     "output_type": "stream",
     "text": [
      "coeffs (array([ 0.,  0.]), array([ 0.,  0.]))\n",
      "[[ 0.  0.  0.  0.]\n",
      " [ 0.  0.  0.  0.]]\n"
     ]
    }
   ],
   "source": [
    "# To evaluate this the 0-th axis is used to pass inputs\n",
    "print(p(x0))"
   ]
  },
  {
   "cell_type": "code",
   "execution_count": 38,
   "metadata": {
    "collapsed": true
   },
   "outputs": [],
   "source": [
    "# If the inputs don't broadcast with the parameters an error is raised\n",
    "#print(px1))"
   ]
  },
  {
   "cell_type": "markdown",
   "metadata": {},
   "source": [
    "## 2) Initialize a model set with `model_set_axis=0`\n",
    "#### Equivalent to 1)"
   ]
  },
  {
   "cell_type": "markdown",
   "metadata": {},
   "source": [
    "## 3) Initialize a model set with `model_set_axis=1`"
   ]
  },
  {
   "cell_type": "code",
   "execution_count": 39,
   "metadata": {},
   "outputs": [
    {
     "name": "stdout",
     "output_type": "stream",
     "text": [
      "1\n"
     ]
    },
    {
     "data": {
      "text/plain": [
       "<Polynomial1D(1, c0=[[ 0., 0.]], c1=[[ 0., 0.]], n_models=2)>"
      ]
     },
     "execution_count": 39,
     "metadata": {},
     "output_type": "execute_result"
    }
   ],
   "source": [
    "# 3) Initialize a model set without setting `model_set_axis=1`.\n",
    "p1 = Polynomial1D(1, n_models=2, model_set_axis=1)\n",
    "print(p1.model_set_axis)\n",
    "p1"
   ]
  },
  {
   "cell_type": "code",
   "execution_count": 40,
   "metadata": {},
   "outputs": [
    {
     "name": "stdout",
     "output_type": "stream",
     "text": [
      "coeffs (array([[ 0.,  0.]]), array([[ 0.,  0.]]))\n",
      "[[ 0.  0.]\n",
      " [ 0.  0.]\n",
      " [ 0.  0.]\n",
      " [ 0.  0.]]\n"
     ]
    }
   ],
   "source": [
    "# To evaluate this the 1-th axis is used to pass inputs\n",
    "print(p1(x1))"
   ]
  },
  {
   "cell_type": "markdown",
   "metadata": {},
   "source": [
    "## Initialize a model set with model_set_axis=False"
   ]
  },
  {
   "cell_type": "code",
   "execution_count": 41,
   "metadata": {},
   "outputs": [
    {
     "name": "stdout",
     "output_type": "stream",
     "text": [
      "False\n"
     ]
    },
    {
     "data": {
      "text/plain": [
       "<Polynomial1D(1, c0=[ 0., 0.], c1=[ 0., 0.], n_models=2)>"
      ]
     },
     "execution_count": 41,
     "metadata": {},
     "output_type": "execute_result"
    }
   ],
   "source": [
    "# 3) Initialize a model set without setting `model_set_axis=False`.\n",
    "pf = Polynomial1D(1, n_models=2, model_set_axis=False)\n",
    "print(pf.model_set_axis)\n",
    "pf"
   ]
  },
  {
   "cell_type": "code",
   "execution_count": 44,
   "metadata": {},
   "outputs": [
    {
     "name": "stdout",
     "output_type": "stream",
     "text": [
      "coeffs (array([ 0.,  0.]), array([ 0.,  0.]))\n",
      "[[[ 0.  0.]\n",
      "  [ 0.  0.]\n",
      "  [ 0.  0.]\n",
      "  [ 0.  0.]]\n",
      "\n",
      " [[ 0.  0.]\n",
      "  [ 0.  0.]\n",
      "  [ 0.  0.]\n",
      "  [ 0.  0.]]]\n"
     ]
    }
   ],
   "source": [
    "# To evaluate this the entire input is passed to each model regardless of its shape\n",
    "print(pf(x1))"
   ]
  },
  {
   "cell_type": "code",
   "execution_count": 45,
   "metadata": {},
   "outputs": [
    {
     "name": "stdout",
     "output_type": "stream",
     "text": [
      "coeffs (array([ 0.,  0.]), array([ 0.,  0.]))\n",
      "[[[ 0.  0.  0.  0.]\n",
      "  [ 0.  0.  0.  0.]]\n",
      "\n",
      " [[ 0.  0.  0.  0.]\n",
      "  [ 0.  0.  0.  0.]]]\n"
     ]
    }
   ],
   "source": [
    "print(pf(x0))"
   ]
  },
  {
   "cell_type": "code",
   "execution_count": 52,
   "metadata": {},
   "outputs": [
    {
     "name": "stdout",
     "output_type": "stream",
     "text": [
      "x3.shape:  (3, 4)\n",
      "coeffs (array([ 0.,  0.]), array([ 0.,  0.]))\n",
      "[[[ 0.  0.  0.  0.]\n",
      "  [ 0.  0.  0.  0.]\n",
      "  [ 0.  0.  0.  0.]]\n",
      "\n",
      " [[ 0.  0.  0.  0.]\n",
      "  [ 0.  0.  0.  0.]\n",
      "  [ 0.  0.  0.  0.]]]\n",
      "result.shape:  (2, 3, 4)\n"
     ]
    }
   ],
   "source": [
    "x3=np.array([x,x,x])\n",
    "print('x3.shape: ', x3.shape)\n",
    "res=pf(x3)\n",
    "print(res)\n",
    "print('result.shape: ', res.shape)"
   ]
  },
  {
   "cell_type": "markdown",
   "metadata": {},
   "source": [
    "# Change `model_set_axis` when a model is evaluated"
   ]
  },
  {
   "cell_type": "markdown",
   "metadata": {},
   "source": [
    "The example below raises an error.\n",
    "It can support the case when a model set is created by fitting a model to an array of `y`\n",
    "but evaluating the fitted model set on the same independent variable. It should be fixed."
   ]
  },
  {
   "cell_type": "code",
   "execution_count": 55,
   "metadata": {},
   "outputs": [],
   "source": [
    "# p1(x0, model_set_axis=False)\n",
    "\n",
    "# p0(x1, model_set_axis=False) already works"
   ]
  },
  {
   "cell_type": "markdown",
   "metadata": {},
   "source": [
    "Currently it's not possible to fit a model when model_set_axis is set to False. \n",
    "\n",
    "This makes sense because a model set requires multile `y` values.\n",
    "\n",
    "**TODO:** Catch this case and issue an intelligible error."
   ]
  },
  {
   "cell_type": "code",
   "execution_count": 57,
   "metadata": {},
   "outputs": [],
   "source": [
    "lfit = LinearLSQFitter()\n",
    "#lfit(pf, x0, pf(x0))"
   ]
  },
  {
   "cell_type": "markdown",
   "metadata": {},
   "source": [
    "**TODO:** Explain in the documentation that `model_set_axis=False` is valid only when a model is evaluated."
   ]
  },
  {
   "cell_type": "markdown",
   "metadata": {},
   "source": [
    "#### This means we only need to support changing `model_set_axis` from 0 or 1 to False."
   ]
  },
  {
   "cell_type": "code",
   "execution_count": null,
   "metadata": {
    "collapsed": true
   },
   "outputs": [],
   "source": []
  }
 ],
 "metadata": {
  "kernelspec": {
   "display_name": "Python 3",
   "language": "python",
   "name": "python3"
  },
  "language_info": {
   "codemirror_mode": {
    "name": "ipython",
    "version": 3
   },
   "file_extension": ".py",
   "mimetype": "text/x-python",
   "name": "python",
   "nbconvert_exporter": "python",
   "pygments_lexer": "ipython3",
   "version": "3.5.1"
  }
 },
 "nbformat": 4,
 "nbformat_minor": 2
}
