{
 "cells": [
  {
   "cell_type": "markdown",
   "id": "191d2704",
   "metadata": {},
   "source": [
    "#### Modeling tutorial\n",
    "\n",
    "Modeling is part of the core astropy package. It provides a framework for representing models, performing model evaluation, and fitting models to data.\n",
    "\n",
    "Why another modeling package?\n",
    "\n",
    "- Motivation - FITS WCS is not adequate for describing distortion of raw images with high acquracy. One of the goals for Hubble images was to bundle the WCS with the data (as opposed to having the distortions in reference files). The calibrations described the distortions to an accuracy of .01 of a pixel. And there were many components of the distortions, including time dependence. Since the FITS WCS standard has only basic distortion models we had to come up with a separate convention understood only by STScI software. It was clear that the FITS WCS would be inadequate to describe the much more complex JWST WCS of the spectral instruments including IFUs, MOS and slitless spectra. This was the motivation for the Generalized World Coordinate (gwcs) package. The transforms from pixel to a world coordinate system in gwcs are done using the modeling package. Essentially gwcs was the motivation to develop the modeling package\n",
    "- Once in astropy, it expanded to define astrophysical models as well and now is much more than originaally thought of.\n",
    "\n",
    "- By design models and fitters are independent. This allows to fit the same model with different fitters.\n",
    "- The modeling subpackage defines single models and a powerful \"language\" for combining models.\n",
    "- Models have an `inverse` property which returns the analytical inverse if available or raises an error. The property allows one to assign a custom inverse to models.\n",
    "- Models can be fitted with parameter constraints - parameters can be fixed, tied or bound. Different fitters support different constraints\n",
    "- Models and fitters integrate with units. If models are initialized with parameters quantities, then the evaluation will automatically convert  \n",
    "\n",
    "This tutorial examines the modeling subpackage features by using a few real world use cases.\n",
    "This is a rather large tutorial so instead of reading every cell I'll go over the main points and leave the rest, including the exercises for later.\n",
    "\n",
    "1. The first two examples show the attributes of models, things like `parameters`, `param_names`, initializing single models, and demonstrates how to combine models using arithmetic operations.\n",
    "2. The section on model sets shows an efficient way to evaluate many types of the same model with different parameter values\n",
    "3. A section on fitting introduces `Fitters` - these are classes/objects which combine optimization algorithms with statistic functions to fit models to data.\n",
    "4. The next example transforms a set of values to another set of value. An example use case of this is transforming pixel to world coordinates. \n",
    "5. The final example in this tutorial show how to create a `Model` from a function. If you can define a function which performs something, it's possible to turn it into a Model by adding a decorator to the function."
   ]
  },
  {
   "cell_type": "markdown",
   "id": "7261a581",
   "metadata": {},
   "source": [
    "#### ASDF notes\n",
    "\n",
    "ASDF is not part of the astropy core or affiliated packages. However, it's a new data format used by several astronomy institutions and missions, as well as a few other entities.\n",
    "\n"
   ]
  },
  {
   "cell_type": "code",
   "execution_count": null,
   "id": "23d071a3",
   "metadata": {},
   "outputs": [],
   "source": []
  }
 ],
 "metadata": {
  "kernelspec": {
   "display_name": "Python 3 (ipykernel)",
   "language": "python",
   "name": "python3"
  },
  "language_info": {
   "codemirror_mode": {
    "name": "ipython",
    "version": 3
   },
   "file_extension": ".py",
   "mimetype": "text/x-python",
   "name": "python",
   "nbconvert_exporter": "python",
   "pygments_lexer": "ipython3",
   "version": "3.9.15"
  }
 },
 "nbformat": 4,
 "nbformat_minor": 5
}
