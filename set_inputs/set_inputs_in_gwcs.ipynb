{
 "cells": [
  {
   "cell_type": "code",
   "execution_count": 1,
   "metadata": {},
   "outputs": [],
   "source": [
    "from astropy.modeling import core\n",
    "from gwcs import WCS, utils\n",
    "from jwst import datamodels\n",
    "from jwst.assign_wcs import AssignWcsStep, nirspec as nrs, pointing\n",
    "from jwst.assign_wcs import nirspec"
   ]
  },
  {
   "cell_type": "markdown",
   "metadata": {},
   "source": [
    "### Create a WCS object for a Nirspec fixed slits observation - 5 open slits"
   ]
  },
  {
   "cell_type": "code",
   "execution_count": 2,
   "metadata": {},
   "outputs": [],
   "source": [
    "fpath = '/internal/1/astropy/jwst/jw00023001001_01101_00001_NRS1_assign_wcs.fits'\n"
   ]
  },
  {
   "cell_type": "code",
   "execution_count": 3,
   "metadata": {},
   "outputs": [
    {
     "name": "stderr",
     "output_type": "stream",
     "text": [
      "2019-08-09 12:31:50,552 - stpipe.AssignWcsStep - INFO - AssignWcsStep instance created.\n"
     ]
    }
   ],
   "source": [
    "im = datamodels.open(fpath)\n",
    "refs={}\n",
    "step=AssignWcsStep() \n",
    "for f in step.reference_file_types:\n",
    "    refs[f] = step.get_reference_file(im, f)"
   ]
  },
  {
   "cell_type": "code",
   "execution_count": 4,
   "metadata": {},
   "outputs": [
    {
     "name": "stderr",
     "output_type": "stream",
     "text": [
      "2019-08-09 12:31:51,540 - stpipe - INFO - Computing WCS for 5 open slitlets\n",
      "2019-08-09 12:31:51,581 - stpipe - INFO - gwa_ytilt is None deg\n",
      "2019-08-09 12:31:51,581 - stpipe - INFO - gwa_xtilt is None deg\n",
      "2019-08-09 12:31:51,582 - stpipe - INFO - gwa_xtilt not applied\n",
      "2019-08-09 12:31:51,582 - stpipe - INFO - gwa_ytilt not applied\n",
      "2019-08-09 12:31:51,604 - stpipe - INFO - SPORDER= -1, wrange=[7e-07, 1.27e-06]\n",
      "2019-08-09 12:31:51,890 - stpipe - INFO - There are 0 open slits in quadrant 1\n",
      "2019-08-09 12:31:51,890 - stpipe - INFO - There are 0 open slits in quadrant 2\n",
      "2019-08-09 12:31:51,891 - stpipe - INFO - There are 0 open slits in quadrant 3\n",
      "2019-08-09 12:31:51,891 - stpipe - INFO - There are 0 open slits in quadrant 4\n",
      "2019-08-09 12:31:51,892 - stpipe - INFO - There are 5 open slits in quadrant 5\n",
      "2019-08-09 12:31:52,321 - stpipe - WARNING - /internal/1/astropy/jwst/jwst/transforms/models.py:502: RuntimeWarning: invalid value encountered in sqrt\n",
      "  zout = np.sqrt(1 - xout ** 2 - yout ** 2)\n",
      "\n",
      "2019-08-09 12:31:52,322 - stpipe - WARNING - /internal/1/astropy/jwst/jwst/transforms/models.py:508: RuntimeWarning: invalid value encountered in sqrt\n",
      "  zout = np.sqrt(1 - xout ** 2 - yout ** 2)\n",
      "\n",
      "2019-08-09 12:31:52,333 - stpipe - WARNING - /user/dencheva/anaconda3/envs/jwstdev/lib/python3.6/site-packages/numpy/core/_methods.py:32: RuntimeWarning: invalid value encountered in reduce\n",
      "  return umr_minimum(a, axis, None, out, keepdims, initial)\n",
      "\n",
      "2019-08-09 12:31:52,333 - stpipe - WARNING - /user/dencheva/anaconda3/envs/jwstdev/lib/python3.6/site-packages/numpy/core/_methods.py:28: RuntimeWarning: invalid value encountered in reduce\n",
      "  return umr_maximum(a, axis, None, out, keepdims, initial)\n",
      "\n",
      "2019-08-09 12:31:52,334 - stpipe - INFO - Created a NIRSPEC nrs_fixedslit pipeline with references {'distortion': 'N/A', 'filteroffset': 'N/A', 'specwcs': 'N/A', 'regions': 'N/A', 'wavelengthrange': '/grp/crds/cache/references/jwst/jwst_nirspec_wavelengthrange_0004.asdf', 'camera': '/grp/crds/cache/references/jwst/jwst_nirspec_camera_0004.asdf', 'collimator': '/grp/crds/cache/references/jwst/jwst_nirspec_collimator_0004.asdf', 'disperser': '/grp/crds/cache/references/jwst/jwst_nirspec_disperser_0033.asdf', 'fore': '/grp/crds/cache/references/jwst/jwst_nirspec_fore_0026.asdf', 'fpa': '/grp/crds/cache/references/jwst/jwst_nirspec_fpa_0005.asdf', 'msa': '/grp/crds/cache/references/jwst/jwst_nirspec_msa_0005.asdf', 'ote': '/grp/crds/cache/references/jwst/jwst_nirspec_ote_0005.asdf', 'ifupost': 'N/A', 'ifufore': 'N/A', 'ifuslicer': 'N/A'}\n"
     ]
    }
   ],
   "source": [
    "pipeline, bbox = nirspec.create_pipeline(im, refs, slit_y_range=(-.5, .5))"
   ]
  },
  {
   "cell_type": "code",
   "execution_count": 5,
   "metadata": {},
   "outputs": [
    {
     "data": {
      "text/plain": [
       "{0: ((-0.5, -354643297.0449991), (-0.5, -1063771957.8266004)),\n",
       " 1: ((-0.5, -7765003.330154864), (-0.5, -25535904.213872854)),\n",
       " 2: ((-0.5, -4095787.924444007), (-0.5, -14781486.131393682)),\n",
       " 3: ((-0.5, -11890226.37843511), (-0.5, -47106375.593335696)),\n",
       " 4: ((-0.5, 2047.5), (-0.5, 2047.5))}"
      ]
     },
     "execution_count": 5,
     "metadata": {},
     "output_type": "execute_result"
    }
   ],
   "source": [
    "bbox"
   ]
  },
  {
   "cell_type": "code",
   "execution_count": 6,
   "metadata": {},
   "outputs": [],
   "source": [
    "wcsobj = WCS(pipeline, inputs=('x', 'y', 'slit'), selector=('slit',)) \n",
    "wcsobj.bounding_box = bbox"
   ]
  },
  {
   "cell_type": "markdown",
   "metadata": {},
   "source": [
    "### Calling the WCS object, i.e. using set_inputs in the `WCS.__call__` method"
   ]
  },
  {
   "cell_type": "code",
   "execution_count": 7,
   "metadata": {},
   "outputs": [
    {
     "name": "stdout",
     "output_type": "stream",
     "text": [
      "   From      Transform  \n",
      "---------- -------------\n",
      "  detector CompoundModel\n",
      "       sca CompoundModel\n",
      "       gwa CompoundModel\n",
      "slit_frame CompoundModel\n",
      " msa_frame CompoundModel\n",
      "     oteip CompoundModel\n",
      "      v2v3 CompoundModel\n",
      "     world          None\n"
     ]
    }
   ],
   "source": [
    "print(wcsobj)"
   ]
  },
  {
   "cell_type": "code",
   "execution_count": 8,
   "metadata": {},
   "outputs": [
    {
     "data": {
      "text/plain": [
       "{0: ((-0.5, -354643297.0449991), (-0.5, -1063771957.8266004)),\n",
       " 1: ((-0.5, -7765003.330154864), (-0.5, -25535904.213872854)),\n",
       " 2: ((-0.5, -4095787.924444007), (-0.5, -14781486.131393682)),\n",
       " 3: ((-0.5, -11890226.37843511), (-0.5, -47106375.593335696)),\n",
       " 4: ((-0.5, 2047.5), (-0.5, 2047.5))}"
      ]
     },
     "execution_count": 8,
     "metadata": {},
     "output_type": "execute_result"
    }
   ],
   "source": [
    "wcsobj.bounding_box"
   ]
  },
  {
   "cell_type": "code",
   "execution_count": 9,
   "metadata": {},
   "outputs": [
    {
     "data": {
      "text/plain": [
       "('x', 'y', 'slit')"
      ]
     },
     "execution_count": 9,
     "metadata": {},
     "output_type": "execute_result"
    }
   ],
   "source": [
    "wcsobj.inputs\n"
   ]
  },
  {
   "cell_type": "code",
   "execution_count": 10,
   "metadata": {},
   "outputs": [
    {
     "data": {
      "text/plain": [
       "('slit',)"
      ]
     },
     "execution_count": 10,
     "metadata": {},
     "output_type": "execute_result"
    }
   ],
   "source": [
    "wcsobj.selector"
   ]
  },
  {
   "cell_type": "raw",
   "metadata": {},
   "source": [
    "fixed_inputs={2: 0} # second input is \"slit\" and I am setting `slit=0`"
   ]
  },
  {
   "cell_type": "code",
   "execution_count": 42,
   "metadata": {
    "scrolled": true
   },
   "outputs": [],
   "source": [
    "forward_transform = wcsobj.forward_transform\n",
    "transform = core.set_inputs(forward_transform, {2: 0})\n",
    "\n",
    "bb = wcsobj.bounding_box[list(fixed_inputs.keys())[0]]\n",
    "transform.bounding_box = bb"
   ]
  },
  {
   "cell_type": "code",
   "execution_count": 43,
   "metadata": {},
   "outputs": [],
   "source": [
    "# Various checks done meanwhile:\n",
    "for key in fixed_inputs.keys():\n",
    "    if utils.isnumerical(key) and key > len(wcsobj.inputs) or wcsobj.inputs.index(wcsobj.selector[0]) != key:\n",
    "        raise ValueError(\"\")\n",
    "    elif isinstance(key, str) and key not in wcsobj.selector:\n",
    "        raise ValueError(\"The inputs that can be fixed are {}\".format(self.selector))"
   ]
  },
  {
   "cell_type": "code",
   "execution_count": 44,
   "metadata": {},
   "outputs": [],
   "source": [
    "# To evaluate the transform I need to remove the fixed argument in WCS.__call__\n",
    "# assuming integer key\n",
    "args = [1000, 1074, 0]\n",
    "key = list(fixed_inputs.keys())[0]\n",
    "args.remove(args[key])\n"
   ]
  },
  {
   "cell_type": "code",
   "execution_count": 45,
   "metadata": {},
   "outputs": [
    {
     "data": {
      "text/plain": [
       "(15.154044390141793, 15.09279127041945, 1.0525618560405021, 0.0)"
      ]
     },
     "execution_count": 45,
     "metadata": {},
     "output_type": "execute_result"
    }
   ],
   "source": [
    "# Now I can call the new transform\n",
    "transform(*args)\n"
   ]
  },
  {
   "cell_type": "markdown",
   "metadata": {},
   "source": [
    "The user facing interface is in this case (i.e. calling the WCS ):"
   ]
  },
  {
   "cell_type": "code",
   "execution_count": 41,
   "metadata": {},
   "outputs": [],
   "source": [
    "kwargs={'fixed_inputs':{2:0}} \n",
    "# wcsobj(1, 2, 0, **kwargs) # this is how it will be called"
   ]
  },
  {
   "cell_type": "markdown",
   "metadata": {},
   "source": [
    "Ideally I would prefer to call it liek\n",
    "\n",
    "```\n",
    "wcsobj(1, 2, slit=0)\n",
    "```"
   ]
  },
  {
   "cell_type": "code",
   "execution_count": 16,
   "metadata": {},
   "outputs": [],
   "source": [
    "# The reason for the clumsiness is that the bounding_box is dealt with in the WCS object"
   ]
  },
  {
   "cell_type": "markdown",
   "metadata": {},
   "source": [
    "# Create a new unique  WCS using set_inputs"
   ]
  },
  {
   "cell_type": "markdown",
   "metadata": {},
   "source": [
    "Ideally I'd like to be able to go through the pipeline steps and for each step extract the unique transform using set_inputs and construct a new pipeline. This means however that either the fixed input needs to be in the same positional place for all transforms or it needs to use the same name. For example, for a fixed input, called `oder` which is in third position in the inputs to the WCS and a pipeline like\n",
    "\n",
    "```\n",
    "[(detector, transform1),\n",
    " (focal, transform2),\n",
    " (world, None)\n",
    " ]\n",
    "```\n",
    "\n",
    "- `transform1` and `transform2` need to have inut named `order`\n",
    "- input `order` needs to be in the same position in the inputs for both transforms.\n",
    "\n",
    "If this was possible the following would work:"
   ]
  },
  {
   "cell_type": "code",
   "execution_count": 17,
   "metadata": {},
   "outputs": [],
   "source": [
    "def set_inputs(wcs, **fixed):\n",
    "    new_pipeline = []\n",
    "    for step in self.pipeline:\n",
    "        transform = core.set_inputs(step[1], fixed)\n",
    "        new_pipeline.append((step[0], transform))\n",
    "    \n",
    "    return self.__class__(new_pipeline)"
   ]
  },
  {
   "cell_type": "markdown",
   "metadata": {},
   "source": [
    "Currently modeling assigns generic names to the inputs and it's not possible to change them. For a good reason - `Model.inputs` defines `Model.n_inputs`. There's also code which matches inptus to outputs in compound models to facilitate working with units.\n",
    "\n",
    "Assuming the fixed input would be in the same position for all transforms is not good either. Often the models require \n",
    "an intermediate `Mapping` to change the order of inputs."
   ]
  },
  {
   "cell_type": "code",
   "execution_count": 21,
   "metadata": {},
   "outputs": [
    {
     "ename": "ValueError",
     "evalue": "Substitution key string not among possible input choices",
     "output_type": "error",
     "traceback": [
      "\u001b[0;31m---------------------------------------------------------------------------\u001b[0m",
      "\u001b[0;31mValueError\u001b[0m                                Traceback (most recent call last)",
      "\u001b[0;32m<ipython-input-21-cd44b72a40af>\u001b[0m in \u001b[0;36m<module>\u001b[0;34m\u001b[0m\n\u001b[0;32m----> 1\u001b[0;31m \u001b[0mset_inputs\u001b[0m\u001b[0;34m(\u001b[0m\u001b[0mwcsobj\u001b[0m\u001b[0;34m,\u001b[0m \u001b[0mslit\u001b[0m\u001b[0;34m=\u001b[0m\u001b[0;36m0\u001b[0m\u001b[0;34m)\u001b[0m\u001b[0;34m\u001b[0m\u001b[0;34m\u001b[0m\u001b[0m\n\u001b[0m",
      "\u001b[0;32m<ipython-input-18-fb720f8a3a55>\u001b[0m in \u001b[0;36mset_inputs\u001b[0;34m(wcs, **fixed)\u001b[0m\n\u001b[1;32m      2\u001b[0m     \u001b[0mnew_pipeline\u001b[0m \u001b[0;34m=\u001b[0m \u001b[0;34m[\u001b[0m\u001b[0;34m]\u001b[0m\u001b[0;34m\u001b[0m\u001b[0;34m\u001b[0m\u001b[0m\n\u001b[1;32m      3\u001b[0m     new_pipeline.append((wcs.input_frame,\n\u001b[0;32m----> 4\u001b[0;31m                          core.set_inputs(wcs.forward_transform, fixed)))\n\u001b[0m\u001b[1;32m      5\u001b[0m     \u001b[0mnew_pipeline\u001b[0m\u001b[0;34m.\u001b[0m\u001b[0mappend\u001b[0m\u001b[0;34m(\u001b[0m\u001b[0;34m(\u001b[0m\u001b[0mwcs\u001b[0m\u001b[0;34m.\u001b[0m\u001b[0moutput_frame\u001b[0m\u001b[0;34m,\u001b[0m \u001b[0;32mNone\u001b[0m\u001b[0;34m)\u001b[0m\u001b[0;34m)\u001b[0m\u001b[0;34m\u001b[0m\u001b[0;34m\u001b[0m\u001b[0m\n\u001b[1;32m      6\u001b[0m     \u001b[0mwcsobj\u001b[0m \u001b[0;34m=\u001b[0m \u001b[0mWCS\u001b[0m\u001b[0;34m(\u001b[0m\u001b[0mnew_pipeline\u001b[0m\u001b[0;34m)\u001b[0m\u001b[0;34m\u001b[0m\u001b[0;34m\u001b[0m\u001b[0m\n",
      "\u001b[0;32m/internal/1/astropy/astropy/astropy/modeling/core.py\u001b[0m in \u001b[0;36mset_inputs\u001b[0;34m(modelinstance, values)\u001b[0m\n\u001b[1;32m   3494\u001b[0m     \u001b[0mGaussian2D\u001b[0m\u001b[0;34m(\u001b[0m\u001b[0;36m1\u001b[0m\u001b[0;34m,\u001b[0m \u001b[0;36m2\u001b[0m\u001b[0;34m,\u001b[0m \u001b[0;36m3\u001b[0m\u001b[0;34m,\u001b[0m \u001b[0;36m4\u001b[0m\u001b[0;34m,\u001b[0m \u001b[0;36m5\u001b[0m\u001b[0;34m)\u001b[0m\u001b[0;34m(\u001b[0m\u001b[0mx\u001b[0m\u001b[0;34m=\u001b[0m\u001b[0;36m2.5\u001b[0m\u001b[0;34m,\u001b[0m \u001b[0my\u001b[0m\u001b[0;34m)\u001b[0m\u001b[0;34m\u001b[0m\u001b[0;34m\u001b[0m\u001b[0m\n\u001b[1;32m   3495\u001b[0m     \"\"\"\n\u001b[0;32m-> 3496\u001b[0;31m     \u001b[0;32mreturn\u001b[0m \u001b[0mCompoundModel\u001b[0m\u001b[0;34m(\u001b[0m\u001b[0;34m'set_inputs'\u001b[0m\u001b[0;34m,\u001b[0m \u001b[0mmodelinstance\u001b[0m\u001b[0;34m,\u001b[0m \u001b[0mvalues\u001b[0m\u001b[0;34m)\u001b[0m\u001b[0;34m\u001b[0m\u001b[0;34m\u001b[0m\u001b[0m\n\u001b[0m\u001b[1;32m   3497\u001b[0m \u001b[0;34m\u001b[0m\u001b[0m\n\u001b[1;32m   3498\u001b[0m \u001b[0;34m\u001b[0m\u001b[0m\n",
      "\u001b[0;32m/internal/1/astropy/astropy/astropy/modeling/core.py\u001b[0m in \u001b[0;36m__init__\u001b[0;34m(self, op, left, right, name, inverse)\u001b[0m\n\u001b[1;32m   2381\u001b[0m                     \u001b[0;32mif\u001b[0m \u001b[0mkey\u001b[0m \u001b[0;32mnot\u001b[0m \u001b[0;32min\u001b[0m \u001b[0mleft\u001b[0m\u001b[0;34m.\u001b[0m\u001b[0minputs\u001b[0m\u001b[0;34m:\u001b[0m\u001b[0;34m\u001b[0m\u001b[0;34m\u001b[0m\u001b[0m\n\u001b[1;32m   2382\u001b[0m                         raise ValueError(\n\u001b[0;32m-> 2383\u001b[0;31m                             \u001b[0;34m'Substitution key string not among possible '\u001b[0m\u001b[0;34m\u001b[0m\u001b[0;34m\u001b[0m\u001b[0m\n\u001b[0m\u001b[1;32m   2384\u001b[0m                             'input choices')\n\u001b[1;32m   2385\u001b[0m                     \u001b[0;31m# Check to see it doesn't match positional\u001b[0m\u001b[0;34m\u001b[0m\u001b[0;34m\u001b[0m\u001b[0;34m\u001b[0m\u001b[0m\n",
      "\u001b[0;31mValueError\u001b[0m: Substitution key string not among possible input choices"
     ]
    }
   ],
   "source": [
    "set_inputs(wcsobj, slit=0)"
   ]
  },
  {
   "cell_type": "markdown",
   "metadata": {},
   "source": [
    "So currently it's only possible to return a complete WCS with one transform only, combining the individual pipeline steps into a single step."
   ]
  },
  {
   "cell_type": "code",
   "execution_count": 32,
   "metadata": {},
   "outputs": [],
   "source": [
    "def set_inputs1(wcs, **fixed):\n",
    "    new_pipeline = []\n",
    "    new_pipeline.append((wcs.input_frame,\n",
    "                         core.set_inputs(wcs.forward_transform, fixed)))\n",
    "    new_pipeline.append((wcs.output_frame, None))\n",
    "    wcsobj = WCS(new_pipeline)\n",
    "    wcsobj.bounding_box = wcs._compound_bbox[list(fixed.values())[0]]\n",
    "    return wcsobj"
   ]
  },
  {
   "cell_type": "markdown",
   "metadata": {},
   "source": [
    "\n",
    "The last line in the function is a bit misleading. It works if there's only one fixed input.\n",
    "Let's say we have several inputs and a combination is required to define a unique WCS - `order`, `x_source`, `y_source`.\n",
    "\n",
    "I imagine the bounding box in this case will look like\n",
    "\n",
    "```\n",
    "wcsobj._compound_bbox\n",
    "\n",
    "{(1, 1089, 1000): [[-0.5, -354643297.0449991], [-0.5, -1063771957.8266004]],\n",
    " (2, 100, 200): [[-0.5, -7765003.330154864], [-0.5, -25535904.213872854]]\n",
    "}\n",
    "```\n",
    "\n",
    "where the keys are tuples of `(order, x_source, y_source)`.\n",
    "\n",
    "The WCS should have an attribute which tells users which inputs can be used as a selector.\n",
    "For example, `wcsobj.selector = (\"order\", \"x_source\", \"y_source\")`. \n",
    "\n",
    "So the function above needs to become:\n",
    "```\n",
    "def set_inputs(wcs, **fixed):\n",
    "    new_pipeline = []\n",
    "    new_pipeline.append((wcs.input_frame,\n",
    "                         core.set_inputs(wcs.forward_transform, fixed)))\n",
    "    new_pipeline.append((wcs.output_frame, None))\n",
    "    wcsobj = WCS(new_pipeline)\n",
    "    keys = [fixed[key] for key in wcsobj.selector)\n",
    "    wcsobj.bounding_box = wcs._compound_bbox[keys]\n",
    "    \n",
    "```\n",
    "\n",
    "Does this make sense?\n",
    "\n",
    "\n",
    "Is it possible to make it work with positional arguments? We need to explore allowing `Model.inputs` to be settable although some of the basic Model functionality depends on this attribute."
   ]
  },
  {
   "cell_type": "code",
   "execution_count": 33,
   "metadata": {},
   "outputs": [],
   "source": [
    "new_wcs = set_inputs1(wcsobj, x01=0)"
   ]
  },
  {
   "cell_type": "code",
   "execution_count": 35,
   "metadata": {},
   "outputs": [
    {
     "name": "stdout",
     "output_type": "stream",
     "text": [
      "fixed {}\n"
     ]
    },
    {
     "data": {
      "text/plain": [
       "[nan, nan, nan, nan]"
      ]
     },
     "execution_count": 35,
     "metadata": {},
     "output_type": "execute_result"
    }
   ],
   "source": [
    "new_wcs(1000, 1070)"
   ]
  },
  {
   "cell_type": "code",
   "execution_count": 37,
   "metadata": {},
   "outputs": [
    {
     "data": {
      "text/plain": [
       "((-0.5, -354643297.0449991), (-0.5, -1063771957.8266004))"
      ]
     },
     "execution_count": 37,
     "metadata": {},
     "output_type": "execute_result"
    }
   ],
   "source": [
    "new_wcs.bounding_box # bounding box is currently computed incorrectly"
   ]
  },
  {
   "cell_type": "code",
   "execution_count": 38,
   "metadata": {},
   "outputs": [
    {
     "name": "stdout",
     "output_type": "stream",
     "text": [
      "fixed {}\n"
     ]
    },
    {
     "data": {
      "text/plain": [
       "(15.153991035614474, 15.092896384943735, 1.0526474535394414, 0.0)"
      ]
     },
     "execution_count": 38,
     "metadata": {},
     "output_type": "execute_result"
    }
   ],
   "source": [
    "new_wcs(1000, 1070, with_bounding_box=False)"
   ]
  },
  {
   "cell_type": "code",
   "execution_count": null,
   "metadata": {},
   "outputs": [],
   "source": []
  }
 ],
 "metadata": {
  "kernelspec": {
   "display_name": "Python 3",
   "language": "python",
   "name": "python3"
  },
  "language_info": {
   "codemirror_mode": {
    "name": "ipython",
    "version": 3
   },
   "file_extension": ".py",
   "mimetype": "text/x-python",
   "name": "python",
   "nbconvert_exporter": "python",
   "pygments_lexer": "ipython3",
   "version": "3.6.7"
  }
 },
 "nbformat": 4,
 "nbformat_minor": 2
}
