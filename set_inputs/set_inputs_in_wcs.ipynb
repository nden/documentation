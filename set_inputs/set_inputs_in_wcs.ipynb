{
 "cells": [
  {
   "cell_type": "code",
   "execution_count": 39,
   "metadata": {},
   "outputs": [],
   "source": [
    "from astropy.modeling import core\n",
    "from gwcs import WCS, utils\n",
    "from jwst import datamodels\n",
    "from jwst.assign_wcs import AssignWcsStep, nirspec as nrs, pointing\n",
    "from jwst.assign_wcs import nirspec"
   ]
  },
  {
   "cell_type": "code",
   "execution_count": 2,
   "metadata": {},
   "outputs": [],
   "source": [
    "fpath = '/internal/1/astropy/jwst/jw00023001001_01101_00001_NRS1_assign_wcs.fits'\n"
   ]
  },
  {
   "cell_type": "code",
   "execution_count": 5,
   "metadata": {},
   "outputs": [
    {
     "name": "stderr",
     "output_type": "stream",
     "text": [
      "2019-08-08 17:35:00,807 - stpipe - WARNING - /user/dencheva/anaconda3/envs/jwstdev/lib/python3.6/site-packages/asdf/asdf.py:202: UserWarning: File was created with extension 'astropy.io.misc.asdf.extension.AstropyAsdfExtension' from package astropy-4.0.dev25164, but older version -stropy-3.2.dev23806 is installed\n",
      "  warnings.warn(fmt_msg)\n",
      "\n",
      "2019-08-08 17:35:00,809 - stpipe - WARNING - /user/dencheva/anaconda3/envs/jwstdev/lib/python3.6/site-packages/asdf/asdf.py:202: UserWarning: File was created with extension 'astropy.io.misc.asdf.extension.AstropyExtension' from package astropy-4.0.dev25164, but older version -stropy-3.2.dev23806 is installed\n",
      "  warnings.warn(fmt_msg)\n",
      "\n",
      "2019-08-08 17:35:00,913 - stpipe.AssignWcsStep - INFO - AssignWcsStep instance created.\n"
     ]
    },
    {
     "name": "stdout",
     "output_type": "stream",
     "text": [
      "yes\n",
      "()\n"
     ]
    }
   ],
   "source": [
    "im = datamodels.open(fpath)\n",
    "refs={}\n",
    "step=AssignWcsStep() \n",
    "for f in step.reference_file_types:\n",
    "    refs[f] = step.get_reference_file(im, f)"
   ]
  },
  {
   "cell_type": "code",
   "execution_count": 8,
   "metadata": {},
   "outputs": [
    {
     "name": "stderr",
     "output_type": "stream",
     "text": [
      "2019-08-08 17:36:05,987 - stpipe - INFO - Computing WCS for 5 open slitlets\n",
      "2019-08-08 17:36:06,028 - stpipe - INFO - gwa_ytilt is None deg\n",
      "2019-08-08 17:36:06,029 - stpipe - INFO - gwa_xtilt is None deg\n",
      "2019-08-08 17:36:06,029 - stpipe - INFO - gwa_xtilt not applied\n",
      "2019-08-08 17:36:06,029 - stpipe - INFO - gwa_ytilt not applied\n",
      "2019-08-08 17:36:06,044 - stpipe - INFO - SPORDER= -1, wrange=[7e-07, 1.27e-06]\n",
      "2019-08-08 17:36:06,246 - stpipe - INFO - There are 0 open slits in quadrant 1\n",
      "2019-08-08 17:36:06,246 - stpipe - INFO - There are 0 open slits in quadrant 2\n",
      "2019-08-08 17:36:06,247 - stpipe - INFO - There are 0 open slits in quadrant 3\n",
      "2019-08-08 17:36:06,247 - stpipe - INFO - There are 0 open slits in quadrant 4\n",
      "2019-08-08 17:36:06,248 - stpipe - INFO - There are 5 open slits in quadrant 5\n",
      "2019-08-08 17:36:06,622 - stpipe - WARNING - /internal/1/astropy/jwst/jwst/transforms/models.py:502: RuntimeWarning: invalid value encountered in sqrt\n",
      "  zout = np.sqrt(1 - xout ** 2 - yout ** 2)\n",
      "\n",
      "2019-08-08 17:36:06,623 - stpipe - WARNING - /internal/1/astropy/jwst/jwst/transforms/models.py:508: RuntimeWarning: invalid value encountered in sqrt\n",
      "  zout = np.sqrt(1 - xout ** 2 - yout ** 2)\n",
      "\n",
      "2019-08-08 17:36:06,638 - stpipe - WARNING - /user/dencheva/anaconda3/envs/jwstdev/lib/python3.6/site-packages/numpy/core/_methods.py:32: RuntimeWarning: invalid value encountered in reduce\n",
      "  return umr_minimum(a, axis, None, out, keepdims, initial)\n",
      "\n",
      "2019-08-08 17:36:06,638 - stpipe - WARNING - /user/dencheva/anaconda3/envs/jwstdev/lib/python3.6/site-packages/numpy/core/_methods.py:28: RuntimeWarning: invalid value encountered in reduce\n",
      "  return umr_maximum(a, axis, None, out, keepdims, initial)\n",
      "\n",
      "2019-08-08 17:36:06,639 - stpipe - INFO - Created a NIRSPEC nrs_fixedslit pipeline with references {'distortion': 'N/A', 'filteroffset': 'N/A', 'specwcs': 'N/A', 'regions': 'N/A', 'wavelengthrange': '/grp/crds/cache/references/jwst/jwst_nirspec_wavelengthrange_0004.asdf', 'camera': '/grp/crds/cache/references/jwst/jwst_nirspec_camera_0004.asdf', 'collimator': '/grp/crds/cache/references/jwst/jwst_nirspec_collimator_0004.asdf', 'disperser': '/grp/crds/cache/references/jwst/jwst_nirspec_disperser_0033.asdf', 'fore': '/grp/crds/cache/references/jwst/jwst_nirspec_fore_0026.asdf', 'fpa': '/grp/crds/cache/references/jwst/jwst_nirspec_fpa_0005.asdf', 'msa': '/grp/crds/cache/references/jwst/jwst_nirspec_msa_0005.asdf', 'ote': '/grp/crds/cache/references/jwst/jwst_nirspec_ote_0005.asdf', 'ifupost': 'N/A', 'ifufore': 'N/A', 'ifuslicer': 'N/A'}\n"
     ]
    }
   ],
   "source": [
    "pipeline, bbox = nirspec.create_pipeline(im, refs, slit_y_range=(-.5, .5))"
   ]
  },
  {
   "cell_type": "code",
   "execution_count": 12,
   "metadata": {},
   "outputs": [
    {
     "data": {
      "text/plain": [
       "{0: ((-0.5, -354643297.0449991), (-0.5, -1063771957.8266004)),\n",
       " 1: ((-0.5, -7765003.330154864), (-0.5, -25535904.213872854)),\n",
       " 2: ((-0.5, -4095787.924444007), (-0.5, -14781486.131393682)),\n",
       " 3: ((-0.5, -11890226.37843511), (-0.5, -47106375.593335696)),\n",
       " 4: ((-0.5, 2047.5), (-0.5, 2047.5))}"
      ]
     },
     "execution_count": 12,
     "metadata": {},
     "output_type": "execute_result"
    }
   ],
   "source": [
    "bbox"
   ]
  },
  {
   "cell_type": "code",
   "execution_count": 14,
   "metadata": {},
   "outputs": [
    {
     "name": "stdout",
     "output_type": "stream",
     "text": [
      "('x', 'y', 'slit')\n"
     ]
    }
   ],
   "source": [
    "wcsobj = WCS(pipeline, inputs=('x', 'y', 'slit'), selector=('slit',)) \n",
    "wcsobj.bounding_box = bbox"
   ]
  },
  {
   "cell_type": "code",
   "execution_count": 16,
   "metadata": {},
   "outputs": [
    {
     "name": "stdout",
     "output_type": "stream",
     "text": [
      "   From      Transform  \n",
      "---------- -------------\n",
      "  detector CompoundModel\n",
      "       sca CompoundModel\n",
      "       gwa CompoundModel\n",
      "slit_frame CompoundModel\n",
      " msa_frame CompoundModel\n",
      "     oteip CompoundModel\n",
      "      v2v3 CompoundModel\n",
      "     world          None\n"
     ]
    }
   ],
   "source": [
    "print(wcsobj)"
   ]
  },
  {
   "cell_type": "code",
   "execution_count": 17,
   "metadata": {},
   "outputs": [
    {
     "data": {
      "text/plain": [
       "{0: ((-0.5, -354643297.0449991), (-0.5, -1063771957.8266004)),\n",
       " 1: ((-0.5, -7765003.330154864), (-0.5, -25535904.213872854)),\n",
       " 2: ((-0.5, -4095787.924444007), (-0.5, -14781486.131393682)),\n",
       " 3: ((-0.5, -11890226.37843511), (-0.5, -47106375.593335696)),\n",
       " 4: ((-0.5, 2047.5), (-0.5, 2047.5))}"
      ]
     },
     "execution_count": 17,
     "metadata": {},
     "output_type": "execute_result"
    }
   ],
   "source": [
    "wcsobj.bounding_box"
   ]
  },
  {
   "cell_type": "code",
   "execution_count": 20,
   "metadata": {},
   "outputs": [
    {
     "data": {
      "text/plain": [
       "('x', 'y', 'slit')"
      ]
     },
     "execution_count": 20,
     "metadata": {},
     "output_type": "execute_result"
    }
   ],
   "source": [
    "wcsobj.inputs\n"
   ]
  },
  {
   "cell_type": "code",
   "execution_count": 21,
   "metadata": {},
   "outputs": [
    {
     "data": {
      "text/plain": [
       "('slit',)"
      ]
     },
     "execution_count": 21,
     "metadata": {},
     "output_type": "execute_result"
    }
   ],
   "source": [
    "wcsobj.selector"
   ]
  },
  {
   "cell_type": "raw",
   "metadata": {},
   "source": [
    "fixed_inputs={2: 0} # second input is \"slit\" and I am setting `slit=0`"
   ]
  },
  {
   "cell_type": "code",
   "execution_count": 36,
   "metadata": {},
   "outputs": [],
   "source": [
    "kwargs={'s':3, 'fixed_inputs':{2:0}} \n",
    "#wcsobj(1, 2, 0, **kwargs)"
   ]
  },
  {
   "cell_type": "code",
   "execution_count": 37,
   "metadata": {
    "scrolled": true
   },
   "outputs": [],
   "source": [
    "forward_transform = wcsobj.forward_transform\n",
    "fixed_inputs = kwargs.pop('fixed_inputs') \n",
    "transform = core.set_inputs(forward_transform, fixed_inputs)\n",
    "bb = wcsobj.bounding_box[list(fixed_inputs.keys())[0]]\n",
    "transform.bounding_box = bb"
   ]
  },
  {
   "cell_type": "code",
   "execution_count": 42,
   "metadata": {},
   "outputs": [],
   "source": [
    "# Various checks done meanwhile:\n",
    "for key in fixed_inputs.keys():\n",
    "    if utils.isnumerical(key) and key > len(wcsobj.inputs) or wcsobj.inputs.index(wcsobj.selector[0]) != key:\n",
    "        raise ValueError(\"\")\n",
    "    elif isinstance(key, str) and key not in wcsobj.selector:\n",
    "        raise ValueError(\"The inputs that can be fixed are {}\".format(self.selector))"
   ]
  },
  {
   "cell_type": "code",
   "execution_count": 43,
   "metadata": {},
   "outputs": [
    {
     "ename": "SyntaxError",
     "evalue": "unexpected EOF while parsing (<ipython-input-43-ed95619d5a74>, line 4)",
     "output_type": "error",
     "traceback": [
      "\u001b[0;36m  File \u001b[0;32m\"<ipython-input-43-ed95619d5a74>\"\u001b[0;36m, line \u001b[0;32m4\u001b[0m\n\u001b[0;31m    args.remove(args[key]\u001b[0m\n\u001b[0m                         ^\u001b[0m\n\u001b[0;31mSyntaxError\u001b[0m\u001b[0;31m:\u001b[0m unexpected EOF while parsing\n"
     ]
    }
   ],
   "source": [
    "# To evaluate the transform I need to remove the fixed argument in WCS.__call__\n",
    "# assuming integer key\n",
    "args = \n",
    "key = list(fixed_inputs.keys())[0]\n",
    "args.remove(args[key])\n"
   ]
  },
  {
   "cell_type": "code",
   "execution_count": null,
   "metadata": {},
   "outputs": [],
   "source": []
  }
 ],
 "metadata": {
  "kernelspec": {
   "display_name": "Python 3",
   "language": "python",
   "name": "python3"
  },
  "language_info": {
   "codemirror_mode": {
    "name": "ipython",
    "version": 3
   },
   "file_extension": ".py",
   "mimetype": "text/x-python",
   "name": "python",
   "nbconvert_exporter": "python",
   "pygments_lexer": "ipython3",
   "version": "3.6.7"
  }
 },
 "nbformat": 4,
 "nbformat_minor": 2
}
