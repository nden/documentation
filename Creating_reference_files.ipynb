{
 "cells": [
  {
   "cell_type": "markdown",
   "metadata": {},
   "source": [
    "## How to Create Reference files"
   ]
  },
  {
   "cell_type": "markdown",
   "metadata": {},
   "source": [
    "The recommended way to work with reference files for the JWST pipeline is to use the [jwst.datamodels](<http://jwst-pipeline.readthedocs.io/en/latest/jwst/datamodels/index.html#classes>)\n",
    "\n",
    "As an example, let's read in one of the Nirspec **dark** reference files."
   ]
  },
  {
   "cell_type": "code",
   "execution_count": 1,
   "metadata": {
    "collapsed": true
   },
   "outputs": [],
   "source": [
    "from jwst import datamodels\n",
    "dm = datamodels.DarkModel('../jwst_nirspec_dark_0136.fits')\n"
   ]
  },
  {
   "cell_type": "markdown",
   "metadata": {},
   "source": [
    "A datamodel, representing a reference file, has all the general attributes of a datamodel. "
   ]
  },
  {
   "cell_type": "code",
   "execution_count": 2,
   "metadata": {},
   "outputs": [
    {
     "name": "stdout",
     "output_type": "stream",
     "text": [
      "NIRSPEC\n",
      "NRS1\n",
      "N/A\n"
     ]
    }
   ],
   "source": [
    "print(dm.meta.instrument.name)\n",
    "print(dm.meta.instrument.detector)\n",
    "print(dm.meta.exposure.type)"
   ]
  },
  {
   "cell_type": "markdown",
   "metadata": {},
   "source": [
    "It has also the mandatory reference file keywords"
   ]
  },
  {
   "cell_type": "code",
   "execution_count": 3,
   "metadata": {},
   "outputs": [
    {
     "name": "stdout",
     "output_type": "stream",
     "text": [
      "ESA JWST SOT\n",
      "GROUND\n",
      "2015-01-01T00:00:00\n",
      "Master dark reference file\n",
      "JWST\n",
      "DARK\n"
     ]
    }
   ],
   "source": [
    "print(dm.meta.author)\n",
    "print(dm.meta.pedigree)\n",
    "print(dm.meta.useafter)\n",
    "print(dm.meta.description)\n",
    "print(dm.meta.telescope)\n",
    "print(dm.meta.reftype)"
   ]
  },
  {
   "cell_type": "markdown",
   "metadata": {},
   "source": [
    "And it has the fields/attributes specific to this reference file. For example, the **dark** reference file has a *data* array, *err* array, *dq* array and so on ..."
   ]
  },
  {
   "cell_type": "code",
   "execution_count": 4,
   "metadata": {},
   "outputs": [
    {
     "data": {
      "text/plain": [
       "array([[0, 0, 0, ..., 0, 0, 0],\n",
       "       [0, 0, 0, ..., 0, 0, 0],\n",
       "       [0, 0, 0, ..., 0, 0, 0],\n",
       "       ..., \n",
       "       [0, 0, 0, ..., 0, 0, 0],\n",
       "       [0, 0, 0, ..., 0, 0, 0],\n",
       "       [0, 0, 0, ..., 0, 0, 0]], dtype=uint16)"
      ]
     },
     "execution_count": 4,
     "metadata": {},
     "output_type": "execute_result"
    }
   ],
   "source": [
    "dm.data\n",
    "dm.err\n",
    "dm.dq"
   ]
  },
  {
   "cell_type": "markdown",
   "metadata": {},
   "source": [
    "When all else fails - every datamodel has an **_instance** attribute which holds all data for this specific model.\n",
    "\n",
    "Don't use this in code, as it is a private attribute. however, on occasions it may be useful for debugging."
   ]
  },
  {
   "cell_type": "code",
   "execution_count": 5,
   "metadata": {
    "collapsed": true,
    "scrolled": false
   },
   "outputs": [],
   "source": [
    "#dm._instance"
   ]
  },
  {
   "cell_type": "markdown",
   "metadata": {},
   "source": [
    "Reference data models have schemas associated with them. The schemas are used to validate the reference files. They list all attributes for a specific reference file and their types. For example, the schema for the dark reference file is\n",
    "\n",
    "\n",
    "\n",
    "~~~\n",
    "allOf:\n",
    "- $ref: referencefile.schema.yaml\n",
    "- $ref: keyword_exptype.schema.yaml\n",
    "- $ref: keyword_readpatt.schema.yaml\n",
    "- $ref: keyword_preadpatt.schema.yaml\n",
    "- $ref: keyword_nframes.schema.yaml\n",
    "- $ref: keyword_ngroups.schema.yaml\n",
    "- $ref: keyword_groupgap.schema.yaml\n",
    "- $ref: keyword_gainfact.schema.yaml\n",
    "- $ref: subarray.schema.yaml\n",
    "- type: object\n",
    "  properties:\n",
    "    data:\n",
    "      title: Dark current array\n",
    "      fits_hdu: SCI\n",
    "      default: 0.0\n",
    "      ndim: 3\n",
    "      datatype: float32\n",
    "    dq:\n",
    "      title: 2-D data quality array for all planes\n",
    "      fits_hdu: DQ\n",
    "      default: 0\n",
    "      ndim: 2\n",
    "      datatype: uint16\n",
    "    err:\n",
    "      title: Error array\n",
    "      fits_hdu: ERR\n",
    "      default: 0.0\n",
    "      ndim: 3\n",
    "      datatype: float32\n",
    "    dq_def:\n",
    "      $ref: dq_def.schema.yaml\n",
    "$schema: http://stsci.edu/schemas/fits-schema/fits-schema\n",
    "~~~"
   ]
  },
  {
   "cell_type": "markdown",
   "metadata": {},
   "source": [
    "To validate the file, run the **validate** method"
   ]
  },
  {
   "cell_type": "code",
   "execution_count": 6,
   "metadata": {
    "collapsed": true
   },
   "outputs": [],
   "source": [
    "dm.validate()"
   ]
  },
  {
   "cell_type": "markdown",
   "metadata": {},
   "source": [
    "### The ASDF format"
   ]
  },
  {
   "cell_type": "markdown",
   "metadata": {},
   "source": [
    "[ASDF](<http://asdf-standard.readthedocs.org/en/latest/>) is a next-generation interchange format for scientific data. The *asdf* package contains the Python implementation of the ASDF Standard.\n",
    "\n",
    "The ASDF format has the following features:\n",
    "\n",
    "- A hierarchical, human-readable metadata format (implemented using YAML)\n",
    "- Numerical arrays are stored as binary data blocks which can be memory mapped.\n",
    "  Data blocks can optionally be compressed.\n",
    "- The structure of the data can be automatically validated using schemas (implemented using JSON Schema)\n",
    "- Native Python data types (numerical types, strings, dicts, lists) are serialized automatically\n",
    "- ASDF can be extended to serialize custom data types"
   ]
  },
  {
   "cell_type": "code",
   "execution_count": 7,
   "metadata": {
    "collapsed": true
   },
   "outputs": [],
   "source": [
    "import asdf\n",
    "from asdf import AsdfFile\n",
    "\n",
    "# Save \"Hello World!\" to a file\n",
    "f = AsdfFile()\n",
    "f.tree['Hello'] = 'World!'\n",
    "f.write_to('hw.asdf')"
   ]
  },
  {
   "cell_type": "code",
   "execution_count": 8,
   "metadata": {},
   "outputs": [],
   "source": [
    "# The top of the file has software and version information\n",
    "#! less hw.asdf"
   ]
  },
  {
   "cell_type": "code",
   "execution_count": 9,
   "metadata": {},
   "outputs": [
    {
     "data": {
      "text/plain": [
       "{'Hello': 'World!',\n",
       " 'asdf_library': {'author': 'Space Telescope Science Institute',\n",
       "  'homepage': 'http://github.com/spacetelescope/asdf',\n",
       "  'name': 'asdf',\n",
       "  'version': '2.1.0.dev1406'},\n",
       " 'history': {'extensions': [<asdf.tags.core.ExtensionMetadata at 0x7f4170dd2c50>]}}"
      ]
     },
     "execution_count": 9,
     "metadata": {},
     "output_type": "execute_result"
    }
   ],
   "source": [
    "# Read back the file\n",
    "# Every ASDF file object has an attribute \"tree\" which is a dict\n",
    "fa = AsdfFile.open('hw.asdf')\n",
    "fa.tree"
   ]
  },
  {
   "cell_type": "code",
   "execution_count": 10,
   "metadata": {
    "collapsed": true
   },
   "outputs": [],
   "source": [
    "# Save an array to file\n",
    "import numpy as np\n",
    "\n",
    "data = np.random.random((3,4))\n",
    "tree = {'data': data}\n",
    "f = AsdfFile(tree)\n",
    "f.write_to('data.asdf')"
   ]
  },
  {
   "cell_type": "code",
   "execution_count": 11,
   "metadata": {},
   "outputs": [],
   "source": [
    "# The array is saved in a binary block at the end of the file\n",
    "# It's possible to save the binary block in compressed form\n",
    "#!less data.asdf"
   ]
  },
  {
   "cell_type": "markdown",
   "metadata": {},
   "source": [
    "Many astropy objects can already be serialized to file. Example saving an astropy compound model."
   ]
  },
  {
   "cell_type": "code",
   "execution_count": 12,
   "metadata": {},
   "outputs": [],
   "source": [
    "from astropy.modeling.models import Rotation2D, Polynomial2D, Mapping\n",
    "\n",
    "model = (Mapping((0, 1, 0, 1)) | \n",
    "         Polynomial2D(1, c0_0=1) & Polynomial2D(1, c0_0=2) |\n",
    "         Rotation2D(23.5))\n",
    "\n",
    "f = AsdfFile()\n",
    "f.tree['model'] = model\n",
    "f.write_to('model.asdf')"
   ]
  },
  {
   "cell_type": "code",
   "execution_count": 13,
   "metadata": {},
   "outputs": [
    {
     "data": {
      "text/plain": [
       "(0.11956193653463165, 2.2328692176954945)"
      ]
     },
     "execution_count": 13,
     "metadata": {},
     "output_type": "execute_result"
    }
   ],
   "source": [
    "# Reading it back reconstructs the model and it can be evaluated directly.\n",
    "fa = AsdfFile.open('model.asdf')\n",
    "new_model = fa.tree['model']\n",
    "new_model(1, 1)"
   ]
  },
  {
   "cell_type": "markdown",
   "metadata": {},
   "source": [
    "The primary motivation for ASDF was serializing complex WCS objects and transforms which can't be described by the FITS WCS or written to FITS files."
   ]
  },
  {
   "cell_type": "markdown",
   "metadata": {},
   "source": [
    "## WCS reference files are in ASDF format"
   ]
  },
  {
   "cell_type": "markdown",
   "metadata": {},
   "source": [
    "While it is possible to write or edit an ASDF file in a text editor, or to use the ASDF interface, the best way to create\n",
    "reference files is using the datamodels in the jwst pipeline\n",
    "[jwst.datamodels](<http://jwst-pipeline.readthedocs.io/en/latest/jwst/datamodels/index.html#classes>) and\n",
    "[astropy.modeling](<http://astropy.readthedocs.io/en/latest/modeling/index.html>).\n",
    "\n",
    "There are two steps in this process:\n",
    "\n",
    "- create a transform using the simple models and the rules to combine them\n",
    "- save the transform to an ASDF file (this automatically validates it)\n",
    "\n",
    "The rest of this document provides a brief description and examples of models in\n",
    "[astropy.modeling](<http://astropy.readthedocs.org/en/latest/modeling/index.html>)\n",
    "which are most relevant to WCS and examples of creating WCS reference files."
   ]
  },
  {
   "cell_type": "markdown",
   "metadata": {
    "collapsed": true
   },
   "source": [
    "### Create a transform"
   ]
  },
  {
   "cell_type": "markdown",
   "metadata": {},
   "source": [
    "All models are imported unders the **models** namespace. If necessary all fitters can be imported through the **fitting** module."
   ]
  },
  {
   "cell_type": "code",
   "execution_count": 14,
   "metadata": {
    "collapsed": true
   },
   "outputs": [],
   "source": [
    "from astropy.modeling import models as astmodels\n",
    "from astropy.modeling import fitting"
   ]
  },
  {
   "cell_type": "markdown",
   "metadata": {},
   "source": [
    "Many analytical models are already implemented and it is\n",
    "easy to implement new ones. Models are initialized with their parameter values.\n",
    "They are evaluated by passing the inputs directly, similar\n",
    "to the way functions are called. For example,"
   ]
  },
  {
   "cell_type": "code",
   "execution_count": 15,
   "metadata": {},
   "outputs": [
    {
     "data": {
      "text/plain": [
       "3.6399999999999997"
      ]
     },
     "execution_count": 15,
     "metadata": {},
     "output_type": "execute_result"
    }
   ],
   "source": [
    "poly_x = astmodels.Polynomial2D(degree=2, c0_0=.2, c1_0=.11, c2_0=2.3, c0_1=.43, c0_2=.1, c1_1=.5)\n",
    "poly_x(1, 1)"
   ]
  },
  {
   "cell_type": "markdown",
   "metadata": {},
   "source": [
    "Models have their analytical inverse defined if it exists and accessible through the **inverse** property.\n",
    "An inverse model can also be (re)defined by assigning to the **inverse** property.\n"
   ]
  },
  {
   "cell_type": "code",
   "execution_count": 16,
   "metadata": {},
   "outputs": [
    {
     "name": "stdout",
     "output_type": "stream",
     "text": [
      "Model: Rotation2D\n",
      "Inputs: ('x', 'y')\n",
      "Outputs: ('x', 'y')\n",
      "Model set size: 1\n",
      "Parameters:\n",
      "    angle\n",
      "    -----\n",
      "    -23.4\n"
     ]
    }
   ],
   "source": [
    "rotation = astmodels.Rotation2D(angle=23.4)\n",
    "print(rotation.inverse)"
   ]
  },
  {
   "cell_type": "code",
   "execution_count": 17,
   "metadata": {},
   "outputs": [],
   "source": [
    "coeffs = {'c0_0': 2.3, 'c0_1': 1.2, 'c1_0': 1}\n",
    "pinv = astmodels.Polynomial2D(degree=1, **coeffs)\n",
    "poly_x.inverse = pinv"
   ]
  },
  {
   "cell_type": "markdown",
   "metadata": {},
   "source": [
    "astropy.modeling also provides the means to combine models in various ways.\n",
    "\n",
    "Model concatenation uses the **&** operator. Models are evaluated on independent\n",
    "inputs and results are concatenated. The total number of inputs must be equal to the\n",
    "sum of the number of inputs of all models."
   ]
  },
  {
   "cell_type": "code",
   "execution_count": 18,
   "metadata": {},
   "outputs": [
    {
     "name": "stdout",
     "output_type": "stream",
     "text": [
      "(-33.2, -119.0)\n"
     ]
    }
   ],
   "source": [
    "shift_x = astmodels.Shift(-34.2)\n",
    "shift_y = astmodels.Shift(-120)\n",
    "model = shift_x & shift_y\n",
    "print(model(1, 1))"
   ]
  },
  {
   "cell_type": "markdown",
   "metadata": {},
   "source": [
    "Model composition uses the **|** operator. The output of one model is passed\n",
    "as input to the next one, so the number of outputs of one model must be equal to the number\n",
    "of inputs to the next one.\n"
   ]
  },
  {
   "cell_type": "code",
   "execution_count": 19,
   "metadata": {},
   "outputs": [],
   "source": [
    "model = shift_x & shift_y | rotation"
   ]
  },
  {
   "cell_type": "markdown",
   "metadata": {},
   "source": [
    "Two models, **Mapping** and **Identity**, are useful for axes manipulation - dropping\n",
    "or creating axes, or switching the order of the inputs.\n",
    "\n",
    "Mapping takes a tuple of integers and an optional number of inputs. The tuple\n",
    "represents indices into the inputs. For example, to represent a 2D Polynomial distortion\n",
    "in ``x`` and ``y``, preceded by a shift in both axes:"
   ]
  },
  {
   "cell_type": "code",
   "execution_count": 20,
   "metadata": {},
   "outputs": [
    {
     "name": "stdout",
     "output_type": "stream",
     "text": [
      "(5872.03, 8465.401520000001)\n"
     ]
    }
   ],
   "source": [
    "poly_y = astmodels.Polynomial2D(degree=2, c0_0=.2, c1_0=1.1, c2_0=.023, c0_1=3, c0_2=.01, c1_1=2.2)\n",
    "model = shift_x & shift_y | astmodels.Mapping((0, 1, 0, 1)) | poly_x & poly_y\n",
    "print(model(1, 1))"
   ]
  },
  {
   "cell_type": "markdown",
   "metadata": {},
   "source": [
    "**Identity** takes an integer which represents the number of inputs to be passed unchanged.\n",
    "This can be useful when one of the inputs does not need more processing. As an example,\n",
    "two spatial (V2V3) and one spectral (wavelength) inputs are passed to a composite model which\n",
    "transforms the spatial coordinates to celestial coordinates and needs to pass the wavelength unchanged.\n"
   ]
  },
  {
   "cell_type": "code",
   "execution_count": 21,
   "metadata": {},
   "outputs": [
    {
     "name": "stdout",
     "output_type": "stream",
     "text": [
      "(146.30993247402023, 89.63944963170002, 1e-06)\n"
     ]
    }
   ],
   "source": [
    "tan = astmodels.Pix2Sky_TAN()\n",
    "model = tan & astmodels.Identity(1)\n",
    "print(model(0.2, 0.3, 10**-6))"
   ]
  },
  {
   "cell_type": "markdown",
   "metadata": {},
   "source": [
    "### Create the reference file"
   ]
  },
  {
   "cell_type": "markdown",
   "metadata": {},
   "source": [
    "The [CollimatorModel](<http://jwst-pipeline.readthedocs.io/en/latest/api/jwst.datamodels.CollimatorModel.html#jwst.datamodels.CollimatorModel>) in jwst.datamodels is used as an example of how to create a reference file. Similarly data models should be used to create other types of reference files as this process provides validation of the file structure.\n"
   ]
  },
  {
   "cell_type": "code",
   "execution_count": 22,
   "metadata": {
    "collapsed": true
   },
   "outputs": [],
   "source": [
    "from jwst.datamodels import CollimatorModel\n",
    "collimator = CollimatorModel(model=model)"
   ]
  },
  {
   "cell_type": "code",
   "execution_count": 23,
   "metadata": {},
   "outputs": [
    {
     "data": {
      "text/plain": [
       "'new_distortion.asdf'"
      ]
     },
     "execution_count": 23,
     "metadata": {},
     "output_type": "execute_result"
    }
   ],
   "source": [
    "collimator.validate()\n",
    "collimator.save(\"new_distortion.asdf\")"
   ]
  },
  {
   "cell_type": "code",
   "execution_count": 24,
   "metadata": {
    "collapsed": true
   },
   "outputs": [],
   "source": [
    "poly_x = astmodels.Polynomial2D(degree=2, c0_0=.2, c1_0=.11, c2_0=2.3, c0_1=.43, c0_2=.1, c1_1=.5)\n",
    "poly_y = astmodels.Polynomial2D(degree=2, c0_0=.2, c1_0=1.1, c2_0=.023, c0_1=3, c0_2=.01, c1_1=2.2)\n",
    "shift_x = astmodels.Shift(-34.2)\n",
    "shift_y = astmodels.Shift(-120)\n",
    "model = shift_x & shift_y | astmodels.Mapping((0, 1, 0, 1)) | poly_x & poly_y\n",
    "\n",
    "# To validate it pass the \"strict_validation\" flag\n",
    "collimator = datamodels.CollimatorModel(model=model, strict_validation=True)\n",
    "\n",
    "#collimator.validate()\n",
    "\n"
   ]
  },
  {
   "cell_type": "code",
   "execution_count": 25,
   "metadata": {
    "collapsed": true
   },
   "outputs": [],
   "source": [
    "collimator.meta.author=\"NRS team\"\n",
    "collimator.meta.description=\"Latest model\"\n",
    "collimator.meta.reftype=\"collimator\"\n",
    "collimator.meta.useafter=\"2018-10-12\"\n",
    "collimator.meta.pedigree=\"GROUND\"\n",
    "collimator.validate()"
   ]
  },
  {
   "cell_type": "markdown",
   "metadata": {},
   "source": [
    "### Matching Keywords Patterns"
   ]
  },
  {
   "cell_type": "markdown",
   "metadata": {},
   "source": [
    "To support automatic *rmap* updates in CRDS, any keyword used to assign best references must be added to the reference metadata. For example, if a FITS reference type uses *DETECTOR* to help assign a reference in the rmap, the reference file is required to define *detector* or *p_detector*. The values in the keyworsd starting with *p* are matched against and used to automatically derive *rmaps* in CRDS.\n",
    "\n",
    "For example, the **collimator** reference file is valid for NRS1 and NRS2. It also is valid for most EXP_TYPEs.\n",
    "Wh\n"
   ]
  },
  {
   "cell_type": "code",
   "execution_count": 26,
   "metadata": {
    "collapsed": true
   },
   "outputs": [],
   "source": [
    "collimator.meta.instrument.p_detector = \"NRS1|NRS2|\"\n",
    "\n",
    "\n",
    "collimator.meta.exposure.p_exptype = \"NRS_TACQ|NRS_TASLIT|NRS_TACONFIRM|\\\n",
    "                                      NRS_CONFIRM|NRS_FIXEDSLIT|NRS_IFU|NRS_MSASPEC|NRS_IMAGE|NRS_FOCUS|\\\n",
    "                                      NRS_MIMF|NRS_BOTA|NRS_LAMP|NRS_BRIGHTOBJ|\"\n",
    "\n"
   ]
  },
  {
   "cell_type": "markdown",
   "metadata": {},
   "source": [
    "The string value above uses the **or | ** symbol. It means that detector NRS1 or detector NRS2 is a match.\n",
    "\n",
    "**Note: A pattern matching string must end with | .**"
   ]
  },
  {
   "cell_type": "markdown",
   "metadata": {},
   "source": [
    "Alternatively we could write \n",
    "\n",
    "collimator.meta.exposure.detector = \"ANY\"\n",
    "\n",
    "A value of **ANY** means that any DETECTOR will be a match.\n",
    "\n",
    "When thinking about and writing rmaps it's always helpful to look at the CRDS web interface.\n",
    "\n",
    "https://jwst-crds.stsci.edu/"
   ]
  },
  {
   "cell_type": "markdown",
   "metadata": {},
   "source": [
    "There are scripts for converting WCS reference files from the ESA format to ASDF. The repository is\n",
    "\n",
    "https://github.com/spacetelescope/jwreftools\n"
   ]
  }
 ],
 "metadata": {
  "kernelspec": {
   "display_name": "Python (jwstdev)",
   "language": "python",
   "name": "jwstdev"
  },
  "language_info": {
   "codemirror_mode": {
    "name": "ipython",
    "version": 3
   },
   "file_extension": ".py",
   "mimetype": "text/x-python",
   "name": "python",
   "nbconvert_exporter": "python",
   "pygments_lexer": "ipython3",
   "version": "3.5.1"
  }
 },
 "nbformat": 4,
 "nbformat_minor": 2
}
