{
 "cells": [
  {
   "cell_type": "markdown",
   "metadata": {},
   "source": [
    "## Day 2\n",
    "\n",
    "  - Running Python as a calculator\n",
    "  - Strings, Lists, Tuples\n",
    "  - Control Flow"
   ]
  },
  {
   "cell_type": "markdown",
   "metadata": {},
   "source": [
    "#### Running Python as a calculator"
   ]
  },
  {
   "cell_type": "code",
   "execution_count": null,
   "metadata": {},
   "outputs": [],
   "source": [
    "2 + 5"
   ]
  },
  {
   "cell_type": "code",
   "execution_count": null,
   "metadata": {},
   "outputs": [],
   "source": [
    "(1 + 3) * (2 - 1) / 3"
   ]
  },
  {
   "cell_type": "markdown",
   "metadata": {},
   "source": [
    "#### Assignment to a variable\n",
    "\n",
    "Like other languages, the operator for assignment is `=`.\n",
    "\n",
    "To assign a value of 2 to a variable `a`:"
   ]
  },
  {
   "cell_type": "code",
   "execution_count": 1,
   "metadata": {},
   "outputs": [
    {
     "data": {
      "text/plain": [
       "2"
      ]
     },
     "execution_count": 1,
     "metadata": {},
     "output_type": "execute_result"
    }
   ],
   "source": [
    "a = 2\n",
    "a"
   ]
  },
  {
   "cell_type": "code",
   "execution_count": 2,
   "metadata": {},
   "outputs": [
    {
     "name": "stdout",
     "output_type": "stream",
     "text": [
      "2\n"
     ]
    }
   ],
   "source": [
    "print(a)"
   ]
  },
  {
   "cell_type": "markdown",
   "metadata": {},
   "source": [
    "We can assign an expression to a variable"
   ]
  },
  {
   "cell_type": "code",
   "execution_count": 3,
   "metadata": {},
   "outputs": [
    {
     "data": {
      "text/plain": [
       "-16"
      ]
     },
     "execution_count": 3,
     "metadata": {},
     "output_type": "execute_result"
    }
   ],
   "source": [
    "b = (1 + 3) * (3 - 7)\n",
    "b"
   ]
  },
  {
   "cell_type": "markdown",
   "metadata": {},
   "source": [
    "And use the variables to compute a value and assign the result to a new variable `c`:"
   ]
  },
  {
   "cell_type": "code",
   "execution_count": 4,
   "metadata": {},
   "outputs": [
    {
     "data": {
      "text/plain": [
       "-4.666666666666667"
      ]
     },
     "execution_count": 4,
     "metadata": {},
     "output_type": "execute_result"
    }
   ],
   "source": [
    "c = (a + b) / 3\n",
    "c"
   ]
  },
  {
   "cell_type": "markdown",
   "metadata": {},
   "source": [
    "What is the type of variable `a`? We can check this using the `type` function."
   ]
  },
  {
   "cell_type": "code",
   "execution_count": 5,
   "metadata": {},
   "outputs": [
    {
     "data": {
      "text/plain": [
       "int"
      ]
     },
     "execution_count": 5,
     "metadata": {},
     "output_type": "execute_result"
    }
   ],
   "source": [
    "type(a)"
   ]
  },
  {
   "cell_type": "markdown",
   "metadata": {},
   "source": [
    "What is the type of **b** and **c**?"
   ]
  },
  {
   "cell_type": "code",
   "execution_count": 7,
   "metadata": {},
   "outputs": [
    {
     "data": {
      "text/plain": [
       "float"
      ]
     },
     "execution_count": 7,
     "metadata": {},
     "output_type": "execute_result"
    }
   ],
   "source": [
    "type(c)"
   ]
  },
  {
   "cell_type": "markdown",
   "metadata": {},
   "source": [
    "##### Exercise\n",
    "The temperature outside in Celsius is -7 degrees.\n",
    "\n",
    "- Calculate the temperature in Fahrenheit.\n",
    "\n",
    "  Hint: The conversion is \n",
    "\n",
    "      F = 9/5 C + 32\n",
    "\n",
    "- Use variables to assign the temperature in Fahrenheit and Celsius.\n",
    "- Print the type of each variable."
   ]
  },
  {
   "cell_type": "code",
   "execution_count": 8,
   "metadata": {},
   "outputs": [
    {
     "name": "stdout",
     "output_type": "stream",
     "text": [
      "23.6\n",
      "<class 'int'>\n",
      "<class 'float'>\n"
     ]
    }
   ],
   "source": [
    "# Type your solution here\n",
    "C=-7\n",
    "F=9/5*c+32\n",
    "print(F)\n",
    "print(type(C))\n",
    "print(type(F))"
   ]
  },
  {
   "cell_type": "markdown",
   "metadata": {},
   "source": [
    "To create a string we enclose it in quotes."
   ]
  },
  {
   "cell_type": "code",
   "execution_count": 9,
   "metadata": {},
   "outputs": [
    {
     "name": "stdout",
     "output_type": "stream",
     "text": [
      "Hi there! I am a greeting in double quotes.\n"
     ]
    }
   ],
   "source": [
    "greeting = \"Hi there! I am a greeting in double quotes.\"\n",
    "print(greeting)"
   ]
  },
  {
   "cell_type": "code",
   "execution_count": 10,
   "metadata": {},
   "outputs": [
    {
     "name": "stdout",
     "output_type": "stream",
     "text": [
      "Hi there! I am a greeting in single quotes.\n"
     ]
    }
   ],
   "source": [
    "single = 'Hi there! I am a greeting in single quotes.'\n",
    "print(single)"
   ]
  },
  {
   "cell_type": "code",
   "execution_count": 11,
   "metadata": {},
   "outputs": [
    {
     "name": "stdout",
     "output_type": "stream",
     "text": [
      "Hi there!\n",
      "\n",
      "I am a greeting on multiple lines.\n"
     ]
    }
   ],
   "source": [
    "multi_lines = \"\"\"Hi there!\n",
    "\n",
    "I am a greeting on multiple lines.\"\"\"\n",
    "print(multi_lines)"
   ]
  },
  {
   "cell_type": "code",
   "execution_count": 12,
   "metadata": {},
   "outputs": [
    {
     "name": "stdout",
     "output_type": "stream",
     "text": [
      "\"Hi There! I am a quote.\" \n",
      "\n"
     ]
    }
   ],
   "source": [
    "quote = '\"Hi There! I am a quote.\"'\n",
    "print(quote, \"\\n\")"
   ]
  },
  {
   "cell_type": "markdown",
   "metadata": {},
   "source": [
    "##### Exercise\n",
    "\n",
    "Determine the type of each variable above"
   ]
  },
  {
   "cell_type": "code",
   "execution_count": null,
   "metadata": {},
   "outputs": [],
   "source": []
  },
  {
   "cell_type": "markdown",
   "metadata": {},
   "source": [
    "### Lists\n",
    "\n",
    "Python has several data types, used to group together other values. The most versatile is the list, which can be written as a sequence of comma-separated values (items) between square brackets. Lists may contain items of different types, but usually the items all have the same type."
   ]
  },
  {
   "cell_type": "code",
   "execution_count": 16,
   "metadata": {},
   "outputs": [],
   "source": [
    "constellations = ['Ursa Major', \"Orion\", 'Canis Major']"
   ]
  },
  {
   "cell_type": "code",
   "execution_count": 17,
   "metadata": {},
   "outputs": [
    {
     "data": {
      "text/plain": [
       "list"
      ]
     },
     "execution_count": 17,
     "metadata": {},
     "output_type": "execute_result"
    }
   ],
   "source": [
    "type(constellations)"
   ]
  },
  {
   "cell_type": "code",
   "execution_count": 18,
   "metadata": {},
   "outputs": [],
   "source": [
    "num = [1, 3.4, 7]"
   ]
  },
  {
   "cell_type": "code",
   "execution_count": 19,
   "metadata": {},
   "outputs": [
    {
     "data": {
      "text/plain": [
       "list"
      ]
     },
     "execution_count": 19,
     "metadata": {},
     "output_type": "execute_result"
    }
   ],
   "source": [
    "type(num)"
   ]
  },
  {
   "cell_type": "markdown",
   "metadata": {},
   "source": [
    "Lists have many useful methods. To check what they are use one of the ways we learned to introspect (or get help) on an object."
   ]
  },
  {
   "cell_type": "markdown",
   "metadata": {},
   "source": [
    "Lists define also the \"add\" `+` operator. Let's see what it means to add two lists."
   ]
  },
  {
   "cell_type": "code",
   "execution_count": 20,
   "metadata": {},
   "outputs": [
    {
     "name": "stdout",
     "output_type": "stream",
     "text": [
      "['Ursa Major', 'Orion', 'Canis Major', 1, 3.4, 7]\n"
     ]
    }
   ],
   "source": [
    "eclectic = constellations + num\n",
    "print(eclectic)"
   ]
  },
  {
   "cell_type": "markdown",
   "metadata": {},
   "source": [
    "Python has a builtin function **len** which returns the length of an object which contains many items, or is `iterable` (we can iterate on the object or get the items one by one)."
   ]
  },
  {
   "cell_type": "code",
   "execution_count": 21,
   "metadata": {},
   "outputs": [
    {
     "data": {
      "text/plain": [
       "6"
      ]
     },
     "execution_count": 21,
     "metadata": {},
     "output_type": "execute_result"
    }
   ],
   "source": [
    "len(eclectic)"
   ]
  },
  {
   "attachments": {},
   "cell_type": "markdown",
   "metadata": {},
   "source": [
    "#### Indexing\n",
    "\n",
    "In Python, indexing refers to the process of accessing a specific element in a sequence, such as a string or list, using its position or index number. Indexing in Python starts at 0, which means that the first element in a sequence has an index of 0, the second element has an index of 1, and so on. Indexing is done using square brackets and passing an integer (the index)."
   ]
  },
  {
   "cell_type": "code",
   "execution_count": 22,
   "metadata": {},
   "outputs": [
    {
     "name": "stdout",
     "output_type": "stream",
     "text": [
      "['Ursa Major', 'Orion', 'Canis Major']\n"
     ]
    },
    {
     "data": {
      "text/plain": [
       "'Ursa Major'"
      ]
     },
     "execution_count": 22,
     "metadata": {},
     "output_type": "execute_result"
    }
   ],
   "source": [
    "print(constellations)\n",
    "\n",
    "constellations[0] # Returns the first item in the list"
   ]
  },
  {
   "cell_type": "code",
   "execution_count": null,
   "metadata": {},
   "outputs": [],
   "source": [
    "constellations[-1] # Returns the last item in the list"
   ]
  },
  {
   "cell_type": "code",
   "execution_count": 23,
   "metadata": {},
   "outputs": [
    {
     "name": "stdout",
     "output_type": "stream",
     "text": [
      "['Ursa Major', 'Orion', 'Canis Major', 'Drako']\n"
     ]
    }
   ],
   "source": [
    "constellations.append('Drako')  # wrong name\n",
    "print(constellations)"
   ]
  },
  {
   "cell_type": "code",
   "execution_count": 24,
   "metadata": {},
   "outputs": [
    {
     "data": {
      "text/plain": [
       "'Drako'"
      ]
     },
     "execution_count": 24,
     "metadata": {},
     "output_type": "execute_result"
    }
   ],
   "source": [
    "constellations[-1]"
   ]
  },
  {
   "cell_type": "markdown",
   "metadata": {},
   "source": [
    "Use indexing and assignment to fix the name:"
   ]
  },
  {
   "cell_type": "code",
   "execution_count": 28,
   "metadata": {},
   "outputs": [
    {
     "name": "stdout",
     "output_type": "stream",
     "text": [
      "['Ursa Major', 'Orion', 'Canis Major', 'Draco']\n"
     ]
    }
   ],
   "source": [
    "constellations[-1] = \"Draco\" \n",
    "print(constellations)"
   ]
  },
  {
   "cell_type": "markdown",
   "metadata": {},
   "source": [
    "##### Exercise\n",
    "\n",
    "Use indexing to correct the name of the constellaiton: \"Drako\" --> \"Draco\"."
   ]
  },
  {
   "cell_type": "code",
   "execution_count": null,
   "metadata": {},
   "outputs": [],
   "source": []
  },
  {
   "cell_type": "code",
   "execution_count": 26,
   "metadata": {},
   "outputs": [
    {
     "ename": "TypeError",
     "evalue": "'str' object does not support item assignment",
     "output_type": "error",
     "traceback": [
      "\u001b[0;31m---------------------------------------------------------------------------\u001b[0m",
      "\u001b[0;31mTypeError\u001b[0m                                 Traceback (most recent call last)",
      "Cell \u001b[0;32mIn[26], line 2\u001b[0m\n\u001b[1;32m      1\u001b[0m c \u001b[38;5;241m=\u001b[39m \u001b[38;5;124m\"\u001b[39m\u001b[38;5;124mDrako\u001b[39m\u001b[38;5;124m\"\u001b[39m\n\u001b[0;32m----> 2\u001b[0m \u001b[43mc\u001b[49m\u001b[43m[\u001b[49m\u001b[38;5;241;43m3\u001b[39;49m\u001b[43m]\u001b[49m \u001b[38;5;241m=\u001b[39m \u001b[38;5;124m'\u001b[39m\u001b[38;5;124mc\u001b[39m\u001b[38;5;124m'\u001b[39m\n",
      "\u001b[0;31mTypeError\u001b[0m: 'str' object does not support item assignment"
     ]
    }
   ],
   "source": [
    "c = \"Drako\"\n",
    "c[3] = 'c'"
   ]
  },
  {
   "cell_type": "markdown",
   "metadata": {},
   "source": [
    "Some types in Python, like lists, allow changing their content (they are **muttable**) and some, like strings and tuples, don't (they are **immutable**)."
   ]
  },
  {
   "cell_type": "markdown",
   "metadata": {},
   "source": [
    "#### Slicing\n",
    "\n",
    "Slicing is the process of getting a subset of values from a sequence.\n",
    "It is the extraction of a part of a string, list, tuple or array. It enables users to access the specific range of elements by mentioning their indices. \n",
    "\n",
    "Slicing is done using square brackets and 2 or 3 integers separated by colon\n",
    "\n",
    "`Object[start : stop : step]`\n",
    "\n",
    "`start` is the starting index (remember we count from 0), \n",
    "\n",
    "`stop` is the ending index (*note that the value at the \"stop\"index is not included in the slice*)\n",
    "\n",
    "`step` is the step with which to pick elements. `step` is optional and if not provided it is set to 1."
   ]
  },
  {
   "cell_type": "code",
   "execution_count": 29,
   "metadata": {},
   "outputs": [
    {
     "name": "stdout",
     "output_type": "stream",
     "text": [
      "['Ursa Major', 'Orion', 'Canis Major', 'Draco']\n"
     ]
    }
   ],
   "source": [
    "print(constellations)"
   ]
  },
  {
   "cell_type": "code",
   "execution_count": 30,
   "metadata": {},
   "outputs": [
    {
     "data": {
      "text/plain": [
       "['Orion', 'Canis Major']"
      ]
     },
     "execution_count": 30,
     "metadata": {},
     "output_type": "execute_result"
    }
   ],
   "source": [
    "# What does this slice operation return?\n",
    "constellations[1:3]  # slicing"
   ]
  },
  {
   "cell_type": "code",
   "execution_count": 31,
   "metadata": {},
   "outputs": [
    {
     "data": {
      "text/plain": [
       "['Ursa Major', 'Orion', 'Canis Major', 'Draco']"
      ]
     },
     "execution_count": 31,
     "metadata": {},
     "output_type": "execute_result"
    }
   ],
   "source": [
    "constellations[:]"
   ]
  },
  {
   "cell_type": "markdown",
   "metadata": {},
   "source": [
    "##### Exercise\n",
    "\n",
    "Use negative indexes to get a slice with the same two names:"
   ]
  },
  {
   "cell_type": "code",
   "execution_count": 32,
   "metadata": {},
   "outputs": [
    {
     "data": {
      "text/plain": [
       "['Orion', 'Canis Major']"
      ]
     },
     "execution_count": 32,
     "metadata": {},
     "output_type": "execute_result"
    }
   ],
   "source": [
    "constellations[-3: -1 ]"
   ]
  },
  {
   "cell_type": "markdown",
   "metadata": {},
   "source": [
    "##### Exercise\n",
    "\n",
    "Create a list of integers from 0 to 9. Using slices get the even numbers from the list."
   ]
  },
  {
   "cell_type": "code",
   "execution_count": 35,
   "metadata": {},
   "outputs": [
    {
     "data": {
      "text/plain": [
       "[2, 4, 6, 8]"
      ]
     },
     "execution_count": 35,
     "metadata": {},
     "output_type": "execute_result"
    }
   ],
   "source": [
    "numbers = [0, 1, 2, 3, 4, 5, 6, 7, 8, 9]\n",
    "\n",
    "numbers[::2]\n"
   ]
  },
  {
   "cell_type": "markdown",
   "metadata": {},
   "source": [
    "#### Tuples\n",
    "\n",
    "Tuples are sequences, just like lists. The differences between tuples and lists are, the tuples cannot be changed unlike lists and tuples use parentheses, whereas lists use square brackets. **Tuples are immutable.**\n",
    "\n",
    "Q: What other type is immutable?"
   ]
  },
  {
   "cell_type": "code",
   "execution_count": 36,
   "metadata": {},
   "outputs": [
    {
     "name": "stdout",
     "output_type": "stream",
     "text": [
      "['Ursa Major', 'Orion', 'Canis Major', 'Draco']\n"
     ]
    }
   ],
   "source": [
    "# Create constellations as tuples and try the same operations as when it was a list\n",
    "\n",
    "tconstellations = ('Ursa Major', \"Orion\", 'Canis Major')\n",
    "print(constellations)"
   ]
  },
  {
   "cell_type": "markdown",
   "metadata": {},
   "source": [
    "##### Exercise\n",
    "\n",
    "- Print the value at index -1.\n",
    "- Assign the string \"Draco\" to the item at index -1. What do you expect will happen?"
   ]
  },
  {
   "cell_type": "code",
   "execution_count": 37,
   "metadata": {},
   "outputs": [
    {
     "name": "stdout",
     "output_type": "stream",
     "text": [
      "Canis Major\n"
     ]
    }
   ],
   "source": [
    "print(tconstellations[-1])"
   ]
  },
  {
   "cell_type": "code",
   "execution_count": 38,
   "metadata": {},
   "outputs": [
    {
     "ename": "TypeError",
     "evalue": "'tuple' object does not support item assignment",
     "output_type": "error",
     "traceback": [
      "\u001b[0;31m---------------------------------------------------------------------------\u001b[0m",
      "\u001b[0;31mTypeError\u001b[0m                                 Traceback (most recent call last)",
      "Cell \u001b[0;32mIn[38], line 1\u001b[0m\n\u001b[0;32m----> 1\u001b[0m \u001b[43mtconstellations\u001b[49m\u001b[43m[\u001b[49m\u001b[38;5;241;43m-\u001b[39;49m\u001b[38;5;241;43m1\u001b[39;49m\u001b[43m]\u001b[49m \u001b[38;5;241m=\u001b[39m \u001b[38;5;124m'\u001b[39m\u001b[38;5;124mDraco\u001b[39m\u001b[38;5;124m'\u001b[39m\n",
      "\u001b[0;31mTypeError\u001b[0m: 'tuple' object does not support item assignment"
     ]
    }
   ],
   "source": [
    "tconstellations[-1] = 'Draco'"
   ]
  },
  {
   "cell_type": "code",
   "execution_count": 39,
   "metadata": {},
   "outputs": [
    {
     "data": {
      "text/plain": [
       "('Orion', 'Canis Major')"
      ]
     },
     "execution_count": 39,
     "metadata": {},
     "output_type": "execute_result"
    }
   ],
   "source": [
    "tconstellations[1:3]"
   ]
  },
  {
   "cell_type": "code",
   "execution_count": 40,
   "metadata": {},
   "outputs": [
    {
     "ename": "NameError",
     "evalue": "name 'tconstellation' is not defined",
     "output_type": "error",
     "traceback": [
      "\u001b[0;31m---------------------------------------------------------------------------\u001b[0m",
      "\u001b[0;31mNameError\u001b[0m                                 Traceback (most recent call last)",
      "Cell \u001b[0;32mIn[40], line 3\u001b[0m\n\u001b[1;32m      1\u001b[0m \u001b[38;5;66;03m# Concatenation does not work either\u001b[39;00m\n\u001b[0;32m----> 3\u001b[0m \u001b[43mtconstellation\u001b[49m \u001b[38;5;241m+\u001b[39m num\n",
      "\u001b[0;31mNameError\u001b[0m: name 'tconstellation' is not defined"
     ]
    }
   ],
   "source": [
    "# Concatenation does not work either\n",
    "\n",
    "tconstellation + num"
   ]
  },
  {
   "attachments": {},
   "cell_type": "markdown",
   "metadata": {},
   "source": [
    "### Control flow\n",
    "\r",
    "By ` control flo ` we refer to thew order in which the computer executes statements in a script. Code is run in order from the first line in the file to the last line, unless the computer runs across the (extremely frequent) structures that change the control flow, such as conditionals and loops.\n",
    "#### For Loop\r",
    "A t\n",
    "Typical for-loop in some languages, like C, C++, Ja looks like\n",
    "va\n",
    "```\n",
    "for (i=0, i=5, i++):\n",
    "    print(eclectic[i])\n",
    "``` \n",
    "    \n",
    "The equivalent in Python is:"
   ]
  },
  {
   "cell_type": "code",
   "execution_count": 45,
   "metadata": {},
   "outputs": [
    {
     "name": "stdout",
     "output_type": "stream",
     "text": [
      "Ursa Major\n",
      "Orion\n",
      "Canis Major\n",
      "1\n",
      "3.4\n",
      "7\n"
     ]
    }
   ],
   "source": [
    "for i in range(6):\n",
    "    print(eclectic[i])"
   ]
  },
  {
   "cell_type": "markdown",
   "metadata": {},
   "source": [
    "The **range** function returns a sequence of numbers. It takes three parameters. Let's look at the function signature."
   ]
  },
  {
   "cell_type": "code",
   "execution_count": 42,
   "metadata": {},
   "outputs": [
    {
     "data": {
      "text/plain": [
       "\u001b[0;31mInit signature:\u001b[0m \u001b[0mrange\u001b[0m\u001b[0;34m(\u001b[0m\u001b[0mself\u001b[0m\u001b[0;34m,\u001b[0m \u001b[0;34m/\u001b[0m\u001b[0;34m,\u001b[0m \u001b[0;34m*\u001b[0m\u001b[0margs\u001b[0m\u001b[0;34m,\u001b[0m \u001b[0;34m**\u001b[0m\u001b[0mkwargs\u001b[0m\u001b[0;34m)\u001b[0m\u001b[0;34m\u001b[0m\u001b[0;34m\u001b[0m\u001b[0m\n",
       "\u001b[0;31mDocstring:\u001b[0m     \n",
       "range(stop) -> range object\n",
       "range(start, stop[, step]) -> range object\n",
       "\n",
       "Return an object that produces a sequence of integers from start (inclusive)\n",
       "to stop (exclusive) by step.  range(i, j) produces i, i+1, i+2, ..., j-1.\n",
       "start defaults to 0, and stop is omitted!  range(4) produces 0, 1, 2, 3.\n",
       "These are exactly the valid indices for a list of 4 elements.\n",
       "When step is given, it specifies the increment (or decrement).\n",
       "\u001b[0;31mType:\u001b[0m           type\n",
       "\u001b[0;31mSubclasses:\u001b[0m     "
      ]
     },
     "metadata": {},
     "output_type": "display_data"
    }
   ],
   "source": [
    "range?"
   ]
  },
  {
   "cell_type": "code",
   "execution_count": 51,
   "metadata": {},
   "outputs": [
    {
     "name": "stdout",
     "output_type": "stream",
     "text": [
      "range(0, 7)\n",
      "[0, 1, 2, 3, 4, 5, 6]\n"
     ]
    }
   ],
   "source": [
    "print(range(7))\n",
    "print(list(range(7)))"
   ]
  },
  {
   "cell_type": "code",
   "execution_count": 46,
   "metadata": {},
   "outputs": [
    {
     "name": "stdout",
     "output_type": "stream",
     "text": [
      "0\n",
      "2\n",
      "4\n",
      "6\n"
     ]
    }
   ],
   "source": [
    "for i in range(0, 7, 2):\n",
    "    print(i)\n",
    "    "
   ]
  },
  {
   "cell_type": "markdown",
   "metadata": {},
   "source": [
    "Python provides a shortcut to iterating over a sequence like `eclectic`:"
   ]
  },
  {
   "cell_type": "code",
   "execution_count": 52,
   "metadata": {},
   "outputs": [
    {
     "name": "stdout",
     "output_type": "stream",
     "text": [
      "Ursa Major\n",
      "Orion\n",
      "Canis Major\n",
      "1\n",
      "3.4\n",
      "7\n"
     ]
    }
   ],
   "source": [
    "for obj in eclectic:\n",
    "    print(obj)"
   ]
  },
  {
   "cell_type": "markdown",
   "metadata": {},
   "source": [
    "**in** is a Python operator used to test membership in sequences. For example, we can check if `Draco` is in `eclectic`:"
   ]
  },
  {
   "cell_type": "code",
   "execution_count": 53,
   "metadata": {},
   "outputs": [
    {
     "data": {
      "text/plain": [
       "False"
      ]
     },
     "execution_count": 53,
     "metadata": {},
     "output_type": "execute_result"
    }
   ],
   "source": [
    "\"Draco\" in eclectic"
   ]
  },
  {
   "cell_type": "markdown",
   "metadata": {},
   "source": [
    "It's also used in a somewhat advanced Python concept, called **list comprehension**. It is a highly optimized way to write a `for` loop specific to Python."
   ]
  },
  {
   "cell_type": "code",
   "execution_count": 59,
   "metadata": {},
   "outputs": [
    {
     "name": "stdout",
     "output_type": "stream",
     "text": [
      "numbers [0, 1, 2, 3, 4, 5, 6, 7, 8]\n",
      "new_list [0.5, 1.5, 2.5, 3.5, 4.5, 5.5, 6.5, 7.5, 8.5]\n"
     ]
    }
   ],
   "source": [
    "numbers = list(range(9))\n",
    "print(\"numbers\", numbers)\n",
    "\n",
    "new_list = [a + 0.5 for a in numbers]\n",
    "print(\"new_list\", new_list)"
   ]
  },
  {
   "cell_type": "markdown",
   "metadata": {},
   "source": [
    "#### While Loop\n",
    "\n",
    "Another type of loop used to control the flow of a program is the so called **while** loop. \n",
    "\n",
    "The **while** loop runs until a certain condition is met."
   ]
  },
  {
   "cell_type": "code",
   "execution_count": 62,
   "metadata": {},
   "outputs": [
    {
     "name": "stdout",
     "output_type": "stream",
     "text": [
      "0\n",
      "1\n",
      "1\n",
      "2\n",
      "3\n",
      "5\n",
      "8\n"
     ]
    }
   ],
   "source": [
    "# Fibonacci series:\n",
    "# the sum of two elements defines the next\n",
    "\n",
    "a, b = 0, 1\n",
    "\n",
    "while a < 10:\n",
    "    print(a)\n",
    "    a, b = b, a+b"
   ]
  },
  {
   "cell_type": "markdown",
   "metadata": {},
   "source": [
    "Other than showing how a `while` loop looks in Python, the above example also shows that variables can be swapped:"
   ]
  },
  {
   "cell_type": "code",
   "execution_count": 64,
   "metadata": {},
   "outputs": [
    {
     "name": "stdout",
     "output_type": "stream",
     "text": [
      "q 2\n",
      "w 1\n"
     ]
    }
   ],
   "source": [
    "q = 1\n",
    "w = 2\n",
    "\n",
    "q, w = w, q\n",
    "\n",
    "print('q', q)\n",
    "print('w', w)"
   ]
  },
  {
   "cell_type": "markdown",
   "metadata": {},
   "source": [
    "### Reading and writing text files"
   ]
  },
  {
   "cell_type": "code",
   "execution_count": 66,
   "metadata": {},
   "outputs": [],
   "source": [
    "s = \"\"\"\n",
    "But Outer Space\n",
    "\n",
    "But outer Space,\n",
    "At least this far,\n",
    "For all the fuss\n",
    "Of the populace\n",
    "Stays more popular\n",
    "Than populous\n",
    "\n",
    "Robert Frost\n",
    "\"\"\""
   ]
  },
  {
   "cell_type": "code",
   "execution_count": 67,
   "metadata": {},
   "outputs": [],
   "source": [
    "f = open(\"poem.txt\", \"w\")\n",
    "f.write(s)\n",
    "f.close()"
   ]
  },
  {
   "cell_type": "code",
   "execution_count": null,
   "metadata": {},
   "outputs": [
    {
     "name": "stdout",
     "output_type": "stream",
     "text": [
      "\u001b7\u001b[?47h\u001b[?1h\u001b=\n",
      "But Outer Space\n",
      "\n",
      "But outer Space,\n",
      "At least this far,\n",
      "For all the fuss\n",
      "Of the populace\n",
      "Stays more popular\n",
      "Than populous\n",
      "\n",
      "Robert Frost\n",
      "\u001b[7mpoem.txt (END)\u001b[m\u001b[K"
     ]
    }
   ],
   "source": [
    "!less poem.txt"
   ]
  },
  {
   "cell_type": "code",
   "execution_count": 1,
   "metadata": {},
   "outputs": [
    {
     "name": "stdout",
     "output_type": "stream",
     "text": [
      "\n",
      "But Outer Space\n",
      "\n",
      "But outer Space,\n",
      "At least this far,\n",
      "For all the fuss\n",
      "Of the populace\n",
      "Stays more popular\n",
      "Than populous\n",
      "\n",
      "Robert Frost\n",
      "\n"
     ]
    }
   ],
   "source": [
    "f = open('poem.txt')\n",
    "s = f.read()\n",
    "f.close() # <-- don't forget to close the file\n",
    "print(s)"
   ]
  },
  {
   "cell_type": "code",
   "execution_count": 2,
   "metadata": {},
   "outputs": [
    {
     "name": "stdout",
     "output_type": "stream",
     "text": [
      "['\\n', 'But Outer Space\\n', '\\n', 'But outer Space,\\n', 'At least this far,\\n', 'For all the fuss\\n', 'Of the populace\\n', 'Stays more popular\\n', 'Than populous\\n', '\\n', 'Robert Frost\\n']\n"
     ]
    }
   ],
   "source": [
    "f=open('poem.txt')\n",
    "lines = f.readlines()\n",
    "f.close()\n",
    "print(lines)"
   ]
  },
  {
   "cell_type": "code",
   "execution_count": 3,
   "metadata": {},
   "outputs": [
    {
     "name": "stdout",
     "output_type": "stream",
     "text": [
      "['# lambda flux err tem\\n', '# angstroms ergs^-1cm^-2a^-1 ergs^-1cm^-2a^-1 none\\n', '3637.390 0.314 0.000 54.029\\n', '3638.227 0.717 0.000 53.619\\n', '3639.065 1.482 0.000 52.849\\n', '3639.903 0.798 7.011 53.527\\n', '3640.741 0.506 7.032 56.245\\n', '3641.580 7.678 7.164 54.718\\n', '3642.418 17.648 7.275 53.327\\n', '3643.257 -12.945 6.537 55.782\\n', '3644.096 1.054 6.754 54.450\\n', '3644.936 0.641 6.939 53.356\\n', '3645.775 -0.744 5.648 54.403\\n', '3646.614 -1.740 5.353 52.326\\n', '3647.454 -1.654 5.222 51.248\\n', '3648.294 2.189 5.207 54.050\\n', '3649.134 -4.783 4.890 51.737\\n', '3649.975 0.269 4.869 51.485\\n', '3650.815 -3.744 4.828 52.550\\n', '3651.656 -1.321 4.890 51.162\\n', '3652.497 5.611 5.098 52.739\\n', '3653.338 -1.354 5.036 55.510\\n', '3654.179 -7.667 5.030 54.780\\n', '3655.021 -6.947 5.014 55.847\\n', '3655.862 -3.444 5.034 55.423\\n', '3656.704 0.458 5.126 54.276\\n', '3657.546 10.121 5.201 55.012\\n', '3658.388 2.692 5.109 55.523\\n', '3659.231 6.183 5.081 56.365\\n', '3660.074 1.470 4.928 56.899\\n', '3660.917 0.522 4.882 57.013\\n', '3661.760 -1.336 4.866 55.481\\n', '3662.603 -3.938 4.867 56.086\\n', '3663.446 0.360 4.930 56.962\\n', '3664.290 -0.833 4.960 58.203\\n', '3665.134 -6.548 4.830 57.852\\n', '3665.978 4.517 4.838 55.356\\n', '3666.822 -3.443 4.611 55.900\\n', '3667.667 4.133 4.669 56.701\\n', '3668.511 3.100 4.674 55.460\\n', '3669.356 -2.280 4.652 55.991\\n', '3670.201 -0.070 4.729 55.149\\n', '3671.046 0.996 4.645 56.676\\n', '3671.891 4.899 4.630 55.166\\n', '3672.737 6.552 4.653 55.750\\n', '3673.583 0.147 4.601 57.115\\n', '3674.429 8.811 4.609 55.926\\n', '3675.275 -13.819 4.372 58.785\\n', '3676.121 -4.138 4.469 58.171\\n', '3676.968 4.642 4.479 55.104\\n', '3677.815 -5.991 4.315 56.388\\n', '3678.662 -8.608 4.268 54.893\\n', '3679.509 -5.226 4.295 54.252\\n', '3680.356 -6.709 4.363 55.852\\n', '3681.204 3.912 4.425 53.498\\n', '3682.051 -3.479 4.354 55.161\\n', '3682.899 6.333 4.557 54.963\\n', '3683.747 1.952 4.437 54.596\\n', '3684.595 0.582 4.318 52.884\\n', '3685.444 5.096 4.338 51.896\\n', '3686.293 5.637 4.391 54.881\\n', '3687.142 7.014 4.450 55.187\\n', '3687.991 7.219 4.412 54.674\\n', '3688.840 1.413 4.289 54.452\\n', '3689.689 -8.288 4.083 54.116\\n', '3690.539 -10.228 3.964 53.523\\n', '3691.389 5.535 4.251 54.623\\n', '3692.239 4.680 4.256 56.529\\n', '3693.090 -4.491 4.047 53.849\\n', '3693.940 -3.655 4.113 55.978\\n', '3694.791 0.226 4.226 57.617\\n', '3695.641 -6.117 4.215 55.393\\n', '3696.493 -3.321 4.295 55.516\\n', '3697.344 -2.776 4.363 55.454\\n', '3698.195 -5.208 4.370 57.651\\n', '3699.047 0.225 4.450 55.557\\n', '3699.899 2.508 4.418 56.862\\n', '3700.750 3.653 4.380 56.688\\n', '3701.603 3.357 4.337 56.964\\n', '3702.455 0.342 4.172 58.583\\n', '3703.308 1.233 4.113 56.574\\n', '3704.161 2.898 4.174 56.842\\n', '3705.014 -3.089 4.073 56.791\\n', '3705.867 -7.025 3.839 53.267\\n', '3706.720 -4.984 3.843 53.814\\n', '3707.574 -3.697 3.873 53.919\\n', '3708.428 -4.908 3.803 52.718\\n', '3709.282 -10.345 3.747 54.650\\n', '3710.136 -6.962 3.805 53.311\\n', '3710.990 -0.417 3.960 53.155\\n', '3711.845 0.208 4.114 54.475\\n', '3712.700 -0.621 4.086 55.446\\n', '3713.554 0.688 4.111 55.953\\n', '3714.410 0.711 4.076 58.934\\n', '3715.265 -5.798 3.943 58.735\\n', '3716.121 -4.503 3.873 57.764\\n', '3716.977 -5.182 3.879 59.037\\n', '3717.833 -4.525 3.864 57.706\\n', '3718.689 0.451 3.874 55.535\\n', '3719.545 0.349 3.918 55.588\\n', '3720.402 -4.150 3.762 53.390\\n', '3721.258 3.035 3.859 51.737\\n', '3722.115 -2.784 4.601 51.906\\n', '3722.972 -10.298 4.494 52.114\\n', '3723.830 5.089 4.724 52.089\\n', '3724.687 7.036 3.977 54.121\\n', '3725.545 7.128 4.058 54.806\\n', '3726.403 16.655 4.199 55.162\\n', '3727.261 21.481 4.376 57.544\\n', '3728.120 23.281 4.413 56.269\\n', '3728.978 29.284 4.554 58.334\\n', '3729.837 36.020 4.593 57.134\\n', '3730.696 27.616 4.411 55.681\\n', '3731.555 19.612 4.266 55.213\\n', '3732.414 10.053 4.015 53.826\\n', '3733.274 -1.323 3.861 54.470\\n', '3734.134 -7.332 3.698 53.779\\n', '3734.993 -5.413 3.741 50.893\\n', '3735.854 1.421 3.862 48.871\\n', '3736.714 5.509 3.960 48.923\\n', '3737.574 -0.392 3.887 49.190\\n', '3738.435 -7.417 3.838 49.816\\n', '3739.296 -3.618 3.907 50.395\\n', '3740.157 2.140 4.010 50.837\\n', '3741.018 -2.062 3.842 53.615\\n', '3741.880 -1.297 3.839 54.223\\n', '3742.741 -0.744 3.830 55.236\\n', '3743.604 -5.949 3.741 57.010\\n', '3744.466 -3.639 3.738 54.455\\n', '3745.328 -5.393 3.681 54.040\\n', '3746.190 -2.587 3.766 52.615\\n', '3747.053 -5.777 3.750 51.578\\n', '3747.916 -10.713 3.685 51.997\\n', '3748.779 -2.807 3.790 49.437\\n', '3749.642 -0.631 3.749 50.609\\n', '3750.506 -0.286 3.675 50.273\\n', '3751.369 -0.857 3.550 48.564\\n', '3752.233 -5.617 3.541 51.286\\n', '3753.097 -3.300 3.590 51.986\\n', '3753.961 -5.894 3.553 53.535\\n', '3754.826 -1.156 3.669 54.962\\n', '3755.691 1.629 4.083 57.639\\n', '3756.555 -0.110 4.050 57.723\\n', '3757.421 1.791 3.589 54.541\\n', '3758.286 2.915 3.571 54.310\\n', '3759.151 3.542 3.625 55.537\\n', '3760.017 5.358 4.186 54.054\\n', '3760.883 3.494 4.180 54.979\\n', '3761.749 5.006 4.151 53.938\\n', '3762.615 -1.772 3.933 53.324\\n', '3763.482 0.258 3.403 56.042\\n', '3764.348 -4.344 3.303 55.076\\n', '3765.216 8.354 3.459 52.905\\n', '3766.083 -0.446 3.364 53.887\\n', '3766.949 -10.779 3.257 55.465\\n', '3767.817 -3.798 3.251 53.174\\n', '3768.685 -0.951 3.347 53.365\\n', '3769.553 0.229 3.353 53.969\\n', '3770.421 -2.939 3.284 53.713\\n', '3771.289 -7.070 3.213 55.470\\n', '3772.157 -8.387 3.161 55.551\\n', '3773.026 -6.250 3.175 54.637\\n', '3773.895 -7.979 3.112 55.161\\n', '3774.764 -8.773 3.025 53.783\\n', '3775.633 -8.617 3.024 56.656\\n', '3776.503 -7.372 3.051 56.014\\n', '3777.373 -10.774 3.066 56.555\\n', '3778.242 -3.158 3.132 56.462\\n', '3779.113 -2.580 3.163 54.513\\n', '3779.983 -7.275 3.182 57.641\\n', '3780.853 -6.884 3.272 58.918\\n', '3781.724 -5.344 3.342 58.554\\n', '3782.595 -1.868 3.357 58.343\\n', '3783.466 -0.435 3.391 58.803\\n', '3784.337 -4.829 3.324 60.245\\n', '3785.209 -9.714 3.303 60.944\\n', '3786.080 -7.378 3.274 58.199\\n', '3786.952 -7.247 3.286 58.188\\n', '3787.824 -11.254 3.276 58.679\\n', '3788.697 -13.877 3.287 57.102\\n', '3789.569 -6.008 3.454 54.109\\n', '3790.442 -5.157 3.470 54.243\\n', '3791.315 -8.827 3.514 57.473\\n', '3792.188 -11.460 3.458 54.878\\n', '3793.061 -11.651 3.411 54.340\\n', '3793.935 -7.044 3.456 54.659\\n', '3794.808 -13.651 3.357 53.064\\n', '3795.682 -14.702 3.390 55.478\\n', '3796.556 -9.771 3.479 55.205\\n', '3797.430 -8.333 3.510 51.752\\n', '3798.305 -6.820 3.570 50.726\\n', '3799.179 -5.427 3.679 50.176\\n', '3800.054 -4.901 3.709 51.659\\n', '3800.929 -7.101 3.646 52.569\\n', '3801.805 1.909 3.649 43.977\\n', '3802.680 5.997 3.714 45.833\\n', '3803.556 1.920 3.653 46.671\\n', '3804.432 -0.179 3.568 47.749\\n', '3805.308 5.629 3.563 46.979\\n', '3806.184 2.622 3.450 48.439\\n', '3807.061 4.183 3.412 47.924\\n', '3807.938 2.053 3.292 47.971\\n', '3808.815 -0.398 3.169 47.596\\n', '3809.692 3.115 3.165 46.197\\n', '3810.569 6.100 3.277 48.075\\n', '3811.446 7.631 3.301 46.597\\n', '3812.324 2.685 3.248 47.660\\n', '3813.202 6.071 3.269 47.175\\n', '3814.080 2.488 3.177 44.097\\n', '3814.958 3.836 3.181 44.434\\n', '3815.837 4.549 3.174 44.843\\n', '3816.716 0.983 3.060 43.245\\n', '3817.595 0.160 3.049 43.329\\n', '3818.474 1.995 3.071 44.395\\n', '3819.353 0.481 3.141 45.650\\n', '3820.233 2.509 3.253 45.773\\n', '3821.113 7.105 3.320 44.873\\n', '3821.992 6.228 3.236 43.369\\n', '3822.873 1.339 3.080 42.103\\n', '3823.753 0.635 3.036 44.447\\n', '3824.634 0.744 2.984 43.598\\n', '3825.514 -3.975 2.837 43.986\\n', '3826.395 -1.634 2.803 42.338\\n', '3827.276 -0.191 2.787 41.503\\n', '3828.158 -5.059 2.774 42.870\\n', '3829.039 -3.439 2.785 43.258\\n', '3829.921 -6.590 2.740 44.394\\n', '3830.803 -4.915 2.798 44.932\\n', '3831.685 -2.842 2.878 43.809\\n', '3832.567 -1.924 2.902 44.086\\n', '3833.450 -6.765 2.838 46.641\\n', '3834.333 -10.013 2.744 46.822\\n', '3835.216 -7.002 2.720 45.291\\n', '3836.099 -4.385 2.692 46.042\\n', '3836.982 -2.533 2.719 43.971\\n', '3837.866 -2.341 2.737 43.755\\n', '3838.750 0.323 2.830 43.951\\n', '3839.634 -2.660 2.750 43.278\\n', '3840.518 -4.691 2.758 42.609\\n', '3841.403 0.843 2.797 41.283\\n', '3842.287 5.419 2.901 41.046\\n', '3843.172 0.380 2.851 43.736\\n', '3844.057 0.443 2.865 44.276\\n', '3844.942 2.676 2.825 42.973\\n', '3845.828 -4.706 2.774 45.207\\n', '3846.713 -0.740 2.876 44.782\\n', '3847.599 -0.480 2.884 44.628\\n', '3848.485 -3.890 2.831 45.516\\n', '3849.372 0.651 2.925 45.668\\n', '3850.258 7.508 2.987 43.421\\n', '3851.145 -2.033 2.835 43.835\\n', '3852.031 -2.013 2.861 44.271\\n', '3852.918 2.734 2.895 44.374\\n', '3853.806 0.155 2.887 44.689\\n', '3854.693 -1.402 2.796 44.199\\n', '3855.581 -5.445 2.751 45.716\\n', '3856.469 1.026 2.812 43.896\\n', '3857.357 2.453 2.849 41.487\\n', '3858.245 4.949 2.908 41.814\\n', '3859.134 6.945 2.963 42.317\\n', '3860.022 7.117 2.962 41.408\\n', '3860.911 5.119 2.918 40.985\\n', '3861.801 4.669 2.900 40.897\\n', '3862.690 3.608 2.930 42.087\\n', '3863.579 3.568 2.902 42.683\\n', '3864.469 7.186 2.891 42.478\\n', '3865.359 3.266 2.908 43.833\\n', '3866.249 6.231 2.998 44.112\\n', '3867.139 12.176 3.148 44.335\\n', '3868.030 17.612 3.275 44.584\\n', '3868.921 22.511 3.390 43.998\\n', '3869.812 25.755 3.408 43.026\\n', '3870.703 26.305 3.392 44.699\\n', '3871.594 18.296 3.207 43.618\\n', '3872.486 1.866 2.959 44.124\\n', '3873.377 7.240 3.014 44.769\\n', '3874.270 5.516 3.106 43.934\\n', '3875.162 -1.317 2.894 43.912\\n', '3876.054 4.102 2.973 43.961\\n', '3876.947 1.852 2.984 46.675\\n', '3877.840 -2.888 3.010 47.120\\n', '3878.732 -1.414 3.042 47.394\\n', '3879.625 2.280 3.071 47.480\\n', '3880.519 2.961 3.014 45.582\\n', '3881.413 -0.003 2.909 44.195\\n', '3882.307 -4.052 2.865 44.774\\n', '3883.201 -3.367 2.939 45.048\\n', '3884.095 -1.457 3.086 46.209\\n', '3884.989 -4.975 3.056 48.092\\n', '3885.884 2.129 3.103 46.819\\n', '3886.779 3.514 3.076 47.855\\n', '3887.674 -0.541 3.015 47.730\\n', '3888.569 1.330 3.010 47.725\\n', '3889.465 6.260 3.078 48.045\\n', '3890.360 3.928 3.067 48.219\\n', '3891.256 1.173 2.992 47.839\\n', '3892.152 2.854 2.997 47.911\\n', '3893.049 0.090 2.961 49.166\\n', '3893.945 3.939 3.029 48.625\\n', '3894.842 0.169 2.994 48.322\\n', '3895.739 1.095 3.043 49.457\\n', '3896.636 0.910 3.084 48.711\\n', '3897.533 3.827 3.115 46.683\\n', '3898.431 4.436 3.165 48.124\\n', '3899.329 2.371 3.115 47.630\\n', '3900.226 2.517 3.132 47.952\\n', '3901.125 -0.812 3.042 47.922\\n', '3902.023 2.704 3.037 47.923\\n', '3902.921 3.621 3.000 46.480\\n', '3903.821 3.298 2.928 46.030\\n', '3904.719 3.108 2.948 46.434\\n', '3905.618 -0.214 2.886 46.889\\n', '3906.518 2.495 2.894 45.764\\n', '3907.417 4.342 2.852 43.911\\n', '3908.317 -0.244 2.818 44.436\\n', '3909.218 4.866 2.872 43.513\\n', '3910.118 4.261 2.919 45.991\\n', '3911.018 3.618 2.945 46.816\\n', '3911.919 1.684 2.966 47.520\\n', '3912.820 1.997 2.962 48.866\\n', '3913.720 1.887 2.907 48.015\\n', '3914.622 0.085 2.827 47.152\\n', '3915.523 0.095 2.815 48.411\\n', '3916.425 3.260 2.844 48.284\\n', '3917.327 3.987 2.862 46.601\\n', '3918.229 0.073 2.795 47.609\\n', '3919.131 3.603 2.789 44.423\\n', '3920.034 3.563 2.777 43.128\\n', '3920.937 6.926 2.896 45.895\\n', '3921.840 4.587 2.878 44.506\\n', '3922.743 6.765 2.892 43.112\\n', '3923.646 8.337 2.875 44.413\\n', '3924.550 5.343 2.838 43.113\\n', '3925.453 2.060 2.756 42.530\\n', '3926.357 0.840 2.715 43.852\\n', '3927.262 2.173 2.667 42.790\\n', '3928.166 5.425 2.701 42.033\\n', '3929.071 2.699 2.753 42.656\\n', '3929.975 5.152 2.714 41.112\\n', '3930.880 0.853 2.792 39.340\\n', '3931.785 -2.151 2.786 39.932\\n', '3932.691 -5.933 3.117 40.834\\n', '3933.597 -7.783 3.007 38.190\\n', '3934.502 -4.402 2.376 36.535\\n', '3935.408 -0.705 2.422 34.491\\n', '3936.315 -2.736 2.365 33.924\\n', '3937.221 -0.970 2.356 34.923\\n', '3938.128 -0.632 2.351 33.551\\n', '3939.034 2.698 2.433 33.383\\n', '3939.942 -0.279 2.434 35.507\\n', '3940.850 -1.189 2.495 38.772\\n', '3941.757 4.960 2.597 39.721\\n', '3942.664 1.860 2.618 41.521\\n', '3943.572 -0.217 2.601 42.041\\n', '3944.480 2.847 2.641 40.594\\n', '3945.388 3.223 2.655 41.708\\n', '3946.297 3.586 2.641 43.406\\n', '3947.206 4.627 2.653 42.717\\n', '3948.115 1.729 2.677 46.726\\n', '3949.024 1.351 2.699 46.831\\n', '3949.934 6.281 2.737 45.805\\n', '3950.844 4.331 2.745 47.194\\n', '3951.753 6.514 2.749 46.120\\n', '3952.663 5.416 2.781 48.957\\n', '3953.573 3.208 2.780 47.649\\n', '3954.483 1.706 2.768 48.420\\n', '3955.394 6.378 2.920 49.702\\n', '3956.305 4.831 2.898 48.891\\n', '3957.217 -0.069 2.836 50.137\\n', '3958.128 -5.831 2.749 50.479\\n', '3959.040 -0.846 2.749 49.152\\n', '3959.951 1.173 2.718 49.237\\n', '3960.863 -4.042 2.575 47.604\\n', '3961.775 -0.524 2.631 47.518\\n', '3962.688 2.694 2.703 49.160\\n', '3963.600 1.589 2.670 45.881\\n', '3964.512 -1.631 2.636 43.708\\n', '3965.425 -0.938 2.566 42.645\\n', '3966.338 -4.003 2.549 44.786\\n', '3967.252 -4.350 2.532 45.275\\n', '3968.166 3.345 2.584 42.546\\n', '3969.080 -0.385 2.514 41.778\\n', '3969.994 -1.361 2.508 40.959\\n', '3970.908 1.998 2.802 40.934\\n', '3971.822 3.661 2.827 39.590\\n', '3972.737 1.281 2.579 39.878\\n', '3973.652 -2.011 2.546 41.312\\n', '3974.567 -2.785 2.512 41.435\\n', '3975.482 -1.730 2.561 43.040\\n', '3976.397 -1.752 2.565 45.500\\n', '3977.314 -3.238 2.531 47.031\\n', '3978.230 2.488 2.558 46.481\\n', '3979.145 0.386 2.572 47.959\\n', '3980.062 -1.084 2.580 49.666\\n', '3980.978 -5.157 2.585 50.375\\n', '3981.895 -2.678 2.620 50.598\\n', '3982.812 2.117 2.694 50.608\\n', '3983.729 0.639 2.643 50.544\\n', '3984.647 -2.301 2.579 51.504\\n', '3985.564 1.483 2.551 49.680\\n', '3986.482 -1.703 2.502 50.403\\n', '3987.400 -4.999 2.508 51.167\\n', '3988.318 0.592 2.632 49.229\\n', '3989.237 5.670 2.754 50.734\\n', '3990.156 5.565 2.765 51.085\\n', '3991.074 -1.585 2.717 52.637\\n', '3991.994 -0.614 2.651 50.229\\n', '3992.913 0.894 2.603 50.564\\n', '3993.832 1.402 2.599 51.930\\n', '3994.751 2.140 2.598 52.416\\n', '3995.671 -2.091 2.592 52.579\\n', '3996.592 3.312 2.717 51.670\\n', '3997.512 -0.064 2.703 51.283\\n', '3998.433 -3.265 2.589 49.535\\n', '3999.354 0.654 2.563 50.090\\n', '4000.275 1.858 2.558 51.855\\n', '4001.196 -1.827 2.535 51.786\\n', '4002.117 -0.297 2.570 51.495\\n', '4003.039 1.328 2.619 53.096\\n', '4003.960 -0.085 2.597 52.666\\n', '4004.883 2.043 2.539 51.229\\n', '4005.805 0.967 2.524 52.273\\n', '4006.727 -0.418 2.528 51.655\\n', '4007.650 -1.598 2.571 50.689\\n', '4008.573 1.580 2.646 49.029\\n', '4009.496 8.770 2.720 49.357\\n', '4010.420 0.585 2.569 51.660\\n', '4011.343 -1.109 2.517 52.801\\n', '4012.267 -1.852 2.501 54.143\\n', '4013.190 -3.213 2.519 52.817\\n', '4014.115 -0.906 2.563 51.962\\n', '4015.040 -0.598 2.597 53.510\\n', '4015.964 5.873 2.596 52.411\\n', '4016.889 0.743 2.532 51.835\\n', '4017.814 0.495 2.533 52.987\\n', '4018.739 3.083 2.546 51.488\\n', '4019.665 1.974 2.540 52.271\\n', '4020.590 -0.466 2.529 53.450\\n', '4021.516 -1.472 2.526 54.200\\n', '4022.442 1.125 2.571 53.068\\n', '4023.368 -0.587 2.541 53.030\\n', '4024.295 -1.993 2.559 52.885\\n', '4025.222 3.828 2.586 52.811\\n', '4026.148 -1.972 2.464 53.715\\n', '4027.076 -4.705 2.390 52.282\\n', '4028.003 2.367 2.471 51.811\\n', '4028.931 -0.978 2.464 53.389\\n', '4029.859 -1.044 2.495 56.675\\n', '4030.787 -4.606 2.438 54.024\\n', '4031.714 -3.573 2.422 52.584\\n', '4032.643 -0.932 2.436 50.108\\n', '4033.572 -0.419 2.411 47.546\\n', '4034.501 1.984 2.447 49.079\\n', '4035.429 -0.954 2.431 50.108\\n', '4036.359 -5.983 2.392 50.602\\n', '4037.289 -1.507 2.463 50.332\\n', '4038.218 -4.948 2.456 52.519\\n', '4039.148 -3.936 2.470 54.300\\n', '4040.079 0.352 2.529 55.162\\n', '4041.009 -0.631 2.486 54.116\\n', '4041.940 0.171 2.478 53.886\\n', '4042.871 -1.492 2.488 54.766\\n', '4043.801 -2.872 2.478 52.855\\n', '4044.733 -1.401 2.451 52.668\\n', '4045.664 -0.135 2.462 50.556\\n', '4046.596 -4.038 2.330 49.537\\n', '4047.527 -3.944 2.287 47.337\\n', '4048.459 -4.432 2.297 48.383\\n', '4049.392 0.635 2.380 50.936\\n', '4050.324 -0.562 2.406 50.364\\n', '4051.257 1.476 2.472 51.564\\n', '4052.190 1.557 2.510 53.505\\n', '4053.124 -2.458 2.469 53.991\\n', '4054.057 -2.195 2.381 52.678\\n', '4054.990 -3.150 2.389 53.455\\n', '4055.924 -3.317 2.327 52.333\\n', '4056.858 4.908 2.411 51.857\\n', '4057.792 -1.647 2.353 51.317\\n', '4058.727 -1.705 2.357 50.088\\n', '4059.662 -2.414 2.390 51.366\\n', '4060.596 -1.457 2.394 50.611\\n', '4061.531 2.202 2.459 49.826\\n', '4062.467 0.608 2.451 50.974\\n', '4063.402 -0.783 2.423 52.161\\n', '4064.337 -1.289 2.403 51.397\\n', '4065.274 -2.828 2.326 49.339\\n', '4066.210 -0.392 2.324 48.320\\n', '4067.146 1.486 2.413 50.231\\n', '4068.083 2.039 2.424 50.218\\n', '4069.020 7.148 2.470 49.799\\n', '4069.957 3.250 2.420 50.812\\n', '4070.894 -1.378 2.400 51.949\\n', '4071.832 0.751 2.425 51.963\\n', '4072.770 2.399 2.477 51.353\\n', '4073.707 2.391 2.506 51.808\\n', '4074.645 4.748 2.541 51.052\\n', '4075.584 3.986 2.535 51.879\\n', '4076.522 2.717 2.495 52.118\\n', '4077.461 3.601 2.492 51.328\\n', '4078.400 -0.193 2.438 52.729\\n', '4079.339 0.037 2.401 51.122\\n', '4080.279 2.097 2.419 49.856\\n', '4081.218 1.628 2.478 53.314\\n', '4082.158 0.045 2.450 55.212\\n', '4083.098 -1.109 2.482 56.128\\n', '4084.038 0.434 2.467 56.002\\n', '4084.979 -2.298 2.454 56.075\\n', '4085.919 -1.238 2.474 56.093\\n', '4086.860 5.928 2.529 54.301\\n', '4087.802 -2.162 2.442 55.595\\n', '4088.743 -0.975 2.435 56.874\\n', '4089.684 2.926 2.488 56.716\\n', '4090.626 3.232 2.521 59.265\\n', '4091.568 -0.908 2.469 59.403\\n', '4092.510 -3.339 2.411 59.084\\n', '4093.453 -1.647 2.500 60.181\\n', '4094.396 0.327 2.508 58.629\\n', '4095.339 -0.948 2.500 58.552\\n', '4096.282 -0.282 2.476 57.862\\n', '4097.225 -0.312 2.454 58.449\\n', '4098.168 -0.228 2.433 58.029\\n', '4099.112 -2.407 2.373 57.264\\n', '4100.056 -6.751 2.328 57.309\\n', '4101.001 -4.687 2.353 57.128\\n', '4101.945 0.007 2.362 54.624\\n', '4102.890 -4.043 2.300 55.601\\n', '4103.834 1.003 2.380 55.766\\n', '4104.779 -2.087 2.372 53.406\\n', '4105.725 -3.786 2.371 55.614\\n', '4106.670 1.230 2.395 54.075\\n', '4107.615 -1.544 2.381 55.385\\n', '4108.562 -2.720 2.379 56.293\\n', '4109.508 -3.499 2.367 56.797\\n', '4110.454 0.432 2.403 55.710\\n', '4111.400 1.533 2.423 55.699\\n', '4112.347 -0.658 2.363 55.130\\n', '4113.294 -0.418 2.351 54.813\\n', '4114.241 -4.039 2.292 54.729\\n', '4115.189 -0.947 2.332 54.864\\n', '4116.137 -2.912 2.336 56.373\\n', '4117.085 1.429 2.389 55.122\\n', '4118.033 2.211 2.379 54.842\\n', '4118.980 -2.678 2.308 54.168\\n', '4119.930 -2.757 2.274 55.082\\n', '4120.878 -0.459 2.319 55.252\\n', '4121.827 -2.906 2.295 53.760\\n', '4122.776 0.533 2.359 54.598\\n', '4123.726 -0.680 2.733 54.349\\n', '4124.675 -3.316 2.760 55.364\\n', '4125.625 0.115 2.824 54.886\\n', '4126.576 -1.442 2.347 55.393\\n', '4127.526 -0.543 2.330 55.530\\n', '4128.477 -1.076 2.330 53.806\\n', '4129.428 -3.127 2.270 53.101\\n', '4130.378 -1.142 2.315 54.116\\n', '4131.330 1.005 2.301 53.111\\n', '4132.281 -1.927 2.256 52.143\\n', '4133.232 -2.746 2.214 52.129\\n', '4134.185 0.332 2.206 49.956\\n', '4135.136 2.070 2.271 51.733\\n', '4136.088 0.182 2.274 49.716\\n', '4137.041 2.284 2.309 50.733\\n', '4137.994 0.421 2.295 52.394\\n', '4138.947 0.714 2.311 53.885\\n', '4139.899 0.053 2.306 54.184\\n', '4140.853 -2.266 2.334 54.168\\n', '4141.807 -0.295 2.320 53.119\\n', '4142.760 -0.158 2.378 52.931\\n', '4143.714 -1.205 2.347 52.503\\n', '4144.669 -2.018 2.313 51.857\\n', '4145.623 -4.131 2.281 50.835\\n', '4146.578 -0.186 2.353 50.450\\n', '4147.533 -1.812 2.390 51.356\\n', '4148.488 -3.561 2.328 51.501\\n', '4149.443 -3.014 2.272 51.318\\n', '4150.398 2.549 2.278 49.866\\n', '4151.354 2.668 2.301 52.816\\n', '4152.311 -1.215 2.283 53.180\\n', '4153.267 -4.913 2.239 52.132\\n', '4154.223 -2.923 2.287 51.910\\n', '4155.180 2.406 2.290 49.417\\n', '4156.137 -0.429 2.257 50.526\\n', '4157.093 -1.409 2.256 51.848\\n', '4158.051 2.482 2.231 49.033\\n', '4159.008 -0.791 2.240 52.608\\n', '4159.966 -3.941 2.220 53.423\\n', '4160.924 -1.345 2.250 50.546\\n', '4161.882 -1.171 2.275 53.161\\n', '4162.841 -1.498 2.276 53.739\\n', '4163.800 0.376 2.305 54.243\\n', '4164.758 4.120 2.290 52.186\\n', '4165.718 -0.002 2.273 52.578\\n', '4166.677 1.065 2.344 54.709\\n', '4167.636 -2.171 2.312 53.494\\n', '4168.596 -1.950 2.275 52.860\\n', '4169.556 -2.293 2.208 50.718\\n', '4170.517 -3.316 2.214 50.962\\n', '4171.477 -1.475 2.266 51.074\\n', '4172.437 -1.235 2.299 50.946\\n', '4173.398 -5.485 2.234 51.833\\n', '4174.359 -3.345 2.241 50.361\\n', '4175.321 -3.279 2.202 49.640\\n', '4176.282 -5.516 2.151 49.541\\n', '4177.244 -2.194 2.157 49.744\\n', '4178.206 0.323 2.178 49.866\\n', '4179.167 3.773 2.227 49.143\\n', '4180.130 -1.794 2.229 50.153\\n', '4181.093 -7.754 2.271 50.422\\n', '4182.056 -2.259 2.477 49.872\\n', '4183.019 -1.325 2.583 51.868\\n', '4183.982 -4.992 2.461 51.419\\n', '4184.945 -3.826 2.387 50.734\\n', '4185.910 -1.950 2.340 51.007\\n', '4186.873 0.928 2.337 50.096\\n', '4187.837 0.108 2.278 50.731\\n', '4188.802 -2.822 2.241 51.376\\n', '4189.767 -0.681 2.220 49.677\\n', '4190.731 -2.352 2.233 50.476\\n', '4191.696 -1.155 2.223 50.715\\n', '4192.662 -2.868 2.204 51.482\\n', '4193.627 -5.617 2.220 52.335\\n', '4194.593 -3.513 2.230 51.476\\n', '4195.559 0.688 2.316 52.541\\n', '4196.525 0.342 2.275 52.188\\n', '4197.491 -8.290 2.272 51.912\\n', '4198.458 -3.194 2.287 51.010\\n', '4199.425 4.455 2.297 49.159\\n', '4200.392 -1.602 2.247 49.879\\n', '4201.359 -1.586 2.252 50.270\\n', '4202.327 0.765 2.297 50.278\\n', '4203.295 -3.043 2.358 50.473\\n', '4204.263 0.914 2.427 50.417\\n', '4205.230 1.881 2.332 49.936\\n', '4206.199 0.164 2.257 50.571\\n', '4207.168 0.703 2.255 50.209\\n', '4208.136 -3.824 2.185 51.212\\n', '4209.105 2.102 2.247 52.179\\n', '4210.075 2.398 2.251 51.519\\n', '4211.043 -2.400 2.208 53.017\\n', '4212.014 0.376 2.220 51.312\\n', '4212.983 1.752 2.285 52.536\\n', '4213.954 5.340 2.307 52.303\\n', '4214.925 -2.136 2.244 52.726\\n', '4215.895 0.827 2.240 52.589\\n', '4216.866 -3.143 2.181 51.871\\n', '4217.837 -3.413 2.183 51.961\\n', '4218.809 -1.666 2.202 52.198\\n', '4219.780 -2.894 2.223 53.466\\n', '4220.751 -1.154 2.200 52.933\\n', '4221.724 -0.764 2.218 53.207\\n', '4222.696 0.317 2.204 52.332\\n', '4223.668 -0.532 2.153 52.540\\n', '4224.641 -2.641 2.156 51.663\\n', '4225.614 -5.801 2.126 51.090\\n', '4226.587 -3.447 2.100 48.100\\n', '4227.560 1.060 2.095 45.082\\n', '4228.534 -1.078 2.033 44.273\\n', '4229.507 -1.763 2.068 45.156\\n', '4230.481 4.949 2.185 46.482\\n', '4231.456 -5.676 2.152 50.344\\n', '4232.430 -1.492 2.211 52.097\\n', '4233.405 1.853 2.236 52.238\\n', '4234.379 -5.191 2.174 53.599\\n', '4235.355 -2.422 2.199 51.696\\n', '4236.331 2.542 2.242 51.484\\n', '4237.306 -0.640 2.222 52.088\\n', '4238.282 -1.123 2.184 50.064\\n', '4239.258 2.091 2.168 49.409\\n', '4240.234 -0.175 2.150 50.369\\n', '4241.210 -1.725 2.161 50.858\\n', '4242.187 -1.421 2.235 53.383\\n', '4243.164 0.091 2.269 53.395\\n', '4244.141 0.338 2.254 53.560\\n', '4245.118 0.741 2.242 54.478\\n', '4246.096 -0.088 2.209 54.858\\n', '4247.074 -2.024 2.210 55.931\\n', '4248.052 -0.009 2.206 54.999\\n', '4249.030 -1.750 2.196 53.875\\n', '4250.009 -3.826 2.160 51.956\\n', '4250.987 -3.372 2.177 52.614\\n', '4251.966 -2.367 2.174 51.755\\n', '4252.945 -2.520 2.128 49.787\\n', '4253.925 0.182 2.192 51.272\\n', '4254.905 4.495 2.219 50.331\\n', '4255.884 -3.594 2.096 50.248\\n', '4256.865 -1.811 2.129 51.921\\n', '4257.845 -2.905 2.118 51.469\\n', '4258.825 2.201 2.194 51.277\\n', '4259.806 2.414 2.180 51.370\\n', '4260.787 0.234 2.155 50.833\\n', '4261.768 -2.389 2.075 50.096\\n', '4262.750 -3.498 2.073 50.102\\n', '4263.731 -0.152 2.115 51.538\\n', '4264.713 2.049 2.145 51.240\\n', '4265.695 -2.123 2.124 51.807\\n', '4266.677 2.033 2.265 55.343\\n', '4267.660 2.134 2.278 55.259\\n', '4268.643 -3.086 2.201 55.550\\n', '4269.625 -1.385 2.157 53.004\\n', '4270.608 1.134 2.181 51.328\\n', '4271.592 0.057 2.163 51.361\\n', '4272.576 -1.692 2.089 48.025\\n', '4273.560 -1.839 2.073 47.761\\n', '4274.544 -0.348 2.067 47.160\\n', '4275.528 1.138 2.053 46.904\\n', '4276.513 -0.727 2.025 48.210\\n', '4277.498 -1.987 2.027 49.452\\n', '4278.483 2.592 2.152 51.349\\n', '4279.468 1.262 2.144 52.236\\n', '4280.454 -4.087 2.120 53.582\\n', '4281.439 -2.778 2.156 53.297\\n', '4282.426 -2.333 2.130 52.296\\n', '4283.412 0.158 2.144 52.780\\n', '4284.398 -2.393 2.092 52.384\\n', '4285.384 2.421 2.145 51.899\\n', '4286.371 1.416 2.164 50.978\\n', '4287.358 -0.195 2.119 50.454\\n', '4288.346 1.894 2.123 50.448\\n', '4289.333 -0.066 2.082 51.311\\n', '4290.321 -0.897 2.070 50.167\\n', '4291.310 1.261 2.068 48.387\\n', '4292.297 -1.194 2.042 48.232\\n', '4293.286 -0.449 2.103 50.042\\n', '4294.274 -0.135 2.112 50.199\\n', '4295.264 2.852 2.110 49.780\\n', '4296.252 0.073 2.077 51.523\\n', '4297.242 -0.147 2.051 50.190\\n', '4298.232 -4.220 2.011 49.663\\n', '4299.222 -4.691 1.943 49.081\\n', '4300.211 -2.046 1.959 48.782\\n', '4301.202 1.332 1.967 46.389\\n', '4302.192 -0.206 1.940 44.287\\n', '4303.183 0.359 1.970 43.537\\n', '4304.174 1.746 2.007 43.831\\n', '4305.165 -2.111 1.988 44.966\\n', '4306.156 -0.951 1.990 45.149\\n', '4307.148 0.112 1.997 44.220\\n', '4308.140 1.302 2.000 43.907\\n', '4309.132 2.943 2.028 44.037\\n', '4310.125 4.478 2.012 42.885\\n', '4311.117 0.432 1.966 42.735\\n', '4312.110 -3.082 1.971 44.484\\n', '4313.103 1.618 2.075 47.086\\n', '4314.096 4.595 2.144 47.932\\n', '4315.090 4.715 2.186 48.994\\n', '4316.083 3.512 2.234 52.887\\n', '4317.077 3.970 2.246 55.030\\n', '4318.071 4.781 2.272 56.925\\n', '4319.065 7.264 2.306 57.918\\n', '4320.060 7.263 2.310 58.238\\n', '4321.055 3.426 2.278 60.421\\n', '4322.050 7.347 2.296 59.328\\n', '4323.045 4.369 2.218 57.327\\n', '4324.041 3.697 2.199 55.919\\n', '4325.037 5.947 2.239 55.112\\n', '4326.033 5.944 2.221 53.181\\n', '4327.029 4.296 2.193 51.256\\n', '4328.026 4.151 2.205 52.353\\n', '4329.022 2.796 2.265 54.066\\n', '4330.019 2.334 2.309 56.690\\n', '4331.016 3.339 2.327 59.539\\n', '4332.013 6.877 2.345 60.172\\n', '4333.011 7.366 2.326 60.274\\n', '4334.009 2.265 2.290 61.589\\n', '4335.007 3.015 2.367 63.718\\n', '4336.005 4.359 2.464 63.457\\n', '4337.004 6.277 2.471 62.522\\n', '4338.002 1.539 2.372 61.506\\n', '4339.002 3.047 2.394 61.168\\n', '4340.001 5.855 2.402 59.928\\n', '4341.000 4.863 2.359 58.793\\n', '4342.000 10.848 2.378 56.333\\n', '4343.000 12.159 2.398 55.493\\n', '4344.000 8.138 2.362 56.461\\n', '4345.000 5.560 2.321 55.985\\n', '4346.000 1.135 2.282 58.693\\n', '4347.001 0.891 2.331 60.244\\n', '4348.003 3.956 2.420 61.490\\n', '4349.004 6.201 2.723 60.128\\n', '4350.005 1.482 2.594 60.851\\n', '4351.007 4.675 2.392 59.944\\n', '4352.009 5.206 2.348 58.483\\n', '4353.012 6.140 2.328 57.679\\n', '4354.014 7.268 2.330 55.631\\n', '4355.016 1.666 2.309 56.039\\n', '4356.019 7.681 2.366 56.330\\n', '4357.022 8.007 2.324 56.882\\n', '4358.026 9.549 2.310 56.398\\n', '4359.029 11.518 2.373 55.959\\n', '4360.033 7.575 2.385 57.184\\n', '4361.038 8.993 2.409 57.413\\n', '4362.042 10.166 2.398 58.644\\n', '4363.046 10.661 2.382 58.846\\n', '4364.051 16.325 2.448 59.040\\n', '4365.056 12.669 2.408 59.209\\n', '4366.061 11.407 2.402 60.403\\n', '4367.066 6.941 2.353 59.522\\n', '4368.072 7.766 2.348 59.616\\n', '4369.078 6.891 2.342 60.209\\n', '4370.084 4.134 2.255 57.166\\n', '4371.091 5.727 2.243 56.706\\n', '4372.098 5.436 2.221 55.978\\n', '4373.104 4.006 2.227 56.399\\n', '4374.111 3.151 2.227 57.012\\n', '4375.118 4.985 2.206 55.364\\n', '4376.125 2.739 2.180 54.474\\n', '4377.133 4.162 2.170 53.924\\n', '4378.141 7.150 2.186 53.817\\n', '4379.150 0.139 2.118 55.802\\n', '4380.159 4.257 2.166 55.843\\n', '4381.167 4.094 2.154 54.747\\n', '4382.176 2.482 2.157 54.967\\n', '4383.186 0.647 2.159 55.027\\n', '4384.195 -0.643 2.095 51.483\\n', '4385.204 6.406 2.091 48.309\\n', '4386.214 1.886 2.035 49.544\\n', '4387.224 -1.034 1.975 49.148\\n', '4388.234 -2.461 1.979 51.019\\n', '4389.245 2.676 2.062 51.573\\n', '4390.255 3.236 2.067 51.923\\n', '4391.267 0.577 2.069 53.598\\n', '4392.278 3.009 2.089 54.195\\n', '4393.289 3.745 2.126 54.692\\n', '4394.301 0.011 2.115 55.379\\n', '4395.313 -1.275 2.112 55.929\\n', '4396.325 -0.176 2.140 56.150\\n', '4397.337 1.744 2.171 56.501\\n', '4398.350 2.697 2.134 56.306\\n', '4399.363 1.875 2.134 56.936\\n', '4400.376 2.720 2.127 56.643\\n', '4401.390 0.266 2.123 57.090\\n', '4402.403 1.614 2.140 56.051\\n', '4403.417 2.205 2.153 56.406\\n', '4404.431 0.527 2.136 55.100\\n', '4405.445 -2.316 2.089 53.466\\n', '4406.460 -2.348 2.023 52.710\\n', '4407.474 1.795 2.049 52.425\\n', '4408.490 2.120 2.058 51.812\\n', '4409.504 -1.397 2.050 52.503\\n', '4410.521 -0.764 2.086 54.531\\n', '4411.536 0.336 2.098 54.532\\n', '4412.551 -0.149 2.093 56.800\\n', '4413.568 1.381 2.120 57.790\\n', '4414.584 -0.054 2.132 58.402\\n', '4415.601 1.487 2.106 57.165\\n', '4416.618 -0.591 2.069 56.831\\n', '4417.635 -1.476 2.060 57.477\\n', '4418.652 0.873 2.067 56.531\\n', '4419.670 -5.968 2.027 57.657\\n', '4420.688 -3.881 2.071 58.793\\n', '4421.705 4.247 2.177 59.101\\n', '4422.724 2.902 2.180 59.221\\n', '4423.742 -0.022 2.149 57.440\\n', '4424.761 -0.882 2.126 57.887\\n', '4425.780 0.441 2.129 58.271\\n', '4426.799 2.063 2.117 56.979\\n', '4427.818 -3.459 2.057 57.837\\n', '4428.838 -4.853 2.053 57.704\\n', '4429.858 -1.057 2.138 58.829\\n', '4430.878 -2.779 2.130 59.447\\n', '4431.898 -2.042 2.082 57.410\\n', '4432.919 -1.823 2.134 59.173\\n', '4433.940 -3.190 2.130 58.457\\n', '4434.961 -0.854 2.091 57.071\\n', '4435.982 -3.599 2.077 56.653\\n', '4437.003 -2.056 2.085 56.693\\n', '4438.025 -0.673 2.099 57.745\\n', '4439.048 -0.582 2.082 57.937\\n', '4440.070 -1.539 2.070 58.340\\n', '4441.093 1.297 2.137 59.029\\n', '4442.115 1.244 2.157 59.183\\n', '4443.138 -4.372 2.134 60.036\\n', '4444.162 -3.668 2.115 59.859\\n', '4445.185 -2.658 2.084 57.741\\n', '4446.208 1.769 2.122 58.424\\n', '4447.232 4.420 2.169 58.522\\n', '4448.256 1.688 2.198 60.352\\n', '4449.281 -1.656 2.185 60.921\\n', '4450.305 2.716 2.208 60.091\\n', '4451.330 3.895 2.203 60.735\\n', '4452.355 0.476 2.109 60.029\\n', '4453.380 0.318 2.118 58.898\\n', '4454.406 -0.506 2.143 59.457\\n', '4455.432 0.268 2.182 58.167\\n', '4456.458 1.774 2.196 56.739\\n', '4457.484 -1.132 2.084 55.676\\n', '4458.511 -1.533 2.038 54.355\\n', '4459.538 0.669 2.067 53.987\\n', '4460.564 -2.292 2.062 55.347\\n', '4461.591 -3.881 2.036 55.804\\n', '4462.619 -1.840 2.039 55.849\\n', '4463.646 -4.018 2.012 56.576\\n', '4464.675 -3.985 2.003 56.706\\n', '4465.703 0.627 2.046 57.289\\n', '4466.731 -0.576 2.042 58.403\\n', '4467.760 -1.150 2.031 59.179\\n', '4468.788 -3.338 2.002 59.068\\n', '4469.818 -3.594 2.021 60.205\\n', '4470.847 -3.786 2.032 60.245\\n', '4471.876 -2.128 2.070 58.585\\n', '4472.906 3.533 2.092 57.709\\n', '4473.937 0.951 2.116 59.865\\n', '4474.967 0.616 2.115 61.147\\n', '4475.997 -1.131 2.111 61.859\\n', '4477.028 -1.032 2.121 62.078\\n', '4478.059 0.601 2.144 63.364\\n', '4479.090 -0.213 2.168 63.700\\n', '4480.122 1.758 2.182 63.766\\n', '4481.153 1.376 2.219 63.171\\n', '4482.185 -0.467 2.199 61.505\\n', '4483.217 -2.854 2.136 60.054\\n', '4484.250 -1.779 2.096 59.874\\n', '4485.283 -1.774 2.064 61.221\\n', '4486.315 2.679 2.134 62.364\\n', '4487.349 -0.067 2.124 63.044\\n', '4488.382 3.708 2.182 63.135\\n', '4489.416 2.096 2.150 62.497\\n', '4490.450 3.661 2.145 60.861\\n', '4491.484 1.519 2.102 61.232\\n', '4492.518 -0.555 2.078 61.165\\n', '4493.552 1.273 2.113 60.058\\n', '4494.587 -0.750 2.120 60.553\\n', '4495.622 1.786 2.184 59.793\\n', '4496.657 1.666 2.169 59.859\\n', '4497.693 -1.901 2.103 60.612\\n', '4498.729 3.331 2.133 60.182\\n', '4499.765 -0.780 2.141 62.406\\n', '4500.801 1.272 2.198 62.562\\n', '4501.837 3.227 2.293 61.636\\n', '4502.874 3.230 2.344 62.868\\n', '4503.911 3.321 2.304 63.313\\n', '4504.948 1.231 2.248 64.250\\n', '4505.985 0.913 2.255 64.840\\n', '4507.023 4.279 2.324 64.600\\n', '4508.061 3.066 2.322 65.612\\n', '4509.100 5.290 2.277 64.449\\n', '4510.138 -0.614 2.190 64.130\\n', '4511.177 1.358 2.233 65.428\\n', '4512.215 3.092 2.281 63.552\\n', '4513.254 1.416 2.297 64.572\\n', '4514.293 -0.764 2.258 64.740\\n', '4515.333 -0.823 2.214 63.075\\n', '4516.373 1.907 2.210 62.395\\n', '4517.414 1.594 2.227 62.490\\n', '4518.454 0.626 2.244 62.162\\n', '4519.494 -2.018 2.249 63.167\\n', '4520.535 0.294 2.290 64.613\\n', '4521.576 2.230 2.281 64.204\\n', '4522.617 -2.243 2.210 65.117\\n', '4523.658 0.723 2.221 63.446\\n', '4524.700 -4.770 2.128 63.794\\n', '4525.743 2.935 2.183 62.762\\n', '4526.784 -0.869 2.086 60.306\\n', '4527.827 0.476 2.104 59.373\\n', '4528.870 2.771 2.108 58.188\\n', '4529.913 -2.900 2.063 58.593\\n', '4530.956 -0.929 2.037 57.238\\n', '4531.999 4.568 2.097 56.748\\n', '4533.042 0.276 2.065 58.606\\n', '4534.086 -1.723 2.094 59.843\\n', '4535.131 4.347 2.168 58.319\\n', '4536.175 3.557 2.121 57.175\\n', '4537.220 -0.774 2.085 58.449\\n', '4538.264 4.237 2.123 59.343\\n', '4539.310 6.016 2.169 60.259\\n', '4540.355 2.542 2.153 62.334\\n', '4541.401 2.199 2.204 63.219\\n', '4542.446 1.231 2.182 62.959\\n', '4543.493 5.551 2.187 61.556\\n', '4544.539 3.973 2.140 62.125\\n', '4545.585 -1.371 2.100 63.050\\n', '4546.632 2.604 2.139 61.225\\n', '4547.679 -2.096 2.100 61.395\\n', '4548.727 1.100 2.153 62.497\\n', '4549.774 3.215 2.133 61.202\\n', '4550.821 -0.168 2.059 60.953\\n', '4551.870 2.356 2.087 61.225\\n', '4552.918 2.006 2.080 60.660\\n', '4553.966 1.431 2.059 61.501\\n', '4555.015 -1.053 2.050 61.471\\n', '4556.064 -0.829 2.071 61.537\\n', '4557.113 3.553 2.120 60.549\\n', '4558.163 0.651 2.072 62.062\\n', '4559.212 -0.864 2.108 64.007\\n', '4560.262 2.253 2.132 62.689\\n', '4561.312 -0.167 2.154 64.464\\n', '4562.363 1.943 2.196 66.569\\n', '4563.413 5.344 2.214 64.556\\n', '4564.464 1.149 2.169 65.727\\n', '4565.515 1.313 2.139 64.318\\n', '4566.567 2.892 2.154 62.165\\n', '4567.618 6.082 2.215 63.371\\n', '4568.670 -0.389 2.137 62.947\\n', '4569.722 2.991 2.150 62.877\\n', '4570.775 0.814 2.108 64.109\\n', '4571.827 2.209 2.107 64.510\\n', '4572.880 2.104 2.120 63.785\\n', '4573.933 0.289 2.138 65.619\\n', '4574.987 2.122 2.131 64.908\\n', '4576.040 5.562 2.162 64.054\\n', '4577.094 2.726 2.126 64.321\\n', '4578.147 1.966 2.101 64.433\\n', '4579.202 3.484 2.113 63.361\\n', '4580.256 1.509 2.093 63.193\\n', '4581.312 1.347 2.088 63.090\\n', '4582.366 -1.150 2.055 62.405\\n', '4583.421 -0.679 2.068 62.923\\n', '4584.477 0.957 2.092 63.194\\n', '4585.533 1.507 2.104 63.126\\n', '4586.589 1.000 2.101 61.933\\n', '4587.645 -0.607 2.104 62.667\\n', '4588.701 2.753 2.162 63.340\\n', '4589.758 1.501 2.152 63.859\\n', '4590.815 -0.049 2.105 64.748\\n', '4591.873 1.009 2.114 65.294\\n', '4592.930 -1.090 2.084 63.941\\n', '4593.987 0.594 2.079 61.769\\n', '4595.045 3.319 2.099 62.035\\n', '4596.104 -0.408 2.069 62.914\\n', '4597.162 1.798 2.101 62.456\\n', '4598.220 0.912 2.095 62.624\\n', '4599.279 -1.281 2.105 62.783\\n', '4600.339 3.526 2.117 61.856\\n', '4601.398 1.438 2.101 63.657\\n', '4602.458 -1.308 2.060 63.502\\n', '4603.518 1.468 2.071 62.759\\n', '4604.577 1.815 2.083 63.760\\n', '4605.638 2.478 2.088 63.659\\n', '4606.699 2.586 2.081 62.895\\n', '4607.760 3.397 2.081 62.978\\n', '4608.821 3.054 2.126 64.542\\n', '4609.882 3.802 2.157 64.675\\n', '4610.943 0.137 2.154 66.997\\n', '4612.005 1.380 2.122 65.911\\n', '4613.068 0.965 2.084 65.543\\n', '4614.129 -0.553 2.091 66.898\\n', '4615.192 1.218 2.142 65.733\\n', '4616.255 -0.171 2.130 65.498\\n', '4617.318 2.851 2.136 66.173\\n', '4618.381 -0.069 2.117 65.970\\n', '4619.445 -0.352 2.087 65.706\\n', '4620.509 -3.197 2.054 66.410\\n', '4621.573 1.150 2.139 66.284\\n', '4622.637 1.757 2.161 67.138\\n', '4623.702 0.724 2.138 67.605\\n', '4624.766 0.322 2.107 66.485\\n', '4625.832 0.971 2.089 65.403\\n', '4626.897 1.447 2.115 66.358\\n', '4627.962 1.412 2.138 65.822\\n', '4629.028 1.495 2.151 65.349\\n', '4630.094 3.081 2.168 65.891\\n', '4631.161 0.121 2.133 66.635\\n', '4632.227 -0.972 2.076 65.026\\n', '4633.293 7.672 2.195 64.803\\n', '4634.360 5.121 2.223 65.667\\n', '4635.428 4.329 2.184 65.547\\n', '4636.496 1.801 2.124 65.247\\n', '4637.562 0.893 2.102 64.444\\n', '4638.631 -0.522 2.096 64.014\\n', '4639.699 2.466 2.108 63.108\\n', '4640.768 -0.007 2.068 62.900\\n', '4641.836 -0.412 2.121 62.111\\n', '4642.905 1.091 2.180 62.903\\n', '4643.974 2.233 2.174 63.395\\n', '4645.044 0.364 2.104 63.404\\n', '4646.114 -1.059 2.063 63.366\\n', '4647.183 0.708 2.092 61.947\\n', '4648.253 1.306 2.106 60.974\\n', '4649.324 -4.804 2.069 62.178\\n', '4650.395 0.571 2.100 61.055\\n', '4651.465 4.964 2.160 60.434\\n', '4652.537 2.346 2.163 63.151\\n', '4653.608 1.733 2.145 62.846\\n', '4654.680 -1.409 2.103 63.802\\n', '4655.752 -0.509 2.093 64.608\\n', '4656.824 1.683 2.109 63.674\\n', '4657.896 1.773 2.169 63.828\\n', '4658.969 1.156 2.220 64.253\\n', '4660.042 2.537 2.234 64.851\\n', '4661.114 0.890 2.179 65.426\\n', '4662.188 1.986 2.176 65.206\\n', '4663.262 1.310 2.193 66.440\\n', '4664.335 2.254 2.185 65.357\\n', '4665.410 3.097 2.085 63.334\\n', '4666.484 1.154 2.039 63.479\\n', '4667.559 -1.428 1.964 61.514\\n', '4668.634 -2.592 1.927 59.970\\n', '4669.708 -2.393 1.924 59.306\\n', '4670.784 -2.315 1.933 59.290\\n', '4671.860 -0.534 1.958 60.175\\n', '4672.936 -0.591 1.996 62.044\\n', '4674.012 0.494 2.000 62.279\\n', '4675.088 -0.120 2.021 63.555\\n', '4676.165 2.222 2.071 63.337\\n', '4677.242 0.745 2.082 63.485\\n', '4678.319 -2.181 2.071 65.150\\n', '4679.396 2.905 2.089 63.473\\n', '4680.474 0.966 2.034 63.563\\n', '4681.551 1.945 2.039 62.913\\n', '4682.629 3.177 2.039 62.534\\n', '4683.708 -0.117 2.015 63.047\\n', '4684.787 5.939 2.086 62.326\\n', '4685.865 6.202 2.095 62.892\\n', '4686.944 2.819 2.049 63.788\\n', '4688.023 6.281 2.085 63.508\\n', '4689.104 1.753 2.027 64.230\\n', '4690.184 -1.009 1.994 64.637\\n', '4691.264 1.203 2.029 63.630\\n', '4692.344 0.337 2.047 64.914\\n', '4693.424 1.784 2.058 65.093\\n', '4694.505 -3.719 1.974 64.136\\n', '4695.586 -2.464 1.973 64.727\\n', '4696.667 -2.397 1.973 65.343\\n', '4697.749 -0.841 2.006 64.221\\n', '4698.831 -0.814 1.995 62.666\\n', '4699.913 -2.371 1.991 63.953\\n', '4700.995 -3.028 1.928 63.020\\n', '4702.078 -0.917 1.936 63.495\\n', '4703.161 -5.644 1.872 63.433\\n', '4704.244 -0.059 1.915 60.087\\n', '4705.327 0.369 1.959 61.140\\n', '4706.411 -0.289 1.961 61.247\\n', '4707.495 -1.107 1.947 61.243\\n', '4708.578 1.172 1.960 62.284\\n', '4709.663 2.053 1.968 60.779\\n', '4710.747 0.550 1.932 61.761\\n', '4711.832 -0.997 1.958 62.464\\n', '4712.917 0.531 1.963 62.015\\n', '4714.002 1.030 1.987 63.786\\n', '4715.088 -2.167 1.953 64.079\\n', '4716.174 -1.744 1.940 62.535\\n', '4717.260 0.196 2.001 63.658\\n', '4718.346 0.967 2.015 64.047\\n', '4719.433 -0.957 2.016 65.044\\n', '4720.520 0.723 1.982 65.646\\n', '4721.606 -0.384 1.967 65.949\\n', '4722.694 1.785 2.004 68.517\\n', '4723.782 0.960 2.007 66.909\\n', '4724.870 -1.789 1.958 66.391\\n', '4725.957 -1.757 1.959 66.220\\n', '4727.046 0.111 1.976 66.219\\n', '4728.134 0.284 1.989 65.589\\n', '4729.223 3.027 2.024 63.768\\n', '4730.312 -4.128 1.957 64.297\\n', '4731.402 1.272 1.978 63.593\\n', '4732.491 -3.979 1.891 62.672\\n', '4733.581 -3.621 1.905 63.124\\n', '4734.671 1.088 1.994 63.010\\n', '4735.762 -0.615 1.994 63.923\\n', '4736.853 -0.860 1.969 64.560\\n', '4737.942 -3.237 1.934 64.177\\n', '4739.034 2.729 1.992 64.436\\n', '4740.125 -0.316 1.996 64.440\\n', '4741.216 -1.071 2.045 65.590\\n', '4742.309 2.235 2.149 65.366\\n', '4743.401 5.176 2.116 64.422\\n', '4744.493 0.215 2.023 65.918\\n', '4745.585 -1.344 1.976 66.594\\n', '4746.679 0.415 1.999 66.520\\n', '4747.771 -2.266 1.961 66.683\\n', '4748.865 -2.505 1.966 66.247\\n', '4749.958 -0.350 1.978 66.329\\n', '4751.052 -1.152 2.012 66.602\\n', '4752.147 -2.159 2.034 68.689\\n', '4753.241 1.029 2.057 66.843\\n', '4754.335 -1.010 1.987 65.276\\n', '4755.431 -1.853 1.941 65.935\\n', '4756.525 -2.189 1.905 64.390\\n', '4757.621 -4.696 1.859 64.049\\n', '4758.716 -1.666 1.957 65.739\\n', '4759.812 1.245 1.992 65.844\\n', '4760.908 0.706 1.998 63.843\\n', '4762.004 1.998 2.026 64.918\\n', '4763.101 -3.250 1.943 65.928\\n', '4764.198 -3.893 1.906 65.370\\n', '4765.295 -5.455 1.858 63.429\\n', '4766.393 -1.238 1.901 63.233\\n', '4767.490 -4.043 1.867 63.460\\n', '4768.587 -4.460 1.853 63.232\\n', '4769.686 -3.186 1.877 62.794\\n', '4770.785 -1.291 1.966 64.746\\n', '4771.883 1.636 2.017 64.136\\n', '4772.982 -1.048 1.974 64.161\\n', '4774.081 -2.772 1.987 66.218\\n', '4775.181 0.965 2.018 65.507\\n', '4776.280 -0.946 1.974 64.723\\n', '4777.380 1.367 2.028 66.693\\n', '4778.480 -0.727 2.033 68.505\\n', '4779.581 -3.005 1.999 66.914\\n', '4780.681 2.063 2.063 66.916\\n', '4781.783 0.805 2.046 67.061\\n', '4782.884 -0.520 2.017 65.206\\n', '4783.985 0.285 2.019 65.173\\n', '4785.087 -1.670 1.981 65.417\\n', '4786.188 -2.150 2.109 65.080\\n', '4787.291 -0.515 2.207 65.073\\n', '4788.393 -1.247 2.161 63.180\\n', '4789.497 0.340 2.194 64.765\\n', '4790.599 3.958 2.235 64.694\\n', '4791.702 -0.738 2.291 64.407\\n', '4792.806 -0.652 2.336 64.781\\n', '4793.910 1.642 2.270 65.995\\n', '4795.013 0.725 2.306 67.642\\n', '4796.118 1.596 2.385 68.612\\n', '4797.222 2.303 2.392 67.498\\n', '4798.327 4.527 2.393 66.352\\n', '4799.432 0.454 1.969 66.906\\n', '4800.537 -5.022 1.902 67.243\\n', '4801.642 -1.780 1.937 67.440\\n', '4802.748 1.701 1.948 65.992\\n', '4803.854 -3.178 1.913 67.138\\n', '4804.960 -0.187 1.938 67.840\\n', '4806.067 2.050 1.974 67.363\\n', '4807.174 -2.357 1.911 66.260\\n', '4808.281 -1.714 1.929 67.789\\n', '4809.388 -0.521 1.946 65.845\\n', '4810.496 1.167 1.958 65.528\\n', '4811.604 0.436 1.960 67.473\\n', '4812.711 -0.075 1.920 65.199\\n', '4813.819 2.745 1.982 66.176\\n', '4814.928 1.071 1.986 67.307\\n', '4816.037 3.433 2.017 66.944\\n', '4817.146 4.720 2.038 66.775\\n', '4818.255 6.613 2.057 67.885\\n', '4819.365 6.619 2.062 68.620\\n', '4820.475 4.309 2.021 67.594\\n', '4821.585 3.710 2.008 67.015\\n', '4822.695 3.416 2.011 67.536\\n', '4823.805 6.356 2.056 67.404\\n', '4824.916 3.168 2.029 67.256\\n', '4826.028 4.389 2.022 66.363\\n', '4827.139 6.513 2.036 66.566\\n', '4828.250 6.668 2.036 66.995\\n', '4829.363 5.294 2.025 66.724\\n', '4830.475 2.875 2.009 67.462\\n', '4831.587 7.068 2.027 66.235\\n', '4832.700 7.873 2.040 66.122\\n', '4833.812 6.217 2.006 66.602\\n', '4834.926 7.356 2.045 66.734\\n', '4836.039 7.551 2.041 66.250\\n', '4837.152 10.122 2.069 66.448\\n', '4838.267 10.257 2.061 66.244\\n', '4839.381 8.121 2.077 67.592\\n', '4840.496 9.398 2.083 67.788\\n', '4841.610 10.001 2.086 66.198\\n', '4842.725 7.203 2.057 66.289\\n', '4843.840 11.422 2.080 65.172\\n', '4844.956 12.426 2.138 66.866\\n', '4846.071 11.009 2.124 67.072\\n', '4847.188 11.696 2.113 67.185\\n', '4848.304 11.818 2.134 68.477\\n', '4849.420 15.916 2.162 67.056\\n', '4850.537 14.838 2.186 68.038\\n', '4851.653 15.866 2.220 67.767\\n', '4852.771 18.490 2.258 66.461\\n', '4853.889 15.597 2.219 68.656\\n', '4855.006 14.215 2.170 67.860\\n', '4856.125 16.355 2.193 66.808\\n', '4857.243 15.354 2.199 66.818\\n', '4858.361 14.795 2.203 66.182\\n', '4859.480 21.710 2.256 65.449\\n', '4860.599 20.251 2.210 64.969\\n', '4861.718 26.362 2.300 64.841\\n', '4862.838 32.545 2.370 63.190\\n', '4863.958 34.956 2.381 61.468\\n', '4865.078 31.034 2.297 60.807\\n', '4866.198 22.091 2.211 62.006\\n', '4867.319 17.645 2.146 62.616\\n', '4868.440 16.196 2.110 63.617\\n', '4869.561 13.399 2.090 64.131\\n', '4870.683 17.611 2.143 64.901\\n', '4871.804 13.098 2.101 64.303\\n', '4872.926 15.440 2.131 64.638\\n', '4874.048 13.014 2.083 63.567\\n', '4875.170 15.402 2.087 62.768\\n', '4876.293 14.598 2.125 64.361\\n', '4877.417 15.440 2.157 63.647\\n', '4878.539 12.718 2.154 63.797\\n', '4879.663 16.148 2.207 65.169\\n', '4880.787 16.231 2.216 66.420\\n', '4881.910 16.103 2.206 66.265\\n', '4883.034 15.514 2.166 65.676\\n', '4884.159 13.382 2.123 64.574\\n', '4885.284 14.174 2.137 64.228\\n', '4886.409 13.452 2.154 63.906\\n', '4887.534 10.620 2.127 63.993\\n', '4888.660 9.968 2.099 64.139\\n', '4889.786 11.136 2.063 62.469\\n', '4890.911 13.203 2.062 63.166\\n', '4892.038 6.747 2.012 64.029\\n', '4893.165 6.438 1.997 63.466\\n', '4894.291 9.283 2.035 63.363\\n', '4895.418 7.848 2.078 65.680\\n', '4896.545 11.767 2.136 66.691\\n', '4897.673 12.055 2.147 67.288\\n', '4898.801 9.395 2.119 69.196\\n', '4899.929 8.574 2.088 68.160\\n', '4901.058 5.946 2.056 68.086\\n', '4902.186 5.129 2.027 66.471\\n', '4903.315 9.071 2.059 66.240\\n', '4904.444 7.330 2.035 65.902\\n', '4905.574 6.840 2.015 65.683\\n', '4906.704 6.856 2.027 65.955\\n', '4907.833 6.675 2.028 65.869\\n', '4908.964 7.431 2.048 67.088\\n', '4910.094 2.062 1.995 66.581\\n', '4911.225 8.269 2.046 65.995\\n', '4912.355 8.017 2.013 64.724\\n', '4913.487 5.590 1.979 64.635\\n', '4914.618 6.262 1.967 65.181\\n', '4915.750 5.710 1.983 66.064\\n', '4916.882 4.002 1.966 65.769\\n', '4918.015 6.783 1.982 65.327\\n', '4919.147 4.239 1.950 65.064\\n', '4920.280 1.609 1.909 63.896\\n', '4921.413 0.699 1.898 62.179\\n', '4922.546 0.461 1.886 61.498\\n', '4923.680 4.249 1.913 61.374\\n', '4924.813 5.598 1.915 60.797\\n', '4925.947 2.944 1.906 62.532\\n', '4927.082 4.052 1.939 64.263\\n', '4928.217 7.203 1.998 65.033\\n', '4929.352 4.818 2.011 66.146\\n', '4930.487 3.125 1.993 66.335\\n', '4931.623 4.198 1.985 67.098\\n', '4932.758 5.949 2.009 67.790\\n', '4933.894 3.617 1.984 67.960\\n', '4935.030 2.800 1.972 66.426\\n', '4936.167 3.934 1.968 65.023\\n', '4937.303 2.701 1.951 65.074\\n', '4938.440 5.990 1.959 63.994\\n', '4939.578 2.685 1.902 62.010\\n', '4940.715 3.388 1.916 60.985\\n', '4941.853 3.689 1.929 62.791\\n', '4942.991 0.009 1.899 64.444\\n', '4944.129 1.377 1.924 65.209\\n', '4945.268 2.864 1.956 66.450\\n', '4946.406 3.129 1.981 68.070\\n', '4947.545 3.297 1.988 68.106\\n', '4948.685 1.387 1.967 68.242\\n', '4949.825 3.870 1.979 67.750\\n', '4950.964 0.667 1.958 68.547\\n', '4952.104 1.608 1.960 68.089\\n', '4953.245 2.463 1.990 67.639\\n', '4954.385 4.046 2.039 68.605\\n', '4955.527 5.297 2.032 67.421\\n', '4956.667 7.822 2.072 66.563\\n', '4957.810 17.655 2.171 65.182\\n', '4958.951 29.602 2.331 64.100\\n', '4960.093 49.751 2.589 63.673\\n', '4961.235 60.094 2.732 63.815\\n', '4962.377 49.400 2.621 64.175\\n', '4963.520 27.867 2.316 65.437\\n', '4964.664 11.378 2.084 65.178\\n', '4965.806 6.369 1.977 65.208\\n', '4966.951 3.965 1.941 65.305\\n', '4968.094 1.355 1.879 64.756\\n', '4969.238 1.177 1.865 64.331\\n', '4970.383 1.756 1.874 63.577\\n', '4971.527 2.091 1.903 64.210\\n', '4972.672 5.839 1.961 64.819\\n', '4973.817 2.972 1.963 64.689\\n', '4974.962 -0.285 1.932 66.096\\n', '4976.108 2.727 1.967 65.999\\n', '4977.254 1.771 1.919 64.587\\n', '4978.400 2.382 1.936 65.760\\n', '4979.547 3.138 1.915 64.931\\n', '4980.693 -1.381 1.859 64.532\\n', '4981.841 -3.130 1.824 64.068\\n', '4982.988 -0.905 1.818 62.374\\n', '4984.135 1.196 1.837 61.725\\n', '4985.283 -1.634 1.800 61.533\\n', '4986.431 -0.123 1.805 61.032\\n', '4987.580 0.679 2.059 62.721\\n', '4988.728 0.735 2.103 62.880\\n', '4989.876 3.978 1.914 63.107\\n', '4991.026 1.268 1.920 65.088\\n', '4992.175 -0.443 1.927 65.109\\n', '4993.325 -0.952 1.898 64.214\\n', '4994.475 0.810 1.895 65.561\\n', '4995.625 -0.665 1.864 65.684\\n', '4996.775 1.402 1.854 64.432\\n', '4997.926 -1.263 1.834 65.011\\n', '4999.077 3.807 1.900 64.493\\n', '5000.228 4.772 1.936 64.704\\n', '5001.379 5.694 2.035 64.658\\n', '5002.532 9.678 2.061 62.721\\n', '5003.683 19.115 2.136 62.321\\n', '5004.835 34.998 2.356 62.005\\n', '5005.988 58.197 2.731 61.653\\n', '5007.141 96.829 3.350 64.091\\n', '5008.294 160.137 4.216 62.693\\n', '5009.447 177.573 4.483 62.374\\n', '5010.601 128.659 3.706 63.390\\n', '5011.754 59.709 2.760 62.871\\n', '5012.909 23.014 2.189 62.515\\n', '5014.063 12.350 1.994 60.784\\n', '5015.218 5.366 1.901 62.030\\n', '5016.373 4.670 1.881 61.430\\n', '5017.528 2.011 1.831 59.290\\n', '5018.683 -0.346 1.796 59.647\\n', '5019.839 -1.196 1.800 62.145\\n', '5020.995 -4.942 1.776 62.453\\n', '5022.151 -1.204 1.789 62.041\\n', '5023.308 -1.321 1.797 62.205\\n', '5024.465 0.600 1.819 62.218\\n', '5025.622 1.421 1.856 62.628\\n', '5026.779 2.915 1.872 62.332\\n', '5027.937 -1.431 1.838 63.687\\n', '5029.094 -1.515 1.851 63.471\\n', '5030.252 5.795 1.958 63.532\\n', '5031.412 2.709 2.242 63.570\\n', '5032.570 1.309 2.680 63.891\\n', '5033.729 4.798 2.721 64.724\\n', '5034.888 3.770 2.008 63.856\\n', '5036.047 -2.491 1.911 65.011\\n', '5037.208 -0.321 1.840 63.803\\n', '5038.367 -1.641 1.822 64.020\\n', '5039.528 -2.459 1.792 63.005\\n', '5040.688 3.377 1.828 60.873\\n', '5041.849 -0.600 1.769 60.021\\n', '5043.009 -1.476 1.750 59.984\\n', '5044.171 -2.093 1.774 61.419\\n', '5045.333 1.372 1.811 61.409\\n', '5046.495 0.490 1.842 63.355\\n', '5047.657 -0.067 1.845 64.046\\n', '5048.819 4.060 1.898 64.126\\n', '5049.981 1.086 1.869 64.318\\n', '5051.145 -1.206 1.809 64.442\\n', '5052.308 -0.110 1.829 63.993\\n', '5053.471 -1.925 1.783 63.384\\n', '5054.635 -1.767 1.828 64.957\\n', '5055.799 0.983 1.865 64.021\\n', '5056.963 -0.481 1.844 64.048\\n', '5058.128 -1.039 1.843 65.771\\n', '5059.292 1.732 1.874 66.115\\n', '5060.458 0.545 1.884 66.618\\n', '5061.624 1.249 1.914 67.311\\n', '5062.789 2.781 1.932 66.068\\n', '5063.955 -0.934 1.902 66.504\\n', '5065.121 -3.043 1.882 67.173\\n', '5066.287 -2.827 1.851 65.660\\n', '5067.454 -0.559 1.822 64.069\\n', '5068.621 0.061 1.819 63.044\\n', '5069.788 -2.078 1.820 63.391\\n', '5070.956 -0.856 1.849 63.915\\n', '5072.124 -1.047 1.864 64.607\\n', '5073.291 -0.863 1.833 63.397\\n', '5074.460 0.198 1.833 62.435\\n', '5075.628 -1.275 1.852 63.872\\n', '5076.797 0.243 1.901 64.481\\n', '5077.966 0.141 1.859 62.724\\n', '5079.136 -1.970 1.805 63.258\\n', '5080.306 -2.567 1.781 62.547\\n', '5081.475 -2.670 1.750 61.020\\n', '5082.646 -0.894 1.769 61.109\\n', '5083.815 -2.580 1.753 61.159\\n', '5084.986 -3.087 1.778 62.142\\n', '5086.158 -1.476 1.822 62.724\\n', '5087.329 -0.817 1.864 63.049\\n', '5088.500 -1.643 1.851 63.726\\n', '5089.672 0.750 1.856 63.760\\n', '5090.844 0.779 1.853 64.086\\n', '5092.017 0.257 1.869 65.581\\n', '5093.189 -1.886 1.846 65.055\\n', '5094.362 -0.316 1.825 64.797\\n', '5095.535 -1.882 1.840 65.424\\n', '5096.709 0.769 1.854 65.012\\n', '5097.882 0.954 1.872 64.810\\n', '5099.057 -2.072 1.850 65.702\\n', '5100.230 -1.679 1.794 61.682\\n', '5101.405 -3.199 1.764 61.425\\n', '5102.580 -3.214 1.797 62.849\\n', '5103.755 -1.137 1.806 63.472\\n', '5104.930 -0.200 1.825 63.284\\n', '5106.106 -1.679 1.809 62.867\\n', '5107.282 -1.703 1.805 63.027\\n', '5108.458 -2.959 1.790 62.964\\n', '5109.634 -1.485 1.804 61.578\\n', '5110.811 -2.131 1.773 61.648\\n', '5111.988 -0.195 1.802 62.051\\n', '5113.165 1.735 1.797 60.733\\n', '5114.343 1.643 1.806 61.585\\n', '5115.520 1.157 1.830 63.811\\n', '5116.699 -0.650 1.840 64.788\\n', '5117.876 0.002 1.850 64.961\\n', '5119.055 1.003 1.862 64.705\\n', '5120.234 -0.935 1.866 65.759\\n', '5121.413 1.739 1.920 66.467\\n', '5122.593 1.190 1.887 65.324\\n', '5123.772 0.781 1.835 62.726\\n', '5124.953 3.261 1.824 60.271\\n', '5126.132 -2.247 1.761 61.217\\n', '5127.313 -0.656 1.760 61.351\\n', '5128.494 -4.628 1.728 61.909\\n', '5129.675 -0.810 1.751 60.660\\n', '5130.855 0.403 1.750 59.607\\n', '5132.038 1.185 1.767 59.938\\n', '5133.219 -2.212 1.762 61.605\\n', '5134.401 0.488 1.807 63.490\\n', '5135.583 -2.935 1.777 63.815\\n', '5136.766 -1.308 1.800 63.487\\n', '5137.949 1.885 1.828 63.821\\n', '5139.132 -0.684 1.815 64.489\\n', '5140.316 -3.025 1.787 62.451\\n', '5141.500 -2.482 1.803 64.083\\n', '5142.684 -1.983 1.824 63.042\\n', '5143.868 0.041 1.808 61.540\\n', '5145.053 -1.569 1.799 61.799\\n', '5146.237 0.818 1.785 61.309\\n', '5147.422 2.608 1.820 61.980\\n', '5148.607 -0.172 1.785 62.605\\n', '5149.793 0.046 1.804 62.064\\n', '5150.979 0.332 1.783 61.825\\n', '5152.166 -0.074 1.769 61.271\\n', '5153.352 0.481 1.780 62.163\\n', '5154.539 -0.331 1.772 63.033\\n', '5155.726 -0.147 1.768 62.585\\n', '5156.913 -0.929 1.806 63.483\\n', '5158.101 2.356 1.850 63.008\\n', '5159.289 0.503 1.861 64.095\\n', '5160.477 -0.391 1.838 64.103\\n', '5161.665 2.569 1.852 63.764\\n', '5162.854 -0.709 1.820 65.291\\n', '5164.042 -0.860 1.791 64.224\\n', '5165.232 2.630 1.798 62.181\\n', '5166.421 0.343 1.761 61.093\\n', '5167.611 -4.387 1.721 59.321\\n', '5168.801 -3.737 1.697 56.812\\n', '5169.991 -2.763 1.622 52.843\\n', '5171.182 -2.904 1.606 54.240\\n', '5172.373 -2.066 1.641 55.428\\n', '5173.563 -1.270 1.642 53.256\\n', '5174.755 0.027 1.644 52.926\\n', '5175.947 -2.876 1.639 54.345\\n', '5177.139 0.331 1.709 56.963\\n', '5178.331 1.438 1.760 58.501\\n', '5179.524 4.164 1.779 59.870\\n', '5180.716 -0.381 1.744 61.165\\n', '5181.909 4.686 1.787 59.423\\n', '5183.103 2.224 1.771 58.842\\n', '5184.296 -3.361 1.697 58.060\\n', '5185.490 -0.106 1.697 56.443\\n', '5186.684 0.593 1.652 54.115\\n', '5187.878 2.040 1.686 55.500\\n', '5189.073 2.425 1.742 59.246\\n', '5190.269 -0.057 1.760 60.891\\n', '5191.463 3.579 1.799 61.200\\n', '5192.659 -0.915 1.745 62.026\\n', '5193.855 -0.582 1.760 63.326\\n', '5195.051 0.227 1.755 61.150\\n', '5196.247 1.963 1.772 61.487\\n', '5197.444 0.022 1.751 61.140\\n', '5198.641 -0.283 1.771 62.542\\n', '5199.838 2.106 1.832 63.196\\n', '5201.036 7.456 1.919 62.062\\n', '5202.233 4.855 1.932 63.966\\n', '5203.431 3.409 1.911 65.865\\n', '5204.629 1.685 1.846 64.540\\n', '5205.828 1.639 1.815 62.198\\n', '5207.027 -0.997 1.754 61.773\\n', '5208.226 -2.105 1.708 59.986\\n', '5209.425 1.343 1.752 59.771\\n', '5210.625 -0.679 1.711 59.283\\n', '5211.825 -2.442 1.712 59.869\\n', '5213.025 3.581 1.800 61.232\\n', '5214.226 2.174 1.837 62.682\\n', '5215.426 -1.161 1.793 63.100\\n', '5216.627 0.464 1.831 64.519\\n', '5217.829 -0.431 1.834 64.238\\n', '5219.031 1.061 1.849 63.731\\n', '5220.232 -1.165 1.837 64.926\\n', '5221.435 0.735 1.858 65.074\\n', '5222.636 3.443 1.877 65.865\\n', '5223.839 -0.035 1.869 65.699\\n', '5225.042 1.545 1.883 65.860\\n', '5226.246 -1.455 1.826 64.404\\n', '5227.449 -1.206 1.782 61.529\\n', '5228.653 -1.710 1.777 61.311\\n', '5229.857 -2.132 1.805 62.771\\n', '5231.062 0.565 1.841 63.576\\n', '5232.266 0.707 1.838 63.775\\n', '5233.471 -2.213 1.800 64.476\\n', '5234.676 1.576 1.837 64.475\\n', '5235.881 0.042 1.813 64.749\\n', '5237.087 1.359 1.810 64.306\\n', '5238.293 0.322 1.827 64.921\\n', '5239.500 -0.431 1.947 67.615\\n', '5240.706 3.972 2.128 66.219\\n', '5241.913 2.639 2.108 66.459\\n', '5243.120 1.687 2.002 67.689\\n', '5244.328 -1.990 1.887 67.688\\n', '5245.535 0.071 1.854 66.901\\n', '5246.744 2.203 1.895 66.226\\n', '5247.951 0.468 1.885 66.844\\n', '5249.160 0.369 1.904 66.449\\n', '5250.369 -1.078 1.845 64.989\\n', '5251.578 0.985 1.856 64.430\\n', '5252.787 1.679 1.846 64.761\\n', '5253.997 0.724 1.809 64.293\\n', '5255.207 -0.997 1.787 63.996\\n', '5256.417 1.985 1.815 64.224\\n', '5257.627 1.877 1.835 65.727\\n', '5258.839 3.442 1.917 65.802\\n', '5260.049 6.304 1.941 66.603\\n', '5261.261 3.559 1.916 67.418\\n', '5262.472 4.361 1.919 66.732\\n', '5263.684 1.064 1.854 65.384\\n', '5264.896 -0.002 1.798 63.984\\n', '5266.108 -0.862 1.763 61.436\\n', '5267.321 -2.982 1.707 59.843\\n', '5268.534 3.633 1.744 58.586\\n', '5269.748 -2.421 1.676 58.095\\n', '5270.960 -1.115 1.695 59.274\\n', '5272.175 -1.306 1.690 59.326\\n', '5273.389 0.305 1.731 59.299\\n', '5274.603 0.834 1.759 61.754\\n', '5275.818 0.379 1.769 62.921\\n', '5277.033 1.088 1.791 63.382\\n', '5278.248 3.008 1.870 64.910\\n', '5279.463 3.174 1.901 66.063\\n', '5280.679 2.699 1.883 66.721\\n', '5281.896 3.782 1.887 66.334\\n', '5283.112 1.101 1.873 66.900\\n', '5284.329 -0.468 1.864 67.053\\n', '5285.545 -1.773 1.807 65.972\\n', '5286.763 1.154 1.836 65.807\\n', '5287.980 3.309 1.886 67.833\\n', '5289.198 2.445 1.913 69.136\\n', '5290.416 3.148 1.927 68.609\\n', '5291.634 3.822 1.931 68.848\\n', '5292.853 5.029 1.942 69.034\\n', '5294.072 2.596 1.929 69.429\\n', '5295.291 4.992 1.939 67.494\\n', '5296.510 2.540 1.922 67.902\\n', '5297.730 4.077 1.896 66.245\\n', '5298.950 3.974 1.871 64.940\\n', '5300.170 0.901 1.833 65.807\\n', '5301.391 -0.407 1.802 65.323\\n', '5302.611 -1.078 1.814 66.451\\n', '5303.833 5.145 1.905 65.649\\n', '5305.054 3.473 1.934 66.773\\n', '5306.276 1.024 1.921 68.515\\n', '5307.498 1.247 1.933 70.026\\n', '5308.720 7.255 1.992 70.510\\n', '5309.942 0.752 1.931 71.838\\n', '5311.166 3.764 1.951 71.605\\n', '5312.388 3.865 1.942 71.152\\n', '5313.612 1.315 1.920 71.257\\n', '5314.835 4.604 1.949 69.942\\n', '5316.059 2.655 1.957 70.331\\n', '5317.283 2.828 1.936 68.534\\n', '5318.508 -1.319 1.867 69.516\\n', '5319.733 -1.143 1.869 70.357\\n', '5320.958 0.462 1.879 69.201\\n', '5322.183 -1.037 1.877 67.906\\n', '5323.409 1.765 1.920 67.770\\n', '5324.634 1.771 1.923 68.511\\n', '5325.861 -1.009 1.881 67.796\\n', '5327.087 -0.489 1.859 67.049\\n', '5328.314 -4.232 1.787 64.185\\n', '5329.541 -2.789 1.754 63.087\\n', '5330.769 -2.599 1.740 62.864\\n', '5331.996 -0.235 1.765 63.782\\n', '5333.224 -0.857 1.764 63.878\\n', '5334.452 0.725 1.799 64.632\\n', '5335.680 0.963 1.857 66.948\\n', '5336.909 4.745 1.941 67.542\\n', '5338.138 5.193 1.997 67.756\\n', '5339.368 0.892 1.979 68.821\\n', '5340.597 0.442 1.949 68.585\\n', '5341.827 -0.842 1.879 67.805\\n', '5343.057 0.591 1.858 66.956\\n', '5344.288 1.880 1.896 67.249\\n', '5345.518 -0.220 1.919 66.979\\n', '5346.749 -0.925 1.894 66.948\\n', '5347.980 2.196 1.885 67.510\\n', '5349.212 1.170 1.877 67.643\\n', '5350.444 -1.046 2.380 67.645\\n', '5351.676 23.226 5.077 68.206\\n', '5352.909 8.941 10.935 67.677\\n', '5354.141 -8.754 8.829 68.394\\n', '5355.374 -8.656 7.061 70.449\\n', '5356.607 1.754 4.247 70.326\\n', '5357.840 0.158 2.729 70.662\\n', '5359.075 3.259 2.089 70.507\\n', '5360.309 1.205 1.948 71.906\\n', '5361.543 1.089 1.984 72.582\\n', '5362.778 -0.116 1.947 70.778\\n', '5364.013 1.017 1.923 70.494\\n', '5365.248 1.774 1.919 70.059\\n', '5366.484 0.248 1.881 69.559\\n', '5367.719 -0.461 1.876 68.715\\n', '5368.956 -0.805 1.859 67.941\\n', '5370.192 -0.543 1.884 67.679\\n', '5371.429 -1.944 1.848 66.456\\n', '5372.666 -1.278 1.850 66.228\\n', '5373.903 -0.397 1.845 65.345\\n', '5375.141 -1.025 1.855 66.691\\n', '5376.378 -2.137 1.875 68.384\\n', '5377.616 0.302 1.906 68.762\\n', '5378.854 1.172 1.909 68.310\\n', '5380.094 1.966 1.917 68.227\\n', '5381.332 -2.692 1.887 69.247\\n', '5382.572 0.775 1.899 68.826\\n', '5383.811 -0.842 1.897 69.136\\n', '5385.051 1.861 1.910 69.884\\n', '5386.291 -1.897 1.865 69.815\\n', '5387.531 -0.595 1.879 69.568\\n', '5388.772 -2.576 1.859 69.431\\n', '5390.013 2.165 1.888 68.691\\n', '5391.254 -0.242 1.858 68.926\\n', '5392.496 -3.684 1.823 69.632\\n', '5393.737 1.569 2.085 67.784\\n', '5394.979 -1.339 2.067 67.316\\n', '5396.222 -2.779 1.784 66.482\\n', '5397.465 -0.956 1.796 65.740\\n', '5398.708 0.438 1.810 65.699\\n', '5399.951 -1.206 1.802 66.181\\n', '5401.194 -3.036 1.807 65.989\\n', '5402.438 2.150 1.856 65.498\\n', '5403.683 -0.451 1.827 66.256\\n', '5404.927 -0.864 1.802 66.719\\n', '5406.172 -2.194 1.765 65.800\\n', '5407.417 -4.412 1.729 64.095\\n', '5408.661 -3.026 1.752 64.607\\n', '5409.907 -3.125 1.745 64.893\\n', '5411.153 -4.218 1.753 66.108\\n', '5412.399 -1.197 1.816 65.964\\n', '5413.646 -4.823 1.801 66.732\\n', '5414.892 -1.215 1.833 67.939\\n', '5416.139 0.331 1.875 68.049\\n', '5417.386 -1.684 1.874 69.304\\n', '5418.634 -0.033 1.875 69.556\\n', '5419.882 0.009 1.915 69.601\\n', '5421.129 -0.088 1.921 69.489\\n', '5422.378 -0.113 1.894 69.449\\n', '5423.627 -2.775 1.846 69.444\\n', '5424.876 -1.287 1.829 68.657\\n', '5426.125 -3.798 1.827 68.799\\n', '5427.375 2.072 1.891 69.747\\n', '5428.625 -1.444 2.160 69.276\\n', '5429.875 1.797 2.212 68.003\\n', '5431.125 1.114 1.829 66.436\\n', '5432.376 -3.479 1.803 68.135\\n', '5433.627 0.290 1.847 67.129\\n', '5434.878 -4.404 1.793 66.526\\n', '5436.130 -0.147 1.834 67.103\\n', '5437.381 -4.033 1.774 65.719\\n', '5438.634 -2.183 1.822 67.172\\n', '5439.886 -1.695 1.848 68.176\\n', '5441.139 0.642 1.891 68.762\\n', '5442.392 0.901 1.954 70.699\\n', '5443.645 1.070 1.959 69.757\\n', '5444.899 0.096 1.922 69.666\\n', '5446.153 -2.022 1.878 70.253\\n', '5447.407 0.763 1.879 68.905\\n', '5448.661 -2.118 1.850 68.139\\n', '5449.916 -1.872 1.860 68.197\\n', '5451.171 -1.925 1.868 67.382\\n', '5452.427 -0.679 1.881 67.081\\n', '5453.682 -2.312 1.852 67.263\\n', '5454.938 -2.648 1.864 68.325\\n', '5456.194 -6.164 1.837 68.830\\n', '5457.450 -2.442 1.882 66.589\\n', '5458.708 -2.574 1.918 67.339\\n', '5459.964 -0.572 1.954 67.208\\n', '5461.222 2.446 1.990 67.514\\n', '5462.479 -0.009 1.981 67.382\\n', '5463.737 1.756 1.975 66.594\\n', '5464.996 0.257 1.905 67.359\\n', '5466.253 -1.510 1.852 67.895\\n', '5467.513 0.276 1.872 67.247\\n', '5468.771 0.427 1.878 67.266\\n', '5470.031 -1.611 1.866 69.107\\n', '5471.291 -1.037 1.874 69.070\\n', '5472.550 0.279 1.883 67.977\\n', '5473.812 -2.833 1.867 68.090\\n', '5475.072 -1.552 1.873 67.558\\n', '5476.332 -1.030 1.853 67.378\\n', '5477.594 0.765 1.846 66.414\\n', '5478.855 -1.617 1.826 65.572\\n', '5480.117 0.475 1.836 66.584\\n', '5481.378 -1.143 1.829 66.610\\n', '5482.641 -0.186 1.826 65.275\\n', '5483.904 0.328 1.853 65.915\\n', '5485.167 -2.261 1.855 67.611\\n', '5486.429 -0.848 1.858 67.647\\n', '5487.693 -2.987 1.830 68.597\\n', '5488.957 -0.475 1.852 68.546\\n', '5490.221 -2.753 1.828 67.855\\n', '5491.485 -0.334 1.857 67.269\\n', '5492.750 -1.424 1.874 67.822\\n', '5494.015 -3.200 1.890 68.458\\n', '5495.280 4.043 1.979 68.379\\n', '5496.545 0.011 1.904 68.180\\n', '5497.811 -2.514 1.859 69.024\\n', '5499.077 -2.046 1.861 68.869\\n', '5500.343 -3.538 1.861 69.338\\n', '5501.610 -3.038 1.859 68.986\\n', '5502.877 -0.008 1.887 67.563\\n', '5504.144 -1.961 1.874 68.144\\n', '5505.412 -1.219 1.880 67.266\\n', '5506.680 -0.531 1.896 67.687\\n', '5507.948 -2.835 1.898 68.679\\n', '5509.216 -2.648 1.872 67.453\\n', '5510.485 -1.170 1.866 67.392\\n', '5511.753 -1.552 1.844 66.666\\n', '5513.023 0.828 1.865 66.877\\n', '5514.292 -4.392 1.828 66.916\\n', '5515.562 0.296 1.881 66.898\\n', '5516.833 -0.326 1.896 67.169\\n', '5518.103 -0.842 1.897 67.847\\n', '5519.374 -1.404 1.886 68.638\\n', '5520.645 4.019 1.959 68.994\\n', '5521.916 -0.562 1.914 69.924\\n', '5523.188 -2.211 1.908 69.974\\n', '5524.460 0.355 1.912 68.915\\n', '5525.731 -2.323 1.907 69.853\\n', '5527.005 -5.125 1.880 71.405\\n', '5528.277 0.201 1.938 69.619\\n', '5529.550 -1.829 1.927 68.382\\n', '5530.824 -0.405 1.892 68.335\\n', '5532.097 0.405 1.943 68.023\\n', '5533.371 0.136 1.899 68.542\\n', '5534.646 0.437 1.969 68.170\\n', '5535.920 -4.218 1.950 69.765\\n', '5537.195 -2.476 1.961 70.135\\n', '5538.470 -1.844 1.981 69.798\\n', '5539.745 -2.203 1.953 69.738\\n', '5541.021 -1.217 1.956 69.357\\n', '5542.297 -1.429 1.955 70.276\\n', '5543.574 -1.207 1.996 70.568\\n', '5544.850 -0.892 1.998 70.654\\n', '5546.127 4.187 2.001 69.733\\n', '5547.404 -0.151 1.953 70.168\\n', '5548.682 -1.523 1.948 70.653\\n', '5549.960 0.834 1.990 69.627\\n', '5551.237 0.415 1.964 69.681\\n', '5552.516 0.323 1.939 71.292\\n', '5553.794 0.572 1.975 71.624\\n', '5555.073 -0.506 1.964 70.426\\n', '5556.353 -1.873 2.007 70.421\\n', '5557.632 -1.293 2.050 70.957\\n', '5558.912 0.607 2.092 69.485\\n', '5560.193 2.797 2.090 69.446\\n', '5561.473 -3.505 1.984 71.141\\n', '5562.753 -2.521 1.972 70.535\\n', '5564.035 -2.500 1.944 69.814\\n', '5565.316 2.381 1.978 69.124\\n', '5566.597 0.409 1.930 68.552\\n', '5567.879 -2.704 1.868 68.003\\n', '5569.161 -2.022 1.899 68.401\\n', '5570.444 -0.274 1.924 68.684\\n', '5571.727 0.116 1.923 67.890\\n', '5573.010 1.354 1.937 68.109\\n', '5574.293 -1.917 1.916 69.148\\n', '5575.577 0.376 1.921 68.974\\n', '5576.861 1.225 1.922 69.008\\n', '5578.145 -0.255 1.926 71.249\\n', '5579.430 1.952 1.957 69.826\\n', '5580.714 1.411 1.976 69.754\\n', '5582.000 -1.277 1.945 70.527\\n', '5583.285 -1.568 1.883 69.672\\n', '5584.571 -1.923 1.899 69.852\\n', '5585.857 -2.461 1.892 69.318\\n', '5587.143 -1.771 1.891 67.630\\n', '5588.430 -2.462 1.863 67.338\\n', '5589.717 -3.822 1.812 66.036\\n', '5591.004 -2.603 1.790 64.927\\n', '5592.292 -1.136 1.781 65.531\\n', '5593.579 -2.538 1.779 65.917\\n', '5594.868 -1.374 1.809 65.507\\n', '5596.156 0.863 1.867 66.257\\n', '5597.445 -0.418 1.871 67.522\\n', '5598.733 -1.277 1.885 67.970\\n', '5600.023 -0.746 1.876 69.171\\n', '5601.312 -0.723 1.860 67.483\\n', '5602.603 -0.800 1.826 67.083\\n', '5603.893 -1.472 1.806 67.658\\n', '5605.183 -2.851 1.791 67.547\\n', '5606.474 -1.988 1.813 67.418\\n', '5607.765 0.242 1.836 69.318\\n', '5609.057 1.133 1.860 70.340\\n', '5610.348 -0.292 1.819 70.196\\n', '5611.641 -2.240 1.819 70.479\\n', '5612.933 -1.872 1.836 70.950\\n', '5614.225 -0.329 1.869 71.007\\n', '5615.518 -2.911 1.834 69.003\\n', '5616.812 -1.296 1.859 69.334\\n', '5618.104 -1.456 1.840 68.876\\n', '5619.398 0.915 1.823 67.370\\n', '5620.692 -1.324 1.773 67.391\\n', '5621.987 -2.438 1.783 68.589\\n', '5623.281 -1.362 1.768 68.237\\n', '5624.576 -0.801 1.773 67.890\\n', '5625.872 -2.192 1.742 68.637\\n', '5627.167 -4.879 1.694 68.799\\n', '5628.463 -4.076 1.698 68.292\\n', '5629.759 -0.411 1.749 68.802\\n', '5631.055 -4.477 1.746 70.813\\n', '5632.353 -1.240 1.755 70.188\\n', '5633.649 0.030 1.747 69.965\\n', '5634.947 1.655 1.747 70.300\\n', '5636.245 -1.031 1.738 70.884\\n', '5637.542 -2.927 1.697 70.414\\n', '5638.841 -1.525 1.722 69.356\\n', '5640.139 -1.765 1.678 69.159\\n', '5641.438 -3.479 1.648 68.907\\n', '5642.737 -3.114 1.636 69.737\\n', '5644.037 -0.622 1.668 68.978\\n', '5645.336 -1.892 1.662 69.595\\n', '5646.636 -2.378 1.663 70.131\\n', '5647.937 -3.613 1.663 70.008\\n', '5649.238 -1.818 1.688 70.367\\n', '5650.538 -3.565 1.760 70.489\\n', '5651.839 -3.021 1.941 71.009\\n', '5653.141 -4.887 2.192 70.554\\n', '5654.443 -6.891 2.050 70.587\\n', '5655.745 -4.262 1.754 71.885\\n', '5657.047 -4.244 1.718 71.199\\n', '5658.350 -1.777 1.914 69.474\\n', '5659.653 -4.129 1.956 68.615\\n', '5660.957 -4.573 1.784 68.534\\n', '5662.260 -5.944 1.731 68.692\\n', '5663.564 -4.680 1.677 69.036\\n', '5664.868 -3.206 1.585 68.981\\n', '5666.173 -3.542 1.571 68.962\\n', '5667.478 -2.385 1.609 68.889\\n', '5668.782 -3.392 1.596 69.422\\n', '5670.088 -3.634 1.585 69.968\\n', '5671.394 0.079 1.577 69.179\\n', '5672.700 -4.266 1.555 70.174\\n', '5674.006 -2.189 1.575 70.247\\n', '5675.313 0.250 1.591 69.789\\n', '5676.620 -1.444 1.584 70.571\\n', '5677.927 -0.555 1.612 71.371\\n', '5679.234 -0.398 1.642 71.069\\n', '5680.542 -2.240 1.604 71.160\\n', '5681.851 -5.932 1.601 72.534\\n', '5683.159 -4.022 1.623 70.666\\n', '5684.468 -1.205 1.649 69.653\\n', '5685.777 -1.229 1.681 70.627\\n', '5687.086 -0.723 1.652 70.323\\n', '5688.396 -1.302 1.644 69.069\\n', '5689.706 -0.117 1.617 67.837\\n', '5691.016 -1.703 1.609 69.369\\n', '5692.327 -2.396 1.620 70.393\\n', '5693.637 0.021 1.647 70.304\\n', '5694.949 -0.342 1.643 70.260\\n', '5696.260 -0.303 1.648 70.380\\n', '5697.572 -0.300 1.662 71.461\\n', '5698.883 -1.586 1.632 71.823\\n', '5700.197 -3.971 1.582 71.174\\n', '5701.509 -4.460 1.551 70.507\\n', '5702.822 -1.578 1.562 70.007\\n', '5704.135 -0.631 1.571 69.683\\n', '5705.449 -4.270 1.640 68.047\\n', '5706.763 -2.906 1.674 68.975\\n', '5708.076 -2.134 1.646 67.890\\n', '5709.392 -5.276 1.608 67.833\\n', '5710.706 -0.586 1.641 67.404\\n', '5712.021 -1.560 1.644 66.859\\n', '5713.336 -3.198 1.649 67.138\\n', '5714.652 1.066 1.695 67.395\\n', '5715.969 -1.006 1.667 69.623\\n', '5717.284 -1.215 1.650 69.689\\n', '5718.601 2.277 1.624 70.384\\n', '5719.918 -0.101 1.610 70.822\\n', '5721.235 1.760 1.640 72.071\\n', '5722.553 6.784 1.690 72.366\\n', '5723.871 4.355 1.690 72.582\\n', '5725.189 2.137 1.644 73.211\\n', '5726.507 1.511 1.624 72.773\\n', '5727.825 -0.505 1.583 71.773\\n', '5729.145 -1.765 1.596 72.497\\n', '5730.464 0.752 1.631 71.607\\n', '5731.784 1.112 1.631 71.365\\n', '5733.104 0.510 1.612 71.534\\n', '5734.424 -0.539 1.597 71.568\\n', '5735.745 -1.501 1.625 71.696\\n', '5737.066 0.939 1.641 71.501\\n', '5738.387 -2.216 1.597 71.998\\n', '5739.708 2.442 1.604 71.186\\n', '5741.030 2.259 1.610 72.134\\n', '5742.352 1.535 1.588 71.976\\n', '5743.674 -0.800 1.598 72.351\\n', '5744.997 -0.279 1.598 72.658\\n', '5746.320 -0.738 1.613 73.092\\n', '5747.644 -3.308 1.574 72.480\\n', '5748.967 0.036 1.580 71.630\\n', '5750.291 -0.103 1.564 71.779\\n', '5751.615 -1.476 1.544 71.241\\n', '5752.939 1.817 1.584 69.783\\n', '5754.265 -2.543 1.578 71.051\\n', '5755.589 2.112 1.620 71.890\\n', '5756.915 -0.031 1.592 70.600\\n', '5758.241 -0.893 1.590 72.628\\n', '5759.567 0.950 1.618 72.918\\n', '5760.893 0.759 1.666 72.334\\n', '5762.220 0.866 1.619 71.031\\n', '5763.547 -0.969 1.571 70.641\\n', '5764.874 -2.570 1.559 71.821\\n', '5766.202 -1.117 1.559 71.058\\n', '5767.529 -1.583 1.563 72.986\\n', '5768.858 -1.154 1.572 73.624\\n', '5770.186 -1.827 1.582 72.737\\n', '5771.515 -1.279 1.601 73.208\\n', '5772.844 -0.037 1.605 73.087\\n', '5774.173 -1.357 1.577 72.945\\n', '5775.503 -0.890 1.578 73.077\\n', '5776.833 0.097 1.570 72.974\\n', '5778.163 -2.285 1.549 72.582\\n', '5779.494 -3.103 1.665 71.941\\n', '5780.825 -1.665 1.666 71.249\\n', '5782.156 -4.194 1.571 70.655\\n', '5783.488 -0.922 1.524 69.873\\n', '5784.819 -5.302 1.485 68.551\\n', '5786.151 -3.600 1.496 67.678\\n', '5787.484 -2.941 1.518 68.386\\n', '5788.817 -2.830 1.533 68.754\\n', '5790.150 -1.464 1.544 69.701\\n', '5791.483 -0.358 1.556 69.815\\n', '5792.817 0.073 1.571 70.748\\n', '5794.151 0.629 1.594 71.065\\n', '5795.485 -1.731 1.609 72.500\\n', '5796.819 0.102 1.635 72.273\\n', '5798.155 1.656 1.645 72.369\\n', '5799.490 0.189 1.611 71.613\\n', '5800.826 3.725 1.630 71.995\\n', '5802.162 -0.960 1.683 73.908\\n', '5803.498 0.219 1.719 73.159\\n', '5804.834 -0.010 1.675 72.896\\n', '5806.171 1.173 1.662 72.822\\n', '5807.508 -0.923 1.628 72.449\\n', '5808.845 -0.848 1.619 71.931\\n', '5810.183 1.732 1.643 71.940\\n', '5811.521 0.029 1.642 72.417\\n', '5812.859 -2.018 1.635 72.285\\n', '5814.198 -0.246 1.658 73.862\\n', '5815.537 -0.628 1.662 73.171\\n', '5816.876 1.343 1.670 71.937\\n', '5818.216 0.387 1.670 72.569\\n', '5819.556 4.490 1.679 71.515\\n', '5820.896 1.163 1.671 71.097\\n', '5822.236 2.254 1.690 71.976\\n', '5823.577 2.183 1.688 72.431\\n', '5824.918 -0.285 1.670 72.957\\n', '5826.259 -1.787 1.628 74.052\\n', '5827.601 -1.818 1.641 74.064\\n', '5828.943 -0.601 1.671 73.757\\n', '5830.286 1.942 1.705 73.570\\n', '5831.628 -2.053 1.649 73.631\\n', '5832.971 0.933 1.681 74.127\\n', '5834.314 1.874 1.680 72.852\\n', '5835.658 3.015 1.681 71.591\\n', '5837.002 2.957 1.697 72.058\\n', '5838.346 2.552 1.705 72.634\\n', '5839.690 2.458 1.694 72.825\\n', '5841.035 1.041 1.684 72.650\\n', '5842.380 1.461 1.690 73.007\\n', '5843.726 1.921 1.702 72.364\\n', '5845.071 -0.299 1.673 72.786\\n', '5846.417 1.504 1.704 73.500\\n', '5847.764 2.332 1.705 73.077\\n', '5849.110 0.720 1.667 72.033\\n', '5850.458 -0.238 1.642 72.693\\n', '5851.804 1.390 1.656 72.209\\n', '5853.152 2.418 1.679 70.778\\n', '5854.500 2.572 1.680 71.069\\n', '5855.848 0.417 1.650 70.869\\n', '5857.197 2.245 1.649 70.026\\n', '5858.546 4.694 1.663 69.235\\n', '5859.895 2.367 1.641 69.069\\n', '5861.244 0.495 1.619 69.541\\n', '5862.594 0.465 1.648 71.330\\n', '5863.944 1.285 1.635 70.616\\n', '5865.294 3.666 1.686 71.223\\n', '5866.646 1.916 1.674 71.467\\n', '5867.996 5.253 1.702 70.048\\n', '5869.347 2.918 1.696 71.521\\n', '5870.699 2.281 1.675 70.935\\n', '5872.051 4.038 1.695 71.112\\n', '5873.403 2.541 1.696 73.062\\n', '5874.755 5.344 1.723 71.974\\n', '5876.109 7.804 1.731 70.866\\n', '5877.461 5.415 1.736 72.445\\n', '5878.815 6.092 1.721 71.176\\n', '5880.169 6.278 1.739 71.291\\n', '5881.523 4.783 1.697 71.400\\n', '5882.877 2.377 1.677 70.280\\n', '5884.232 2.384 1.672 69.579\\n', '5885.587 2.650 1.681 69.062\\n', '5886.943 2.963 1.663 69.060\\n', '5888.299 -0.382 1.607 67.908\\n', '5889.655 0.340 1.577 66.189\\n', '5891.011 0.030 1.568 64.116\\n', '5892.367 0.818 1.579 62.940\\n', '5893.724 0.821 1.552 60.928\\n', '5895.082 -1.574 1.528 60.804\\n', '5896.439 -0.494 1.533 61.196\\n', '5897.797 1.874 1.561 61.155\\n', '5899.155 0.481 1.545 62.577\\n', '5900.514 0.106 1.551 63.315\\n', '5901.872 -0.725 1.642 64.950\\n', '5903.231 -0.599 1.645 66.555\\n', '5904.591 2.561 1.672 67.727\\n', '5905.951 1.134 1.686 69.139\\n', '5907.310 -0.814 1.694 71.136\\n', '5908.671 1.986 1.740 70.180\\n', '5910.031 3.129 1.716 68.927\\n', '5911.393 1.647 1.708 69.749\\n', '5912.754 3.713 1.744 69.539\\n', '5914.116 2.360 1.727 70.299\\n', '5915.478 -0.257 1.685 69.772\\n', '5916.840 2.134 1.696 69.462\\n', '5918.202 3.162 1.717 68.974\\n', '5919.565 1.860 1.714 69.796\\n', '5920.928 1.093 1.706 70.530\\n', '5922.292 2.870 1.724 69.487\\n', '5923.656 3.845 1.778 70.083\\n', '5925.020 0.952 1.742 70.453\\n', '5926.384 0.896 1.730 71.019\\n', '5927.749 -0.249 1.703 71.500\\n', '5929.114 1.710 1.725 71.218\\n', '5930.480 1.886 1.713 70.719\\n', '5931.845 -1.084 1.692 70.968\\n', '5933.211 -0.031 1.698 70.029\\n', '5934.577 0.926 1.738 70.383\\n', '5935.944 2.174 1.745 70.502\\n', '5937.312 0.511 1.713 70.429\\n', '5938.679 0.774 1.715 71.195\\n', '5940.046 1.689 1.726 71.061\\n', '5941.414 0.512 1.729 72.325\\n', '5942.782 2.200 1.735 71.314\\n', '5944.150 2.400 1.735 71.177\\n', '5945.519 -0.844 1.699 70.567\\n', '5946.889 0.597 1.719 71.029\\n', '5948.258 1.277 1.736 72.149\\n', '5949.628 3.681 1.742 70.391\\n', '5950.998 3.288 1.731 70.579\\n', '5952.368 1.128 1.712 70.599\\n', '5953.739 1.810 1.712 69.872\\n', '5955.110 -0.661 1.696 70.162\\n', '5956.482 0.384 1.696 70.451\\n', '5957.854 -0.518 1.688 70.279\\n', '5959.226 -1.442 1.708 71.052\\n', '5960.598 -2.347 1.681 71.609\\n', '5961.970 0.075 1.668 70.343\\n', '5963.343 -0.433 1.658 70.832\\n', '5964.717 -2.492 1.669 72.000\\n', '5966.090 -1.563 1.663 71.775\\n', '5967.464 -0.395 1.680 72.556\\n', '5968.838 -0.330 1.672 72.003\\n', '5970.213 -1.207 1.665 72.127\\n', '5971.588 0.240 1.682 72.786\\n', '5972.963 -0.550 1.670 72.565\\n', '5974.338 -1.074 1.670 71.957\\n', '5975.714 2.003 1.713 71.689\\n', '5977.090 -1.886 1.660 71.510\\n', '5978.467 -1.961 1.625 72.236\\n', '5979.843 -2.037 1.616 72.052\\n', '5981.221 1.689 1.633 70.045\\n', '5982.598 -0.433 1.635 70.158\\n', '5983.976 -0.289 1.676 70.561\\n', '5985.354 -1.602 1.668 70.838\\n', '5986.732 -3.262 1.632 70.567\\n', '5988.111 -1.106 1.621 70.285\\n', '5989.490 1.791 1.641 69.911\\n', '5990.869 0.242 1.616 70.187\\n', '5992.249 -1.784 1.596 70.886\\n', '5993.628 0.667 1.617 70.934\\n', '5995.009 -0.036 1.616 71.546\\n', '5996.389 0.938 1.624 71.239\\n', '5997.771 0.832 1.623 70.990\\n', '5999.151 -2.251 1.584 72.009\\n', '6000.533 -1.763 1.580 71.256\\n', '6001.915 -0.388 1.584 71.451\\n', '6003.297 -1.334 1.574 70.905\\n', '6004.679 -1.326 1.570 69.848\\n', '6006.062 0.147 1.592 70.174\\n', '6007.445 -0.994 1.598 70.359\\n', '6008.828 -1.014 1.579 69.677\\n', '6010.212 0.197 1.586 69.889\\n', '6011.596 -2.758 1.582 70.587\\n', '6012.980 1.483 1.610 70.078\\n', '6014.366 -0.421 1.593 70.978\\n', '6015.750 -1.455 1.579 70.996\\n', '6017.136 0.088 1.619 71.178\\n', '6018.521 -0.974 1.780 70.418\\n', '6019.907 -1.546 1.757 70.989\\n', '6021.293 0.086 1.561 69.685\\n', '6022.681 -0.470 1.547 69.016\\n', '6024.067 -1.710 1.539 70.206\\n', '6025.455 -2.187 1.534 70.403\\n', '6026.842 -2.065 1.536 70.193\\n', '6028.230 -1.045 1.543 70.244\\n', '6029.618 -0.732 1.557 71.224\\n', '6031.007 0.148 1.569 70.962\\n', '6032.396 -1.142 1.573 72.103\\n', '6033.784 1.118 1.596 71.643\\n', '6035.174 1.143 1.612 72.092\\n', '6036.564 -1.298 1.582 72.453\\n', '6037.955 -0.766 1.570 72.238\\n', '6039.345 -1.607 1.580 73.572\\n', '6040.736 -0.713 1.576 72.924\\n', '6042.126 -1.410 1.559 71.833\\n', '6043.518 -0.279 1.587 71.953\\n', '6044.910 -1.229 1.670 72.706\\n', '6046.302 -0.285 1.791 73.541\\n', '6047.694 -1.446 1.807 73.473\\n', '6049.087 -3.617 1.701 73.052\\n', '6050.480 0.533 1.627 73.089\\n', '6051.874 0.384 1.616 73.251\\n', '6053.267 -2.193 1.610 73.288\\n', '6054.661 -0.568 1.645 73.188\\n', '6056.055 -2.802 1.585 73.520\\n', '6057.449 0.306 1.570 72.387\\n', '6058.845 -0.016 1.564 71.627\\n', '6060.240 -0.556 1.576 72.270\\n', '6061.635 -2.153 1.551 72.340\\n', '6063.031 -1.484 1.544 71.798\\n', '6064.428 -0.198 1.550 71.675\\n', '6065.825 -1.032 1.554 71.866\\n', '6067.221 -1.965 1.552 71.544\\n', '6068.618 0.351 1.570 70.997\\n', '6070.016 1.340 1.600 71.560\\n', '6071.414 -0.173 1.599 72.848\\n', '6072.812 1.941 1.619 72.683\\n', '6074.210 0.959 1.631 73.516\\n', '6075.609 2.688 1.655 73.081\\n', '6077.008 -0.210 1.613 73.389\\n', '6078.408 0.624 1.599 72.986\\n', '6079.807 1.225 1.593 72.496\\n', '6081.207 -0.548 1.578 72.683\\n', '6082.608 2.986 1.587 70.793\\n', '6084.009 0.523 1.587 71.658\\n', '6085.410 3.926 1.616 71.024\\n', '6086.811 3.565 1.629 70.414\\n', '6088.212 4.713 1.645 70.742\\n', '6089.614 5.300 1.641 70.954\\n', '6091.017 2.071 1.623 71.057\\n', '6092.419 0.395 1.597 72.138\\n', '6093.823 -1.881 1.563 72.194\\n', '6095.226 -3.500 1.542 72.052\\n', '6096.629 -1.771 1.559 71.146\\n', '6098.034 4.750 1.654 70.889\\n', '6099.438 0.749 1.625 71.625\\n', '6100.842 0.066 1.588 70.523\\n', '6102.248 -1.045 1.574 70.536\\n', '6103.653 -2.049 1.555 70.476\\n', '6105.059 -0.646 1.560 69.757\\n', '6106.464 -0.535 1.594 69.652\\n', '6107.871 -1.509 1.633 70.955\\n', '6109.277 -1.656 1.642 70.987\\n', '6110.684 1.327 1.633 71.076\\n', '6112.091 0.584 1.654 71.458\\n', '6113.499 -2.819 1.630 71.563\\n', '6114.906 1.490 1.593 71.665\\n', '6116.314 -0.705 1.586 71.653\\n', '6117.724 -1.542 1.595 71.570\\n', '6119.132 -0.536 1.598 71.796\\n', '6120.542 -2.259 1.546 71.265\\n', '6121.950 -2.161 1.534 70.445\\n', '6123.361 0.412 1.558 69.989\\n', '6124.771 -1.912 1.539 70.230\\n', '6126.181 -1.828 1.525 69.987\\n', '6127.592 0.355 1.538 69.079\\n', '6129.003 -0.553 1.549 70.075\\n', '6130.414 -0.867 1.565 71.370\\n', '6131.826 -0.554 1.571 71.576\\n', '6133.238 0.810 1.563 70.309\\n', '6134.650 0.336 1.560 70.507\\n', '6136.063 -1.022 1.533 70.803\\n', '6137.476 -0.373 1.532 69.330\\n', '6138.890 -1.150 1.498 68.467\\n', '6140.303 0.702 1.518 68.066\\n', '6141.717 -2.293 1.502 68.076\\n', '6143.132 -0.981 1.547 69.636\\n', '6144.546 -0.269 1.566 70.465\\n', '6145.961 -0.334 1.545 69.822\\n', '6147.376 -1.169 1.530 71.127\\n', '6148.792 -0.971 1.542 70.781\\n', '6150.208 -1.620 1.533 71.452\\n', '6151.625 -1.982 1.522 70.996\\n', '6153.041 -1.581 1.515 71.101\\n', '6154.458 -1.746 1.528 72.123\\n', '6155.875 -1.911 1.516 70.793\\n', '6157.293 -1.899 1.508 69.988\\n', '6158.711 -0.290 1.519 69.677\\n', '6160.129 0.662 1.534 68.787\\n', '6161.548 0.544 1.508 67.592\\n', '6162.966 -2.905 1.448 66.891\\n', '6164.385 -2.712 1.430 65.627\\n', '6165.805 -2.741 1.426 65.043\\n', '6167.225 -0.885 1.429 64.524\\n', '6168.645 0.036 1.448 65.344\\n', '6170.065 1.330 1.480 66.007\\n', '6171.486 -1.438 1.447 66.371\\n', '6172.908 -1.965 1.443 67.367\\n', '6174.330 -0.625 1.458 67.576\\n', '6175.752 -2.703 1.530 68.067\\n', '6177.174 -2.144 1.498 68.528\\n', '6178.597 0.596 1.548 68.210\\n', '6180.019 -0.414 1.764 68.964\\n', '6181.442 -0.777 1.726 69.566\\n', '6182.866 -0.803 1.500 69.746\\n', '6184.290 -1.591 1.481 69.234\\n', '6185.714 0.453 1.514 69.954\\n', '6187.138 -1.888 1.475 68.945\\n', '6188.563 -0.117 1.494 69.305\\n', '6189.988 0.753 1.492 68.687\\n', '6191.414 -0.831 1.469 67.745\\n', '6192.839 -0.774 1.461 67.155\\n', '6194.265 -0.699 1.464 67.052\\n', '6195.692 0.063 1.487 67.204\\n', '6197.119 1.301 1.515 67.658\\n', '6198.546 -1.077 1.720 68.304\\n', '6199.974 -0.591 1.724 68.176\\n', '6201.401 -1.924 1.484 69.585\\n', '6202.829 -2.926 1.489 69.835\\n', '6204.257 -2.704 1.489 70.250\\n', '6205.686 -0.318 1.506 69.212\\n', '6207.115 1.033 1.523 69.148\\n', '6208.544 0.280 1.527 69.456\\n', '6209.974 -0.195 1.522 70.268\\n', '6211.404 -0.960 1.506 69.984\\n', '6212.835 -0.032 1.491 68.323\\n', '6214.265 1.031 1.495 68.287\\n', '6215.697 -1.330 1.482 68.089\\n', '6217.128 -0.615 1.492 67.806\\n', '6218.560 -1.331 1.451 66.635\\n', '6219.992 -1.265 1.441 66.471\\n', '6221.424 -0.722 1.455 66.169\\n', '6222.857 0.495 1.473 66.598\\n', '6224.290 -0.782 1.461 66.830\\n', '6225.723 0.567 1.468 66.449\\n', '6227.157 0.721 1.489 67.087\\n', '6228.591 -0.355 1.495 67.011\\n', '6230.025 -0.214 1.504 67.070\\n', '6231.460 -0.830 1.482 66.934\\n', '6232.895 -0.752 1.463 66.719\\n', '6234.330 1.504 1.482 66.219\\n', '6235.766 -1.048 1.510 67.378\\n', '6237.202 1.332 1.571 67.544\\n', '6238.639 -0.021 1.527 67.684\\n', '6240.075 2.321 1.539 67.923\\n', '6241.512 2.664 1.535 67.704\\n', '6242.950 -0.848 1.487 67.335\\n', '6244.387 -0.080 1.469 65.944\\n', '6245.825 -0.665 1.456 65.518\\n', '6247.264 -0.290 1.486 66.110\\n', '6248.702 0.195 1.481 66.467\\n', '6250.141 -2.073 1.461 66.382\\n', '6251.581 -3.068 1.454 66.966\\n', '6253.021 -1.202 1.460 66.367\\n', '6254.460 -0.970 1.433 65.294\\n', '6255.900 -2.979 1.416 65.704\\n', '6257.341 -2.391 1.424 65.839\\n', '6258.782 -0.037 1.463 65.051\\n', '6260.224 -1.654 1.434 64.507\\n', '6261.665 -3.402 1.440 65.617\\n', '6263.107 -0.042 1.474 66.162\\n', '6264.549 -1.193 1.477 66.953\\n', '6265.992 0.844 1.509 67.928\\n', '6267.435 -1.006 1.521 68.123\\n', '6268.877 1.263 1.550 67.638\\n', '6270.321 0.652 1.530 68.151\\n', '6271.765 -2.135 1.503 69.143\\n', '6273.210 -1.395 1.504 68.497\\n', '6274.654 -0.578 1.485 67.760\\n', '6276.099 -1.748 1.490 68.411\\n', '6277.544 0.269 1.523 69.362\\n', '6278.990 0.968 1.535 68.719\\n', '6280.436 -1.486 1.509 69.188\\n', '6281.882 -0.254 1.514 68.621\\n', '6283.329 -0.386 1.519 68.877\\n', '6284.776 -0.308 1.515 69.245\\n', '6286.224 -1.645 1.507 69.192\\n', '6287.671 -1.769 1.529 69.415\\n', '6289.119 -0.012 1.552 68.681\\n', '6290.567 -2.264 1.536 69.551\\n', '6292.016 -1.975 1.534 70.080\\n', '6293.464 1.207 1.548 69.199\\n', '6294.914 1.363 1.556 68.720\\n', '6296.364 0.713 1.532 68.383\\n', '6297.813 -0.589 1.516 69.144\\n', '6299.264 3.998 1.567 68.461\\n', '6300.714 5.882 1.584 67.694\\n', '6302.165 7.739 1.615 67.834\\n', '6303.617 8.720 1.629 68.670\\n', '6305.069 7.684 1.619 67.749\\n', '6306.521 3.041 1.564 68.140\\n', '6307.973 0.189 1.519 68.511\\n', '6309.425 0.437 1.517 68.643\\n', '6310.878 0.147 1.532 69.300\\n', '6312.332 0.210 1.544 69.566\\n', '6313.785 0.933 1.560 69.844\\n', '6315.240 0.096 1.520 68.148\\n', '6316.694 1.400 1.520 67.988\\n', '6318.148 -0.490 1.484 68.001\\n', '6319.604 -2.352 1.456 67.700\\n', '6321.059 -1.230 1.463 67.412\\n', '6322.515 -1.799 1.466 67.889\\n', '6323.971 -1.329 1.473 68.245\\n', '6325.427 0.311 1.504 68.610\\n', '6326.883 -0.319 1.508 69.487\\n', '6328.340 0.778 1.523 69.409\\n', '6329.798 0.780 1.538 69.683\\n', '6331.255 2.051 1.564 70.123\\n', '6332.713 1.911 1.566 70.694\\n', '6334.171 1.259 1.540 69.659\\n', '6335.630 0.047 1.509 69.542\\n', '6337.089 -0.174 1.512 69.425\\n', '6338.548 -0.525 1.498 68.251\\n', '6340.008 -1.465 1.491 68.280\\n', '6341.468 1.518 1.512 68.623\\n', '6342.928 0.226 1.493 68.856\\n', '6344.389 0.172 1.488 68.454\\n', '6345.851 -0.148 1.497 68.856\\n', '6347.312 0.439 1.522 68.997\\n', '6348.773 -0.380 1.497 68.796\\n', '6350.235 0.326 1.498 69.046\\n', '6351.697 0.412 1.508 70.448\\n', '6353.161 -1.693 1.490 70.878\\n', '6354.624 -0.123 1.500 70.416\\n', '6356.087 1.598 1.506 69.128\\n', '6357.551 2.832 1.508 68.224\\n', '6359.015 1.426 1.506 67.651\\n', '6360.479 2.396 1.500 67.840\\n', '6361.944 -0.646 1.476 68.022\\n', '6363.409 0.607 1.476 66.440\\n', '6364.874 2.909 1.504 67.149\\n', '6366.339 2.442 1.501 67.303\\n', '6367.806 2.958 1.508 67.789\\n', '6369.272 4.449 1.537 68.704\\n', '6370.739 4.724 1.556 69.727\\n', '6372.206 4.657 1.559 69.675\\n', '6373.673 4.942 1.574 70.838\\n', '6375.142 3.011 1.562 71.716\\n', '6376.609 4.594 1.564 70.545\\n', '6378.078 4.789 1.570 70.884\\n', '6379.546 1.249 1.521 71.005\\n', '6381.016 1.947 1.527 70.219\\n', '6382.485 4.129 1.557 69.973\\n', '6383.955 0.700 1.522 71.207\\n', '6385.425 0.011 1.505 71.597\\n', '6386.896 0.632 1.508 71.593\\n', '6388.366 -1.127 1.479 70.764\\n', '6389.837 0.448 1.502 71.334\\n', '6391.309 0.353 1.498 71.634\\n', '6392.781 0.730 1.498 70.869\\n', '6394.253 1.088 1.489 70.530\\n', '6395.725 -0.986 1.468 70.499\\n', '6397.198 -0.663 1.477 70.264\\n', '6398.671 0.999 1.486 69.802\\n', '6400.145 -0.791 1.465 70.284\\n', '6401.619 -0.378 1.465 69.871\\n', '6403.093 -0.523 1.479 69.989\\n', '6404.568 0.466 1.502 70.668\\n', '6406.042 0.589 1.482 70.621\\n', '6407.518 -0.089 1.478 70.979\\n', '6408.993 0.194 1.468 70.582\\n', '6410.469 -0.039 1.460 70.226\\n', '6411.945 -1.357 1.446 70.551\\n', '6413.421 -0.058 1.474 70.119\\n', '6414.898 0.114 1.486 70.134\\n', '6416.376 -0.091 1.479 70.142\\n', '6417.854 0.227 1.469 69.532\\n', '6419.332 -0.578 1.456 69.838\\n', '6420.810 1.250 1.479 69.865\\n', '6422.289 0.803 1.479 69.298\\n', '6423.768 0.912 1.476 69.714\\n', '6425.248 -2.146 1.442 70.567\\n', '6426.727 -1.634 1.450 70.645\\n', '6428.206 1.905 1.489 70.155\\n', '6429.687 2.241 1.521 71.126\\n', '6431.167 3.703 1.540 70.964\\n', '6432.648 1.936 1.511 70.873\\n', '6434.130 0.724 1.482 70.432\\n', '6435.612 1.548 1.488 70.150\\n', '6437.093 -0.097 1.469 69.831\\n', '6438.576 1.614 1.504 70.786\\n', '6440.058 1.010 1.496 71.387\\n', '6441.542 -2.174 1.439 70.336\\n', '6443.025 0.625 1.480 71.178\\n', '6444.508 0.216 1.487 71.315\\n', '6445.993 0.860 1.504 72.026\\n', '6447.477 2.095 1.533 72.360\\n', '6448.962 -0.975 1.496 71.907\\n', '6450.447 2.026 1.499 70.335\\n', '6451.933 0.869 1.472 69.688\\n', '6453.418 0.806 1.488 69.594\\n', '6454.904 0.600 1.491 69.729\\n', '6456.391 1.074 1.492 69.951\\n', '6457.878 1.620 1.476 69.320\\n', '6459.365 -0.383 1.491 70.971\\n', '6460.853 0.481 1.519 71.212\\n', '6462.340 3.805 1.548 70.622\\n', '6463.828 3.562 1.543 70.969\\n', '6465.317 1.441 1.519 70.896\\n', '6466.806 2.109 1.509 70.421\\n', '6468.295 2.208 1.515 70.497\\n', '6469.784 1.931 1.518 70.430\\n', '6471.274 1.581 1.528 70.884\\n', '6472.765 2.169 1.519 71.056\\n', '6474.255 1.655 1.522 71.794\\n', '6475.746 0.545 1.528 72.140\\n', '6477.238 3.161 1.549 71.485\\n', '6478.729 2.413 1.543 71.756\\n', '6480.221 4.876 1.571 71.402\\n', '6481.713 3.738 1.574 72.382\\n', '6483.206 3.426 1.559 71.780\\n', '6484.699 4.859 1.550 70.740\\n', '6486.192 3.685 1.567 71.179\\n', '6487.686 6.885 1.599 71.330\\n', '6489.180 5.865 1.578 70.740\\n', '6490.674 5.382 1.565 70.222\\n', '6492.169 5.015 1.559 70.429\\n', '6493.664 6.081 1.554 68.930\\n', '6495.159 7.187 1.548 68.098\\n', '6496.655 5.027 1.524 67.730\\n', '6498.151 5.171 1.520 66.729\\n', '6499.647 8.072 1.542 65.993\\n', '6501.144 9.092 1.555 66.457\\n', '6502.641 9.667 1.597 68.239\\n', '6504.139 10.531 1.628 69.326\\n', '6505.637 11.206 1.650 69.580\\n', '6507.135 11.433 1.663 70.140\\n', '6508.633 11.231 1.687 71.113\\n', '6510.132 13.387 1.718 71.812\\n', '6511.632 10.968 1.691 71.677\\n', '6513.131 13.454 1.705 71.100\\n', '6514.631 14.482 1.730 71.595\\n', '6516.131 15.244 1.755 72.863\\n', '6517.632 17.390 1.771 71.694\\n', '6519.133 14.776 1.745 71.614\\n', '6520.634 14.680 1.742 71.771\\n', '6522.135 17.920 1.777 71.810\\n', '6523.638 17.808 1.789 72.184\\n', '6525.140 19.803 1.821 72.032\\n', '6526.643 23.853 1.857 71.771\\n', '6528.145 22.826 1.845 71.811\\n', '6529.648 22.797 1.879 72.666\\n', '6531.152 25.743 1.918 71.745\\n', '6532.656 28.549 1.944 71.349\\n', '6534.161 30.101 1.969 71.912\\n', '6535.666 34.210 2.025 72.001\\n', '6537.170 37.414 2.070 71.172\\n', '6538.676 40.037 2.171 71.501\\n', '6540.181 42.162 2.288 72.532\\n', '6541.688 42.689 2.306 73.066\\n', '6543.194 46.706 2.365 73.128\\n', '6544.702 49.705 2.393 72.378\\n', '6546.208 51.934 2.435 71.952\\n', '6547.716 58.355 2.537 72.402\\n', '6549.223 67.668 2.679 72.247\\n', '6550.732 76.500 2.797 71.009\\n', '6552.241 77.341 2.813 72.049\\n', '6553.750 72.300 2.631 72.532\\n', '6555.258 65.186 2.517 71.227\\n', '6556.768 59.860 2.429 70.631\\n', '6558.278 63.551 2.448 69.252\\n', '6559.788 66.892 2.496 68.732\\n', '6561.299 70.009 2.577 70.358\\n', '6562.810 86.609 2.796 69.119\\n', '6564.321 111.547 3.120 67.709\\n', '6565.833 127.165 3.332 66.243\\n', '6567.345 117.160 3.166 65.274\\n', '6568.857 88.594 2.762 66.451\\n', '6570.370 65.706 2.462 67.515\\n', '6571.883 55.788 2.324 69.051\\n', '6573.396 51.577 2.277 69.325\\n', '6574.910 51.552 2.249 69.851\\n', '6576.424 48.540 2.234 70.509\\n', '6577.938 50.657 2.241 69.795\\n', '6579.454 55.478 2.294 68.760\\n', '6580.968 58.296 2.372 70.280\\n', '6582.484 65.103 2.495 71.593\\n', '6584.000 82.824 2.752 71.987\\n', '6585.516 109.510 3.130 72.200\\n', '6587.032 119.950 3.337 72.061\\n', '6588.549 100.294 3.064 71.839\\n', '6590.067 68.256 2.623 73.027\\n', '6591.584 49.068 2.377 73.420\\n', '6593.103 45.000 2.303 70.454\\n', '6594.621 39.680 2.225 70.982\\n', '6596.139 33.554 2.112 70.683\\n', '6597.658 32.061 2.058 69.729\\n', '6599.177 31.646 2.050 70.832\\n', '6600.697 28.761 1.983 70.151\\n', '6602.217 30.311 1.975 70.352\\n', '6603.738 25.284 1.909 71.251\\n', '6605.258 22.949 1.860 71.355\\n', '6606.779 22.965 1.856 70.909\\n', '6608.301 22.371 1.861 70.137\\n', '6609.823 23.916 1.878 70.467\\n', '6611.345 16.941 1.801 70.586\\n', '6612.868 18.285 1.798 70.123\\n', '6614.390 16.206 1.787 70.800\\n', '6615.913 17.951 1.799 70.909\\n', '6617.437 15.405 1.749 70.691\\n', '6618.961 15.257 1.751 71.432\\n', '6620.485 11.918 1.728 72.533\\n', '6622.010 11.864 1.747 72.314\\n', '6623.534 14.083 1.753 71.416\\n', '6625.060 12.611 1.738 71.550\\n', '6626.585 11.478 1.702 70.958\\n', '6628.112 12.401 1.688 70.074\\n', '6629.638 11.113 1.653 70.201\\n', '6631.164 8.866 1.631 70.529\\n', '6632.692 7.577 1.622 70.046\\n', '6634.219 6.202 1.607 70.273\\n', '6635.747 7.723 1.620 69.437\\n', '6637.275 6.959 1.588 69.426\\n', '6638.803 9.223 1.622 70.171\\n', '6640.333 6.510 1.589 70.123\\n', '6641.861 7.000 1.612 71.260\\n', '6643.391 5.120 1.606 71.240\\n', '6644.921 5.782 1.627 70.734\\n', '6646.451 4.687 1.593 69.973\\n', '6647.981 5.269 1.580 71.182\\n', '6649.512 4.859 1.557 70.714\\n', '6651.044 3.265 1.543 70.527\\n', '6652.576 5.038 1.570 70.660\\n', '6654.107 4.321 1.554 70.734\\n', '6655.640 6.262 1.575 70.992\\n', '6657.172 3.330 1.536 70.526\\n', '6658.706 4.382 1.570 70.914\\n', '6660.239 2.835 1.573 70.346\\n', '6661.773 2.245 1.540 70.346\\n', '6663.307 2.356 1.536 70.616\\n', '6664.841 3.205 1.532 70.350\\n', '6666.376 1.745 1.521 69.546\\n', '6667.912 2.118 1.528 69.398\\n', '6669.447 2.352 1.560 69.272\\n', '6670.982 2.206 1.589 69.639\\n', '6672.519 4.424 1.600 70.363\\n', '6674.056 3.497 1.557 70.454\\n', '6675.593 2.262 1.535 70.455\\n', '6677.130 2.724 1.524 69.983\\n', '6678.667 2.646 1.527 69.650\\n', '6680.205 2.960 1.524 69.157\\n', '6681.743 3.010 1.526 69.219\\n', '6683.283 1.252 1.516 70.435\\n', '6684.822 2.167 1.508 69.764\\n', '6686.361 3.404 1.527 69.401\\n', '6687.900 3.007 1.531 69.477\\n', '6689.441 2.651 1.548 70.120\\n', '6690.981 1.032 1.521 70.715\\n', '6692.522 -0.089 1.499 70.546\\n', '6694.063 1.143 1.501 70.094\\n', '6695.605 3.459 1.530 69.368\\n', '6697.147 5.087 1.564 69.144\\n', '6698.689 0.603 1.537 69.814\\n', '6700.231 0.984 1.537 69.998\\n', '6701.774 3.705 1.522 68.751\\n', '6703.318 1.614 1.503 69.455\\n', '6704.862 0.010 1.469 68.762\\n', '6706.406 -0.497 1.474 69.581\\n', '6707.950 0.346 1.493 69.992\\n', '6709.494 0.379 1.485 68.914\\n', '6711.040 1.233 1.505 69.469\\n', '6712.585 1.079 1.503 69.590\\n', '6714.131 1.544 1.515 69.911\\n', '6715.677 8.631 1.598 68.724\\n', '6717.224 13.342 1.681 68.827\\n', '6718.771 18.789 1.768 69.415\\n', '6720.318 24.460 1.815 68.085\\n', '6721.865 14.828 1.710 68.467\\n', '6723.414 6.220 1.591 68.600\\n', '6724.962 2.254 1.511 68.278\\n', '6726.510 -1.053 1.481 69.253\\n', '6728.060 1.787 1.528 69.536\\n', '6729.608 4.693 1.591 69.819\\n', '6731.158 10.264 1.655 69.917\\n', '6732.709 18.105 1.762 69.934\\n', '6734.259 19.525 1.785 70.161\\n', '6735.810 17.524 1.757 70.321\\n', '6737.361 10.488 1.645 69.627\\n', '6738.913 2.231 1.523 69.541\\n', '6740.464 -0.193 1.478 69.807\\n', '6742.016 -1.540 1.452 69.641\\n', '6743.569 -1.425 1.442 68.775\\n', '6745.122 -2.986 1.416 68.878\\n', '6746.676 -3.212 1.409 68.459\\n', '6748.229 -2.171 1.424 68.839\\n', '6749.783 -2.228 1.438 68.402\\n', '6751.338 -1.165 1.438 68.247\\n', '6752.892 -0.723 1.456 68.513\\n', '6754.447 -0.189 1.459 67.692\\n', '6756.002 -1.342 1.508 68.956\\n', '6757.559 1.103 1.490 67.470\\n', '6759.115 -2.008 1.445 68.477\\n', '6760.671 -1.984 1.472 70.648\\n', '6762.228 1.079 1.497 69.201\\n', '6763.785 0.405 1.497 69.022\\n', '6765.343 0.273 1.529 69.734\\n', '6766.901 1.029 1.513 69.204\\n', '6768.459 -0.177 1.482 68.772\\n', '6770.018 -0.451 1.467 69.703\\n', '6771.577 -1.671 1.447 69.291\\n', '6773.136 -0.853 1.452 68.796\\n', '6774.696 -0.152 1.468 68.285\\n', '6776.256 1.293 1.489 68.946\\n', '6777.816 -1.528 1.470 70.440\\n', '6779.377 -0.833 1.465 69.329\\n', '6780.938 -1.529 1.466 70.170\\n', '6782.500 -4.007 1.439 70.514\\n', '6784.062 1.934 1.502 68.642\\n', '6785.624 -0.367 1.482 69.108\\n', '6787.187 -2.429 1.452 69.403\\n', '6788.750 -1.034 1.444 68.477\\n', '6790.313 -1.278 1.447 69.169\\n', '6791.877 -0.066 1.460 69.265\\n', '6793.441 -0.846 1.468 69.906\\n', '6795.005 0.167 1.486 69.111\\n', '6796.570 2.085 1.491 68.069\\n', '6798.135 -1.280 1.448 68.963\\n', '6799.701 -1.257 1.438 68.373\\n', '6801.267 -0.834 1.455 69.150\\n', '6802.833 -0.710 1.487 69.317\\n', '6804.399 1.103 1.477 68.762\\n', '6805.966 -1.919 1.449 69.561\\n', '6807.534 -1.897 1.440 69.635\\n', '6809.102 -0.363 1.433 68.025\\n', '6810.669 -0.310 1.447 69.321\\n', '6812.238 -1.907 1.438 70.625\\n', '6813.807 -2.315 1.426 69.553\\n', '6815.375 -0.502 1.445 69.170\\n', '6816.945 0.559 1.477 69.380\\n', '6818.515 -0.508 1.460 70.046\\n', '6820.086 -0.384 1.445 69.473\\n', '6821.656 -0.793 1.434 69.290\\n', '6823.227 -0.731 1.442 69.245\\n', '6824.798 0.134 1.444 69.165\\n', '6826.370 -0.757 1.439 69.730\\n', '6827.941 -1.689 1.425 70.144\\n', '6829.514 -2.726 1.427 70.584\\n', '6831.087 -2.089 1.444 70.731\\n', '6832.660 -0.225 1.450 69.376\\n', '6834.233 -0.980 1.437 69.489\\n', '6835.807 -0.205 1.675 70.365\\n', '6837.381 -1.364 1.657 69.443\\n', '6838.956 -0.244 1.674 69.629\\n', '6840.531 -1.611 1.453 69.535\\n', '6842.106 -2.218 1.403 68.493\\n', '6843.682 -1.798 1.418 68.955\\n', '6845.257 -1.915 1.402 68.481\\n', '6846.834 -2.120 1.404 68.756\\n', '6848.411 -2.316 1.410 69.443\\n', '6849.988 -2.294 1.414 69.936\\n', '6851.565 -0.764 1.422 68.915\\n', '6853.143 1.185 1.453 69.349\\n', '6854.721 -0.414 1.455 69.349\\n', '6856.300 0.377 1.453 69.103\\n', '6857.879 0.259 1.452 69.024\\n', '6859.458 -2.324 1.409 68.830\\n', '6861.038 -2.809 1.399 69.116\\n', '6862.618 1.172 1.432 68.009\\n', '6864.198 -1.279 1.420 69.156\\n', '6865.779 -1.085 1.414 68.690\\n', '6867.360 -0.680 1.424 69.349\\n', '6868.941 -1.363 1.433 70.432\\n', '6870.524 -0.530 1.453 70.341\\n', '6872.105 -1.119 1.452 70.484\\n', '6873.688 0.485 1.455 69.976\\n', '6875.271 -2.793 1.425 69.795\\n', '6876.854 -1.389 1.419 69.374\\n', '6878.438 -1.160 1.443 69.614\\n', '6880.022 -1.457 1.467 70.465\\n', '6881.606 1.978 1.489 69.810\\n', '6883.191 -1.420 1.453 69.836\\n', '6884.776 -0.529 1.455 69.281\\n', '6886.362 -3.025 1.434 69.782\\n', '6887.947 -2.174 1.442 69.243\\n', '6889.534 1.953 1.501 68.988\\n', '6891.120 -2.725 1.455 70.198\\n', '6892.707 -1.403 1.466 70.595\\n', '6894.294 -0.704 1.486 70.361\\n', '6895.882 -0.003 1.521 70.918\\n', '6897.470 -0.094 1.529 70.647\\n', '6899.058 -0.768 1.499 70.054\\n', '6900.647 -0.103 1.483 70.938\\n', '6902.236 -2.298 1.463 70.385\\n', '6903.825 -0.313 1.495 70.309\\n', '6905.416 -0.775 1.487 70.504\\n', '6907.005 -2.189 1.476 71.842\\n', '6908.596 -0.538 1.489 70.445\\n', '6910.187 -0.097 1.522 70.347\\n', '6911.779 -0.365 1.527 71.515\\n', '6913.370 -0.011 1.531 71.893\\n', '6914.962 -0.183 1.499 70.354\\n', '6916.555 -1.410 1.472 69.523\\n', '6918.147 -4.014 1.448 70.922\\n', '6919.740 -1.085 1.476 70.641\\n', '6921.334 -0.985 1.457 70.284\\n', '6922.928 -1.474 1.440 70.031\\n', '6924.522 -1.242 1.451 70.074\\n', '6926.117 -1.333 1.457 70.511\\n', '6927.712 -1.785 1.457 69.702\\n', '6929.307 -1.957 1.446 69.945\\n', '6930.903 -2.291 1.445 70.620\\n', '6932.499 -2.752 1.421 69.518\\n', '6934.095 -2.622 1.438 69.361\\n', '6935.692 -3.246 1.451 71.011\\n', '6937.290 -1.766 1.475 70.917\\n', '6938.887 1.013 1.499 69.894\\n', '6940.485 -0.831 1.499 70.323\\n', '6942.083 -0.982 1.518 70.750\\n', '6943.682 0.255 1.548 70.729\\n', '6945.281 0.438 1.561 70.450\\n', '6946.880 -0.536 1.575 70.765\\n', '6948.480 -0.364 1.629 69.927\\n', '6950.080 0.400 1.687 69.557\\n', '6951.680 -0.192 1.723 70.099\\n', '6953.282 0.671 1.730 69.868\\n', '6954.883 -3.030 1.646 69.943\\n', '6956.484 -4.269 1.566 71.201\\n', '6958.086 -0.749 1.555 70.737\\n', '6959.689 -1.399 1.542 70.325\\n', '6961.291 -4.255 1.541 71.180\\n', '6962.895 -3.639 1.530 70.900\\n', '6964.498 -2.015 1.518 71.188\\n', '6966.102 -2.623 1.487 70.863\\n', '6967.706 -4.837 1.463 71.308\\n', '6969.311 -3.873 1.467 70.665\\n', '6970.916 -3.307 1.482 71.457\\n', '6972.521 -1.304 1.543 71.553\\n', '6974.127 0.171 1.573 69.941\\n', '6975.732 -1.618 1.552 70.036\\n', '6977.339 -0.838 1.526 69.399\\n', '6978.946 -0.103 1.521 69.869\\n', '6980.553 -0.951 1.565 70.272\\n', '6982.161 -1.611 1.675 69.957\\n', '6983.768 -1.496 1.762 69.652\\n', '6985.376 -1.604 1.725 70.281\\n', '6986.985 -1.708 1.581 70.546\\n', '6988.594 -0.563 1.537 70.162\\n', '6990.203 -1.187 1.579 72.019\\n', '6991.813 -1.587 1.602 72.147\\n', '6993.423 -0.879 1.591 70.894\\n', '6995.034 -1.839 1.545 71.016\\n', '6996.645 -2.037 1.523 71.411\\n', '6998.255 -3.399 1.511 71.426\\n', '6999.867 -2.889 1.513 70.965\\n', '7001.479 0.282 1.542 70.344\\n', '7003.091 -0.369 1.549 70.611\\n', '7004.704 -1.113 1.531 70.700\\n', '7006.317 -0.414 1.508 69.881\\n', '7007.931 -1.157 1.522 70.227\\n', '7009.545 0.744 1.564 69.354\\n', '7011.159 -2.168 1.552 70.326\\n', '7012.773 -2.737 1.510 70.306\\n', '7014.389 0.609 1.508 69.308\\n', '7016.004 -1.447 1.498 69.516\\n', '7017.620 -2.538 1.483 69.678\\n', '7019.235 -0.574 1.537 70.116\\n', '7020.852 0.984 1.666 69.791\\n', '7022.469 0.178 1.793 69.617\\n', '7024.085 -1.777 1.713 70.617\\n', '7025.703 -0.022 1.578 70.978\\n', '7027.322 -0.934 1.510 70.360\\n', '7028.939 0.555 1.525 70.249\\n', '7030.558 -1.927 1.501 70.367\\n', '7032.178 -0.846 1.519 70.564\\n', '7033.797 1.714 1.602 70.334\\n', '7035.417 0.761 1.631 70.692\\n', '7037.036 0.128 1.576 70.741\\n', '7038.657 -0.079 1.534 70.340\\n', '7040.278 1.281 1.553 71.345\\n', '7041.899 -0.241 1.563 71.958\\n', '7043.521 0.645 1.612 71.884\\n', '7045.143 -0.214 1.698 71.998\\n', '7046.765 -0.591 1.690 70.578\\n', '7048.388 2.458 1.646 71.155\\n', '7050.011 0.734 1.597 73.442\\n', '7051.635 1.710 1.570 71.486\\n', '7053.259 1.967 1.570 71.435\\n', '7054.883 0.203 1.546 71.387\\n', '7056.507 0.359 1.529 69.934\\n', '7058.133 0.428 1.522 68.979\\n', '7059.758 0.998 1.522 68.777\\n', '7061.384 0.857 1.530 67.830\\n', '7063.010 -2.043 1.540 68.657\\n', '7064.636 -1.278 1.533 69.107\\n', '7066.264 0.522 1.492 67.405\\n', '7067.891 1.011 1.500 68.010\\n', '7069.518 1.943 1.525 66.909\\n', '7071.146 -0.621 1.560 67.257\\n', '7072.774 0.027 1.633 67.552\\n', '7074.403 -0.618 1.640 68.599\\n', '7076.032 0.942 1.805 68.352\\n', '7077.662 1.088 1.747 68.828\\n', '7079.292 -0.939 1.724 68.830\\n', '7080.922 -1.007 1.727 69.815\\n', '7082.553 0.020 1.739 69.866\\n', '7084.184 0.598 1.722 68.305\\n', '7085.815 -0.194 1.721 68.408\\n', '7087.447 1.298 1.465 66.301\\n', '7089.079 -0.610 1.439 66.617\\n', '7090.712 -1.013 1.437 66.262\\n', '7092.344 0.347 1.455 66.155\\n', '7093.978 1.566 1.483 64.904\\n', '7095.611 -0.908 1.488 65.680\\n', '7097.245 -1.682 1.489 65.997\\n', '7098.880 -1.732 1.450 66.265\\n', '7100.514 -1.850 1.424 66.378\\n', '7102.150 -0.302 1.473 66.989\\n', '7103.785 1.377 1.548 66.706\\n', '7105.421 0.670 1.555 66.394\\n', '7107.058 -0.298 1.490 66.721\\n', '7108.694 -1.859 1.455 68.043\\n', '7110.331 -0.707 1.450 67.603\\n', '7111.968 0.086 1.434 65.871\\n', '7113.606 -1.790 1.415 66.527\\n', '7115.244 -3.137 1.395 66.648\\n', '7116.883 -1.151 1.407 66.678\\n', '7118.522 -3.057 1.392 66.174\\n', '7120.161 -3.474 1.389 66.847\\n', '7121.801 -2.014 1.404 66.923\\n', '7123.440 -1.235 1.403 65.982\\n', '7125.082 -1.866 1.404 66.144\\n', '7126.722 -0.428 1.420 65.958\\n', '7128.363 -1.404 1.408 65.424\\n', '7130.005 -1.062 1.421 65.209\\n', '7131.647 0.296 1.424 64.018\\n', '7133.289 -1.526 1.401 64.741\\n', '7134.931 -0.946 1.391 64.326\\n', '7136.575 1.421 1.430 64.637\\n', '7138.218 3.544 1.517 65.704\\n', '7139.862 4.079 1.539 65.733\\n', '7141.506 3.006 1.481 64.457\\n', '7143.151 -0.041 1.419 64.761\\n', '7144.796 -2.394 1.398 66.731\\n', '7146.440 0.443 1.409 65.111\\n', '7148.086 0.751 1.396 64.461\\n', '7149.733 -2.633 1.383 66.187\\n', '7151.379 -1.756 1.379 65.129\\n', '7153.026 -0.937 1.392 65.131\\n', '7154.673 -1.146 1.400 65.810\\n', '7156.321 -0.586 1.419 65.274\\n', '7157.969 -1.344 1.416 65.878\\n', '7159.618 0.336 1.434 65.690\\n', '7161.267 -1.002 1.406 64.695\\n', '7162.915 -1.517 1.408 64.971\\n', '7164.565 -0.806 1.428 66.497\\n', '7166.215 -2.413 1.391 65.774\\n', '7167.865 -3.243 1.384 65.680\\n', '7169.515 -0.364 1.410 65.253\\n', '7171.167 -0.769 1.426 65.765\\n', '7172.818 0.805 1.456 66.010\\n', '7174.470 -0.004 1.448 66.595\\n', '7176.123 -0.210 1.438 66.912\\n', '7177.774 -1.412 1.432 66.733\\n', '7179.428 -1.785 1.448 67.498\\n', '7181.081 -3.194 1.416 66.671\\n', '7182.735 -1.697 1.439 67.329\\n', '7184.389 -2.985 1.436 66.792\\n', '7186.043 -0.547 1.431 66.474\\n', '7187.698 -2.451 1.386 65.694\\n', '7189.353 0.941 1.412 65.119\\n', '7191.009 -3.023 1.372 64.762\\n', '7192.665 -0.860 1.400 64.961\\n', '7194.321 -1.761 1.380 64.928\\n', '7195.978 -1.644 1.455 65.172\\n', '7197.635 -1.660 1.636 65.812\\n', '7199.292 -0.243 1.644 65.222\\n', '7200.951 0.727 1.628 65.336\\n', '7202.608 -1.133 1.389 65.561\\n', '7204.268 0.029 1.407 65.854\\n', '7205.926 0.348 1.430 65.731\\n', '7207.585 -0.385 1.425 64.914\\n', '7209.246 -0.192 1.427 65.135\\n', '7210.905 -1.687 1.384 65.653\\n', '7212.566 -1.009 1.371 64.852\\n', '7214.227 -1.171 1.390 65.101\\n', '7215.889 -0.769 1.404 66.187\\n', '7217.550 -1.300 1.432 66.248\\n', '7219.212 -0.939 1.465 67.002\\n', '7220.875 0.084 1.560 67.152\\n', '7222.538 -0.648 1.509 66.286\\n', '7224.201 -1.378 1.437 66.378\\n', '7225.865 -1.287 1.403 66.482\\n', '7227.528 -1.759 1.412 65.796\\n', '7229.193 1.174 1.431 65.897\\n', '7230.858 -2.221 1.408 67.424\\n', '7232.523 -2.553 1.397 68.092\\n', '7234.189 -0.725 1.432 68.169\\n', '7235.854 1.952 1.461 66.981\\n', '7237.521 0.463 1.454 67.504\\n', '7239.188 -2.246 1.429 68.534\\n', '7240.854 0.556 1.456 68.283\\n', '7242.521 1.991 1.492 68.140\\n', '7244.190 -1.286 1.474 68.431\\n', '7245.858 -1.813 1.436 69.187\\n', '7247.527 -0.851 1.441 68.050\\n', '7249.196 0.053 1.427 66.477\\n', '7250.865 0.346 1.439 66.794\\n', '7252.535 -0.380 1.455 67.666\\n', '7254.205 0.437 1.460 67.680\\n', '7255.875 -1.270 1.434 67.693\\n', '7257.546 -0.606 1.436 67.680\\n', '7259.218 -1.378 1.432 68.567\\n', '7260.890 -1.566 1.412 67.498\\n', '7262.561 -1.062 1.423 66.790\\n', '7264.234 -1.861 1.419 66.799\\n', '7265.906 -0.090 1.456 67.625\\n', '7267.580 0.941 1.487 67.417\\n', '7269.253 -2.874 1.447 67.954\\n', '7270.928 -0.654 1.454 67.778\\n', '7272.602 -1.764 1.430 68.219\\n', '7274.276 -0.742 1.440 68.598\\n', '7275.952 0.048 1.443 68.106\\n', '7277.627 -0.643 1.444 68.501\\n', '7279.303 1.754 1.480 67.480\\n', '7280.979 0.458 1.489 67.981\\n', '7282.657 -0.288 1.467 67.161\\n', '7284.333 -1.181 1.433 67.818\\n', '7286.011 -0.070 1.446 67.690\\n', '7287.688 -0.012 1.471 66.878\\n', '7289.367 -4.548 1.530 67.100\\n', '7291.045 -1.933 1.729 67.373\\n', '7292.725 -2.014 1.873 66.204\\n', '7294.404 -2.340 2.043 66.733\\n', '7296.084 4.050 2.255 66.313\\n', '7297.764 1.689 2.347 67.058\\n', '7299.445 3.459 2.409 68.107\\n', '7301.125 -1.875 2.272 67.411\\n', '7302.807 -2.667 2.165 68.759\\n', '7304.489 -1.506 2.065 68.069\\n', '7306.171 -0.554 1.926 68.346\\n', '7307.853 -3.502 1.761 69.102\\n', '7309.537 0.248 1.695 68.474\\n', '7311.219 0.401 1.598 68.420\\n', '7312.903 -1.482 1.540 68.417\\n', '7314.587 -3.017 1.565 69.125\\n', '7316.271 0.168 1.698 69.025\\n', '7317.956 4.308 1.808 67.899\\n', '7319.642 1.647 1.834 67.298\\n', '7321.327 1.354 1.892 69.295\\n', '7323.013 -0.075 1.855 68.343\\n', '7324.700 1.294 1.825 67.795\\n', '7326.386 0.802 1.772 68.493\\n', '7328.073 -0.142 1.740 68.080\\n', '7329.761 0.466 1.729 69.002\\n', '7331.449 -1.571 1.677 68.653\\n', '7333.137 -2.465 1.697 68.665\\n', '7334.826 -0.403 1.700 68.947\\n', '7336.515 0.759 1.691 69.724\\n', '7338.205 -0.364 1.672 69.764\\n', '7339.894 -1.293 1.625 70.463\\n', '7341.585 -2.204 1.623 69.907\\n', '7343.275 -0.139 1.612 69.262\\n', '7344.967 -0.001 1.567 69.497\\n', '7346.658 -0.404 1.576 69.527\\n', '7348.350 -1.849 1.532 69.412\\n', '7350.042 -3.223 1.473 69.226\\n', '7351.735 -1.615 1.499 68.449\\n', '7353.428 -3.357 1.510 69.648\\n', '7355.122 -0.484 1.515 69.459\\n', '7356.815 -2.484 1.481 68.183\\n', '7358.508 -0.664 1.483 67.681\\n', '7360.204 -2.105 1.454 68.706\\n', '7361.898 -3.096 1.455 69.192\\n', '7363.594 -1.582 1.463 67.663\\n', '7365.290 -0.529 1.473 67.975\\n', '7366.986 -0.823 1.472 68.595\\n', '7368.682 -0.823 1.498 69.061\\n', '7370.379 -0.643 1.494 69.055\\n', '7372.076 0.498 1.501 69.603\\n', '7373.774 -0.412 1.519 70.191\\n', '7375.472 0.098 1.513 69.570\\n', '7377.170 0.277 1.520 70.458\\n', '7378.869 0.791 1.524 70.354\\n', '7380.568 0.988 1.527 70.176\\n', '7382.268 -0.458 1.533 71.689\\n', '7383.968 1.479 1.545 70.311\\n', '7385.668 1.619 1.526 69.674\\n', '7387.369 -1.877 1.482 70.088\\n', '7389.071 -1.144 1.489 69.009\\n', '7390.772 -1.766 1.481 69.043\\n', '7392.475 -1.259 1.463 69.090\\n', '7394.177 -0.454 1.461 68.674\\n', '7395.879 -1.594 1.467 69.572\\n', '7397.582 -2.293 1.461 69.893\\n', '7399.286 -1.450 1.492 69.596\\n', '7400.990 -0.445 1.593 69.611\\n', '7402.694 -1.225 1.699 71.103\\n', '7404.399 -2.949 1.724 71.585\\n', '7406.104 -0.530 1.747 69.312\\n', '7407.810 -1.201 1.655 69.495\\n', '7409.515 -0.749 1.564 71.319\\n', '7411.222 -1.882 1.492 70.224\\n', '7412.929 0.196 1.506 68.366\\n', '7414.636 -3.162 1.509 69.754\\n', '7416.343 -1.602 1.504 70.043\\n', '7418.051 2.002 1.504 68.399\\n', '7419.759 1.967 1.484 67.897\\n', '7421.468 -0.351 1.469 68.870\\n', '7423.177 -3.215 1.463 69.255\\n', '7424.886 0.971 1.491 68.550\\n', '7426.597 -1.752 1.458 69.161\\n', '7428.306 -0.381 1.494 69.877\\n', '7430.017 2.026 1.519 69.651\\n', '7431.728 1.476 1.510 69.300\\n', '7433.440 -0.363 1.500 70.331\\n', '7435.152 -0.783 1.509 70.884\\n', '7436.863 1.728 1.654 70.609\\n', '7438.577 0.552 1.806 69.615\\n', '7440.289 -1.210 1.754 70.217\\n', '7442.002 -1.564 1.574 71.555\\n', '7443.716 -3.160 1.494 71.462\\n', '7445.430 0.331 1.528 69.708\\n', '7447.146 1.556 1.597 69.297\\n', '7448.860 -0.103 1.601 69.626\\n', '7450.575 -0.156 1.547 70.148\\n', '7452.291 -1.691 1.477 70.683\\n', '7454.007 0.367 1.505 70.407\\n', '7455.724 -3.208 1.499 72.131\\n', '7457.440 -1.883 1.517 71.970\\n', '7459.159 -2.094 1.517 72.057\\n', '7460.876 -2.664 1.498 71.322\\n', '7462.595 -0.642 1.502 70.600\\n', '7464.312 -0.753 1.497 70.828\\n', '7466.031 -2.123 1.516 71.195\\n', '7467.750 -3.283 1.534 71.943\\n', '7469.471 0.541 1.558 70.226\\n', '7471.191 1.318 1.540 69.847\\n', '7472.911 -0.540 1.512 70.922\\n', '7474.632 -1.049 1.501 70.578\\n', '7476.354 -1.775 1.503 70.620\\n', '7478.075 0.763 1.573 70.741\\n', '7479.797 0.452 1.667 70.358\\n', '7481.520 -1.850 1.705 70.725\\n', '7483.242 1.331 1.639 70.663\\n', '7484.966 0.409 1.541 70.222\\n', '7486.689 -1.097 1.493 70.987\\n', '7488.414 -0.390 1.505 70.548\\n', '7490.138 0.723 1.510 70.469\\n', '7491.863 0.934 1.530 70.240\\n', '7493.588 -0.517 1.561 70.358\\n', '7495.314 -0.011 1.568 69.907\\n', '7497.040 -0.501 1.529 69.226\\n', '7498.766 1.134 1.502 68.723\\n', '7500.493 -0.744 1.495 69.029\\n', '7502.220 1.398 1.523 69.508\\n', '7503.948 2.119 1.545 69.672\\n', '7505.676 -1.156 1.666 71.040\\n', '7507.405 -0.568 1.776 71.425\\n', '7509.134 -0.747 1.714 70.921\\n', '7510.863 0.991 1.576 70.943\\n', '7512.592 -1.452 1.512 71.072\\n', '7514.322 0.305 1.516 70.328\\n', '7516.052 -1.724 1.495 70.725\\n', '7517.784 0.369 1.538 71.375\\n', '7519.515 3.217 1.564 70.651\\n', '7521.246 2.722 1.556 70.659\\n', '7522.979 1.330 1.555 70.666\\n', '7524.711 2.377 1.603 71.279\\n', '7526.443 -1.814 1.574 71.007\\n', '7528.177 0.937 1.571 70.016\\n', '7529.910 0.825 1.547 70.104\\n', '7531.645 -1.707 1.515 70.936\\n', '7533.379 1.070 1.562 71.080\\n', '7535.114 2.871 1.639 71.020\\n', '7536.849 -0.385 1.726 71.453\\n', '7538.584 -0.869 1.776 71.432\\n', '7540.321 0.233 1.681 71.691\\n', '7542.057 1.219 1.626 71.694\\n', '7543.794 0.687 1.615 72.035\\n', '7545.531 -2.419 1.577 71.895\\n', '7547.269 -0.018 1.575 71.468\\n', '7549.006 0.917 1.576 71.475\\n', '7550.746 1.255 1.576 70.987\\n', '7552.484 -0.362 1.577 70.747\\n', '7554.224 0.250 1.629 71.499\\n', '7555.963 -0.713 1.608 70.916\\n', '7557.703 0.641 1.574 71.276\\n', '7559.443 -0.489 1.547 70.346\\n', '7561.185 -0.840 1.568 70.887\\n', '7562.925 -0.786 1.614 71.516\\n', '7564.667 1.270 1.650 71.359\\n', '7566.409 1.083 1.628 71.189\\n', '7568.152 2.453 1.606 70.509\\n', '7569.895 0.825 1.599 70.661\\n', '7571.638 -1.538 1.667 70.160\\n', '7573.381 -2.660 1.713 71.480\\n', '7575.125 -0.624 1.632 71.804\\n', '7576.869 -2.635 1.554 71.660\\n', '7578.615 0.166 1.565 71.493\\n', '7580.359 -0.837 1.566 71.983\\n', '7582.105 -0.163 1.553 71.465\\n', '7583.852 -0.182 1.546 71.000\\n', '7585.598 -1.377 1.550 70.713\\n', '7587.345 1.161 1.573 69.617\\n', '7589.092 1.948 1.573 70.906\\n', '7590.840 -1.047 1.524 69.920\\n', '7592.588 -1.467 1.550 69.276\\n', '7594.336 1.654 1.747 68.507\\n', '7596.085 1.648 1.907 68.258\\n', '7597.834 -3.737 1.697 69.217\\n', '7599.584 -1.595 1.580 68.343\\n', '7601.334 -0.452 1.643 68.540\\n', '7603.084 -1.741 1.680 69.516\\n', '7604.835 -0.093 1.604 68.520\\n', '7606.586 1.088 1.536 68.271\\n', '7608.338 -2.591 1.494 69.549\\n', '7610.090 -2.212 1.517 68.503\\n', '7611.843 -1.411 1.603 68.932\\n', '7613.596 -1.284 1.636 69.665\\n', '7615.349 -1.630 1.560 69.226\\n', '7617.103 -1.702 1.519 69.252\\n', '7618.857 0.529 1.522 68.321\\n', '7620.611 3.310 1.538 67.127\\n', '7622.367 -2.654 1.480 68.185\\n', '7624.122 -1.417 1.506 68.787\\n', '7625.877 -1.098 1.521 68.796\\n', '7627.633 0.012 1.547 69.425\\n', '7629.390 0.853 2.289 69.939\\n', '7631.146 2.856 2.340 68.711\\n', '7632.905 -2.511 1.493 68.029\\n', '7634.662 1.093 1.518 67.826\\n', '7636.420 -0.582 1.523 68.400\\n', '7638.179 1.852 1.531 67.529\\n', '7639.938 -0.553 1.519 67.566\\n', '7641.697 -3.224 1.547 68.727\\n', '7643.457 -2.519 1.642 68.646\\n', '7645.217 -0.557 1.674 67.924\\n', '7646.977 -0.221 1.601 67.921\\n', '7648.739 -0.129 1.553 68.258\\n', '7650.500 0.189 1.542 68.117\\n', '7652.262 0.776 1.544 68.935\\n', '7654.024 -1.348 1.512 68.247\\n', '7655.787 -0.772 1.540 67.059\\n', '7657.550 2.088 1.612 66.658\\n', '7659.313 -4.339 1.552 67.321\\n', '7661.077 -0.577 1.523 66.755\\n', '7662.841 -1.873 1.463 65.590\\n', '7664.605 1.536 1.476 63.629\\n', '7666.371 -1.658 1.452 65.324\\n', '7668.136 -3.142 1.442 65.172\\n', '7669.902 0.627 1.551 64.953\\n', '7671.668 1.026 1.697 66.209\\n', '7673.435 -1.157 1.624 65.291\\n', '7675.202 -2.372 1.517 66.792\\n', '7676.970 -1.093 1.490 66.521\\n', '7678.737 -4.046 1.466 67.966\\n', '7680.505 -0.909 1.499 67.238\\n', '7682.274 2.043 1.493 64.370\\n', '7684.043 -2.261 1.470 66.713\\n', '7685.813 -0.700 1.503 67.669\\n', '7687.583 -0.700 1.504 67.358\\n', '7689.354 0.785 1.526 67.091\\n', '7691.124 -0.544 1.547 66.806\\n', '7692.896 -0.761 1.561 67.761\\n', '7694.667 -1.052 1.522 67.373\\n', '7696.439 -0.749 1.496 66.606\\n', '7698.211 -1.119 1.490 66.214\\n', '7699.984 0.264 1.503 65.406\\n', '7701.757 0.289 1.577 65.491\\n', '7703.531 0.735 1.661 65.908\\n', '7705.305 0.975 1.637 66.189\\n', '7707.079 0.442 1.532 65.270\\n', '7708.854 0.675 1.516 65.757\\n', '7710.629 2.512 1.516 65.985\\n', '7712.405 -1.958 1.474 65.958\\n', '7714.181 0.131 1.479 65.636\\n', '7715.957 -1.986 1.462 65.317\\n', '7717.734 -2.097 1.471 65.809\\n', '7719.511 0.408 1.500 65.267\\n', '7721.289 0.020 1.510 66.680\\n', '7723.068 -0.873 1.501 67.049\\n', '7724.846 1.075 1.522 65.917\\n', '7726.625 2.404 1.560 65.687\\n', '7728.404 0.801 1.573 67.184\\n', '7730.184 -2.530 1.526 67.158\\n', '7731.963 0.873 1.524 67.808\\n', '7733.744 -2.455 1.501 68.650\\n', '7735.525 0.089 1.525 67.379\\n', '7737.307 0.171 1.574 67.336\\n', '7739.088 -4.259 1.538 68.695\\n', '7740.871 -0.132 1.537 68.216\\n', '7742.653 0.671 1.509 66.605\\n', '7744.436 2.509 1.532 66.313\\n', '7746.220 1.433 1.525 67.036\\n', '7748.003 0.860 1.516 66.522\\n', '7749.788 0.672 1.497 65.448\\n', '7751.573 1.430 1.509 65.741\\n', '7753.358 1.192 1.523 65.475\\n', '7755.143 2.700 1.549 66.089\\n', '7756.929 1.602 1.524 66.801\\n', '7758.715 1.536 1.518 65.381\\n', '7760.502 2.966 1.524 64.685\\n', '7762.289 0.685 1.545 67.270\\n', '7764.077 -1.537 1.522 67.667\\n', '7765.864 -1.161 1.530 68.719\\n', '7767.653 0.405 1.542 68.380\\n', '7769.442 -0.101 1.529 68.004\\n', '7771.231 -2.921 1.503 69.198\\n', '7773.021 0.434 1.525 67.416\\n', '7774.811 1.888 1.542 66.271\\n', '7776.601 0.260 1.575 68.724\\n', '7778.392 0.722 1.561 67.712\\n', '7780.184 0.958 1.527 66.740\\n', '7781.975 -0.080 1.513 66.830\\n', '7783.767 0.294 1.517 65.924\\n', '7785.559 0.895 1.528 66.891\\n', '7787.353 -1.024 1.500 66.620\\n', '7789.146 1.386 1.519 65.941\\n', '7790.939 0.673 1.524 66.881\\n', '7792.733 0.183 1.513 66.765\\n', '7794.528 1.266 1.518 65.861\\n', '7796.323 1.809 1.519 66.258\\n', '7798.118 -1.801 1.485 66.407\\n', '7799.914 0.371 1.524 66.674\\n', '7801.710 0.030 1.535 66.931\\n', '7803.507 0.319 1.531 67.087\\n', '7805.304 0.331 1.556 68.261\\n', '7807.102 -0.184 1.569 68.597\\n', '7808.899 0.087 1.578 68.679\\n', '7810.698 0.557 1.583 68.885\\n', '7812.496 0.536 1.558 67.321\\n', '7814.295 -1.861 1.550 68.635\\n', '7816.095 -1.092 1.527 67.909\\n', '7817.895 -2.421 1.533 68.211\\n', '7819.695 -0.071 1.585 68.155\\n', '7821.496 -0.823 1.580 68.893\\n', '7823.297 0.196 1.568 68.235\\n', '7825.099 -1.293 1.543 67.581\\n', '7826.901 1.059 1.593 68.908\\n', '7828.703 0.869 1.575 68.288\\n', '7830.506 -0.504 1.550 67.387\\n', '7832.309 -0.480 1.591 67.320\\n', '7834.113 -0.737 1.638 67.593\\n', '7835.917 2.451 1.644 66.216\\n', '7837.722 -0.615 1.576 67.213\\n', '7839.526 -1.139 1.545 66.258\\n', '7841.332 0.526 1.615 68.059\\n', '7843.137 2.137 1.628 67.588\\n', '7844.944 2.081 1.579 66.783\\n', '7846.750 -1.583 1.578 68.281\\n', '7848.557 1.665 1.648 66.699\\n', '7850.364 -0.632 1.629 67.244\\n', '7852.172 -2.216 1.613 67.743\\n', '7853.981 1.707 1.640 67.766\\n', '7855.789 1.005 1.614 66.787\\n', '7857.598 -0.770 1.601 67.117\\n', '7859.408 -2.106 1.600 66.624\\n', '7861.218 1.201 1.651 68.214\\n', '7863.028 1.537 1.622 67.132\\n', '7864.838 -1.495 1.597 67.294\\n', '7866.650 1.184 1.672 68.334\\n', '7868.461 4.441 1.685 66.767\\n', '7870.273 0.976 1.642 68.070\\n', '7872.085 -1.649 1.595 68.458\\n', '7873.899 -0.319 1.578 66.681\\n', '7875.712 -1.770 1.568 67.071\\n', '7877.525 0.960 1.594 68.028\\n', '7879.340 -4.787 1.499 67.551\\n', '7881.155 0.245 1.819 66.453\\n', '7882.969 -0.173 1.799 65.451\\n', '7884.785 2.967 1.884 66.443\\n', '7886.600 2.660 1.906 66.544\\n', '7888.416 5.216 1.650 66.625\\n', '7890.232 0.965 1.589 67.158\\n', '7892.049 2.507 1.616 66.881\\n', '7893.867 1.867 1.610 66.485\\n', '7895.685 -0.840 1.634 66.930\\n', '7897.503 1.329 1.706 66.780\\n', '7899.321 -1.302 1.669 67.509\\n', '7901.141 -3.008 1.562 66.064\\n', '7902.960 0.785 1.570 64.558\\n', '7904.781 1.233 1.586 65.667\\n', '7906.602 -0.136 1.551 66.031\\n', '7908.421 -2.114 1.521 66.448\\n', '7910.243 -1.487 1.553 66.643\\n', '7912.064 0.721 1.595 65.408\\n', '7913.887 0.206 1.554 64.087\\n', '7915.709 -2.888 1.504 66.024\\n', '7917.532 -1.891 1.494 65.435\\n', '7919.356 -1.311 1.493 64.805\\n', '7921.178 -3.835 1.498 65.953\\n', '7923.003 -3.233 1.534 65.837\\n', '7924.829 -0.818 1.623 67.038\\n', '7926.652 -2.252 1.604 67.184\\n', '7928.479 -0.211 1.589 66.473\\n', '7930.303 -1.710 1.538 65.901\\n', '7932.130 -0.518 1.546 65.834\\n', '7933.957 -0.495 1.543 65.973\\n', '7935.783 -2.973 1.526 66.495\\n', '7937.612 0.614 1.547 64.730\\n', '7939.439 1.269 1.589 64.174\\n', '7941.267 1.051 1.604 64.307\\n', '7943.096 0.280 1.599 63.511\\n', '7944.926 0.581 1.630 63.723\\n', '7946.754 -1.437 1.742 64.670\\n', '7948.585 0.030 1.789 64.805\\n', '7950.416 0.509 1.697 64.513\\n', '7952.247 -0.806 1.660 66.101\\n', '7954.078 -2.464 1.816 66.631\\n', '7955.909 -0.968 1.878 66.122\\n', '7957.742 -0.823 1.680 65.877\\n', '7959.574 -2.646 1.595 66.356\\n', '7961.407 -0.840 1.650 65.820\\n', '7963.241 -0.595 1.709 66.683\\n', '7965.075 -1.702 1.789 66.325\\n', '7966.908 0.111 1.867 67.455\\n', '7968.743 -0.782 1.686 67.672\\n', '7970.577 -1.876 1.685 67.974\\n', '7972.413 4.179 1.667 66.693\\n', '7974.250 -0.523 1.603 66.295\\n', '7976.085 -2.880 1.633 68.218\\n', '7977.922 -1.884 1.667 68.336\\n', '7979.760 -2.273 1.647 68.817\\n', '7981.598 1.235 1.635 66.233\\n', '7983.435 -0.304 1.623 66.483\\n', '7985.274 -1.453 1.599 66.413\\n', '7987.112 0.620 1.626 66.963\\n', '7988.952 0.327 1.619 67.307\\n', '7990.792 1.808 1.596 66.221\\n', '7992.632 -0.276 1.560 65.696\\n', '7994.473 1.017 1.593 66.559\\n', '7996.314 -1.980 1.580 67.714\\n', '7998.154 -2.038 1.563 67.388\\n', '7999.997 0.616 1.583 65.228\\n']\n"
     ]
    }
   ],
   "source": [
    "f = open(\"../sample_sdss.txt\")\n",
    "lines = f.readlines()\n",
    "f.close()\n",
    "print(lines)"
   ]
  },
  {
   "cell_type": "code",
   "execution_count": 4,
   "metadata": {},
   "outputs": [
    {
     "data": {
      "text/plain": [
       "'# lambda flux err tem\\n'"
      ]
     },
     "execution_count": 4,
     "metadata": {},
     "output_type": "execute_result"
    }
   ],
   "source": [
    "lines[0]"
   ]
  },
  {
   "cell_type": "code",
   "execution_count": 5,
   "metadata": {},
   "outputs": [
    {
     "data": {
      "text/plain": [
       "'# angstroms ergs^-1cm^-2a^-1 ergs^-1cm^-2a^-1 none\\n'"
      ]
     },
     "execution_count": 5,
     "metadata": {},
     "output_type": "execute_result"
    }
   ],
   "source": [
    "lines[1]"
   ]
  },
  {
   "cell_type": "code",
   "execution_count": 8,
   "metadata": {},
   "outputs": [],
   "source": [
    "l2 = lines[2]"
   ]
  },
  {
   "cell_type": "code",
   "execution_count": 14,
   "metadata": {},
   "outputs": [
    {
     "name": "stdout",
     "output_type": "stream",
     "text": [
      "3637.390 0.314\n",
      "<class 'str'>\n"
     ]
    }
   ],
   "source": [
    "l2split = l2.split()\n",
    "lam2 = l2split[0]\n",
    "flux2 = l2split[1]\n",
    "print(lam2, flux2)\n",
    "#print(type(lam2))"
   ]
  },
  {
   "cell_type": "code",
   "execution_count": 15,
   "metadata": {},
   "outputs": [
    {
     "data": {
      "text/plain": [
       "(float, float)"
      ]
     },
     "execution_count": 15,
     "metadata": {},
     "output_type": "execute_result"
    }
   ],
   "source": [
    "lam2 = float(lam2)\n",
    "flux2 = float(flux2)\n",
    "type(lam2), type(flux2)"
   ]
  },
  {
   "cell_type": "markdown",
   "metadata": {},
   "source": [
    "Now, that we know what we want, let's loop over all lines, excluding the top 2 lines."
   ]
  },
  {
   "cell_type": "code",
   "execution_count": 17,
   "metadata": {},
   "outputs": [],
   "source": [
    "wavelength = []\n",
    "flux = []\n",
    "\n",
    "for line in lines[2:]:\n",
    "    l = line.split()\n",
    "    wavelength.append(float(l[0]))\n",
    "    flux.append(float(l[1]))"
   ]
  },
  {
   "cell_type": "code",
   "execution_count": 18,
   "metadata": {},
   "outputs": [
    {
     "data": {
      "text/plain": [
       "[3637.39,\n",
       " 3638.227,\n",
       " 3639.065,\n",
       " 3639.903,\n",
       " 3640.741,\n",
       " 3641.58,\n",
       " 3642.418,\n",
       " 3643.257,\n",
       " 3644.096,\n",
       " 3644.936,\n",
       " 3645.775,\n",
       " 3646.614,\n",
       " 3647.454,\n",
       " 3648.294,\n",
       " 3649.134,\n",
       " 3649.975,\n",
       " 3650.815,\n",
       " 3651.656,\n",
       " 3652.497,\n",
       " 3653.338,\n",
       " 3654.179,\n",
       " 3655.021,\n",
       " 3655.862,\n",
       " 3656.704,\n",
       " 3657.546,\n",
       " 3658.388,\n",
       " 3659.231,\n",
       " 3660.074,\n",
       " 3660.917,\n",
       " 3661.76,\n",
       " 3662.603,\n",
       " 3663.446,\n",
       " 3664.29,\n",
       " 3665.134,\n",
       " 3665.978,\n",
       " 3666.822,\n",
       " 3667.667,\n",
       " 3668.511,\n",
       " 3669.356,\n",
       " 3670.201,\n",
       " 3671.046,\n",
       " 3671.891,\n",
       " 3672.737,\n",
       " 3673.583,\n",
       " 3674.429,\n",
       " 3675.275,\n",
       " 3676.121,\n",
       " 3676.968,\n",
       " 3677.815,\n",
       " 3678.662,\n",
       " 3679.509,\n",
       " 3680.356,\n",
       " 3681.204,\n",
       " 3682.051,\n",
       " 3682.899,\n",
       " 3683.747,\n",
       " 3684.595,\n",
       " 3685.444,\n",
       " 3686.293,\n",
       " 3687.142,\n",
       " 3687.991,\n",
       " 3688.84,\n",
       " 3689.689,\n",
       " 3690.539,\n",
       " 3691.389,\n",
       " 3692.239,\n",
       " 3693.09,\n",
       " 3693.94,\n",
       " 3694.791,\n",
       " 3695.641,\n",
       " 3696.493,\n",
       " 3697.344,\n",
       " 3698.195,\n",
       " 3699.047,\n",
       " 3699.899,\n",
       " 3700.75,\n",
       " 3701.603,\n",
       " 3702.455,\n",
       " 3703.308,\n",
       " 3704.161,\n",
       " 3705.014,\n",
       " 3705.867,\n",
       " 3706.72,\n",
       " 3707.574,\n",
       " 3708.428,\n",
       " 3709.282,\n",
       " 3710.136,\n",
       " 3710.99,\n",
       " 3711.845,\n",
       " 3712.7,\n",
       " 3713.554,\n",
       " 3714.41,\n",
       " 3715.265,\n",
       " 3716.121,\n",
       " 3716.977,\n",
       " 3717.833,\n",
       " 3718.689,\n",
       " 3719.545,\n",
       " 3720.402,\n",
       " 3721.258,\n",
       " 3722.115,\n",
       " 3722.972,\n",
       " 3723.83,\n",
       " 3724.687,\n",
       " 3725.545,\n",
       " 3726.403,\n",
       " 3727.261,\n",
       " 3728.12,\n",
       " 3728.978,\n",
       " 3729.837,\n",
       " 3730.696,\n",
       " 3731.555,\n",
       " 3732.414,\n",
       " 3733.274,\n",
       " 3734.134,\n",
       " 3734.993,\n",
       " 3735.854,\n",
       " 3736.714,\n",
       " 3737.574,\n",
       " 3738.435,\n",
       " 3739.296,\n",
       " 3740.157,\n",
       " 3741.018,\n",
       " 3741.88,\n",
       " 3742.741,\n",
       " 3743.604,\n",
       " 3744.466,\n",
       " 3745.328,\n",
       " 3746.19,\n",
       " 3747.053,\n",
       " 3747.916,\n",
       " 3748.779,\n",
       " 3749.642,\n",
       " 3750.506,\n",
       " 3751.369,\n",
       " 3752.233,\n",
       " 3753.097,\n",
       " 3753.961,\n",
       " 3754.826,\n",
       " 3755.691,\n",
       " 3756.555,\n",
       " 3757.421,\n",
       " 3758.286,\n",
       " 3759.151,\n",
       " 3760.017,\n",
       " 3760.883,\n",
       " 3761.749,\n",
       " 3762.615,\n",
       " 3763.482,\n",
       " 3764.348,\n",
       " 3765.216,\n",
       " 3766.083,\n",
       " 3766.949,\n",
       " 3767.817,\n",
       " 3768.685,\n",
       " 3769.553,\n",
       " 3770.421,\n",
       " 3771.289,\n",
       " 3772.157,\n",
       " 3773.026,\n",
       " 3773.895,\n",
       " 3774.764,\n",
       " 3775.633,\n",
       " 3776.503,\n",
       " 3777.373,\n",
       " 3778.242,\n",
       " 3779.113,\n",
       " 3779.983,\n",
       " 3780.853,\n",
       " 3781.724,\n",
       " 3782.595,\n",
       " 3783.466,\n",
       " 3784.337,\n",
       " 3785.209,\n",
       " 3786.08,\n",
       " 3786.952,\n",
       " 3787.824,\n",
       " 3788.697,\n",
       " 3789.569,\n",
       " 3790.442,\n",
       " 3791.315,\n",
       " 3792.188,\n",
       " 3793.061,\n",
       " 3793.935,\n",
       " 3794.808,\n",
       " 3795.682,\n",
       " 3796.556,\n",
       " 3797.43,\n",
       " 3798.305,\n",
       " 3799.179,\n",
       " 3800.054,\n",
       " 3800.929,\n",
       " 3801.805,\n",
       " 3802.68,\n",
       " 3803.556,\n",
       " 3804.432,\n",
       " 3805.308,\n",
       " 3806.184,\n",
       " 3807.061,\n",
       " 3807.938,\n",
       " 3808.815,\n",
       " 3809.692,\n",
       " 3810.569,\n",
       " 3811.446,\n",
       " 3812.324,\n",
       " 3813.202,\n",
       " 3814.08,\n",
       " 3814.958,\n",
       " 3815.837,\n",
       " 3816.716,\n",
       " 3817.595,\n",
       " 3818.474,\n",
       " 3819.353,\n",
       " 3820.233,\n",
       " 3821.113,\n",
       " 3821.992,\n",
       " 3822.873,\n",
       " 3823.753,\n",
       " 3824.634,\n",
       " 3825.514,\n",
       " 3826.395,\n",
       " 3827.276,\n",
       " 3828.158,\n",
       " 3829.039,\n",
       " 3829.921,\n",
       " 3830.803,\n",
       " 3831.685,\n",
       " 3832.567,\n",
       " 3833.45,\n",
       " 3834.333,\n",
       " 3835.216,\n",
       " 3836.099,\n",
       " 3836.982,\n",
       " 3837.866,\n",
       " 3838.75,\n",
       " 3839.634,\n",
       " 3840.518,\n",
       " 3841.403,\n",
       " 3842.287,\n",
       " 3843.172,\n",
       " 3844.057,\n",
       " 3844.942,\n",
       " 3845.828,\n",
       " 3846.713,\n",
       " 3847.599,\n",
       " 3848.485,\n",
       " 3849.372,\n",
       " 3850.258,\n",
       " 3851.145,\n",
       " 3852.031,\n",
       " 3852.918,\n",
       " 3853.806,\n",
       " 3854.693,\n",
       " 3855.581,\n",
       " 3856.469,\n",
       " 3857.357,\n",
       " 3858.245,\n",
       " 3859.134,\n",
       " 3860.022,\n",
       " 3860.911,\n",
       " 3861.801,\n",
       " 3862.69,\n",
       " 3863.579,\n",
       " 3864.469,\n",
       " 3865.359,\n",
       " 3866.249,\n",
       " 3867.139,\n",
       " 3868.03,\n",
       " 3868.921,\n",
       " 3869.812,\n",
       " 3870.703,\n",
       " 3871.594,\n",
       " 3872.486,\n",
       " 3873.377,\n",
       " 3874.27,\n",
       " 3875.162,\n",
       " 3876.054,\n",
       " 3876.947,\n",
       " 3877.84,\n",
       " 3878.732,\n",
       " 3879.625,\n",
       " 3880.519,\n",
       " 3881.413,\n",
       " 3882.307,\n",
       " 3883.201,\n",
       " 3884.095,\n",
       " 3884.989,\n",
       " 3885.884,\n",
       " 3886.779,\n",
       " 3887.674,\n",
       " 3888.569,\n",
       " 3889.465,\n",
       " 3890.36,\n",
       " 3891.256,\n",
       " 3892.152,\n",
       " 3893.049,\n",
       " 3893.945,\n",
       " 3894.842,\n",
       " 3895.739,\n",
       " 3896.636,\n",
       " 3897.533,\n",
       " 3898.431,\n",
       " 3899.329,\n",
       " 3900.226,\n",
       " 3901.125,\n",
       " 3902.023,\n",
       " 3902.921,\n",
       " 3903.821,\n",
       " 3904.719,\n",
       " 3905.618,\n",
       " 3906.518,\n",
       " 3907.417,\n",
       " 3908.317,\n",
       " 3909.218,\n",
       " 3910.118,\n",
       " 3911.018,\n",
       " 3911.919,\n",
       " 3912.82,\n",
       " 3913.72,\n",
       " 3914.622,\n",
       " 3915.523,\n",
       " 3916.425,\n",
       " 3917.327,\n",
       " 3918.229,\n",
       " 3919.131,\n",
       " 3920.034,\n",
       " 3920.937,\n",
       " 3921.84,\n",
       " 3922.743,\n",
       " 3923.646,\n",
       " 3924.55,\n",
       " 3925.453,\n",
       " 3926.357,\n",
       " 3927.262,\n",
       " 3928.166,\n",
       " 3929.071,\n",
       " 3929.975,\n",
       " 3930.88,\n",
       " 3931.785,\n",
       " 3932.691,\n",
       " 3933.597,\n",
       " 3934.502,\n",
       " 3935.408,\n",
       " 3936.315,\n",
       " 3937.221,\n",
       " 3938.128,\n",
       " 3939.034,\n",
       " 3939.942,\n",
       " 3940.85,\n",
       " 3941.757,\n",
       " 3942.664,\n",
       " 3943.572,\n",
       " 3944.48,\n",
       " 3945.388,\n",
       " 3946.297,\n",
       " 3947.206,\n",
       " 3948.115,\n",
       " 3949.024,\n",
       " 3949.934,\n",
       " 3950.844,\n",
       " 3951.753,\n",
       " 3952.663,\n",
       " 3953.573,\n",
       " 3954.483,\n",
       " 3955.394,\n",
       " 3956.305,\n",
       " 3957.217,\n",
       " 3958.128,\n",
       " 3959.04,\n",
       " 3959.951,\n",
       " 3960.863,\n",
       " 3961.775,\n",
       " 3962.688,\n",
       " 3963.6,\n",
       " 3964.512,\n",
       " 3965.425,\n",
       " 3966.338,\n",
       " 3967.252,\n",
       " 3968.166,\n",
       " 3969.08,\n",
       " 3969.994,\n",
       " 3970.908,\n",
       " 3971.822,\n",
       " 3972.737,\n",
       " 3973.652,\n",
       " 3974.567,\n",
       " 3975.482,\n",
       " 3976.397,\n",
       " 3977.314,\n",
       " 3978.23,\n",
       " 3979.145,\n",
       " 3980.062,\n",
       " 3980.978,\n",
       " 3981.895,\n",
       " 3982.812,\n",
       " 3983.729,\n",
       " 3984.647,\n",
       " 3985.564,\n",
       " 3986.482,\n",
       " 3987.4,\n",
       " 3988.318,\n",
       " 3989.237,\n",
       " 3990.156,\n",
       " 3991.074,\n",
       " 3991.994,\n",
       " 3992.913,\n",
       " 3993.832,\n",
       " 3994.751,\n",
       " 3995.671,\n",
       " 3996.592,\n",
       " 3997.512,\n",
       " 3998.433,\n",
       " 3999.354,\n",
       " 4000.275,\n",
       " 4001.196,\n",
       " 4002.117,\n",
       " 4003.039,\n",
       " 4003.96,\n",
       " 4004.883,\n",
       " 4005.805,\n",
       " 4006.727,\n",
       " 4007.65,\n",
       " 4008.573,\n",
       " 4009.496,\n",
       " 4010.42,\n",
       " 4011.343,\n",
       " 4012.267,\n",
       " 4013.19,\n",
       " 4014.115,\n",
       " 4015.04,\n",
       " 4015.964,\n",
       " 4016.889,\n",
       " 4017.814,\n",
       " 4018.739,\n",
       " 4019.665,\n",
       " 4020.59,\n",
       " 4021.516,\n",
       " 4022.442,\n",
       " 4023.368,\n",
       " 4024.295,\n",
       " 4025.222,\n",
       " 4026.148,\n",
       " 4027.076,\n",
       " 4028.003,\n",
       " 4028.931,\n",
       " 4029.859,\n",
       " 4030.787,\n",
       " 4031.714,\n",
       " 4032.643,\n",
       " 4033.572,\n",
       " 4034.501,\n",
       " 4035.429,\n",
       " 4036.359,\n",
       " 4037.289,\n",
       " 4038.218,\n",
       " 4039.148,\n",
       " 4040.079,\n",
       " 4041.009,\n",
       " 4041.94,\n",
       " 4042.871,\n",
       " 4043.801,\n",
       " 4044.733,\n",
       " 4045.664,\n",
       " 4046.596,\n",
       " 4047.527,\n",
       " 4048.459,\n",
       " 4049.392,\n",
       " 4050.324,\n",
       " 4051.257,\n",
       " 4052.19,\n",
       " 4053.124,\n",
       " 4054.057,\n",
       " 4054.99,\n",
       " 4055.924,\n",
       " 4056.858,\n",
       " 4057.792,\n",
       " 4058.727,\n",
       " 4059.662,\n",
       " 4060.596,\n",
       " 4061.531,\n",
       " 4062.467,\n",
       " 4063.402,\n",
       " 4064.337,\n",
       " 4065.274,\n",
       " 4066.21,\n",
       " 4067.146,\n",
       " 4068.083,\n",
       " 4069.02,\n",
       " 4069.957,\n",
       " 4070.894,\n",
       " 4071.832,\n",
       " 4072.77,\n",
       " 4073.707,\n",
       " 4074.645,\n",
       " 4075.584,\n",
       " 4076.522,\n",
       " 4077.461,\n",
       " 4078.4,\n",
       " 4079.339,\n",
       " 4080.279,\n",
       " 4081.218,\n",
       " 4082.158,\n",
       " 4083.098,\n",
       " 4084.038,\n",
       " 4084.979,\n",
       " 4085.919,\n",
       " 4086.86,\n",
       " 4087.802,\n",
       " 4088.743,\n",
       " 4089.684,\n",
       " 4090.626,\n",
       " 4091.568,\n",
       " 4092.51,\n",
       " 4093.453,\n",
       " 4094.396,\n",
       " 4095.339,\n",
       " 4096.282,\n",
       " 4097.225,\n",
       " 4098.168,\n",
       " 4099.112,\n",
       " 4100.056,\n",
       " 4101.001,\n",
       " 4101.945,\n",
       " 4102.89,\n",
       " 4103.834,\n",
       " 4104.779,\n",
       " 4105.725,\n",
       " 4106.67,\n",
       " 4107.615,\n",
       " 4108.562,\n",
       " 4109.508,\n",
       " 4110.454,\n",
       " 4111.4,\n",
       " 4112.347,\n",
       " 4113.294,\n",
       " 4114.241,\n",
       " 4115.189,\n",
       " 4116.137,\n",
       " 4117.085,\n",
       " 4118.033,\n",
       " 4118.98,\n",
       " 4119.93,\n",
       " 4120.878,\n",
       " 4121.827,\n",
       " 4122.776,\n",
       " 4123.726,\n",
       " 4124.675,\n",
       " 4125.625,\n",
       " 4126.576,\n",
       " 4127.526,\n",
       " 4128.477,\n",
       " 4129.428,\n",
       " 4130.378,\n",
       " 4131.33,\n",
       " 4132.281,\n",
       " 4133.232,\n",
       " 4134.185,\n",
       " 4135.136,\n",
       " 4136.088,\n",
       " 4137.041,\n",
       " 4137.994,\n",
       " 4138.947,\n",
       " 4139.899,\n",
       " 4140.853,\n",
       " 4141.807,\n",
       " 4142.76,\n",
       " 4143.714,\n",
       " 4144.669,\n",
       " 4145.623,\n",
       " 4146.578,\n",
       " 4147.533,\n",
       " 4148.488,\n",
       " 4149.443,\n",
       " 4150.398,\n",
       " 4151.354,\n",
       " 4152.311,\n",
       " 4153.267,\n",
       " 4154.223,\n",
       " 4155.18,\n",
       " 4156.137,\n",
       " 4157.093,\n",
       " 4158.051,\n",
       " 4159.008,\n",
       " 4159.966,\n",
       " 4160.924,\n",
       " 4161.882,\n",
       " 4162.841,\n",
       " 4163.8,\n",
       " 4164.758,\n",
       " 4165.718,\n",
       " 4166.677,\n",
       " 4167.636,\n",
       " 4168.596,\n",
       " 4169.556,\n",
       " 4170.517,\n",
       " 4171.477,\n",
       " 4172.437,\n",
       " 4173.398,\n",
       " 4174.359,\n",
       " 4175.321,\n",
       " 4176.282,\n",
       " 4177.244,\n",
       " 4178.206,\n",
       " 4179.167,\n",
       " 4180.13,\n",
       " 4181.093,\n",
       " 4182.056,\n",
       " 4183.019,\n",
       " 4183.982,\n",
       " 4184.945,\n",
       " 4185.91,\n",
       " 4186.873,\n",
       " 4187.837,\n",
       " 4188.802,\n",
       " 4189.767,\n",
       " 4190.731,\n",
       " 4191.696,\n",
       " 4192.662,\n",
       " 4193.627,\n",
       " 4194.593,\n",
       " 4195.559,\n",
       " 4196.525,\n",
       " 4197.491,\n",
       " 4198.458,\n",
       " 4199.425,\n",
       " 4200.392,\n",
       " 4201.359,\n",
       " 4202.327,\n",
       " 4203.295,\n",
       " 4204.263,\n",
       " 4205.23,\n",
       " 4206.199,\n",
       " 4207.168,\n",
       " 4208.136,\n",
       " 4209.105,\n",
       " 4210.075,\n",
       " 4211.043,\n",
       " 4212.014,\n",
       " 4212.983,\n",
       " 4213.954,\n",
       " 4214.925,\n",
       " 4215.895,\n",
       " 4216.866,\n",
       " 4217.837,\n",
       " 4218.809,\n",
       " 4219.78,\n",
       " 4220.751,\n",
       " 4221.724,\n",
       " 4222.696,\n",
       " 4223.668,\n",
       " 4224.641,\n",
       " 4225.614,\n",
       " 4226.587,\n",
       " 4227.56,\n",
       " 4228.534,\n",
       " 4229.507,\n",
       " 4230.481,\n",
       " 4231.456,\n",
       " 4232.43,\n",
       " 4233.405,\n",
       " 4234.379,\n",
       " 4235.355,\n",
       " 4236.331,\n",
       " 4237.306,\n",
       " 4238.282,\n",
       " 4239.258,\n",
       " 4240.234,\n",
       " 4241.21,\n",
       " 4242.187,\n",
       " 4243.164,\n",
       " 4244.141,\n",
       " 4245.118,\n",
       " 4246.096,\n",
       " 4247.074,\n",
       " 4248.052,\n",
       " 4249.03,\n",
       " 4250.009,\n",
       " 4250.987,\n",
       " 4251.966,\n",
       " 4252.945,\n",
       " 4253.925,\n",
       " 4254.905,\n",
       " 4255.884,\n",
       " 4256.865,\n",
       " 4257.845,\n",
       " 4258.825,\n",
       " 4259.806,\n",
       " 4260.787,\n",
       " 4261.768,\n",
       " 4262.75,\n",
       " 4263.731,\n",
       " 4264.713,\n",
       " 4265.695,\n",
       " 4266.677,\n",
       " 4267.66,\n",
       " 4268.643,\n",
       " 4269.625,\n",
       " 4270.608,\n",
       " 4271.592,\n",
       " 4272.576,\n",
       " 4273.56,\n",
       " 4274.544,\n",
       " 4275.528,\n",
       " 4276.513,\n",
       " 4277.498,\n",
       " 4278.483,\n",
       " 4279.468,\n",
       " 4280.454,\n",
       " 4281.439,\n",
       " 4282.426,\n",
       " 4283.412,\n",
       " 4284.398,\n",
       " 4285.384,\n",
       " 4286.371,\n",
       " 4287.358,\n",
       " 4288.346,\n",
       " 4289.333,\n",
       " 4290.321,\n",
       " 4291.31,\n",
       " 4292.297,\n",
       " 4293.286,\n",
       " 4294.274,\n",
       " 4295.264,\n",
       " 4296.252,\n",
       " 4297.242,\n",
       " 4298.232,\n",
       " 4299.222,\n",
       " 4300.211,\n",
       " 4301.202,\n",
       " 4302.192,\n",
       " 4303.183,\n",
       " 4304.174,\n",
       " 4305.165,\n",
       " 4306.156,\n",
       " 4307.148,\n",
       " 4308.14,\n",
       " 4309.132,\n",
       " 4310.125,\n",
       " 4311.117,\n",
       " 4312.11,\n",
       " 4313.103,\n",
       " 4314.096,\n",
       " 4315.09,\n",
       " 4316.083,\n",
       " 4317.077,\n",
       " 4318.071,\n",
       " 4319.065,\n",
       " 4320.06,\n",
       " 4321.055,\n",
       " 4322.05,\n",
       " 4323.045,\n",
       " 4324.041,\n",
       " 4325.037,\n",
       " 4326.033,\n",
       " 4327.029,\n",
       " 4328.026,\n",
       " 4329.022,\n",
       " 4330.019,\n",
       " 4331.016,\n",
       " 4332.013,\n",
       " 4333.011,\n",
       " 4334.009,\n",
       " 4335.007,\n",
       " 4336.005,\n",
       " 4337.004,\n",
       " 4338.002,\n",
       " 4339.002,\n",
       " 4340.001,\n",
       " 4341.0,\n",
       " 4342.0,\n",
       " 4343.0,\n",
       " 4344.0,\n",
       " 4345.0,\n",
       " 4346.0,\n",
       " 4347.001,\n",
       " 4348.003,\n",
       " 4349.004,\n",
       " 4350.005,\n",
       " 4351.007,\n",
       " 4352.009,\n",
       " 4353.012,\n",
       " 4354.014,\n",
       " 4355.016,\n",
       " 4356.019,\n",
       " 4357.022,\n",
       " 4358.026,\n",
       " 4359.029,\n",
       " 4360.033,\n",
       " 4361.038,\n",
       " 4362.042,\n",
       " 4363.046,\n",
       " 4364.051,\n",
       " 4365.056,\n",
       " 4366.061,\n",
       " 4367.066,\n",
       " 4368.072,\n",
       " 4369.078,\n",
       " 4370.084,\n",
       " 4371.091,\n",
       " 4372.098,\n",
       " 4373.104,\n",
       " 4374.111,\n",
       " 4375.118,\n",
       " 4376.125,\n",
       " 4377.133,\n",
       " 4378.141,\n",
       " 4379.15,\n",
       " 4380.159,\n",
       " 4381.167,\n",
       " 4382.176,\n",
       " 4383.186,\n",
       " 4384.195,\n",
       " 4385.204,\n",
       " 4386.214,\n",
       " 4387.224,\n",
       " 4388.234,\n",
       " 4389.245,\n",
       " 4390.255,\n",
       " 4391.267,\n",
       " 4392.278,\n",
       " 4393.289,\n",
       " 4394.301,\n",
       " 4395.313,\n",
       " 4396.325,\n",
       " 4397.337,\n",
       " 4398.35,\n",
       " 4399.363,\n",
       " 4400.376,\n",
       " 4401.39,\n",
       " 4402.403,\n",
       " 4403.417,\n",
       " 4404.431,\n",
       " 4405.445,\n",
       " 4406.46,\n",
       " 4407.474,\n",
       " 4408.49,\n",
       " 4409.504,\n",
       " 4410.521,\n",
       " 4411.536,\n",
       " 4412.551,\n",
       " 4413.568,\n",
       " 4414.584,\n",
       " 4415.601,\n",
       " 4416.618,\n",
       " 4417.635,\n",
       " 4418.652,\n",
       " 4419.67,\n",
       " 4420.688,\n",
       " 4421.705,\n",
       " 4422.724,\n",
       " 4423.742,\n",
       " 4424.761,\n",
       " 4425.78,\n",
       " 4426.799,\n",
       " 4427.818,\n",
       " 4428.838,\n",
       " 4429.858,\n",
       " 4430.878,\n",
       " 4431.898,\n",
       " 4432.919,\n",
       " 4433.94,\n",
       " 4434.961,\n",
       " 4435.982,\n",
       " 4437.003,\n",
       " 4438.025,\n",
       " 4439.048,\n",
       " 4440.07,\n",
       " 4441.093,\n",
       " 4442.115,\n",
       " 4443.138,\n",
       " 4444.162,\n",
       " 4445.185,\n",
       " 4446.208,\n",
       " 4447.232,\n",
       " 4448.256,\n",
       " 4449.281,\n",
       " 4450.305,\n",
       " 4451.33,\n",
       " 4452.355,\n",
       " 4453.38,\n",
       " 4454.406,\n",
       " 4455.432,\n",
       " 4456.458,\n",
       " 4457.484,\n",
       " 4458.511,\n",
       " 4459.538,\n",
       " 4460.564,\n",
       " 4461.591,\n",
       " 4462.619,\n",
       " 4463.646,\n",
       " 4464.675,\n",
       " 4465.703,\n",
       " 4466.731,\n",
       " 4467.76,\n",
       " 4468.788,\n",
       " 4469.818,\n",
       " 4470.847,\n",
       " 4471.876,\n",
       " 4472.906,\n",
       " 4473.937,\n",
       " 4474.967,\n",
       " 4475.997,\n",
       " 4477.028,\n",
       " 4478.059,\n",
       " 4479.09,\n",
       " 4480.122,\n",
       " 4481.153,\n",
       " 4482.185,\n",
       " 4483.217,\n",
       " 4484.25,\n",
       " 4485.283,\n",
       " 4486.315,\n",
       " 4487.349,\n",
       " 4488.382,\n",
       " 4489.416,\n",
       " 4490.45,\n",
       " 4491.484,\n",
       " 4492.518,\n",
       " 4493.552,\n",
       " 4494.587,\n",
       " 4495.622,\n",
       " 4496.657,\n",
       " 4497.693,\n",
       " 4498.729,\n",
       " 4499.765,\n",
       " 4500.801,\n",
       " 4501.837,\n",
       " 4502.874,\n",
       " 4503.911,\n",
       " 4504.948,\n",
       " 4505.985,\n",
       " 4507.023,\n",
       " 4508.061,\n",
       " 4509.1,\n",
       " 4510.138,\n",
       " 4511.177,\n",
       " 4512.215,\n",
       " 4513.254,\n",
       " 4514.293,\n",
       " 4515.333,\n",
       " 4516.373,\n",
       " 4517.414,\n",
       " 4518.454,\n",
       " 4519.494,\n",
       " 4520.535,\n",
       " 4521.576,\n",
       " 4522.617,\n",
       " 4523.658,\n",
       " 4524.7,\n",
       " 4525.743,\n",
       " 4526.784,\n",
       " 4527.827,\n",
       " 4528.87,\n",
       " 4529.913,\n",
       " 4530.956,\n",
       " 4531.999,\n",
       " 4533.042,\n",
       " 4534.086,\n",
       " 4535.131,\n",
       " 4536.175,\n",
       " 4537.22,\n",
       " 4538.264,\n",
       " 4539.31,\n",
       " 4540.355,\n",
       " 4541.401,\n",
       " 4542.446,\n",
       " 4543.493,\n",
       " 4544.539,\n",
       " 4545.585,\n",
       " 4546.632,\n",
       " 4547.679,\n",
       " 4548.727,\n",
       " 4549.774,\n",
       " 4550.821,\n",
       " 4551.87,\n",
       " 4552.918,\n",
       " 4553.966,\n",
       " 4555.015,\n",
       " 4556.064,\n",
       " 4557.113,\n",
       " 4558.163,\n",
       " 4559.212,\n",
       " 4560.262,\n",
       " 4561.312,\n",
       " 4562.363,\n",
       " 4563.413,\n",
       " 4564.464,\n",
       " 4565.515,\n",
       " 4566.567,\n",
       " 4567.618,\n",
       " 4568.67,\n",
       " 4569.722,\n",
       " 4570.775,\n",
       " 4571.827,\n",
       " 4572.88,\n",
       " 4573.933,\n",
       " 4574.987,\n",
       " 4576.04,\n",
       " 4577.094,\n",
       " 4578.147,\n",
       " ...]"
      ]
     },
     "execution_count": 18,
     "metadata": {},
     "output_type": "execute_result"
    }
   ],
   "source": [
    "wavelength"
   ]
  },
  {
   "cell_type": "code",
   "execution_count": 19,
   "metadata": {},
   "outputs": [
    {
     "data": {
      "text/plain": [
       "[0.314,\n",
       " 0.717,\n",
       " 1.482,\n",
       " 0.798,\n",
       " 0.506,\n",
       " 7.678,\n",
       " 17.648,\n",
       " -12.945,\n",
       " 1.054,\n",
       " 0.641,\n",
       " -0.744,\n",
       " -1.74,\n",
       " -1.654,\n",
       " 2.189,\n",
       " -4.783,\n",
       " 0.269,\n",
       " -3.744,\n",
       " -1.321,\n",
       " 5.611,\n",
       " -1.354,\n",
       " -7.667,\n",
       " -6.947,\n",
       " -3.444,\n",
       " 0.458,\n",
       " 10.121,\n",
       " 2.692,\n",
       " 6.183,\n",
       " 1.47,\n",
       " 0.522,\n",
       " -1.336,\n",
       " -3.938,\n",
       " 0.36,\n",
       " -0.833,\n",
       " -6.548,\n",
       " 4.517,\n",
       " -3.443,\n",
       " 4.133,\n",
       " 3.1,\n",
       " -2.28,\n",
       " -0.07,\n",
       " 0.996,\n",
       " 4.899,\n",
       " 6.552,\n",
       " 0.147,\n",
       " 8.811,\n",
       " -13.819,\n",
       " -4.138,\n",
       " 4.642,\n",
       " -5.991,\n",
       " -8.608,\n",
       " -5.226,\n",
       " -6.709,\n",
       " 3.912,\n",
       " -3.479,\n",
       " 6.333,\n",
       " 1.952,\n",
       " 0.582,\n",
       " 5.096,\n",
       " 5.637,\n",
       " 7.014,\n",
       " 7.219,\n",
       " 1.413,\n",
       " -8.288,\n",
       " -10.228,\n",
       " 5.535,\n",
       " 4.68,\n",
       " -4.491,\n",
       " -3.655,\n",
       " 0.226,\n",
       " -6.117,\n",
       " -3.321,\n",
       " -2.776,\n",
       " -5.208,\n",
       " 0.225,\n",
       " 2.508,\n",
       " 3.653,\n",
       " 3.357,\n",
       " 0.342,\n",
       " 1.233,\n",
       " 2.898,\n",
       " -3.089,\n",
       " -7.025,\n",
       " -4.984,\n",
       " -3.697,\n",
       " -4.908,\n",
       " -10.345,\n",
       " -6.962,\n",
       " -0.417,\n",
       " 0.208,\n",
       " -0.621,\n",
       " 0.688,\n",
       " 0.711,\n",
       " -5.798,\n",
       " -4.503,\n",
       " -5.182,\n",
       " -4.525,\n",
       " 0.451,\n",
       " 0.349,\n",
       " -4.15,\n",
       " 3.035,\n",
       " -2.784,\n",
       " -10.298,\n",
       " 5.089,\n",
       " 7.036,\n",
       " 7.128,\n",
       " 16.655,\n",
       " 21.481,\n",
       " 23.281,\n",
       " 29.284,\n",
       " 36.02,\n",
       " 27.616,\n",
       " 19.612,\n",
       " 10.053,\n",
       " -1.323,\n",
       " -7.332,\n",
       " -5.413,\n",
       " 1.421,\n",
       " 5.509,\n",
       " -0.392,\n",
       " -7.417,\n",
       " -3.618,\n",
       " 2.14,\n",
       " -2.062,\n",
       " -1.297,\n",
       " -0.744,\n",
       " -5.949,\n",
       " -3.639,\n",
       " -5.393,\n",
       " -2.587,\n",
       " -5.777,\n",
       " -10.713,\n",
       " -2.807,\n",
       " -0.631,\n",
       " -0.286,\n",
       " -0.857,\n",
       " -5.617,\n",
       " -3.3,\n",
       " -5.894,\n",
       " -1.156,\n",
       " 1.629,\n",
       " -0.11,\n",
       " 1.791,\n",
       " 2.915,\n",
       " 3.542,\n",
       " 5.358,\n",
       " 3.494,\n",
       " 5.006,\n",
       " -1.772,\n",
       " 0.258,\n",
       " -4.344,\n",
       " 8.354,\n",
       " -0.446,\n",
       " -10.779,\n",
       " -3.798,\n",
       " -0.951,\n",
       " 0.229,\n",
       " -2.939,\n",
       " -7.07,\n",
       " -8.387,\n",
       " -6.25,\n",
       " -7.979,\n",
       " -8.773,\n",
       " -8.617,\n",
       " -7.372,\n",
       " -10.774,\n",
       " -3.158,\n",
       " -2.58,\n",
       " -7.275,\n",
       " -6.884,\n",
       " -5.344,\n",
       " -1.868,\n",
       " -0.435,\n",
       " -4.829,\n",
       " -9.714,\n",
       " -7.378,\n",
       " -7.247,\n",
       " -11.254,\n",
       " -13.877,\n",
       " -6.008,\n",
       " -5.157,\n",
       " -8.827,\n",
       " -11.46,\n",
       " -11.651,\n",
       " -7.044,\n",
       " -13.651,\n",
       " -14.702,\n",
       " -9.771,\n",
       " -8.333,\n",
       " -6.82,\n",
       " -5.427,\n",
       " -4.901,\n",
       " -7.101,\n",
       " 1.909,\n",
       " 5.997,\n",
       " 1.92,\n",
       " -0.179,\n",
       " 5.629,\n",
       " 2.622,\n",
       " 4.183,\n",
       " 2.053,\n",
       " -0.398,\n",
       " 3.115,\n",
       " 6.1,\n",
       " 7.631,\n",
       " 2.685,\n",
       " 6.071,\n",
       " 2.488,\n",
       " 3.836,\n",
       " 4.549,\n",
       " 0.983,\n",
       " 0.16,\n",
       " 1.995,\n",
       " 0.481,\n",
       " 2.509,\n",
       " 7.105,\n",
       " 6.228,\n",
       " 1.339,\n",
       " 0.635,\n",
       " 0.744,\n",
       " -3.975,\n",
       " -1.634,\n",
       " -0.191,\n",
       " -5.059,\n",
       " -3.439,\n",
       " -6.59,\n",
       " -4.915,\n",
       " -2.842,\n",
       " -1.924,\n",
       " -6.765,\n",
       " -10.013,\n",
       " -7.002,\n",
       " -4.385,\n",
       " -2.533,\n",
       " -2.341,\n",
       " 0.323,\n",
       " -2.66,\n",
       " -4.691,\n",
       " 0.843,\n",
       " 5.419,\n",
       " 0.38,\n",
       " 0.443,\n",
       " 2.676,\n",
       " -4.706,\n",
       " -0.74,\n",
       " -0.48,\n",
       " -3.89,\n",
       " 0.651,\n",
       " 7.508,\n",
       " -2.033,\n",
       " -2.013,\n",
       " 2.734,\n",
       " 0.155,\n",
       " -1.402,\n",
       " -5.445,\n",
       " 1.026,\n",
       " 2.453,\n",
       " 4.949,\n",
       " 6.945,\n",
       " 7.117,\n",
       " 5.119,\n",
       " 4.669,\n",
       " 3.608,\n",
       " 3.568,\n",
       " 7.186,\n",
       " 3.266,\n",
       " 6.231,\n",
       " 12.176,\n",
       " 17.612,\n",
       " 22.511,\n",
       " 25.755,\n",
       " 26.305,\n",
       " 18.296,\n",
       " 1.866,\n",
       " 7.24,\n",
       " 5.516,\n",
       " -1.317,\n",
       " 4.102,\n",
       " 1.852,\n",
       " -2.888,\n",
       " -1.414,\n",
       " 2.28,\n",
       " 2.961,\n",
       " -0.003,\n",
       " -4.052,\n",
       " -3.367,\n",
       " -1.457,\n",
       " -4.975,\n",
       " 2.129,\n",
       " 3.514,\n",
       " -0.541,\n",
       " 1.33,\n",
       " 6.26,\n",
       " 3.928,\n",
       " 1.173,\n",
       " 2.854,\n",
       " 0.09,\n",
       " 3.939,\n",
       " 0.169,\n",
       " 1.095,\n",
       " 0.91,\n",
       " 3.827,\n",
       " 4.436,\n",
       " 2.371,\n",
       " 2.517,\n",
       " -0.812,\n",
       " 2.704,\n",
       " 3.621,\n",
       " 3.298,\n",
       " 3.108,\n",
       " -0.214,\n",
       " 2.495,\n",
       " 4.342,\n",
       " -0.244,\n",
       " 4.866,\n",
       " 4.261,\n",
       " 3.618,\n",
       " 1.684,\n",
       " 1.997,\n",
       " 1.887,\n",
       " 0.085,\n",
       " 0.095,\n",
       " 3.26,\n",
       " 3.987,\n",
       " 0.073,\n",
       " 3.603,\n",
       " 3.563,\n",
       " 6.926,\n",
       " 4.587,\n",
       " 6.765,\n",
       " 8.337,\n",
       " 5.343,\n",
       " 2.06,\n",
       " 0.84,\n",
       " 2.173,\n",
       " 5.425,\n",
       " 2.699,\n",
       " 5.152,\n",
       " 0.853,\n",
       " -2.151,\n",
       " -5.933,\n",
       " -7.783,\n",
       " -4.402,\n",
       " -0.705,\n",
       " -2.736,\n",
       " -0.97,\n",
       " -0.632,\n",
       " 2.698,\n",
       " -0.279,\n",
       " -1.189,\n",
       " 4.96,\n",
       " 1.86,\n",
       " -0.217,\n",
       " 2.847,\n",
       " 3.223,\n",
       " 3.586,\n",
       " 4.627,\n",
       " 1.729,\n",
       " 1.351,\n",
       " 6.281,\n",
       " 4.331,\n",
       " 6.514,\n",
       " 5.416,\n",
       " 3.208,\n",
       " 1.706,\n",
       " 6.378,\n",
       " 4.831,\n",
       " -0.069,\n",
       " -5.831,\n",
       " -0.846,\n",
       " 1.173,\n",
       " -4.042,\n",
       " -0.524,\n",
       " 2.694,\n",
       " 1.589,\n",
       " -1.631,\n",
       " -0.938,\n",
       " -4.003,\n",
       " -4.35,\n",
       " 3.345,\n",
       " -0.385,\n",
       " -1.361,\n",
       " 1.998,\n",
       " 3.661,\n",
       " 1.281,\n",
       " -2.011,\n",
       " -2.785,\n",
       " -1.73,\n",
       " -1.752,\n",
       " -3.238,\n",
       " 2.488,\n",
       " 0.386,\n",
       " -1.084,\n",
       " -5.157,\n",
       " -2.678,\n",
       " 2.117,\n",
       " 0.639,\n",
       " -2.301,\n",
       " 1.483,\n",
       " -1.703,\n",
       " -4.999,\n",
       " 0.592,\n",
       " 5.67,\n",
       " 5.565,\n",
       " -1.585,\n",
       " -0.614,\n",
       " 0.894,\n",
       " 1.402,\n",
       " 2.14,\n",
       " -2.091,\n",
       " 3.312,\n",
       " -0.064,\n",
       " -3.265,\n",
       " 0.654,\n",
       " 1.858,\n",
       " -1.827,\n",
       " -0.297,\n",
       " 1.328,\n",
       " -0.085,\n",
       " 2.043,\n",
       " 0.967,\n",
       " -0.418,\n",
       " -1.598,\n",
       " 1.58,\n",
       " 8.77,\n",
       " 0.585,\n",
       " -1.109,\n",
       " -1.852,\n",
       " -3.213,\n",
       " -0.906,\n",
       " -0.598,\n",
       " 5.873,\n",
       " 0.743,\n",
       " 0.495,\n",
       " 3.083,\n",
       " 1.974,\n",
       " -0.466,\n",
       " -1.472,\n",
       " 1.125,\n",
       " -0.587,\n",
       " -1.993,\n",
       " 3.828,\n",
       " -1.972,\n",
       " -4.705,\n",
       " 2.367,\n",
       " -0.978,\n",
       " -1.044,\n",
       " -4.606,\n",
       " -3.573,\n",
       " -0.932,\n",
       " -0.419,\n",
       " 1.984,\n",
       " -0.954,\n",
       " -5.983,\n",
       " -1.507,\n",
       " -4.948,\n",
       " -3.936,\n",
       " 0.352,\n",
       " -0.631,\n",
       " 0.171,\n",
       " -1.492,\n",
       " -2.872,\n",
       " -1.401,\n",
       " -0.135,\n",
       " -4.038,\n",
       " -3.944,\n",
       " -4.432,\n",
       " 0.635,\n",
       " -0.562,\n",
       " 1.476,\n",
       " 1.557,\n",
       " -2.458,\n",
       " -2.195,\n",
       " -3.15,\n",
       " -3.317,\n",
       " 4.908,\n",
       " -1.647,\n",
       " -1.705,\n",
       " -2.414,\n",
       " -1.457,\n",
       " 2.202,\n",
       " 0.608,\n",
       " -0.783,\n",
       " -1.289,\n",
       " -2.828,\n",
       " -0.392,\n",
       " 1.486,\n",
       " 2.039,\n",
       " 7.148,\n",
       " 3.25,\n",
       " -1.378,\n",
       " 0.751,\n",
       " 2.399,\n",
       " 2.391,\n",
       " 4.748,\n",
       " 3.986,\n",
       " 2.717,\n",
       " 3.601,\n",
       " -0.193,\n",
       " 0.037,\n",
       " 2.097,\n",
       " 1.628,\n",
       " 0.045,\n",
       " -1.109,\n",
       " 0.434,\n",
       " -2.298,\n",
       " -1.238,\n",
       " 5.928,\n",
       " -2.162,\n",
       " -0.975,\n",
       " 2.926,\n",
       " 3.232,\n",
       " -0.908,\n",
       " -3.339,\n",
       " -1.647,\n",
       " 0.327,\n",
       " -0.948,\n",
       " -0.282,\n",
       " -0.312,\n",
       " -0.228,\n",
       " -2.407,\n",
       " -6.751,\n",
       " -4.687,\n",
       " 0.007,\n",
       " -4.043,\n",
       " 1.003,\n",
       " -2.087,\n",
       " -3.786,\n",
       " 1.23,\n",
       " -1.544,\n",
       " -2.72,\n",
       " -3.499,\n",
       " 0.432,\n",
       " 1.533,\n",
       " -0.658,\n",
       " -0.418,\n",
       " -4.039,\n",
       " -0.947,\n",
       " -2.912,\n",
       " 1.429,\n",
       " 2.211,\n",
       " -2.678,\n",
       " -2.757,\n",
       " -0.459,\n",
       " -2.906,\n",
       " 0.533,\n",
       " -0.68,\n",
       " -3.316,\n",
       " 0.115,\n",
       " -1.442,\n",
       " -0.543,\n",
       " -1.076,\n",
       " -3.127,\n",
       " -1.142,\n",
       " 1.005,\n",
       " -1.927,\n",
       " -2.746,\n",
       " 0.332,\n",
       " 2.07,\n",
       " 0.182,\n",
       " 2.284,\n",
       " 0.421,\n",
       " 0.714,\n",
       " 0.053,\n",
       " -2.266,\n",
       " -0.295,\n",
       " -0.158,\n",
       " -1.205,\n",
       " -2.018,\n",
       " -4.131,\n",
       " -0.186,\n",
       " -1.812,\n",
       " -3.561,\n",
       " -3.014,\n",
       " 2.549,\n",
       " 2.668,\n",
       " -1.215,\n",
       " -4.913,\n",
       " -2.923,\n",
       " 2.406,\n",
       " -0.429,\n",
       " -1.409,\n",
       " 2.482,\n",
       " -0.791,\n",
       " -3.941,\n",
       " -1.345,\n",
       " -1.171,\n",
       " -1.498,\n",
       " 0.376,\n",
       " 4.12,\n",
       " -0.002,\n",
       " 1.065,\n",
       " -2.171,\n",
       " -1.95,\n",
       " -2.293,\n",
       " -3.316,\n",
       " -1.475,\n",
       " -1.235,\n",
       " -5.485,\n",
       " -3.345,\n",
       " -3.279,\n",
       " -5.516,\n",
       " -2.194,\n",
       " 0.323,\n",
       " 3.773,\n",
       " -1.794,\n",
       " -7.754,\n",
       " -2.259,\n",
       " -1.325,\n",
       " -4.992,\n",
       " -3.826,\n",
       " -1.95,\n",
       " 0.928,\n",
       " 0.108,\n",
       " -2.822,\n",
       " -0.681,\n",
       " -2.352,\n",
       " -1.155,\n",
       " -2.868,\n",
       " -5.617,\n",
       " -3.513,\n",
       " 0.688,\n",
       " 0.342,\n",
       " -8.29,\n",
       " -3.194,\n",
       " 4.455,\n",
       " -1.602,\n",
       " -1.586,\n",
       " 0.765,\n",
       " -3.043,\n",
       " 0.914,\n",
       " 1.881,\n",
       " 0.164,\n",
       " 0.703,\n",
       " -3.824,\n",
       " 2.102,\n",
       " 2.398,\n",
       " -2.4,\n",
       " 0.376,\n",
       " 1.752,\n",
       " 5.34,\n",
       " -2.136,\n",
       " 0.827,\n",
       " -3.143,\n",
       " -3.413,\n",
       " -1.666,\n",
       " -2.894,\n",
       " -1.154,\n",
       " -0.764,\n",
       " 0.317,\n",
       " -0.532,\n",
       " -2.641,\n",
       " -5.801,\n",
       " -3.447,\n",
       " 1.06,\n",
       " -1.078,\n",
       " -1.763,\n",
       " 4.949,\n",
       " -5.676,\n",
       " -1.492,\n",
       " 1.853,\n",
       " -5.191,\n",
       " -2.422,\n",
       " 2.542,\n",
       " -0.64,\n",
       " -1.123,\n",
       " 2.091,\n",
       " -0.175,\n",
       " -1.725,\n",
       " -1.421,\n",
       " 0.091,\n",
       " 0.338,\n",
       " 0.741,\n",
       " -0.088,\n",
       " -2.024,\n",
       " -0.009,\n",
       " -1.75,\n",
       " -3.826,\n",
       " -3.372,\n",
       " -2.367,\n",
       " -2.52,\n",
       " 0.182,\n",
       " 4.495,\n",
       " -3.594,\n",
       " -1.811,\n",
       " -2.905,\n",
       " 2.201,\n",
       " 2.414,\n",
       " 0.234,\n",
       " -2.389,\n",
       " -3.498,\n",
       " -0.152,\n",
       " 2.049,\n",
       " -2.123,\n",
       " 2.033,\n",
       " 2.134,\n",
       " -3.086,\n",
       " -1.385,\n",
       " 1.134,\n",
       " 0.057,\n",
       " -1.692,\n",
       " -1.839,\n",
       " -0.348,\n",
       " 1.138,\n",
       " -0.727,\n",
       " -1.987,\n",
       " 2.592,\n",
       " 1.262,\n",
       " -4.087,\n",
       " -2.778,\n",
       " -2.333,\n",
       " 0.158,\n",
       " -2.393,\n",
       " 2.421,\n",
       " 1.416,\n",
       " -0.195,\n",
       " 1.894,\n",
       " -0.066,\n",
       " -0.897,\n",
       " 1.261,\n",
       " -1.194,\n",
       " -0.449,\n",
       " -0.135,\n",
       " 2.852,\n",
       " 0.073,\n",
       " -0.147,\n",
       " -4.22,\n",
       " -4.691,\n",
       " -2.046,\n",
       " 1.332,\n",
       " -0.206,\n",
       " 0.359,\n",
       " 1.746,\n",
       " -2.111,\n",
       " -0.951,\n",
       " 0.112,\n",
       " 1.302,\n",
       " 2.943,\n",
       " 4.478,\n",
       " 0.432,\n",
       " -3.082,\n",
       " 1.618,\n",
       " 4.595,\n",
       " 4.715,\n",
       " 3.512,\n",
       " 3.97,\n",
       " 4.781,\n",
       " 7.264,\n",
       " 7.263,\n",
       " 3.426,\n",
       " 7.347,\n",
       " 4.369,\n",
       " 3.697,\n",
       " 5.947,\n",
       " 5.944,\n",
       " 4.296,\n",
       " 4.151,\n",
       " 2.796,\n",
       " 2.334,\n",
       " 3.339,\n",
       " 6.877,\n",
       " 7.366,\n",
       " 2.265,\n",
       " 3.015,\n",
       " 4.359,\n",
       " 6.277,\n",
       " 1.539,\n",
       " 3.047,\n",
       " 5.855,\n",
       " 4.863,\n",
       " 10.848,\n",
       " 12.159,\n",
       " 8.138,\n",
       " 5.56,\n",
       " 1.135,\n",
       " 0.891,\n",
       " 3.956,\n",
       " 6.201,\n",
       " 1.482,\n",
       " 4.675,\n",
       " 5.206,\n",
       " 6.14,\n",
       " 7.268,\n",
       " 1.666,\n",
       " 7.681,\n",
       " 8.007,\n",
       " 9.549,\n",
       " 11.518,\n",
       " 7.575,\n",
       " 8.993,\n",
       " 10.166,\n",
       " 10.661,\n",
       " 16.325,\n",
       " 12.669,\n",
       " 11.407,\n",
       " 6.941,\n",
       " 7.766,\n",
       " 6.891,\n",
       " 4.134,\n",
       " 5.727,\n",
       " 5.436,\n",
       " 4.006,\n",
       " 3.151,\n",
       " 4.985,\n",
       " 2.739,\n",
       " 4.162,\n",
       " 7.15,\n",
       " 0.139,\n",
       " 4.257,\n",
       " 4.094,\n",
       " 2.482,\n",
       " 0.647,\n",
       " -0.643,\n",
       " 6.406,\n",
       " 1.886,\n",
       " -1.034,\n",
       " -2.461,\n",
       " 2.676,\n",
       " 3.236,\n",
       " 0.577,\n",
       " 3.009,\n",
       " 3.745,\n",
       " 0.011,\n",
       " -1.275,\n",
       " -0.176,\n",
       " 1.744,\n",
       " 2.697,\n",
       " 1.875,\n",
       " 2.72,\n",
       " 0.266,\n",
       " 1.614,\n",
       " 2.205,\n",
       " 0.527,\n",
       " -2.316,\n",
       " -2.348,\n",
       " 1.795,\n",
       " 2.12,\n",
       " -1.397,\n",
       " -0.764,\n",
       " 0.336,\n",
       " -0.149,\n",
       " 1.381,\n",
       " -0.054,\n",
       " 1.487,\n",
       " -0.591,\n",
       " -1.476,\n",
       " 0.873,\n",
       " -5.968,\n",
       " -3.881,\n",
       " 4.247,\n",
       " 2.902,\n",
       " -0.022,\n",
       " -0.882,\n",
       " 0.441,\n",
       " 2.063,\n",
       " -3.459,\n",
       " -4.853,\n",
       " -1.057,\n",
       " -2.779,\n",
       " -2.042,\n",
       " -1.823,\n",
       " -3.19,\n",
       " -0.854,\n",
       " -3.599,\n",
       " -2.056,\n",
       " -0.673,\n",
       " -0.582,\n",
       " -1.539,\n",
       " 1.297,\n",
       " 1.244,\n",
       " -4.372,\n",
       " -3.668,\n",
       " -2.658,\n",
       " 1.769,\n",
       " 4.42,\n",
       " 1.688,\n",
       " -1.656,\n",
       " 2.716,\n",
       " 3.895,\n",
       " 0.476,\n",
       " 0.318,\n",
       " -0.506,\n",
       " 0.268,\n",
       " 1.774,\n",
       " -1.132,\n",
       " -1.533,\n",
       " 0.669,\n",
       " -2.292,\n",
       " -3.881,\n",
       " -1.84,\n",
       " -4.018,\n",
       " -3.985,\n",
       " 0.627,\n",
       " -0.576,\n",
       " -1.15,\n",
       " -3.338,\n",
       " -3.594,\n",
       " -3.786,\n",
       " -2.128,\n",
       " 3.533,\n",
       " 0.951,\n",
       " 0.616,\n",
       " -1.131,\n",
       " -1.032,\n",
       " 0.601,\n",
       " -0.213,\n",
       " 1.758,\n",
       " 1.376,\n",
       " -0.467,\n",
       " -2.854,\n",
       " -1.779,\n",
       " -1.774,\n",
       " 2.679,\n",
       " -0.067,\n",
       " 3.708,\n",
       " 2.096,\n",
       " 3.661,\n",
       " 1.519,\n",
       " -0.555,\n",
       " 1.273,\n",
       " -0.75,\n",
       " 1.786,\n",
       " 1.666,\n",
       " -1.901,\n",
       " 3.331,\n",
       " -0.78,\n",
       " 1.272,\n",
       " 3.227,\n",
       " 3.23,\n",
       " 3.321,\n",
       " 1.231,\n",
       " 0.913,\n",
       " 4.279,\n",
       " 3.066,\n",
       " 5.29,\n",
       " -0.614,\n",
       " 1.358,\n",
       " 3.092,\n",
       " 1.416,\n",
       " -0.764,\n",
       " -0.823,\n",
       " 1.907,\n",
       " 1.594,\n",
       " 0.626,\n",
       " -2.018,\n",
       " 0.294,\n",
       " 2.23,\n",
       " -2.243,\n",
       " 0.723,\n",
       " -4.77,\n",
       " 2.935,\n",
       " -0.869,\n",
       " 0.476,\n",
       " 2.771,\n",
       " -2.9,\n",
       " -0.929,\n",
       " 4.568,\n",
       " 0.276,\n",
       " -1.723,\n",
       " 4.347,\n",
       " 3.557,\n",
       " -0.774,\n",
       " 4.237,\n",
       " 6.016,\n",
       " 2.542,\n",
       " 2.199,\n",
       " 1.231,\n",
       " 5.551,\n",
       " 3.973,\n",
       " -1.371,\n",
       " 2.604,\n",
       " -2.096,\n",
       " 1.1,\n",
       " 3.215,\n",
       " -0.168,\n",
       " 2.356,\n",
       " 2.006,\n",
       " 1.431,\n",
       " -1.053,\n",
       " -0.829,\n",
       " 3.553,\n",
       " 0.651,\n",
       " -0.864,\n",
       " 2.253,\n",
       " -0.167,\n",
       " 1.943,\n",
       " 5.344,\n",
       " 1.149,\n",
       " 1.313,\n",
       " 2.892,\n",
       " 6.082,\n",
       " -0.389,\n",
       " 2.991,\n",
       " 0.814,\n",
       " 2.209,\n",
       " 2.104,\n",
       " 0.289,\n",
       " 2.122,\n",
       " 5.562,\n",
       " 2.726,\n",
       " 1.966,\n",
       " ...]"
      ]
     },
     "execution_count": 19,
     "metadata": {},
     "output_type": "execute_result"
    }
   ],
   "source": [
    "flux"
   ]
  },
  {
   "cell_type": "code",
   "execution_count": 20,
   "metadata": {},
   "outputs": [
    {
     "data": {
      "image/png": "[encoded data removed]",
      "text/plain": [
       "<Figure size 640x480 with 1 Axes>"
      ]
     },
     "metadata": {},
     "output_type": "display_data"
    }
   ],
   "source": [
    "from matplotlib import pyplot as plt\n",
    "\n",
    "plt.plot(wavelength, flux)\n",
    "plt.show()"
   ]
  },
  {
   "cell_type": "code",
   "execution_count": null,
   "metadata": {},
   "outputs": [],
   "source": []
  }
 ],
 "metadata": {
  "kernelspec": {
   "display_name": "Python 3 (ipykernel)",
   "language": "python",
   "name": "python3"
  },
  "language_info": {
   "codemirror_mode": {
    "name": "ipython",
    "version": 3
   },
   "file_extension": ".py",
   "mimetype": "text/x-python",
   "name": "python",
   "nbconvert_exporter": "python",
   "pygments_lexer": "ipython3",
   "version": "3.11.5"
  }
 },
 "nbformat": 4,
 "nbformat_minor": 4
}
